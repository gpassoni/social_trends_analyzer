{
 "cells": [
  {
   "cell_type": "code",
   "execution_count": 1,
   "id": "4f9913ec",
   "metadata": {},
   "outputs": [],
   "source": [
    "from reddit_ingestion.reddit_ingestion import RedditIngestor\n",
    "import os"
   ]
  },
  {
   "cell_type": "code",
   "execution_count": 2,
   "id": "c1292b83",
   "metadata": {},
   "outputs": [],
   "source": [
    "ingestor = RedditIngestor(subreddit_name=\"technology\", post_limit=1, comment_limit=200, project_root_path=\"C:\\\\Users\\\\Gabri\\\\Documents\\\\reddit_project\")"
   ]
  },
  {
   "cell_type": "code",
   "execution_count": 3,
   "id": "f89e4a38",
   "metadata": {},
   "outputs": [],
   "source": [
    "posts, comments = ingestor.fetch_hot_posts()"
   ]
  },
  {
   "cell_type": "code",
   "execution_count": null,
   "id": "17a4dd0e",
   "metadata": {},
   "outputs": [
    {
     "ename": "",
     "evalue": "",
     "output_type": "error",
     "traceback": [
      "\u001b[1;31mThe Kernel crashed while executing code in the current cell or a previous cell. \n",
      "\u001b[1;31mPlease review the code in the cell(s) to identify a possible cause of the failure. \n",
      "\u001b[1;31mClick <a href='https://aka.ms/vscodeJupyterKernelCrash'>here</a> for more info. \n",
      "\u001b[1;31mView Jupyter <a href='command:jupyter.viewOutput'>log</a> for further details."
     ]
    }
   ],
   "source": [
    "posts, comments = ingestor.fetch_top_posts()"
   ]
  }
 ],
 "metadata": {
  "kernelspec": {
   "display_name": "reddit",
   "language": "python",
   "name": "python3"
  },
  "language_info": {
   "codemirror_mode": {
    "name": "ipython",
    "version": 3
   },
   "file_extension": ".py",
   "mimetype": "text/x-python",
   "name": "python",
   "nbconvert_exporter": "python",
   "pygments_lexer": "ipython3",
   "version": "3.11.13"
  }
 },
 "nbformat": 4,
 "nbformat_minor": 5
}
