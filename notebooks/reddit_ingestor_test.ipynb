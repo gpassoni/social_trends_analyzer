{
 "cells": [
  {
   "cell_type": "code",
   "execution_count": 1,
   "id": "4f9913ec",
   "metadata": {},
   "outputs": [],
   "source": [
    "from reddit_ingestion.reddit_ingestion import RedditIngestor\n",
    "import os\n",
    "import requests"
   ]
  },
  {
   "cell_type": "code",
   "execution_count": 2,
   "id": "c1292b83",
   "metadata": {},
   "outputs": [],
   "source": [
    "ingestor = RedditIngestor()"
   ]
  },
  {
   "cell_type": "code",
   "execution_count": 4,
   "id": "47f37685",
   "metadata": {},
   "outputs": [
    {
     "name": "stdout",
     "output_type": "stream",
     "text": [
      "Add subreddit response: 500\n",
      "200\n",
      "200\n",
      "200\n",
      "200\n",
      "200\n",
      "200\n",
      "200\n",
      "200\n",
      "200\n",
      "200\n"
     ]
    }
   ],
   "source": [
    "ingestor.fetch_new_posts('politics')"
   ]
  },
  {
   "cell_type": "code",
   "execution_count": 16,
   "id": "1228129d",
   "metadata": {},
   "outputs": [],
   "source": [
    "# get the posts\n",
    "url = \"http://127.0.0.1:8000/subreddits/\"\n",
    "response = requests.get(url)\n",
    "posts = response.json()"
   ]
  },
  {
   "cell_type": "code",
   "execution_count": 17,
   "id": "38b9160a",
   "metadata": {},
   "outputs": [
    {
     "data": {
      "text/plain": [
       "[{'priority': 0, 'name': 'test_subreddit'}, {'priority': 0, 'name': 'python'}]"
      ]
     },
     "execution_count": 17,
     "metadata": {},
     "output_type": "execute_result"
    }
   ],
   "source": [
    "posts"
   ]
  },
  {
   "cell_type": "code",
   "execution_count": 12,
   "id": "de438814",
   "metadata": {},
   "outputs": [
    {
     "name": "stdout",
     "output_type": "stream",
     "text": [
      "500\n",
      "500\n",
      "500\n",
      "500\n",
      "500\n",
      "500\n",
      "500\n",
      "500\n",
      "500\n",
      "500\n",
      "500\n",
      "Total comments added for post 1nokfcc: 12\n"
     ]
    }
   ],
   "source": [
    "ingestor.extract_comments_from_post(\"1nokfcc\")"
   ]
  }
 ],
 "metadata": {
  "kernelspec": {
   "display_name": "reddit",
   "language": "python",
   "name": "python3"
  },
  "language_info": {
   "codemirror_mode": {
    "name": "ipython",
    "version": 3
   },
   "file_extension": ".py",
   "mimetype": "text/x-python",
   "name": "python",
   "nbconvert_exporter": "python",
   "pygments_lexer": "ipython3",
   "version": "3.11.13"
  }
 },
 "nbformat": 4,
 "nbformat_minor": 5
}
