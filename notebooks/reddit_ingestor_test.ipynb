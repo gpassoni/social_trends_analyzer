{
 "cells": [
  {
   "cell_type": "code",
   "execution_count": 1,
   "id": "4f9913ec",
   "metadata": {},
   "outputs": [],
   "source": [
    "from reddit_ingestion.reddit_ingestion import RedditIngestor"
   ]
  },
  {
   "cell_type": "code",
   "execution_count": 2,
   "id": "c1292b83",
   "metadata": {},
   "outputs": [],
   "source": [
    "ingestor = RedditIngestor(subreddit_name=\"politics\", keyword=\"trump\", post_limit=5)\n",
    "posts, comments = ingestor.fetch_hot_posts()"
   ]
  },
  {
   "cell_type": "code",
   "execution_count": 3,
   "id": "f89e4a38",
   "metadata": {},
   "outputs": [
    {
     "data": {
      "application/vnd.microsoft.datawrangler.viewer.v0+json": {
       "columns": [
        {
         "name": "index",
         "rawType": "int64",
         "type": "integer"
        },
        {
         "name": "post_id",
         "rawType": "object",
         "type": "string"
        },
        {
         "name": "title",
         "rawType": "object",
         "type": "string"
        },
        {
         "name": "author",
         "rawType": "object",
         "type": "string"
        },
        {
         "name": "score",
         "rawType": "object",
         "type": "string"
        },
        {
         "name": "num_comments",
         "rawType": "object",
         "type": "string"
        },
        {
         "name": "created_utc",
         "rawType": "object",
         "type": "string"
        },
        {
         "name": "selftext",
         "rawType": "object",
         "type": "string"
        }
       ],
       "ref": "74c743f3-3750-4c46-b938-78974ed01639",
       "rows": [
        [
         "0",
         "1n91g1h",
         "GOP senators signal to Trump that Kennedy is on thin ice",
         "malcolm58",
         "2070",
         "228",
         "2025-09-05T10:21:08",
         ""
        ]
       ],
       "shape": {
        "columns": 7,
        "rows": 1
       }
      },
      "text/html": [
       "<div>\n",
       "<style scoped>\n",
       "    .dataframe tbody tr th:only-of-type {\n",
       "        vertical-align: middle;\n",
       "    }\n",
       "\n",
       "    .dataframe tbody tr th {\n",
       "        vertical-align: top;\n",
       "    }\n",
       "\n",
       "    .dataframe thead th {\n",
       "        text-align: right;\n",
       "    }\n",
       "</style>\n",
       "<table border=\"1\" class=\"dataframe\">\n",
       "  <thead>\n",
       "    <tr style=\"text-align: right;\">\n",
       "      <th></th>\n",
       "      <th>post_id</th>\n",
       "      <th>title</th>\n",
       "      <th>author</th>\n",
       "      <th>score</th>\n",
       "      <th>num_comments</th>\n",
       "      <th>created_utc</th>\n",
       "      <th>selftext</th>\n",
       "    </tr>\n",
       "  </thead>\n",
       "  <tbody>\n",
       "    <tr>\n",
       "      <th>0</th>\n",
       "      <td>1n91g1h</td>\n",
       "      <td>GOP senators signal to Trump that Kennedy is o...</td>\n",
       "      <td>malcolm58</td>\n",
       "      <td>2070</td>\n",
       "      <td>228</td>\n",
       "      <td>2025-09-05T10:21:08</td>\n",
       "      <td></td>\n",
       "    </tr>\n",
       "  </tbody>\n",
       "</table>\n",
       "</div>"
      ],
      "text/plain": [
       "   post_id                                              title     author  \\\n",
       "0  1n91g1h  GOP senators signal to Trump that Kennedy is o...  malcolm58   \n",
       "\n",
       "  score num_comments          created_utc selftext  \n",
       "0  2070          228  2025-09-05T10:21:08           "
      ]
     },
     "execution_count": 3,
     "metadata": {},
     "output_type": "execute_result"
    }
   ],
   "source": [
    "posts"
   ]
  },
  {
   "cell_type": "code",
   "execution_count": null,
   "id": "17a4dd0e",
   "metadata": {},
   "outputs": [
    {
     "data": {
      "application/vnd.microsoft.datawrangler.viewer.v0+json": {
       "columns": [
        {
         "name": "index",
         "rawType": "int64",
         "type": "integer"
        },
        {
         "name": "comment_id",
         "rawType": "object",
         "type": "string"
        },
        {
         "name": "post_id",
         "rawType": "object",
         "type": "string"
        },
        {
         "name": "author",
         "rawType": "object",
         "type": "string"
        },
        {
         "name": "body",
         "rawType": "object",
         "type": "string"
        },
        {
         "name": "score",
         "rawType": "object",
         "type": "string"
        },
        {
         "name": "created_utc",
         "rawType": "object",
         "type": "string"
        }
       ],
       "ref": "8cf656aa-fc88-49c3-9fb7-b06073ea01bf",
       "rows": [
        [
         "0",
         "ncj5d6z",
         "1n91g1h",
         "AutoModerator",
         "\nAs a reminder, this subreddit [is for civil discussion.](/r/politics/wiki/index#wiki_be_civil)\n\nIn general, be courteous to others. Debate/discuss/argue the merits of ideas, don't attack people. Personal insults, shill or troll accusations, hate speech, any suggestion or support of harm, violence, or death, and other rule violations can result in a permanent ban. \n\nIf you see comments in violation of our rules, please report them.\n\n For those who have questions regarding any media outlets being posted on this subreddit, please click [here](https://www.reddit.com/r/politics/wiki/approveddomainslist) to review our details as to our approved domains list and outlet criteria.\n \n We are actively looking for new moderators.  If you have any interest in helping to make this subreddit a place for quality discussion, please fill out [this form](https://docs.google.com/forms/d/1y2swHD0KXFhStGFjW6k54r9iuMjzcFqDIVwuvdLBjSA).\n \n\n***\n\n\n*I am a bot, and this action was performed automatically. Please [contact the moderators of this subreddit](/message/compose/?to=/r/politics) if you have any questions or concerns.*",
         "1",
         "2025-09-05T10:21:08"
        ],
        [
         "1",
         "ncj6qe6",
         "1n91g1h",
         "jediporcupine",
         "They won’t actually do anything. Everyone with at least a half a brain cell saw this coming and they still went with it.\n\nThey’ll continue to do what Dear Leader tells them to do.",
         "1",
         "2025-09-05T10:32:48"
        ],
        [
         "2",
         "ncj5qvp",
         "1n91g1h",
         "User4C4C4C",
         "Impeach",
         "1",
         "2025-09-05T10:24:25"
        ],
        [
         "3",
         "ncj5mpz",
         "1n91g1h",
         "tropical_dreams_",
         "Elect a clown expect a circus",
         "1",
         "2025-09-05T10:23:25"
        ],
        [
         "4",
         "ncj7oz4",
         "1n91g1h",
         "sedatedlife",
         "What did they,expect,putting someone who has made it there life mission to undermine vaccines in carge of the CDC.",
         "1",
         "2025-09-05T10:40:57"
        ],
        [
         "5",
         "ncj7pw3",
         "1n91g1h",
         "Responsible-Room-645",
         "Because if we’ve learned anything in the last decade, Republican Senators ALWAYS follow through on their threats/promises",
         "1",
         "2025-09-05T10:41:09"
        ],
        [
         "6",
         "ncjaatz",
         "1n91g1h",
         "brickout",
         "I don't believe it. They voted overwhelmingly to confirm him.",
         "1",
         "2025-09-05T11:01:23"
        ],
        [
         "7",
         "ncj5gfq",
         "1n91g1h",
         "FlirtOrbit",
         "the whole thing seems sus. Like seriously, GOP signaling to Trump? That's a freakin' rabbit hole right there.",
         "1",
         "2025-09-05T10:21:54"
        ],
        [
         "8",
         "ncjbv7e",
         "1n91g1h",
         "MuthaFukinRick",
         "During the 2024 presidential race:  \nHarris campaign: \"This RFK Jr. dude is crazy! We're not exchanging his endorsement for a position in the administration.\"  \nTrump campaign: \"Hell, yeah, we’ll take that deal! Giving him a position might get thousands killed, but it’s worth the anti-vax vote!\"",
         "1",
         "2025-09-05T11:13:04"
        ],
        [
         "9",
         "ncj7wvo",
         "1n91g1h",
         "reddittorbrigade",
         "Trump has already used RFK. He doesn't need him anymore so he can ditch this psycho.",
         "1",
         "2025-09-05T10:42:47"
        ],
        [
         "10",
         "ncjlede",
         "1n91g1h",
         "H0stusM0stus",
         "Just a quick reminder that only 1 Republican voted to not confirm RFK Jr; Mitch McConnel of all people. 52 Republicans were perfectly OK with this kook's rhetoric on vaccine denial and dangerous stance toward public health. Now they're concerned? Give me a break.",
         "1",
         "2025-09-05T12:18:13"
        ],
        [
         "11",
         "ncjpwcl",
         "1n91g1h",
         "MonsieurReynard",
         "Or what? What can any GOP senator do about it now that …. you know… *those nazi  idiots voted to confirm  him.*. He said exactly what he’d do: destroy the public health infrastructure we have taken for granted for decades. \n\nLess than a year later, here we are.  Sitting ducks for the next pandemic, letting contaminated food pass into the food supply, slashing research funding for all sorts of diseases, moving back to the 1910s. All because a narcissistic monster —  with no scientific background whatsoever, who’s been spreading lies about public health for decades -/ has been allowed into the henhouse.\n\nAnd Republican senators said fine. This includes you, Collins and Murkowski. Stop bullshitting us already.  You fucked  this country over. \n\nThey are such gaslighters.  So tired of listening to republicans lie.",
         "1",
         "2025-09-05T12:45:14"
        ],
        [
         "12",
         "ncj8hvv",
         "1n91g1h",
         "ImLikeReallySmart",
         "Keep taking the bait, news outlets. If they haven't done anything to get rid of him after what he's already done, they never will.",
         "1",
         "2025-09-05T10:47:32"
        ],
        [
         "13",
         "ncjall1",
         "1n91g1h",
         "Motor_Somewhere7565",
         "That hearing should have melted all the ice already.",
         "1",
         "2025-09-05T11:03:40"
        ],
        [
         "14",
         "ncjcoj1",
         "1n91g1h",
         "redneckrockuhtree",
         "Oh, look, more Republicans cosplaying as moderates. I'll believe any of this when they actually *follow through* with it. They're just cosplaying for the media, and the media is lapping it up. They'll continue to do Trump's bidding.",
         "1",
         "2025-09-05T11:18:58"
        ],
        [
         "15",
         "ncjh9ee",
         "1n91g1h",
         "angmarsilar",
         "I call BS on this. If the Cheeto looks at these senators with a scowl, they will back down so fast it would make your head spin. Just remember, when the Cheeto farts, these guys are covered in shit.",
         "1",
         "2025-09-05T11:50:56"
        ],
        [
         "16",
         "ncj8uqp",
         "1n91g1h",
         "BaseballSilly6323",
         "Thin ice? He is drowning",
         "1",
         "2025-09-05T10:50:18"
        ],
        [
         "17",
         "ncjgbu0",
         "1n91g1h",
         "silverport",
         "Congress won’t do anything",
         "1",
         "2025-09-05T11:44:39"
        ],
        [
         "18",
         "ncjjduf",
         "1n91g1h",
         "AlfaTX1",
         "Are they \"concerned\"?!?",
         "1",
         "2025-09-05T12:05:08"
        ],
        [
         "19",
         "ncjjx2d",
         "1n91g1h",
         "eugene20",
         "That man is so far through the ice in 100 years time he'd be rediscovered to be hailed as the Avatar of stupid",
         "1",
         "2025-09-05T12:08:41"
        ],
        [
         "20",
         "ncjlcvw",
         "1n91g1h",
         "MySixHourErection",
         "BS. Only Trump can fire him and he’s going to do what he wants.",
         "1",
         "2025-09-05T12:17:57"
        ],
        [
         "21",
         "ncjlf1n",
         "1n91g1h",
         "Deceptiveideas",
         "> He drew Kennedy into a contradiction by asking him whether he agreed that Trump deserves a Nobel Prize for Operation Warp Speed, the government-backed initiative that developed the COVID-19 vaccine during Trump’s first term.\n\n>When Kennedy replied, “Absolutely,” the senator pounced.\n\n>But you just told Sen. Bennet that the Covid vaccine killed more people than Covid,” Cassidy pointed out.\n\nThis is why the onion fell out of fashion.",
         "1",
         "2025-09-05T12:18:21"
        ],
        [
         "22",
         "ncjli4v",
         "1n91g1h",
         "NinjaBilly55",
         "All of his Cabinet Secretaries  are the worst possible choice he could have made..",
         "1",
         "2025-09-05T12:18:53"
        ],
        [
         "23",
         "ncjlu9p",
         "1n91g1h",
         "davereit",
         "Release the EPSTEIN FILES",
         "1",
         "2025-09-05T12:20:58"
        ],
        [
         "24",
         "ncjo135",
         "1n91g1h",
         "crisisactorsguild",
         "BS. They need to stand up and publicly call for him to be gone and they need to demand that the CDC people be reinstated, as well as the people removed from the vaccine commission.",
         "1",
         "2025-09-05T12:34:12"
        ],
        [
         "25",
         "ncjs74f",
         "1n91g1h",
         "The-Roof-is-Soft-Tar",
         "Shouldn't GOP senators be signalling that Trump himself is on thin ice 🤨",
         "1",
         "2025-09-05T12:58:22"
        ],
        [
         "26",
         "ncj9wik",
         "1n91g1h",
         "TintedApostle",
         "The hope before the article that says Kennedy got the backing of all GOP except 2.",
         "1",
         "2025-09-05T10:58:24"
        ],
        [
         "27",
         "ncjbcw1",
         "1n91g1h",
         "Depressed-Industry",
         "Please, it's more strongly worded letters. Meaningless but intended to seem like they're doing something. \n\nThe maga senate has completely abdicated their duty to the people and instead become an arm of the Trump administration.",
         "1",
         "2025-09-05T11:09:22"
        ],
        [
         "28",
         "ncjeoo6",
         "1n91g1h",
         "KopOut",
         "Now that the damage that will last years or decades has been done, the GOP begins to feel the start of a spine growing in their backs. Just a vertebrae or two though so far. Long way to go.",
         "1",
         "2025-09-05T11:33:14"
        ],
        [
         "29",
         "ncjf2s2",
         "1n91g1h",
         "begemot90",
         "They knew what he was when they confirmed him. I mean hell, the guy literally ran for president on an anti vaccine platform. \n\nThis surprise that they are suddenly displaying seriously brings to question who exactly has brain worms.",
         "1",
         "2025-09-05T11:35:59"
        ],
        [
         "30",
         "ncjfs9i",
         "1n91g1h",
         "NoirPipes",
         "Why not break the ice?",
         "1",
         "2025-09-05T11:40:57"
        ],
        [
         "31",
         "ncjgclu",
         "1n91g1h",
         "Polyman71",
         "RFK is the worst possible official and that just means he is on thin ice??!!",
         "1",
         "2025-09-05T11:44:48"
        ],
        [
         "32",
         "ncjgedo",
         "1n91g1h",
         "JonZ82",
         "Hes on the Epstein list with Trump. Only reason he is where he is.",
         "1",
         "2025-09-05T11:45:08"
        ],
        [
         "33",
         "ncjiyfm",
         "1n91g1h",
         "Seaweed-Basic",
         "GOP needs to play the clip of RFK Jr. saying Operation Warp Speed was a failure to Trump on loop.",
         "1",
         "2025-09-05T12:02:17"
        ],
        [
         "34",
         "ncjkil9",
         "1n91g1h",
         "FlopShanoobie",
         "No he’s not. Every once in a while you get a glimpse of the GOPs recognition they royally fucked up, like at the hearing yesterday, but the acknowledgement that if they continue to toe the line they’ll remain in power and rich is the override every time.",
         "1",
         "2025-09-05T12:12:32"
        ],
        [
         "35",
         "ncjkvxw",
         "1n91g1h",
         "ApolloX-2",
         "Impeachment needs the house and 67 votes in the Senate, he is on the firmest ground imaginable cause these senators are spineless.",
         "1",
         "2025-09-05T12:14:56"
        ],
        [
         "36",
         "ncjl9q3",
         "1n91g1h",
         "SavageSan",
         "Republican Senators collectively furrow their brows.",
         "1",
         "2025-09-05T12:17:23"
        ],
        [
         "37",
         "ncjlao1",
         "1n91g1h",
         "GeddyLeeEsquire",
         "They’re not going to do shit",
         "1",
         "2025-09-05T12:17:33"
        ],
        [
         "38",
         "ncjn1gv",
         "1n91g1h",
         "mxjxs91",
         "Thin ice? He should have broken through the ice and been sitting as deep as the Titanic before he was even confirmed for the position.",
         "1",
         "2025-09-05T12:28:18"
        ],
        [
         "39",
         "ncjntw3",
         "1n91g1h",
         "Talynz_",
         "\"The fox still has a few hens left to eat. Once they're all gone we'll kick it out of the coop.\"",
         "1",
         "2025-09-05T12:33:00"
        ],
        [
         "40",
         "ncjpa1r",
         "1n91g1h",
         "Alabaster_Rims",
         "Why is he on any ice at this point? He's more brain worms than man",
         "1",
         "2025-09-05T12:41:35"
        ],
        [
         "41",
         "ncjprki",
         "1n91g1h",
         "alanalanalan92",
         "Day late and a dollar short shouldn’t have confirmed his stupid ass in the first place.",
         "1",
         "2025-09-05T12:44:27"
        ],
        [
         "42",
         "ncjs0v8",
         "1n91g1h",
         "OpenScienceNerd3000",
         "lol thin ice. Starting to sound the democrats. \n\nMaybe they’ll write a strong letter",
         "1",
         "2025-09-05T12:57:23"
        ],
        [
         "43",
         "ncjuasq",
         "1n91g1h",
         "Noxilcash",
         "“‘I’ll take warnings from spineless cowards that don’t mean jack shit’ for 200, Alex”",
         "1",
         "2025-09-05T13:10:20"
        ],
        [
         "44",
         "ncjyb6t",
         "1n91g1h",
         "TheWorldEndsWithHope",
         "Republicans are a national embarrassment :(",
         "1",
         "2025-09-05T13:32:24"
        ],
        [
         "45",
         "ncj6rou",
         "1n91g1h",
         "SwipeForSilk",
         "just when ya thought politics couldn't get crazier, am I right or am I right? Honestly tho, feels like we're living in an episode of Black Mirror.",
         "1",
         "2025-09-05T10:33:07"
        ],
        [
         "46",
         "ncj9y2n",
         "1n91g1h",
         "RebelliousInNature",
         "Horrible administration doesn’t even care for its own voters. This fucking gravel gargling clown should be doing an antivax bollocks podcast at best. \n\nSo insidious that they are actively destroying public health.",
         "1",
         "2025-09-05T10:58:43"
        ],
        [
         "47",
         "ncjaar5",
         "1n91g1h",
         "NAU80",
         "Doesn’t matter if he stays or goes, the damage is done!  When we have a health crisis years from now, Fox News will convince its viewers that it is the Democrats fault.  They will tell people to remember in 2025 everything was great and now because the Democrats want all kids to be transgender, it happened.",
         "1",
         "2025-09-05T11:01:22"
        ],
        [
         "48",
         "ncjaiou",
         "1n91g1h",
         "ToweringTulips",
         "Trump firing RFK Jr. would be an admission that he made a wrong choice in nominating the guy in the first place.  Trump would loathe doing that.",
         "1",
         "2025-09-05T11:03:03"
        ],
        [
         "49",
         "ncjbbq5",
         "1n91g1h",
         "Iinktolyn",
         "Thin ice? He’s dog paddling in an overheated ocean full of revenge orcas.",
         "1",
         "2025-09-05T11:09:07"
        ]
       ],
       "shape": {
        "columns": 6,
        "rows": 104
       }
      },
      "text/html": [
       "<div>\n",
       "<style scoped>\n",
       "    .dataframe tbody tr th:only-of-type {\n",
       "        vertical-align: middle;\n",
       "    }\n",
       "\n",
       "    .dataframe tbody tr th {\n",
       "        vertical-align: top;\n",
       "    }\n",
       "\n",
       "    .dataframe thead th {\n",
       "        text-align: right;\n",
       "    }\n",
       "</style>\n",
       "<table border=\"1\" class=\"dataframe\">\n",
       "  <thead>\n",
       "    <tr style=\"text-align: right;\">\n",
       "      <th></th>\n",
       "      <th>comment_id</th>\n",
       "      <th>post_id</th>\n",
       "      <th>author</th>\n",
       "      <th>body</th>\n",
       "      <th>score</th>\n",
       "      <th>created_utc</th>\n",
       "    </tr>\n",
       "  </thead>\n",
       "  <tbody>\n",
       "    <tr>\n",
       "      <th>0</th>\n",
       "      <td>ncj5d6z</td>\n",
       "      <td>1n91g1h</td>\n",
       "      <td>AutoModerator</td>\n",
       "      <td>\\nAs a reminder, this subreddit [is for civil ...</td>\n",
       "      <td>1</td>\n",
       "      <td>2025-09-05T10:21:08</td>\n",
       "    </tr>\n",
       "    <tr>\n",
       "      <th>1</th>\n",
       "      <td>ncj6qe6</td>\n",
       "      <td>1n91g1h</td>\n",
       "      <td>jediporcupine</td>\n",
       "      <td>They won’t actually do anything. Everyone with...</td>\n",
       "      <td>1</td>\n",
       "      <td>2025-09-05T10:32:48</td>\n",
       "    </tr>\n",
       "    <tr>\n",
       "      <th>2</th>\n",
       "      <td>ncj5qvp</td>\n",
       "      <td>1n91g1h</td>\n",
       "      <td>User4C4C4C</td>\n",
       "      <td>Impeach</td>\n",
       "      <td>1</td>\n",
       "      <td>2025-09-05T10:24:25</td>\n",
       "    </tr>\n",
       "    <tr>\n",
       "      <th>3</th>\n",
       "      <td>ncj5mpz</td>\n",
       "      <td>1n91g1h</td>\n",
       "      <td>tropical_dreams_</td>\n",
       "      <td>Elect a clown expect a circus</td>\n",
       "      <td>1</td>\n",
       "      <td>2025-09-05T10:23:25</td>\n",
       "    </tr>\n",
       "    <tr>\n",
       "      <th>4</th>\n",
       "      <td>ncj7oz4</td>\n",
       "      <td>1n91g1h</td>\n",
       "      <td>sedatedlife</td>\n",
       "      <td>What did they,expect,putting someone who has m...</td>\n",
       "      <td>1</td>\n",
       "      <td>2025-09-05T10:40:57</td>\n",
       "    </tr>\n",
       "    <tr>\n",
       "      <th>...</th>\n",
       "      <td>...</td>\n",
       "      <td>...</td>\n",
       "      <td>...</td>\n",
       "      <td>...</td>\n",
       "      <td>...</td>\n",
       "      <td>...</td>\n",
       "    </tr>\n",
       "    <tr>\n",
       "      <th>99</th>\n",
       "      <td>ncjxulq</td>\n",
       "      <td>1n91g1h</td>\n",
       "      <td>ODogrealnameisKevin</td>\n",
       "      <td>Republicans have had a lot of buyers remorse l...</td>\n",
       "      <td>1</td>\n",
       "      <td>2025-09-05T13:29:53</td>\n",
       "    </tr>\n",
       "    <tr>\n",
       "      <th>100</th>\n",
       "      <td>ncj8wlg</td>\n",
       "      <td>1n91g1h</td>\n",
       "      <td>HypoManicCrimeSpree</td>\n",
       "      <td>Does it matter? Release the fucking files bro!</td>\n",
       "      <td>1</td>\n",
       "      <td>2025-09-05T10:50:43</td>\n",
       "    </tr>\n",
       "    <tr>\n",
       "      <th>101</th>\n",
       "      <td>ncjcp8y</td>\n",
       "      <td>1n91g1h</td>\n",
       "      <td>algorithmic_fetters</td>\n",
       "      <td>“Thin ice”: “Keep going and we may say some va...</td>\n",
       "      <td>1</td>\n",
       "      <td>2025-09-05T11:19:07</td>\n",
       "    </tr>\n",
       "    <tr>\n",
       "      <th>102</th>\n",
       "      <td>ncjkfxt</td>\n",
       "      <td>1n91g1h</td>\n",
       "      <td>Thetman38</td>\n",
       "      <td>I watched too much of that hearing, and after ...</td>\n",
       "      <td>1</td>\n",
       "      <td>2025-09-05T12:12:04</td>\n",
       "    </tr>\n",
       "    <tr>\n",
       "      <th>103</th>\n",
       "      <td>ncjq08m</td>\n",
       "      <td>1n91g1h</td>\n",
       "      <td>SnooCompliments5012</td>\n",
       "      <td>No he’s not shut up</td>\n",
       "      <td>1</td>\n",
       "      <td>2025-09-05T12:45:51</td>\n",
       "    </tr>\n",
       "  </tbody>\n",
       "</table>\n",
       "<p>104 rows × 6 columns</p>\n",
       "</div>"
      ],
      "text/plain": [
       "    comment_id  post_id               author  \\\n",
       "0      ncj5d6z  1n91g1h        AutoModerator   \n",
       "1      ncj6qe6  1n91g1h        jediporcupine   \n",
       "2      ncj5qvp  1n91g1h           User4C4C4C   \n",
       "3      ncj5mpz  1n91g1h     tropical_dreams_   \n",
       "4      ncj7oz4  1n91g1h          sedatedlife   \n",
       "..         ...      ...                  ...   \n",
       "99     ncjxulq  1n91g1h  ODogrealnameisKevin   \n",
       "100    ncj8wlg  1n91g1h  HypoManicCrimeSpree   \n",
       "101    ncjcp8y  1n91g1h  algorithmic_fetters   \n",
       "102    ncjkfxt  1n91g1h            Thetman38   \n",
       "103    ncjq08m  1n91g1h  SnooCompliments5012   \n",
       "\n",
       "                                                  body score  \\\n",
       "0    \\nAs a reminder, this subreddit [is for civil ...     1   \n",
       "1    They won’t actually do anything. Everyone with...     1   \n",
       "2                                              Impeach     1   \n",
       "3                        Elect a clown expect a circus     1   \n",
       "4    What did they,expect,putting someone who has m...     1   \n",
       "..                                                 ...   ...   \n",
       "99   Republicans have had a lot of buyers remorse l...     1   \n",
       "100     Does it matter? Release the fucking files bro!     1   \n",
       "101  “Thin ice”: “Keep going and we may say some va...     1   \n",
       "102  I watched too much of that hearing, and after ...     1   \n",
       "103                                No he’s not shut up     1   \n",
       "\n",
       "             created_utc  \n",
       "0    2025-09-05T10:21:08  \n",
       "1    2025-09-05T10:32:48  \n",
       "2    2025-09-05T10:24:25  \n",
       "3    2025-09-05T10:23:25  \n",
       "4    2025-09-05T10:40:57  \n",
       "..                   ...  \n",
       "99   2025-09-05T13:29:53  \n",
       "100  2025-09-05T10:50:43  \n",
       "101  2025-09-05T11:19:07  \n",
       "102  2025-09-05T12:12:04  \n",
       "103  2025-09-05T12:45:51  \n",
       "\n",
       "[104 rows x 6 columns]"
      ]
     },
     "execution_count": 4,
     "metadata": {},
     "output_type": "execute_result"
    }
   ],
   "source": [
    "comments\n",
    "# TODO fix score "
   ]
  }
 ],
 "metadata": {
  "kernelspec": {
   "display_name": "reddit",
   "language": "python",
   "name": "python3"
  },
  "language_info": {
   "codemirror_mode": {
    "name": "ipython",
    "version": 3
   },
   "file_extension": ".py",
   "mimetype": "text/x-python",
   "name": "python",
   "nbconvert_exporter": "python",
   "pygments_lexer": "ipython3",
   "version": "3.11.13"
  }
 },
 "nbformat": 4,
 "nbformat_minor": 5
}
