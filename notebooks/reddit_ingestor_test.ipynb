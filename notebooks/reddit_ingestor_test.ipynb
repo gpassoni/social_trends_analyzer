{
 "cells": [
  {
   "cell_type": "code",
   "execution_count": 1,
   "id": "4f9913ec",
   "metadata": {},
   "outputs": [],
   "source": [
    "from reddit_ingestion.reddit_ingestion import RedditIngestor\n",
    "import os"
   ]
  },
  {
   "cell_type": "code",
   "execution_count": 2,
   "id": "768226cb",
   "metadata": {},
   "outputs": [
    {
     "name": "stdout",
     "output_type": "stream",
     "text": [
      "None\n"
     ]
    }
   ],
   "source": [
    "print(os.environ.get(\"JAVA_HOME\"))"
   ]
  },
  {
   "cell_type": "code",
   "execution_count": 6,
   "id": "c1292b83",
   "metadata": {},
   "outputs": [],
   "source": [
    "ingestor = RedditIngestor(subreddit_name=\"politics\", post_limit=7, comment_limit=10, project_root_path=\"C:\\\\Users\\\\Gabri\\\\Documents\\\\reddit_project\")\n",
    "posts, comments = ingestor.fetch_hot_posts()"
   ]
  },
  {
   "cell_type": "code",
   "execution_count": 7,
   "id": "f89e4a38",
   "metadata": {},
   "outputs": [
    {
     "data": {
      "application/vnd.microsoft.datawrangler.viewer.v0+json": {
       "columns": [
        {
         "name": "index",
         "rawType": "int64",
         "type": "integer"
        },
        {
         "name": "post_id",
         "rawType": "object",
         "type": "string"
        },
        {
         "name": "title",
         "rawType": "object",
         "type": "string"
        },
        {
         "name": "author",
         "rawType": "object",
         "type": "string"
        },
        {
         "name": "score",
         "rawType": "int64",
         "type": "integer"
        },
        {
         "name": "num_comments",
         "rawType": "int64",
         "type": "integer"
        },
        {
         "name": "created_utc",
         "rawType": "object",
         "type": "string"
        },
        {
         "name": "selftext",
         "rawType": "object",
         "type": "string"
        }
       ],
       "ref": "5f4c355a-5236-4dc1-b5da-c80c8f0aa7e7",
       "rows": [
        [
         "0",
         "1n933aw",
         "Hegseth Declares He Has 'Absolute Authority' to Kill Suspected Drug Dealers",
         "Ok_Employer7837",
         "7773",
         "1153",
         "2025-09-05T11:49:24",
         ""
        ],
        [
         "1",
         "1n94jme",
         "Trump Gets Abysmal Jobs Figures After Firing BLS Chief",
         "gradientz",
         "2818",
         "143",
         "2025-09-05T12:56:37",
         ""
        ],
        [
         "2",
         "1n91g1h",
         "GOP senators signal to Trump that Kennedy is on thin ice",
         "malcolm58",
         "4384",
         "348",
         "2025-09-05T10:21:08",
         ""
        ],
        [
         "3",
         "1n939o0",
         "Trump already downplaying importance of Friday jobs report: ‘Real numbers will be a year from now’",
         "The__Illuminaughty",
         "3002",
         "494",
         "2025-09-05T11:58:25",
         ""
        ],
        [
         "4",
         "1n94cyw",
         "The Epstein discharge petition is headed for success — with a nudge from Dems",
         "madding_crowd_",
         "2046",
         "81",
         "2025-09-05T12:48:14",
         ""
        ],
        [
         "5",
         "1n92hin",
         "Trump, 79, Hides Bruised Hands Under the Table During Tech Bro Dinner",
         "Ok_Employer7837",
         "2240",
         "137",
         "2025-09-05T11:18:11",
         ""
        ],
        [
         "6",
         "1n9219d",
         "Trump’s lawyers just inadvertently admitted that his tariffs are illegal",
         "zsreport",
         "2024",
         "54",
         "2025-09-05T10:54:36",
         ""
        ]
       ],
       "shape": {
        "columns": 7,
        "rows": 7
       }
      },
      "text/html": [
       "<div>\n",
       "<style scoped>\n",
       "    .dataframe tbody tr th:only-of-type {\n",
       "        vertical-align: middle;\n",
       "    }\n",
       "\n",
       "    .dataframe tbody tr th {\n",
       "        vertical-align: top;\n",
       "    }\n",
       "\n",
       "    .dataframe thead th {\n",
       "        text-align: right;\n",
       "    }\n",
       "</style>\n",
       "<table border=\"1\" class=\"dataframe\">\n",
       "  <thead>\n",
       "    <tr style=\"text-align: right;\">\n",
       "      <th></th>\n",
       "      <th>post_id</th>\n",
       "      <th>title</th>\n",
       "      <th>author</th>\n",
       "      <th>score</th>\n",
       "      <th>num_comments</th>\n",
       "      <th>created_utc</th>\n",
       "      <th>selftext</th>\n",
       "    </tr>\n",
       "  </thead>\n",
       "  <tbody>\n",
       "    <tr>\n",
       "      <th>0</th>\n",
       "      <td>1n933aw</td>\n",
       "      <td>Hegseth Declares He Has 'Absolute Authority' t...</td>\n",
       "      <td>Ok_Employer7837</td>\n",
       "      <td>7773</td>\n",
       "      <td>1153</td>\n",
       "      <td>2025-09-05T11:49:24</td>\n",
       "      <td></td>\n",
       "    </tr>\n",
       "    <tr>\n",
       "      <th>1</th>\n",
       "      <td>1n94jme</td>\n",
       "      <td>Trump Gets Abysmal Jobs Figures After Firing B...</td>\n",
       "      <td>gradientz</td>\n",
       "      <td>2818</td>\n",
       "      <td>143</td>\n",
       "      <td>2025-09-05T12:56:37</td>\n",
       "      <td></td>\n",
       "    </tr>\n",
       "    <tr>\n",
       "      <th>2</th>\n",
       "      <td>1n91g1h</td>\n",
       "      <td>GOP senators signal to Trump that Kennedy is o...</td>\n",
       "      <td>malcolm58</td>\n",
       "      <td>4384</td>\n",
       "      <td>348</td>\n",
       "      <td>2025-09-05T10:21:08</td>\n",
       "      <td></td>\n",
       "    </tr>\n",
       "    <tr>\n",
       "      <th>3</th>\n",
       "      <td>1n939o0</td>\n",
       "      <td>Trump already downplaying importance of Friday...</td>\n",
       "      <td>The__Illuminaughty</td>\n",
       "      <td>3002</td>\n",
       "      <td>494</td>\n",
       "      <td>2025-09-05T11:58:25</td>\n",
       "      <td></td>\n",
       "    </tr>\n",
       "    <tr>\n",
       "      <th>4</th>\n",
       "      <td>1n94cyw</td>\n",
       "      <td>The Epstein discharge petition is headed for s...</td>\n",
       "      <td>madding_crowd_</td>\n",
       "      <td>2046</td>\n",
       "      <td>81</td>\n",
       "      <td>2025-09-05T12:48:14</td>\n",
       "      <td></td>\n",
       "    </tr>\n",
       "    <tr>\n",
       "      <th>5</th>\n",
       "      <td>1n92hin</td>\n",
       "      <td>Trump, 79, Hides Bruised Hands Under the Table...</td>\n",
       "      <td>Ok_Employer7837</td>\n",
       "      <td>2240</td>\n",
       "      <td>137</td>\n",
       "      <td>2025-09-05T11:18:11</td>\n",
       "      <td></td>\n",
       "    </tr>\n",
       "    <tr>\n",
       "      <th>6</th>\n",
       "      <td>1n9219d</td>\n",
       "      <td>Trump’s lawyers just inadvertently admitted th...</td>\n",
       "      <td>zsreport</td>\n",
       "      <td>2024</td>\n",
       "      <td>54</td>\n",
       "      <td>2025-09-05T10:54:36</td>\n",
       "      <td></td>\n",
       "    </tr>\n",
       "  </tbody>\n",
       "</table>\n",
       "</div>"
      ],
      "text/plain": [
       "   post_id                                              title  \\\n",
       "0  1n933aw  Hegseth Declares He Has 'Absolute Authority' t...   \n",
       "1  1n94jme  Trump Gets Abysmal Jobs Figures After Firing B...   \n",
       "2  1n91g1h  GOP senators signal to Trump that Kennedy is o...   \n",
       "3  1n939o0  Trump already downplaying importance of Friday...   \n",
       "4  1n94cyw  The Epstein discharge petition is headed for s...   \n",
       "5  1n92hin  Trump, 79, Hides Bruised Hands Under the Table...   \n",
       "6  1n9219d  Trump’s lawyers just inadvertently admitted th...   \n",
       "\n",
       "               author  score  num_comments          created_utc selftext  \n",
       "0     Ok_Employer7837   7773          1153  2025-09-05T11:49:24           \n",
       "1           gradientz   2818           143  2025-09-05T12:56:37           \n",
       "2           malcolm58   4384           348  2025-09-05T10:21:08           \n",
       "3  The__Illuminaughty   3002           494  2025-09-05T11:58:25           \n",
       "4      madding_crowd_   2046            81  2025-09-05T12:48:14           \n",
       "5     Ok_Employer7837   2240           137  2025-09-05T11:18:11           \n",
       "6            zsreport   2024            54  2025-09-05T10:54:36           "
      ]
     },
     "execution_count": 7,
     "metadata": {},
     "output_type": "execute_result"
    }
   ],
   "source": [
    "posts"
   ]
  },
  {
   "cell_type": "code",
   "execution_count": 8,
   "id": "17a4dd0e",
   "metadata": {},
   "outputs": [
    {
     "data": {
      "application/vnd.microsoft.datawrangler.viewer.v0+json": {
       "columns": [
        {
         "name": "index",
         "rawType": "int64",
         "type": "integer"
        },
        {
         "name": "comment_id",
         "rawType": "object",
         "type": "string"
        },
        {
         "name": "post_id",
         "rawType": "object",
         "type": "string"
        },
        {
         "name": "parent_id",
         "rawType": "object",
         "type": "string"
        },
        {
         "name": "author",
         "rawType": "object",
         "type": "string"
        },
        {
         "name": "body",
         "rawType": "object",
         "type": "string"
        },
        {
         "name": "score",
         "rawType": "int64",
         "type": "integer"
        },
        {
         "name": "created_utc",
         "rawType": "object",
         "type": "string"
        }
       ],
       "ref": "0cfaf40b-1c1f-4aa3-b936-fa38b6342429",
       "rows": [
        [
         "0",
         "ncjh1ds",
         "1n933aw",
         "t3_1n933aw",
         "AutoModerator",
         "\nAs a reminder, this subreddit [is for civil discussion.](/r/politics/wiki/index#wiki_be_civil)\n\nIn general, be courteous to others. Debate/discuss/argue the merits of ideas, don't attack people. Personal insults, shill or troll accusations, hate speech, any suggestion or support of harm, violence, or death, and other rule violations can result in a permanent ban. \n\nIf you see comments in violation of our rules, please report them.\n\n For those who have questions regarding any media outlets being posted on this subreddit, please click [here](https://www.reddit.com/r/politics/wiki/approveddomainslist) to review our details as to our approved domains list and outlet criteria.\n \n We are actively looking for new moderators.  If you have any interest in helping to make this subreddit a place for quality discussion, please fill out [this form](https://docs.google.com/forms/d/1y2swHD0KXFhStGFjW6k54r9iuMjzcFqDIVwuvdLBjSA).\n \n\n***\n\n\n*I am a bot, and this action was performed automatically. Please [contact the moderators of this subreddit](/message/compose/?to=/r/politics) if you have any questions or concerns.*",
         "1",
         "2025-09-05T11:49:26"
        ],
        [
         "1",
         "ncjhx4q",
         "1n933aw",
         "t3_1n933aw",
         "HibbletonFan",
         "Note the word “suspected”, he’s not even talking about confirmed or convicted dealers!",
         "1",
         "2025-09-05T11:55:20"
        ],
        [
         "2",
         "ncjk1nr",
         "1n933aw",
         "t3_1n933aw",
         "Goal_Posts",
         "I suspect Pete Hegseth of being a drug dealer!",
         "1",
         "2025-09-05T12:09:31"
        ],
        [
         "3",
         "ncjk9e0",
         "1n933aw",
         "t3_1n933aw",
         "eerhmahgerd",
         "Dear Lord, please give us someone with the balls to run on a platform of putting bastards like this in prison...",
         "1",
         "2025-09-05T12:10:53"
        ],
        [
         "4",
         "ncjhqze",
         "1n933aw",
         "t3_1n933aw",
         "BuzzKillington45",
         "Who does he think he is? Judge Dredd?",
         "1",
         "2025-09-05T11:54:12"
        ],
        [
         "5",
         "ncji5uz",
         "1n933aw",
         "t3_1n933aw",
         "coatofforearm",
         "This fucker won't be able to leave the U.S after the term is over as he will have warrants out for his arrest for violating international law",
         "1",
         "2025-09-05T11:56:59"
        ],
        [
         "6",
         "ncjsugg",
         "1n933aw",
         "t3_1n933aw",
         "ObliviousRounding",
         "It's nice that language that would get you banned on Reddit is now the official government line.",
         "1",
         "2025-09-05T13:02:04"
        ],
        [
         "7",
         "ncjit9t",
         "1n933aw",
         "t3_1n933aw",
         "realancepts4real",
         "like fuck he does\n\nhis murder trials will be something",
         "1",
         "2025-09-05T12:01:18"
        ],
        [
         "8",
         "ncjxaz1",
         "1n933aw",
         "t3_1n933aw",
         "hanswolough",
         "It’s still baffling to me that a former Fox News weekend host is in a position to make these kind of decisions. Like can we all just think about that",
         "1",
         "2025-09-05T13:26:56"
        ],
        [
         "9",
         "ncjk1m9",
         "1n933aw",
         "t3_1n933aw",
         "mcfarmer72",
         "Wouldn’t pass up a shot at a boat of migrants either I imagine.",
         "1",
         "2025-09-05T12:09:31"
        ],
        [
         "10",
         "ncjrw40",
         "1n94jme",
         "t3_1n94jme",
         "AutoModerator",
         "\nAs a reminder, this subreddit [is for civil discussion.](/r/politics/wiki/index#wiki_be_civil)\n\nIn general, be courteous to others. Debate/discuss/argue the merits of ideas, don't attack people. Personal insults, shill or troll accusations, hate speech, any suggestion or support of harm, violence, or death, and other rule violations can result in a permanent ban. \n\nIf you see comments in violation of our rules, please report them.\n\n For those who have questions regarding any media outlets being posted on this subreddit, please click [here](https://www.reddit.com/r/politics/wiki/approveddomainslist) to review our details as to our approved domains list and outlet criteria.\n \n We are actively looking for new moderators.  If you have any interest in helping to make this subreddit a place for quality discussion, please fill out [this form](https://docs.google.com/forms/d/1y2swHD0KXFhStGFjW6k54r9iuMjzcFqDIVwuvdLBjSA).\n \n\n***\n\n\n*I am a bot, and this action was performed automatically. Please [contact the moderators of this subreddit](/message/compose/?to=/r/politics) if you have any questions or concerns.*",
         "1",
         "2025-09-05T12:56:37"
        ],
        [
         "11",
         "ncjs9a8",
         "1n94jme",
         "t3_1n94jme",
         "MattyIce1220",
         "Honestly,if they listed job numbers that bad publicly, it's probably 10x worse than that.",
         "1",
         "2025-09-05T12:58:43"
        ],
        [
         "12",
         "ncjtudt",
         "1n94jme",
         "t3_1n94jme",
         "Pale-and-Willing",
         "Trump's policies are leading us into recession, he's kicking people off of health insurance and denying them vaccines, he's destroying the rule of law, he's being played for a fool by Putin..but he's going to call the Department of Defense the Department of War! America is great again!\n\nPathetic.",
         "1",
         "2025-09-05T13:07:45"
        ],
        [
         "13",
         "ncjteii",
         "1n94jme",
         "t3_1n94jme",
         "TheMilkJug",
         "Whomp,whomp.\n\nTurns out, while you can bully the BLS chief,  you can't just bully the job market.\n\nIt's almost like Trump and the \"economists\" he is getting his horrible advice from don't know what the fuck they're doing.",
         "1",
         "2025-09-05T13:05:14"
        ],
        [
         "14",
         "ncjt5f7",
         "1n94jme",
         "t3_1n94jme",
         "Redshirt_Welshy_Nooo",
         "Huh, go figure. Dedicated career public servants still take their jobs seriously since they understand that real data is essential for real economic planning.",
         "1",
         "2025-09-05T13:03:47"
        ],
        [
         "15",
         "ncjzvpk",
         "1n94jme",
         "t3_1n94jme",
         "illit1",
         ">On Friday morning, the BLS reported that nonfarm payroll employment rose by only 22,000 in August.  \n    \n\n2022 august added 315,000  \n2023 august added 187,000  \n2024 august added 142,000\n\nthis year's jobs numbers aren't just an unforced error, they're actively self-inflicted by tariffs. this absolute idiot is creating a recession out of whole cloth because he's too fucking stupid to understand basic economics and the adults have all left the room.  \n  \nthis *still* won't be enough to convince americans that republicans aren't better on the economy than democrats, lmao.",
         "1",
         "2025-09-05T13:41:03"
        ],
        [
         "16",
         "ncjuxx8",
         "1n94jme",
         "t3_1n94jme",
         "dblan9",
         "Trump is wrong about everything.",
         "1",
         "2025-09-05T13:13:57"
        ],
        [
         "17",
         "ncjvuxl",
         "1n94jme",
         "t3_1n94jme",
         "Travelerdude",
         "Don’t worry Comrades. Soon we will have 💯percent employment just like in East Germany back in the day.",
         "1",
         "2025-09-05T13:19:01"
        ],
        [
         "18",
         "ncjuqdr",
         "1n94jme",
         "t3_1n94jme",
         "ThingCalledLight",
         "No, but Trump said these aren’t the “real” numbers either so it can’t be true. It simply can’t be. /s",
         "1",
         "2025-09-05T13:12:47"
        ],
        [
         "19",
         "ncjtv7s",
         "1n94jme",
         "t3_1n94jme",
         "Aggravating-Ice-3405",
         "How can we trust these figures anymore?",
         "1",
         "2025-09-05T13:07:53"
        ],
        [
         "20",
         "ncj5d6z",
         "1n91g1h",
         "t3_1n91g1h",
         "AutoModerator",
         "\nAs a reminder, this subreddit [is for civil discussion.](/r/politics/wiki/index#wiki_be_civil)\n\nIn general, be courteous to others. Debate/discuss/argue the merits of ideas, don't attack people. Personal insults, shill or troll accusations, hate speech, any suggestion or support of harm, violence, or death, and other rule violations can result in a permanent ban. \n\nIf you see comments in violation of our rules, please report them.\n\n For those who have questions regarding any media outlets being posted on this subreddit, please click [here](https://www.reddit.com/r/politics/wiki/approveddomainslist) to review our details as to our approved domains list and outlet criteria.\n \n We are actively looking for new moderators.  If you have any interest in helping to make this subreddit a place for quality discussion, please fill out [this form](https://docs.google.com/forms/d/1y2swHD0KXFhStGFjW6k54r9iuMjzcFqDIVwuvdLBjSA).\n \n\n***\n\n\n*I am a bot, and this action was performed automatically. Please [contact the moderators of this subreddit](/message/compose/?to=/r/politics) if you have any questions or concerns.*",
         "1",
         "2025-09-05T10:21:08"
        ],
        [
         "21",
         "ncj6qe6",
         "1n91g1h",
         "t3_1n91g1h",
         "jediporcupine",
         "They won’t actually do anything. Everyone with at least a half a brain cell saw this coming and they still went with it.\n\nThey’ll continue to do what Dear Leader tells them to do.",
         "1",
         "2025-09-05T10:32:48"
        ],
        [
         "22",
         "ncj5qvp",
         "1n91g1h",
         "t3_1n91g1h",
         "User4C4C4C",
         "Impeach",
         "1",
         "2025-09-05T10:24:25"
        ],
        [
         "23",
         "ncj5mpz",
         "1n91g1h",
         "t3_1n91g1h",
         "tropical_dreams_",
         "Elect a clown expect a circus",
         "1",
         "2025-09-05T10:23:25"
        ],
        [
         "24",
         "ncj7oz4",
         "1n91g1h",
         "t3_1n91g1h",
         "sedatedlife",
         "What did they,expect,putting someone who has made it there life mission to undermine vaccines in carge of the CDC.",
         "1",
         "2025-09-05T10:40:57"
        ],
        [
         "25",
         "ncj7pw3",
         "1n91g1h",
         "t3_1n91g1h",
         "Responsible-Room-645",
         "Because if we’ve learned anything in the last decade, Republican Senators ALWAYS follow through on their threats/promises",
         "1",
         "2025-09-05T10:41:09"
        ],
        [
         "26",
         "ncjbv7e",
         "1n91g1h",
         "t3_1n91g1h",
         "MuthaFukinRick",
         "During the 2024 presidential race:  \nHarris campaign: \"This RFK Jr. dude is crazy! We're not exchanging his endorsement for a position in the administration.\"  \nTrump campaign: \"Hell, yeah, we’ll take that deal! Giving him a position might get thousands killed, but it’s worth the anti-vax vote!\"",
         "1",
         "2025-09-05T11:13:04"
        ],
        [
         "27",
         "ncjlede",
         "1n91g1h",
         "t3_1n91g1h",
         "H0stusM0stus",
         "Just a quick reminder that only 1 Republican voted to not confirm RFK Jr; Mitch McConnel of all people. 52 Republicans were perfectly OK with this kook's rhetoric on vaccine denial and dangerous stance toward public health. Now they're concerned? Give me a break.",
         "1",
         "2025-09-05T12:18:13"
        ],
        [
         "28",
         "ncj5gfq",
         "1n91g1h",
         "t3_1n91g1h",
         "FlirtOrbit",
         "the whole thing seems sus. Like seriously, GOP signaling to Trump? That's a freakin' rabbit hole right there.",
         "1",
         "2025-09-05T10:21:54"
        ],
        [
         "29",
         "ncjaatz",
         "1n91g1h",
         "t3_1n91g1h",
         "brickout",
         "I don't believe it. They voted overwhelmingly to confirm him.",
         "1",
         "2025-09-05T11:01:23"
        ],
        [
         "30",
         "ncjidl3",
         "1n939o0",
         "t3_1n939o0",
         "AutoModerator",
         "\nAs a reminder, this subreddit [is for civil discussion.](/r/politics/wiki/index#wiki_be_civil)\n\nIn general, be courteous to others. Debate/discuss/argue the merits of ideas, don't attack people. Personal insults, shill or troll accusations, hate speech, any suggestion or support of harm, violence, or death, and other rule violations can result in a permanent ban. \n\nIf you see comments in violation of our rules, please report them.\n\n For those who have questions regarding any media outlets being posted on this subreddit, please click [here](https://www.reddit.com/r/politics/wiki/approveddomainslist) to review our details as to our approved domains list and outlet criteria.\n \n We are actively looking for new moderators.  If you have any interest in helping to make this subreddit a place for quality discussion, please fill out [this form](https://docs.google.com/forms/d/1y2swHD0KXFhStGFjW6k54r9iuMjzcFqDIVwuvdLBjSA).\n \n\n***\n\n\n*I am a bot, and this action was performed automatically. Please [contact the moderators of this subreddit](/message/compose/?to=/r/politics) if you have any questions or concerns.*",
         "1",
         "2025-09-05T11:58:25"
        ],
        [
         "31",
         "ncjiivd",
         "1n939o0",
         "t3_1n939o0",
         "Zealousideal_Emu981",
         "When the facts don’t fit the narrative, just move the goalposts, classic Trump playbook.",
         "1",
         "2025-09-05T11:59:25"
        ],
        [
         "32",
         "ncjjvx0",
         "1n939o0",
         "t3_1n939o0",
         "BTRCguy",
         "Meanwhile, *still* waiting on:\n\n• release of Epstein files\n\n• lower gas prices\n\n• lower grocery prices\n\n• lower drug prices\n\n• lower electricity prices\n\n• peace in Ukraine\n\n• release of Epstein files\n\nMaybe these will be \"next year\" as well.",
         "1",
         "2025-09-05T12:08:28"
        ],
        [
         "33",
         "ncjjteg",
         "1n939o0",
         "t3_1n939o0",
         "Frankie6Strings",
         "That's twenty six \"two weeks\". Must be pretty bad.",
         "1",
         "2025-09-05T12:08:01"
        ],
        [
         "34",
         "ncjk2a5",
         "1n939o0",
         "t3_1n939o0",
         "Choice_Cup_3624",
         ">Trump said that when “huge, beautiful places, the palaces of genius… start opening up… I think you’ll see job numbers that are going to be absolutely incredible.”\n\nNo one knows what he’s talking about anymore.",
         "1",
         "2025-09-05T12:09:38"
        ],
        [
         "35",
         "ncjiozq",
         "1n939o0",
         "t3_1n939o0",
         "meatballwarlock",
         "so he has them and they fucking suck... because if they were even remotely average he would be sucking himself off",
         "1",
         "2025-09-05T12:00:32"
        ],
        [
         "36",
         "ncjklt9",
         "1n939o0",
         "t3_1n939o0",
         "jailfortrump",
         "He'll find a way to blame Biden a year from now too. This cuck is insane. So are his cult (employed or not).",
         "1",
         "2025-09-05T12:13:08"
        ],
        [
         "37",
         "ncjo4r6",
         "1n939o0",
         "t3_1n939o0",
         "Aern",
         "Bro, he fired the person in charge of this report in order to put a stooge in place to cook the books and he is STILL frontrunning the story? We are fucking cooked.",
         "1",
         "2025-09-05T12:34:49"
        ],
        [
         "38",
         "ncjn0bs",
         "1n939o0",
         "t3_1n939o0",
         "TheBoosThree",
         "I'm sure those who were laid off and can't find a job will be happy to hear that their unemployment won't be real until a year from now.",
         "1",
         "2025-09-05T12:28:07"
        ],
        [
         "39",
         "ncjm9gk",
         "1n939o0",
         "t3_1n939o0",
         "AdventurousLet548",
         "No, all those fired feds on administrative leave until 9/30 will start hitting the numbers when they start filing for unemployment.  Let's see, we want to save taxpayers money by firing federal employees but we send them on unemployment to collect taxpayer money.  Smart move (sarcasm).",
         "1",
         "2025-09-05T12:23:34"
        ],
        [
         "40",
         "ncjqfp5",
         "1n94cyw",
         "t3_1n94cyw",
         "AutoModerator",
         "\nAs a reminder, this subreddit [is for civil discussion.](/r/politics/wiki/index#wiki_be_civil)\n\nIn general, be courteous to others. Debate/discuss/argue the merits of ideas, don't attack people. Personal insults, shill or troll accusations, hate speech, any suggestion or support of harm, violence, or death, and other rule violations can result in a permanent ban. \n\nIf you see comments in violation of our rules, please report them.\n\n For those who have questions regarding any media outlets being posted on this subreddit, please click [here](https://www.reddit.com/r/politics/wiki/approveddomainslist) to review our details as to our approved domains list and outlet criteria.\n \n We are actively looking for new moderators.  If you have any interest in helping to make this subreddit a place for quality discussion, please fill out [this form](https://docs.google.com/forms/d/1y2swHD0KXFhStGFjW6k54r9iuMjzcFqDIVwuvdLBjSA).\n \n\n***\n\n\n*I am a bot, and this action was performed automatically. Please [contact the moderators of this subreddit](/message/compose/?to=/r/politics) if you have any questions or concerns.*",
         "1",
         "2025-09-05T12:48:20"
        ],
        [
         "41",
         "ncjxlq4",
         "1n94cyw",
         "t3_1n94cyw",
         "AdAffectionate3143",
         "Anyone involved in the coverup of these files needs to be charged as an accessory.  The people need to demand justice",
         "1",
         "2025-09-05T13:28:34"
        ],
        [
         "42",
         "ncjw1v1",
         "1n94cyw",
         "t3_1n94cyw",
         "Quipore",
         "\"nudge\" lol. The petition has to get to 218 signatures. How many of those do you suppose will be Dem? Over 200 of them. That's not a \"nudge\", that's doing the heavy lifting.",
         "1",
         "2025-09-05T13:20:05"
        ],
        [
         "43",
         "ncjyzmr",
         "1n94cyw",
         "t3_1n94cyw",
         "TheBeesBeesKnees",
         "Just to make it clear for those who didn’t read the article, every single Democrat in the House (212/212) has signed on. 4/219 Republicans have signed on. There will be special elections in deep blue districts to fill vacancies that will give this petition more votes later this month.\n\nEvery single Democrat has signed the discharge petition. Almost none of the Republicans have.",
         "1",
         "2025-09-05T13:36:07"
        ],
        [
         "44",
         "nck18s0",
         "1n94cyw",
         "t3_1n94cyw",
         "glasshalfbeer",
         "“Nudge” fuck the authors of this article.  The Dems made it happen with a nudge from a few lone Republicans led by Thomas Massie",
         "1",
         "2025-09-05T13:48:23"
        ],
        [
         "45",
         "ncjr3qy",
         "1n94cyw",
         "t3_1n94cyw",
         "Callabrantus",
         "I did not need to read the phrase \"Epstein Discharge\" this morning.",
         "1",
         "2025-09-05T12:52:08"
        ],
        [
         "46",
         "nck2p7j",
         "1n94cyw",
         "t3_1n94cyw",
         "Searchlights",
         "Democrats are lining up to be about 91% of the vote to pass it, but sanewashing requires that we refer to that a nudge as if the Republican party is leading the effort.",
         "1",
         "2025-09-05T13:56:01"
        ],
        [
         "47",
         "ncjugyc",
         "1n94cyw",
         "t3_1n94cyw",
         "RobertoPaulson",
         "Won’t the administration just keep anything they don’t want to get out? How would anyone even know if they held back stuff?",
         "1",
         "2025-09-05T13:11:18"
        ],
        [
         "48",
         "ncjrlb7",
         "1n94cyw",
         "t3_1n94cyw",
         "Boltzmann_head",
         "The perpetrators names will be redacted to \"protect them from harassment.\"",
         "1",
         "2025-09-05T12:54:56"
        ],
        [
         "49",
         "nck1zwt",
         "1n94cyw",
         "t3_1n94cyw",
         "msstatelp",
         "Mace won’t sign the petition. She’s doing her alligator tears again.",
         "1",
         "2025-09-05T13:52:22"
        ]
       ],
       "shape": {
        "columns": 7,
        "rows": 70
       }
      },
      "text/html": [
       "<div>\n",
       "<style scoped>\n",
       "    .dataframe tbody tr th:only-of-type {\n",
       "        vertical-align: middle;\n",
       "    }\n",
       "\n",
       "    .dataframe tbody tr th {\n",
       "        vertical-align: top;\n",
       "    }\n",
       "\n",
       "    .dataframe thead th {\n",
       "        text-align: right;\n",
       "    }\n",
       "</style>\n",
       "<table border=\"1\" class=\"dataframe\">\n",
       "  <thead>\n",
       "    <tr style=\"text-align: right;\">\n",
       "      <th></th>\n",
       "      <th>comment_id</th>\n",
       "      <th>post_id</th>\n",
       "      <th>parent_id</th>\n",
       "      <th>author</th>\n",
       "      <th>body</th>\n",
       "      <th>score</th>\n",
       "      <th>created_utc</th>\n",
       "    </tr>\n",
       "  </thead>\n",
       "  <tbody>\n",
       "    <tr>\n",
       "      <th>0</th>\n",
       "      <td>ncjh1ds</td>\n",
       "      <td>1n933aw</td>\n",
       "      <td>t3_1n933aw</td>\n",
       "      <td>AutoModerator</td>\n",
       "      <td>\\nAs a reminder, this subreddit [is for civil ...</td>\n",
       "      <td>1</td>\n",
       "      <td>2025-09-05T11:49:26</td>\n",
       "    </tr>\n",
       "    <tr>\n",
       "      <th>1</th>\n",
       "      <td>ncjhx4q</td>\n",
       "      <td>1n933aw</td>\n",
       "      <td>t3_1n933aw</td>\n",
       "      <td>HibbletonFan</td>\n",
       "      <td>Note the word “suspected”, he’s not even talki...</td>\n",
       "      <td>1</td>\n",
       "      <td>2025-09-05T11:55:20</td>\n",
       "    </tr>\n",
       "    <tr>\n",
       "      <th>2</th>\n",
       "      <td>ncjk1nr</td>\n",
       "      <td>1n933aw</td>\n",
       "      <td>t3_1n933aw</td>\n",
       "      <td>Goal_Posts</td>\n",
       "      <td>I suspect Pete Hegseth of being a drug dealer!</td>\n",
       "      <td>1</td>\n",
       "      <td>2025-09-05T12:09:31</td>\n",
       "    </tr>\n",
       "    <tr>\n",
       "      <th>3</th>\n",
       "      <td>ncjk9e0</td>\n",
       "      <td>1n933aw</td>\n",
       "      <td>t3_1n933aw</td>\n",
       "      <td>eerhmahgerd</td>\n",
       "      <td>Dear Lord, please give us someone with the bal...</td>\n",
       "      <td>1</td>\n",
       "      <td>2025-09-05T12:10:53</td>\n",
       "    </tr>\n",
       "    <tr>\n",
       "      <th>4</th>\n",
       "      <td>ncjhqze</td>\n",
       "      <td>1n933aw</td>\n",
       "      <td>t3_1n933aw</td>\n",
       "      <td>BuzzKillington45</td>\n",
       "      <td>Who does he think he is? Judge Dredd?</td>\n",
       "      <td>1</td>\n",
       "      <td>2025-09-05T11:54:12</td>\n",
       "    </tr>\n",
       "    <tr>\n",
       "      <th>...</th>\n",
       "      <td>...</td>\n",
       "      <td>...</td>\n",
       "      <td>...</td>\n",
       "      <td>...</td>\n",
       "      <td>...</td>\n",
       "      <td>...</td>\n",
       "      <td>...</td>\n",
       "    </tr>\n",
       "    <tr>\n",
       "      <th>65</th>\n",
       "      <td>ncjed7h</td>\n",
       "      <td>1n9219d</td>\n",
       "      <td>t3_1n9219d</td>\n",
       "      <td>Frogacuda</td>\n",
       "      <td>The problem is that Trump can't help but under...</td>\n",
       "      <td>1</td>\n",
       "      <td>2025-09-05T11:30:59</td>\n",
       "    </tr>\n",
       "    <tr>\n",
       "      <th>66</th>\n",
       "      <td>ncjitms</td>\n",
       "      <td>1n9219d</td>\n",
       "      <td>t3_1n9219d</td>\n",
       "      <td>Then_Variation6599</td>\n",
       "      <td>Lutnick and his family are set to make billion...</td>\n",
       "      <td>1</td>\n",
       "      <td>2025-09-05T12:01:23</td>\n",
       "    </tr>\n",
       "    <tr>\n",
       "      <th>67</th>\n",
       "      <td>nck1uxc</td>\n",
       "      <td>1n9219d</td>\n",
       "      <td>t3_1n9219d</td>\n",
       "      <td>Christian_Kong</td>\n",
       "      <td>There are companies that are buying the tariff...</td>\n",
       "      <td>1</td>\n",
       "      <td>2025-09-05T13:51:39</td>\n",
       "    </tr>\n",
       "    <tr>\n",
       "      <th>68</th>\n",
       "      <td>ncjbui3</td>\n",
       "      <td>1n9219d</td>\n",
       "      <td>t3_1n9219d</td>\n",
       "      <td>Dafuq_me</td>\n",
       "      <td>Nothing will be done about this and many other...</td>\n",
       "      <td>1</td>\n",
       "      <td>2025-09-05T11:12:56</td>\n",
       "    </tr>\n",
       "    <tr>\n",
       "      <th>69</th>\n",
       "      <td>ncjfb8b</td>\n",
       "      <td>1n9219d</td>\n",
       "      <td>t3_1n9219d</td>\n",
       "      <td>nightwing12</td>\n",
       "      <td>He does have the best lawyers</td>\n",
       "      <td>1</td>\n",
       "      <td>2025-09-05T11:37:39</td>\n",
       "    </tr>\n",
       "  </tbody>\n",
       "</table>\n",
       "<p>70 rows × 7 columns</p>\n",
       "</div>"
      ],
      "text/plain": [
       "   comment_id  post_id   parent_id              author  \\\n",
       "0     ncjh1ds  1n933aw  t3_1n933aw       AutoModerator   \n",
       "1     ncjhx4q  1n933aw  t3_1n933aw        HibbletonFan   \n",
       "2     ncjk1nr  1n933aw  t3_1n933aw          Goal_Posts   \n",
       "3     ncjk9e0  1n933aw  t3_1n933aw         eerhmahgerd   \n",
       "4     ncjhqze  1n933aw  t3_1n933aw    BuzzKillington45   \n",
       "..        ...      ...         ...                 ...   \n",
       "65    ncjed7h  1n9219d  t3_1n9219d           Frogacuda   \n",
       "66    ncjitms  1n9219d  t3_1n9219d  Then_Variation6599   \n",
       "67    nck1uxc  1n9219d  t3_1n9219d      Christian_Kong   \n",
       "68    ncjbui3  1n9219d  t3_1n9219d            Dafuq_me   \n",
       "69    ncjfb8b  1n9219d  t3_1n9219d         nightwing12   \n",
       "\n",
       "                                                 body  score  \\\n",
       "0   \\nAs a reminder, this subreddit [is for civil ...      1   \n",
       "1   Note the word “suspected”, he’s not even talki...      1   \n",
       "2      I suspect Pete Hegseth of being a drug dealer!      1   \n",
       "3   Dear Lord, please give us someone with the bal...      1   \n",
       "4               Who does he think he is? Judge Dredd?      1   \n",
       "..                                                ...    ...   \n",
       "65  The problem is that Trump can't help but under...      1   \n",
       "66  Lutnick and his family are set to make billion...      1   \n",
       "67  There are companies that are buying the tariff...      1   \n",
       "68  Nothing will be done about this and many other...      1   \n",
       "69                      He does have the best lawyers      1   \n",
       "\n",
       "            created_utc  \n",
       "0   2025-09-05T11:49:26  \n",
       "1   2025-09-05T11:55:20  \n",
       "2   2025-09-05T12:09:31  \n",
       "3   2025-09-05T12:10:53  \n",
       "4   2025-09-05T11:54:12  \n",
       "..                  ...  \n",
       "65  2025-09-05T11:30:59  \n",
       "66  2025-09-05T12:01:23  \n",
       "67  2025-09-05T13:51:39  \n",
       "68  2025-09-05T11:12:56  \n",
       "69  2025-09-05T11:37:39  \n",
       "\n",
       "[70 rows x 7 columns]"
      ]
     },
     "execution_count": 8,
     "metadata": {},
     "output_type": "execute_result"
    }
   ],
   "source": [
    "comments"
   ]
  }
 ],
 "metadata": {
  "kernelspec": {
   "display_name": "reddit",
   "language": "python",
   "name": "python3"
  },
  "language_info": {
   "codemirror_mode": {
    "name": "ipython",
    "version": 3
   },
   "file_extension": ".py",
   "mimetype": "text/x-python",
   "name": "python",
   "nbconvert_exporter": "python",
   "pygments_lexer": "ipython3",
   "version": "3.11.13"
  }
 },
 "nbformat": 4,
 "nbformat_minor": 5
}
