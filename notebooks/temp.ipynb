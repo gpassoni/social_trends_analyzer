{
 "cells": [
  {
   "cell_type": "code",
   "execution_count": 7,
   "id": "36b54901",
   "metadata": {},
   "outputs": [
    {
     "name": "stdout",
     "output_type": "stream",
     "text": [
      "Client ID: JmvlaVzFjpQunWvTpqulEg, Client Secret: 2Hd7Q7TT7T8fX_Y7twlJny7JEhHPFA, User Agent: python:ml_ops_sentiment_project:v1.0 (by u/gpassoni)\n"
     ]
    }
   ],
   "source": [
    "import praw\n",
    "from dotenv import load_dotenv\n",
    "import os\n",
    "from datetime import datetime\n",
    "\n",
    "load_dotenv()\n",
    "\n",
    "client_id = os.getenv(\"REDDIT_CLIENT_ID\")\n",
    "client_secret = os.getenv(\"REDDIT_CLIENT_SECRET\")\n",
    "user_agent = os.getenv(\"REDDIT_USER_AGENT\")\n",
    "print(f\"Client ID: {client_id}, Client Secret: {client_secret}, User Agent: {user_agent}\")\n",
    "\n",
    "# TODO aggiungi una parola o insieme di parole opzionali per filtrare i post in un subreddit\n",
    "# TODO ricordati di aggiungere DCV o come si chiama versioning dei dati già da subito\n",
    "# TODO "
   ]
  },
  {
   "cell_type": "code",
   "execution_count": 8,
   "id": "6314d826",
   "metadata": {},
   "outputs": [
    {
     "name": "stdout",
     "output_type": "stream",
     "text": [
      "True\n"
     ]
    }
   ],
   "source": [
    "reddit = praw.Reddit(\n",
    "    client_id=client_id,\n",
    "    client_secret=client_secret,\n",
    "    user_agent=user_agent,\n",
    ")\n",
    "print(reddit.read_only)"
   ]
  },
  {
   "cell_type": "code",
   "execution_count": 9,
   "id": "258cd54a",
   "metadata": {},
   "outputs": [
    {
     "name": "stdout",
     "output_type": "stream",
     "text": [
      "Discussion Thread: HHS Secretary Kennedy Testifies on Health Care Agenda\n",
      "128\n"
     ]
    }
   ],
   "source": [
    "subreddit = reddit.subreddit(\"politics\")\n",
    "submission = next(subreddit.hot(limit=1))\n",
    "\n",
    "print(submission.title)\n",
    "print(submission.score)"
   ]
  },
  {
   "cell_type": "code",
   "execution_count": 10,
   "id": "bb9e4572",
   "metadata": {},
   "outputs": [
    {
     "name": "stdout",
     "output_type": "stream",
     "text": [
      "Post ID: 1n89le0\n",
      "Titolo: Discussion Thread: HHS Secretary Kennedy Testifies on Health Care Agenda\n",
      "Autore: PoliticsModeratorBot\n",
      "Score: 128\n",
      "Numero commenti: 885\n",
      "Creato il: 2025-09-04 13:05:03\n",
      "Selftext: The streams in this post are scheduled to start at 10:00 a.m. Eastern, and the C-SPAN stream's descr ...\n",
      "--------------------------------------------------\n",
      "Post ID: 1n8cn5e\n",
      "Titolo: I'm Reeves Wiedeman, features writer at New York magazine, and I just wrote the magazine's latest cover story about how the extended Kennedy family is dealing with RFK Jr. Ask me anything!\n",
      "Autore: newyorkmagazine\n",
      "Score: 62\n",
      "Numero commenti: 25\n",
      "Creato il: 2025-09-04 15:03:13\n",
      "Selftext: After Robert F. Kennedy Jr. was confirmed as Secretary of Health and Human Services in February, we  ...\n",
      "--------------------------------------------------\n",
      "Post ID: 1n8mnak\n",
      "Titolo: DOJ deputy chief: government will \"redact every Republican\" from Epstein client list\n",
      "Autore: Educational_Net4000\n",
      "Score: 14357\n",
      "Numero commenti: 791\n",
      "Creato il: 2025-09-04 21:23:22\n",
      "Selftext:  ...\n",
      "--------------------------------------------------\n",
      "Post ID: 1n8eh0j\n",
      "Titolo: RFK Jr. Claims mRNA Vaccines Kill People in Heated Senate Hearing\n",
      "Autore: rollingstone\n",
      "Score: 15041\n",
      "Numero commenti: 1978\n",
      "Creato il: 2025-09-04 16:11:23\n",
      "Selftext:  ...\n",
      "--------------------------------------------------\n",
      "Post ID: 1n8px75\n",
      "Titolo: In Undercover Video, Staffer Claims DOJ Will Hide Republican Names In Epstein Files\n",
      "Autore: plz-let-me-in\n",
      "Score: 2563\n",
      "Numero commenti: 160\n",
      "Creato il: 2025-09-04 23:41:54\n",
      "Selftext:  ...\n",
      "--------------------------------------------------\n"
     ]
    }
   ],
   "source": [
    "hot_posts = subreddit.hot(limit=5)\n",
    "\n",
    "for post in hot_posts:\n",
    "    print(\"Post ID:\", post.id)\n",
    "    print(\"Titolo:\", post.title)\n",
    "    print(\"Autore:\", post.author)\n",
    "    print(\"Score:\", post.score)\n",
    "    print(\"Numero commenti:\", post.num_comments)\n",
    "    print(\"Creato il:\", datetime.utcfromtimestamp(post.created_utc))\n",
    "    print(\"Selftext:\", post.selftext[:100], \"...\")  # primi 100 caratteri\n",
    "    print(\"-\" * 50)"
   ]
  },
  {
   "cell_type": "code",
   "execution_count": 11,
   "id": "b57a60fc",
   "metadata": {},
   "outputs": [
    {
     "name": "stdout",
     "output_type": "stream",
     "text": [
      "350 652\n"
     ]
    }
   ],
   "source": [
    "top_level = list(submission.comments)\n",
    "all_comments = submission.comments.list()\n",
    "\n",
    "print(len(top_level), len(all_comments))"
   ]
  },
  {
   "cell_type": "code",
   "execution_count": 12,
   "id": "8bfb74a9",
   "metadata": {},
   "outputs": [
    {
     "name": "stdout",
     "output_type": "stream",
     "text": [
      "Waggmans\n",
      "82\n",
      "Holy shit, they won't make him swear in.\n",
      "\n",
      "Whole thing is a sham.\n"
     ]
    }
   ],
   "source": [
    "best_comment = top_level[1]\n",
    "print(best_comment.author)\n",
    "print(best_comment.score)\n",
    "print(best_comment.body)"
   ]
  }
 ],
 "metadata": {
  "kernelspec": {
   "display_name": "reddit",
   "language": "python",
   "name": "python3"
  },
  "language_info": {
   "codemirror_mode": {
    "name": "ipython",
    "version": 3
   },
   "file_extension": ".py",
   "mimetype": "text/x-python",
   "name": "python",
   "nbconvert_exporter": "python",
   "pygments_lexer": "ipython3",
   "version": "3.11.13"
  }
 },
 "nbformat": 4,
 "nbformat_minor": 5
}
