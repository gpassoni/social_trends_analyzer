{
 "cells": [
  {
   "cell_type": "code",
   "execution_count": 8,
   "id": "36b54901",
   "metadata": {},
   "outputs": [
    {
     "name": "stdout",
     "output_type": "stream",
     "text": [
      "Client ID: JmvlaVzFjpQunWvTpqulEg, Client Secret: 2Hd7Q7TT7T8fX_Y7twlJny7JEhHPFA, User Agent: python:ml_ops_sentiment_project:v1.0 (by u/gpassoni)\n"
     ]
    }
   ],
   "source": [
    "import praw\n",
    "from dotenv import load_dotenv\n",
    "import os\n",
    "from datetime import datetime\n",
    "from pathlib import Path\n",
    "\n",
    "load_dotenv()\n",
    "\n",
    "client_id = os.getenv(\"REDDIT_CLIENT_ID\")\n",
    "client_secret = os.getenv(\"REDDIT_CLIENT_SECRET\")\n",
    "user_agent = os.getenv(\"REDDIT_USER_AGENT\")\n",
    "print(f\"Client ID: {client_id}, Client Secret: {client_secret}, User Agent: {user_agent}\")\n"
   ]
  },
  {
   "cell_type": "code",
   "execution_count": 9,
   "id": "a0e9ea68",
   "metadata": {},
   "outputs": [
    {
     "name": "stdout",
     "output_type": "stream",
     "text": [
      "['processed', 'raw']\n"
     ]
    }
   ],
   "source": [
    "\n",
    "def list_subreddits(data_path: str) -> list:\n",
    "    path = Path(data_path)\n",
    "    if not path.exists() or not path.is_dir():\n",
    "        raise ValueError(f\"Path {data_path} does not exist or is not a directory\")\n",
    "    subdirs = [d.name for d in path.iterdir() if d.is_dir()]\n",
    "    return subdirs\n",
    "\n",
    "data_path = \"C:\\\\Users\\\\Gabri\\\\Documents\\\\reddit_project\\\\data\"\n",
    "print(list_subreddits(data_path))"
   ]
  },
  {
   "cell_type": "code",
   "execution_count": 10,
   "id": "6314d826",
   "metadata": {},
   "outputs": [
    {
     "name": "stdout",
     "output_type": "stream",
     "text": [
      "True\n"
     ]
    }
   ],
   "source": [
    "reddit = praw.Reddit(\n",
    "    client_id=client_id,\n",
    "    client_secret=client_secret,\n",
    "    user_agent=user_agent,\n",
    ")\n",
    "print(reddit.read_only)"
   ]
  },
  {
   "cell_type": "code",
   "execution_count": 11,
   "id": "258cd54a",
   "metadata": {},
   "outputs": [
    {
     "name": "stdout",
     "output_type": "stream",
     "text": [
      "Discussion Thread: Missouri House Considers Redistricting Legislation\n",
      "25\n"
     ]
    }
   ],
   "source": [
    "subreddit = reddit.subreddit(\"politics\")\n",
    "submission = next(subreddit.hot(limit=1))\n",
    "\n",
    "print(submission.title)\n",
    "print(submission.score)"
   ]
  },
  {
   "cell_type": "code",
   "execution_count": 12,
   "id": "bb9e4572",
   "metadata": {},
   "outputs": [
    {
     "name": "stdout",
     "output_type": "stream",
     "text": [
      "Post ID: 1n13taq\n",
      "Subreddit: politics\n",
      "Title: Democrats flip Iowa state Senate seat, breaking GOP supermajority\n",
      "Author: allenthalben2\n",
      "Score: 63046\n",
      "Number of Comments: 1211\n",
      "Created on: 2025-08-27 01:21:02\n",
      "Selftext:  ...\n",
      "--------------------------------------------------\n",
      "Post ID: 1nbwc03\n",
      "Subreddit: politics\n",
      "Title: Epstein Birthday Letter With Trump’s Signature Revealed\n",
      "Author: IWantPizza555\n",
      "Score: 58432\n",
      "Number of Comments: 2684\n",
      "Created on: 2025-09-08 18:51:54\n",
      "Selftext:  ...\n",
      "--------------------------------------------------\n",
      "Post ID: 1mpz22b\n",
      "Subreddit: politics\n",
      "Title: Trump Reportedly Offering Putin Natural Resources Off Alaska Sparks Fury\n",
      "Author: Fast-Damage2298\n",
      "Score: 46445\n",
      "Number of Comments: 2626\n",
      "Created on: 2025-08-14 12:19:42\n",
      "Selftext:  ...\n",
      "--------------------------------------------------\n",
      "Post ID: 1mwtpnn\n",
      "Subreddit: politics\n",
      "Title: Judge orders Alligator Alcatraz shut down in 60 days, says no more new detainees\n",
      "Author: juansaaa\n",
      "Score: 45348\n",
      "Number of Comments: 1058\n",
      "Created on: 2025-08-22 01:46:12\n",
      "Selftext:  ...\n",
      "--------------------------------------------------\n",
      "Post ID: 1n99ni5\n",
      "Subreddit: politics\n",
      "Title: Major Trump Donor Found in Epstein's 'Black Book'—Thomas Massie\n",
      "Author: Rpdaca\n",
      "Score: 44871\n",
      "Number of Comments: 1195\n",
      "Created on: 2025-09-05 16:19:05\n",
      "Selftext:  ...\n",
      "--------------------------------------------------\n",
      "Post ID: 1mxf9nk\n",
      "Subreddit: politics\n",
      "Title: Donald Trump says people are in Epstein files who ‘don’t deserve to be’: ‘It’s a Democratic hoax’\n",
      "Author: OkayButFoRealz\n",
      "Score: 44244\n",
      "Number of Comments: 2425\n",
      "Created on: 2025-08-22 19:02:07\n",
      "Selftext:  ...\n",
      "--------------------------------------------------\n",
      "Post ID: 1muqof2\n",
      "Subreddit: politics\n",
      "Title: Trump, 79, Forgets the Name of the Pacific Ocean\n",
      "Author: thedailybeast\n",
      "Score: 43735\n",
      "Number of Comments: 2328\n",
      "Created on: 2025-08-19 18:27:16\n",
      "Selftext:  ...\n",
      "--------------------------------------------------\n",
      "Post ID: 1mmyjs7\n",
      "Subreddit: politics\n",
      "Title: JD Vance’s attempt to link Democrats to Epstein renews calls to ‘release the files’\n",
      "Author: Disastrous_Award_789\n",
      "Score: 41505\n",
      "Number of Comments: 1188\n",
      "Created on: 2025-08-11 00:19:03\n",
      "Selftext:  ...\n",
      "--------------------------------------------------\n",
      "Post ID: 1n7osgn\n",
      "Subreddit: politics\n",
      "Title: Call Me Crazy, but I for One Still Want to Know if the President Committed Depraved Sex Crimes\n",
      "Author: OkayButFoRealz\n",
      "Score: 41471\n",
      "Number of Comments: 895\n",
      "Created on: 2025-09-03 19:42:31\n",
      "Selftext:  ...\n",
      "--------------------------------------------------\n",
      "Post ID: 1morymo\n",
      "Subreddit: politics\n",
      "Title: Newsom says California will draw new electoral maps after Trump ‘missed’ deadline\n",
      "Author: upthetruth1\n",
      "Score: 41174\n",
      "Number of Comments: 2065\n",
      "Created on: 2025-08-13 02:03:19\n",
      "Selftext:  ...\n",
      "--------------------------------------------------\n"
     ]
    }
   ],
   "source": [
    "hot_posts = subreddit.top(limit=10, time_filter=\"month\")\n",
    "\n",
    "for post in hot_posts:\n",
    "    print(\"Post ID:\", post.id)\n",
    "    print(\"Subreddit:\", post.subreddit)\n",
    "    print(\"Title:\", post.title)\n",
    "    print(\"Author:\", post.author)\n",
    "    print(\"Score:\", post.score)\n",
    "    print(\"Number of Comments:\", post.num_comments)\n",
    "    print(\"Created on:\", datetime.utcfromtimestamp(post.created_utc))\n",
    "    print(\"Selftext:\", post.selftext[:100], \"...\")  # first 100 characters\n",
    "    print(\"-\" * 50)"
   ]
  },
  {
   "cell_type": "code",
   "execution_count": 13,
   "id": "b57a60fc",
   "metadata": {},
   "outputs": [
    {
     "name": "stdout",
     "output_type": "stream",
     "text": [
      "11 18\n"
     ]
    }
   ],
   "source": [
    "submission.comments.replace_more(limit=0)\n",
    "top_level = list(submission.comments)\n",
    "all_comments = submission.comments.list()\n",
    "\n",
    "print(len(top_level), len(all_comments))"
   ]
  },
  {
   "cell_type": "code",
   "execution_count": 14,
   "id": "a8526e53",
   "metadata": {},
   "outputs": [
    {
     "name": "stdout",
     "output_type": "stream",
     "text": [
      "Comment ID: nd9fuxa\n",
      "Post ID: 1ncj182\n",
      "Author: PoliticsModeratorBot\n",
      "Score: 1\n",
      "Created on: 2025-09-09 13:32:39\n",
      "Body: To sort this thread by 'best comments first', [click or tap here](https://www.reddit.com/r/politics/ ...\n",
      "--------------------------------------------------\n",
      "Comment ID: nd9mj48\n",
      "Post ID: 1ncj182\n",
      "Author: ImLikeReallySmart\n",
      "Score: 1\n",
      "Created on: 2025-09-09 14:07:33\n",
      "Body: All this for potentially one seat. This is desperation. Keep up the pressure, blue states. ...\n",
      "--------------------------------------------------\n",
      "Comment ID: nd9ke5e\n",
      "Post ID: 1ncj182\n",
      "Author: BreezyRyder\n",
      "Score: 1\n",
      "Created on: 2025-09-09 13:56:37\n",
      "Body: My state is a complete embarrassment. They're not considering anything, they're going to do it.  Jus ...\n",
      "--------------------------------------------------\n",
      "Comment ID: nd9hf21\n",
      "Post ID: 1ncj182\n",
      "Author: CocoaKpopsTTV\n",
      "Score: 1\n",
      "Created on: 2025-09-09 13:41:07\n",
      "Body: Gotta remember:  trump at one time in the recent past told his supporters not to worry. By the next  ...\n",
      "--------------------------------------------------\n",
      "Comment ID: nd9oti4\n",
      "Post ID: 1ncj182\n",
      "Author: Toadfinger\n",
      "Score: 1\n",
      "Created on: 2025-09-09 14:19:01\n",
      "Body: If it's not gerrymandering it's sending military troops into blue cities. Even the GOP themselves kn ...\n",
      "--------------------------------------------------\n",
      "Comment ID: nd9gu6g\n",
      "Post ID: 1ncj182\n",
      "Author: InvasionXX\n",
      "Score: 1\n",
      "Created on: 2025-09-09 13:37:59\n",
      "Body: I'll be deep in the cold, cold ground before I recognize Missourah ...\n",
      "--------------------------------------------------\n",
      "Comment ID: nd9tpw6\n",
      "Post ID: 1ncj182\n",
      "Author: jaymef\n",
      "Score: 1\n",
      "Created on: 2025-09-09 14:43:07\n",
      "Body: the whole system needs to be gutted and overhauled. It's a shame ...\n",
      "--------------------------------------------------\n",
      "Comment ID: nd9pahv\n",
      "Post ID: 1ncj182\n",
      "Author: KingGoldark\n",
      "Score: 1\n",
      "Created on: 2025-09-09 14:21:21\n",
      "Body: Sauce for the Gander Act of 2025. ...\n",
      "--------------------------------------------------\n",
      "Comment ID: nd9z4l4\n",
      "Post ID: 1ncj182\n",
      "Author: SendMeYourQuestions\n",
      "Score: 1\n",
      "Created on: 2025-09-09 15:08:50\n",
      "Body: Good. The best way to get rid of this terrible system is for someone to overstep, it to land in fron ...\n",
      "--------------------------------------------------\n",
      "Comment ID: nda5rpg\n",
      "Post ID: 1ncj182\n",
      "Author: mindfu\n",
      "Score: 1\n",
      "Created on: 2025-09-09 15:40:44\n",
      "Body: Ny State and Illinois up to bat then.\n",
      "\n",
      "If this is what we have to do, so be it ...\n",
      "--------------------------------------------------\n",
      "Comment ID: nd9izs1\n",
      "Post ID: 1ncj182\n",
      "Author: ScissrMeTimbrs\n",
      "Score: 1\n",
      "Created on: 2025-09-09 13:49:27\n",
      "Body: So stupid to fire a shot here. The best they could come up with is a map that likely gives 1 more Re ...\n",
      "--------------------------------------------------\n",
      "Comment ID: nd9qbok\n",
      "Post ID: 1ncj182\n",
      "Author: aircooledJenkins\n",
      "Score: 1\n",
      "Created on: 2025-09-09 14:26:28\n",
      "Body: One seat here, one seat there... do it enough times and it really adds up. ...\n",
      "--------------------------------------------------\n",
      "Comment ID: nd9s5ma\n",
      "Post ID: 1ncj182\n",
      "Author: AlcibiadesTheCat\n",
      "Score: 1\n",
      "Created on: 2025-09-09 14:35:31\n",
      "Body: That's the insane thing to me. The people voted for the thing. The people's voice should have more o ...\n",
      "--------------------------------------------------\n",
      "Comment ID: nd9rwif\n",
      "Post ID: 1ncj182\n",
      "Author: Cheddaagoblin\n",
      "Score: 1\n",
      "Created on: 2025-09-09 14:34:16\n",
      "Body: No vote? Well that won't lead to any @rm3d r3v0luti0n or anything. ...\n",
      "--------------------------------------------------\n",
      "Comment ID: nd9kwnw\n",
      "Post ID: 1ncj182\n",
      "Author: BreezyRyder\n",
      "Score: 1\n",
      "Created on: 2025-09-09 13:59:12\n",
      "Body: It makes it even more ridiculous when you take a look at the maps because the only reason we even ha ...\n",
      "--------------------------------------------------\n",
      "Comment ID: nd9uic1\n",
      "Post ID: 1ncj182\n",
      "Author: Pockydo\n",
      "Score: 1\n",
      "Created on: 2025-09-09 14:46:54\n",
      "Body: Well you see the people are stupid \n",
      "\n",
      "And the gross old pedophiles are chosen by Jesus so clearly wha ...\n",
      "--------------------------------------------------\n",
      "Comment ID: nd9mdhu\n",
      "Post ID: 1ncj182\n",
      "Author: R1ckMartel\n",
      "Score: 1\n",
      "Created on: 2025-09-09 14:06:46\n",
      "Body: Look at the map shared by the meat sack filled with festering cat shit that is Eric Schmitt. ...\n",
      "--------------------------------------------------\n",
      "Comment ID: nd9s8rl\n",
      "Post ID: 1ncj182\n",
      "Author: AlcibiadesTheCat\n",
      "Score: 1\n",
      "Created on: 2025-09-09 14:35:58\n",
      "Body: Springfield isn't blue? ...\n",
      "--------------------------------------------------\n"
     ]
    }
   ],
   "source": [
    "for comment in all_comments:\n",
    "    print(\"Comment ID:\", comment.id)\n",
    "    print(\"Post ID:\", comment.submission.id)\n",
    "    print(\"Author:\", comment.author)\n",
    "    print(\"Score:\", comment.score)\n",
    "    print(\"Created on:\", datetime.utcfromtimestamp(comment.created_utc))\n",
    "    print(\"Body:\", comment.body[:100], \"...\")  # first 100 characters\n",
    "    print(\"-\" * 50)"
   ]
  },
  {
   "cell_type": "code",
   "execution_count": 15,
   "id": "8bfb74a9",
   "metadata": {},
   "outputs": [
    {
     "name": "stdout",
     "output_type": "stream",
     "text": [
      "nd9mj48\n",
      "1ncj182\n",
      "t3_1ncj182\n",
      "t3_1ncj182\n",
      "ImLikeReallySmart\n",
      "572641\n",
      "22460\n",
      "1\n",
      "All this for potentially one seat. This is desperation. Keep up the pressure, blue states.\n"
     ]
    }
   ],
   "source": [
    "best_comment = top_level[1]\n",
    "print(best_comment.id)\n",
    "print(best_comment.submission.id)\n",
    "print(best_comment.link_id)\n",
    "print(best_comment.parent_id)\n",
    "print(best_comment.author)\n",
    "print(best_comment.author.comment_karma)\n",
    "print(best_comment.author.link_karma)\n",
    "print(best_comment.score)\n",
    "print(best_comment.body)\n"
   ]
  },
  {
   "cell_type": "code",
   "execution_count": null,
   "id": "1ab7f127",
   "metadata": {},
   "outputs": [],
   "source": []
  }
 ],
 "metadata": {
  "kernelspec": {
   "display_name": "reddit",
   "language": "python",
   "name": "python3"
  },
  "language_info": {
   "codemirror_mode": {
    "name": "ipython",
    "version": 3
   },
   "file_extension": ".py",
   "mimetype": "text/x-python",
   "name": "python",
   "nbconvert_exporter": "python",
   "pygments_lexer": "ipython3",
   "version": "3.11.13"
  }
 },
 "nbformat": 4,
 "nbformat_minor": 5
}
