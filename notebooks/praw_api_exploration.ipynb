{
 "cells": [
  {
   "cell_type": "code",
   "execution_count": null,
   "id": "36b54901",
   "metadata": {},
   "outputs": [
    {
     "name": "stdout",
     "output_type": "stream",
     "text": [
      "Client ID: JmvlaVzFjpQunWvTpqulEg, Client Secret: 2Hd7Q7TT7T8fX_Y7twlJny7JEhHPFA, User Agent: python:ml_ops_sentiment_project:v1.0 (by u/gpassoni)\n"
     ]
    }
   ],
   "source": [
    "import praw\n",
    "from dotenv import load_dotenv\n",
    "import os\n",
    "from datetime import datetime\n",
    "\n",
    "load_dotenv()\n",
    "\n",
    "client_id = os.getenv(\"REDDIT_CLIENT_ID\")\n",
    "client_secret = os.getenv(\"REDDIT_CLIENT_SECRET\")\n",
    "user_agent = os.getenv(\"REDDIT_USER_AGENT\")\n",
    "print(f\"Client ID: {client_id}, Client Secret: {client_secret}, User Agent: {user_agent}\")\n"
   ]
  },
  {
   "cell_type": "code",
   "execution_count": 2,
   "id": "6314d826",
   "metadata": {},
   "outputs": [
    {
     "name": "stdout",
     "output_type": "stream",
     "text": [
      "True\n"
     ]
    }
   ],
   "source": [
    "reddit = praw.Reddit(\n",
    "    client_id=client_id,\n",
    "    client_secret=client_secret,\n",
    "    user_agent=user_agent,\n",
    ")\n",
    "print(reddit.read_only)"
   ]
  },
  {
   "cell_type": "code",
   "execution_count": 3,
   "id": "258cd54a",
   "metadata": {},
   "outputs": [
    {
     "name": "stdout",
     "output_type": "stream",
     "text": [
      "Saturday Morning Political Cartoon Thread\n",
      "15\n"
     ]
    }
   ],
   "source": [
    "subreddit = reddit.subreddit(\"politics\")\n",
    "submission = next(subreddit.hot(limit=1))\n",
    "\n",
    "print(submission.title)\n",
    "print(submission.score)"
   ]
  },
  {
   "cell_type": "code",
   "execution_count": 4,
   "id": "bb9e4572",
   "metadata": {},
   "outputs": [
    {
     "name": "stdout",
     "output_type": "stream",
     "text": [
      "Post ID: 1na1q8g\n",
      "Titolo: Saturday Morning Political Cartoon Thread\n",
      "Autore: optimalg\n",
      "Score: 15\n",
      "Numero commenti: 46\n",
      "Creato il: 2025-09-06 15:00:56\n",
      "Selftext: It's Saturday, folks. Let's all kick back with a cup of coffee and share some cartoons!\n",
      "\n",
      "Feel free t ...\n",
      "--------------------------------------------------\n",
      "Post ID: 1na689p\n",
      "Titolo: JD Vance Goes Nuclear When Accused of ‘War Crime’: ‘I Don’t Give a S**t’\n",
      "Autore: Quirkie\n",
      "Score: 16473\n",
      "Numero commenti: 999\n",
      "Creato il: 2025-09-06 18:00:40\n",
      "Selftext:  ...\n",
      "--------------------------------------------------\n",
      "Post ID: 1naappu\n",
      "Titolo: “You will find out why it’s called the Department of WAR” Trump threatens Chicago of full blown War\n",
      "Autore: IlustriousCoffee\n",
      "Score: 5355\n",
      "Numero commenti: 640\n",
      "Creato il: 2025-09-06 21:01:41\n",
      "Selftext:  ...\n",
      "--------------------------------------------------\n",
      "Post ID: 1nab4yd\n",
      "Titolo: DOJ Asks Judge to Keep Name of 2 Epstein Associates Secret\n",
      "Autore: Aggravating_Money992\n",
      "Score: 4413\n",
      "Numero commenti: 438\n",
      "Creato il: 2025-09-06 21:19:35\n",
      "Selftext:  ...\n",
      "--------------------------------------------------\n",
      "Post ID: 1na1p7m\n",
      "Titolo: Trump claims Chicago is ‘world’s most dangerous city’. The four most violent ones are all in red states\n",
      "Autore: rewardingsnark\n",
      "Score: 13642\n",
      "Numero commenti: 664\n",
      "Creato il: 2025-09-06 14:59:54\n",
      "Selftext:  ...\n",
      "--------------------------------------------------\n"
     ]
    }
   ],
   "source": [
    "hot_posts = subreddit.hot(limit=5)\n",
    "\n",
    "for post in hot_posts:\n",
    "    print(\"Post ID:\", post.id)\n",
    "    print(\"Titolo:\", post.title)\n",
    "    print(\"Autore:\", post.author)\n",
    "    print(\"Score:\", post.score)\n",
    "    print(\"Numero commenti:\", post.num_comments)\n",
    "    print(\"Creato il:\", datetime.utcfromtimestamp(post.created_utc))\n",
    "    print(\"Selftext:\", post.selftext[:100], \"...\")  # primi 100 caratteri\n",
    "    print(\"-\" * 50)"
   ]
  },
  {
   "cell_type": "code",
   "execution_count": 5,
   "id": "b57a60fc",
   "metadata": {},
   "outputs": [
    {
     "name": "stdout",
     "output_type": "stream",
     "text": [
      "33 45\n"
     ]
    }
   ],
   "source": [
    "top_level = list(submission.comments)\n",
    "all_comments = submission.comments.list()\n",
    "\n",
    "print(len(top_level), len(all_comments))"
   ]
  },
  {
   "cell_type": "code",
   "execution_count": 6,
   "id": "8bfb74a9",
   "metadata": {},
   "outputs": [
    {
     "name": "stdout",
     "output_type": "stream",
     "text": [
      "ncqpq5l\n",
      "1na1q8g\n",
      "t3_1na1q8g\n",
      "t3_1na1q8g\n",
      "croolshooz\n",
      "45586\n",
      "293654\n",
      "17\n",
      "Mike Stanfill\n",
      "\n",
      "[The Tin-Pot Sociopath](https://ragingpencils.com/2025/9-1-25-tinpot-sociopath.html)\n",
      "\n",
      "[“Ronald Reagan, got away with Iran-Contra”](https://ragingpencils.com/2025/9-5-25-president-reports.html)\n"
     ]
    }
   ],
   "source": [
    "best_comment = top_level[1]\n",
    "print(best_comment.id)\n",
    "print(best_comment.submission.id)\n",
    "print(best_comment.link_id)\n",
    "print(best_comment.parent_id)\n",
    "print(best_comment.author)\n",
    "print(best_comment.author.comment_karma)\n",
    "print(best_comment.author.link_karma)\n",
    "print(best_comment.score)\n",
    "print(best_comment.body)\n"
   ]
  },
  {
   "cell_type": "code",
   "execution_count": null,
   "id": "1ab7f127",
   "metadata": {},
   "outputs": [],
   "source": []
  }
 ],
 "metadata": {
  "kernelspec": {
   "display_name": "reddit",
   "language": "python",
   "name": "python3"
  },
  "language_info": {
   "codemirror_mode": {
    "name": "ipython",
    "version": 3
   },
   "file_extension": ".py",
   "mimetype": "text/x-python",
   "name": "python",
   "nbconvert_exporter": "python",
   "pygments_lexer": "ipython3",
   "version": "3.11.13"
  }
 },
 "nbformat": 4,
 "nbformat_minor": 5
}
