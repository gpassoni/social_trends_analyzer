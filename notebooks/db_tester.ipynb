{
 "cells": [
  {
   "cell_type": "code",
   "execution_count": 1,
   "id": "e90f6578",
   "metadata": {},
   "outputs": [],
   "source": [
    "from reddit_db.db_manager import RedditDBManager\n",
    "from reddit_db.models import Post, Comment\n",
    "import os \n",
    "import pandas as pd\n",
    "import matplotlib.pyplot as plt\n",
    "import seaborn as sns"
   ]
  },
  {
   "cell_type": "code",
   "execution_count": 2,
   "id": "93a4d82c",
   "metadata": {},
   "outputs": [],
   "source": [
    "manager = RedditDBManager()"
   ]
  },
  {
   "cell_type": "code",
   "execution_count": 3,
   "id": "e155ae1e",
   "metadata": {},
   "outputs": [
    {
     "name": "stdout",
     "output_type": "stream",
     "text": [
      "post_id VARCHAR\n",
      "subreddit VARCHAR\n",
      "author VARCHAR\n",
      "title TEXT\n",
      "selftext TEXT\n",
      "created_utc INTEGER\n",
      "created_ts TIMESTAMP\n",
      "created_date TIMESTAMP\n",
      "created_time TIME\n",
      "score INTEGER\n",
      "author_comment_karma INTEGER\n",
      "author_link_karma INTEGER\n",
      "num_comments INTEGER\n",
      "fetch_type VARCHAR\n",
      "extra JSONB\n"
     ]
    }
   ],
   "source": [
    "from sqlalchemy import inspect\n",
    "\n",
    "engine = manager.engine\n",
    "\n",
    "inspector = inspect(engine)\n",
    "for col in inspector.get_columns('posts'):\n",
    "    print(col['name'], col['type'])"
   ]
  },
  {
   "cell_type": "code",
   "execution_count": 4,
   "id": "cd167367",
   "metadata": {},
   "outputs": [],
   "source": [
    "manager.update_subreddit_status()"
   ]
  },
  {
   "cell_type": "code",
   "execution_count": 5,
   "id": "ff6704e1",
   "metadata": {},
   "outputs": [
    {
     "name": "stdout",
     "output_type": "stream",
     "text": [
      "Subreddit 'apple' aggiunto con priorità 2.\n"
     ]
    },
    {
     "data": {
      "text/plain": [
       "<reddit_db.models.SubredditStatus at 0x255b919f490>"
      ]
     },
     "execution_count": 5,
     "metadata": {},
     "output_type": "execute_result"
    }
   ],
   "source": [
    "manager.add_new_subreddit(\"apple\")"
   ]
  },
  {
   "cell_type": "code",
   "execution_count": 6,
   "id": "3010542d",
   "metadata": {},
   "outputs": [
    {
     "data": {
      "text/plain": [
       "['apple']"
      ]
     },
     "execution_count": 6,
     "metadata": {},
     "output_type": "execute_result"
    }
   ],
   "source": [
    "manager.get_highest_priority_subreddits()"
   ]
  }
 ],
 "metadata": {
  "kernelspec": {
   "display_name": "reddit",
   "language": "python",
   "name": "python3"
  },
  "language_info": {
   "codemirror_mode": {
    "name": "ipython",
    "version": 3
   },
   "file_extension": ".py",
   "mimetype": "text/x-python",
   "name": "python",
   "nbconvert_exporter": "python",
   "pygments_lexer": "ipython3",
   "version": "3.11.13"
  }
 },
 "nbformat": 4,
 "nbformat_minor": 5
}
