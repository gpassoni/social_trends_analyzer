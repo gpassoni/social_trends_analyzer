{
 "cells": [
  {
   "cell_type": "code",
   "execution_count": 11,
   "id": "e90f6578",
   "metadata": {},
   "outputs": [],
   "source": [
    "from reddit_db.db_manager import RedditDBManager\n",
    "from reddit_db.models import Post, Comment\n",
    "import os \n",
    "import pandas as pd\n",
    "import matplotlib.pyplot as plt\n",
    "import seaborn as sns"
   ]
  },
  {
   "cell_type": "code",
   "execution_count": 12,
   "id": "93a4d82c",
   "metadata": {},
   "outputs": [],
   "source": [
    "manager = RedditDBManager()\n",
    "manager.reset_database()  # Clear existing data for a fresh start"
   ]
  },
  {
   "cell_type": "code",
   "execution_count": 3,
   "id": "6f6a69f2",
   "metadata": {},
   "outputs": [
    {
     "data": {
      "text/plain": [
       "{}"
      ]
     },
     "execution_count": 3,
     "metadata": {},
     "output_type": "execute_result"
    }
   ],
   "source": [
    "manager.get_posts_count_by_fetch_type(\"politics\")   "
   ]
  },
  {
   "cell_type": "code",
   "execution_count": 4,
   "id": "d60e670b",
   "metadata": {},
   "outputs": [
    {
     "data": {
      "text/plain": [
       "[]"
      ]
     },
     "execution_count": 4,
     "metadata": {},
     "output_type": "execute_result"
    }
   ],
   "source": [
    "manager.get_unlabeled_comments()"
   ]
  },
  {
   "cell_type": "code",
   "execution_count": 5,
   "id": "16ecb0f5",
   "metadata": {},
   "outputs": [
    {
     "data": {
      "text/plain": [
       "{}"
      ]
     },
     "execution_count": 5,
     "metadata": {},
     "output_type": "execute_result"
    }
   ],
   "source": [
    "manager.calculate_subreddits_post_counts()"
   ]
  },
  {
   "cell_type": "code",
   "execution_count": 6,
   "id": "8a0425d9",
   "metadata": {},
   "outputs": [
    {
     "data": {
      "text/plain": [
       "[]"
      ]
     },
     "execution_count": 6,
     "metadata": {},
     "output_type": "execute_result"
    }
   ],
   "source": [
    "pri = manager.get_subreddits_priorities()\n",
    "pri"
   ]
  },
  {
   "cell_type": "code",
   "execution_count": 7,
   "id": "bffc4762",
   "metadata": {},
   "outputs": [
    {
     "data": {
      "text/plain": [
       "[]"
      ]
     },
     "execution_count": 7,
     "metadata": {},
     "output_type": "execute_result"
    }
   ],
   "source": [
    "subs = manager.get_highest_priority_subreddits()\n",
    "subs"
   ]
  },
  {
   "cell_type": "code",
   "execution_count": 8,
   "id": "4268f342",
   "metadata": {},
   "outputs": [
    {
     "data": {
      "text/plain": [
       "[]"
      ]
     },
     "execution_count": 8,
     "metadata": {},
     "output_type": "execute_result"
    }
   ],
   "source": [
    "manager.calculate_subreddit_priorities()\n",
    "pri = manager.get_subreddits_priorities()\n",
    "pri"
   ]
  },
  {
   "cell_type": "code",
   "execution_count": 9,
   "id": "ce23a9bc",
   "metadata": {},
   "outputs": [
    {
     "data": {
      "text/plain": [
       "[]"
      ]
     },
     "execution_count": 9,
     "metadata": {},
     "output_type": "execute_result"
    }
   ],
   "source": [
    "subs"
   ]
  },
  {
   "cell_type": "code",
   "execution_count": 10,
   "id": "e155ae1e",
   "metadata": {},
   "outputs": [
    {
     "ename": "NoSuchTableError",
     "evalue": "posts",
     "output_type": "error",
     "traceback": [
      "\u001b[31m---------------------------------------------------------------------------\u001b[39m",
      "\u001b[31mNoSuchTableError\u001b[39m                          Traceback (most recent call last)",
      "\u001b[36mCell\u001b[39m\u001b[36m \u001b[39m\u001b[32mIn[10]\u001b[39m\u001b[32m, line 6\u001b[39m\n\u001b[32m      3\u001b[39m engine = manager.engine\n\u001b[32m      5\u001b[39m inspector = inspect(engine)\n\u001b[32m----> \u001b[39m\u001b[32m6\u001b[39m \u001b[38;5;28;01mfor\u001b[39;00m col \u001b[38;5;129;01min\u001b[39;00m \u001b[43minspector\u001b[49m\u001b[43m.\u001b[49m\u001b[43mget_columns\u001b[49m\u001b[43m(\u001b[49m\u001b[33;43m'\u001b[39;49m\u001b[33;43mposts\u001b[39;49m\u001b[33;43m'\u001b[39;49m\u001b[43m)\u001b[49m:\n\u001b[32m      7\u001b[39m     \u001b[38;5;28mprint\u001b[39m(col[\u001b[33m'\u001b[39m\u001b[33mname\u001b[39m\u001b[33m'\u001b[39m], col[\u001b[33m'\u001b[39m\u001b[33mtype\u001b[39m\u001b[33m'\u001b[39m])\n",
      "\u001b[36mFile \u001b[39m\u001b[32mc:\\Users\\Gabri\\miniconda3\\envs\\reddit\\Lib\\site-packages\\sqlalchemy\\engine\\reflection.py:869\u001b[39m, in \u001b[36mInspector.get_columns\u001b[39m\u001b[34m(self, table_name, schema, **kw)\u001b[39m\n\u001b[32m    845\u001b[39m \u001b[38;5;250m\u001b[39m\u001b[33mr\u001b[39m\u001b[33;03m\"\"\"Return information about columns in ``table_name``.\u001b[39;00m\n\u001b[32m    846\u001b[39m \n\u001b[32m    847\u001b[39m \u001b[33;03mGiven a string ``table_name`` and an optional string ``schema``,\u001b[39;00m\n\u001b[32m   (...)\u001b[39m\u001b[32m    865\u001b[39m \n\u001b[32m    866\u001b[39m \u001b[33;03m\"\"\"\u001b[39;00m\n\u001b[32m    868\u001b[39m \u001b[38;5;28;01mwith\u001b[39;00m \u001b[38;5;28mself\u001b[39m._operation_context() \u001b[38;5;28;01mas\u001b[39;00m conn:\n\u001b[32m--> \u001b[39m\u001b[32m869\u001b[39m     col_defs = \u001b[38;5;28;43mself\u001b[39;49m\u001b[43m.\u001b[49m\u001b[43mdialect\u001b[49m\u001b[43m.\u001b[49m\u001b[43mget_columns\u001b[49m\u001b[43m(\u001b[49m\n\u001b[32m    870\u001b[39m \u001b[43m        \u001b[49m\u001b[43mconn\u001b[49m\u001b[43m,\u001b[49m\u001b[43m \u001b[49m\u001b[43mtable_name\u001b[49m\u001b[43m,\u001b[49m\u001b[43m \u001b[49m\u001b[43mschema\u001b[49m\u001b[43m,\u001b[49m\u001b[43m \u001b[49m\u001b[43minfo_cache\u001b[49m\u001b[43m=\u001b[49m\u001b[38;5;28;43mself\u001b[39;49m\u001b[43m.\u001b[49m\u001b[43minfo_cache\u001b[49m\u001b[43m,\u001b[49m\u001b[43m \u001b[49m\u001b[43m*\u001b[49m\u001b[43m*\u001b[49m\u001b[43mkw\u001b[49m\n\u001b[32m    871\u001b[39m \u001b[43m    \u001b[49m\u001b[43m)\u001b[49m\n\u001b[32m    872\u001b[39m \u001b[38;5;28;01mif\u001b[39;00m col_defs:\n\u001b[32m    873\u001b[39m     \u001b[38;5;28mself\u001b[39m._instantiate_types([col_defs])\n",
      "\u001b[36mFile \u001b[39m\u001b[32m<string>:2\u001b[39m, in \u001b[36mget_columns\u001b[39m\u001b[34m(self, connection, table_name, schema, **kw)\u001b[39m\n",
      "\u001b[36mFile \u001b[39m\u001b[32mc:\\Users\\Gabri\\miniconda3\\envs\\reddit\\Lib\\site-packages\\sqlalchemy\\engine\\reflection.py:106\u001b[39m, in \u001b[36mcache\u001b[39m\u001b[34m(fn, self, con, *args, **kw)\u001b[39m\n\u001b[32m    104\u001b[39m ret: _R = info_cache.get(key)\n\u001b[32m    105\u001b[39m \u001b[38;5;28;01mif\u001b[39;00m ret \u001b[38;5;129;01mis\u001b[39;00m \u001b[38;5;28;01mNone\u001b[39;00m:\n\u001b[32m--> \u001b[39m\u001b[32m106\u001b[39m     ret = \u001b[43mfn\u001b[49m\u001b[43m(\u001b[49m\u001b[38;5;28;43mself\u001b[39;49m\u001b[43m,\u001b[49m\u001b[43m \u001b[49m\u001b[43mcon\u001b[49m\u001b[43m,\u001b[49m\u001b[43m \u001b[49m\u001b[43m*\u001b[49m\u001b[43margs\u001b[49m\u001b[43m,\u001b[49m\u001b[43m \u001b[49m\u001b[43m*\u001b[49m\u001b[43m*\u001b[49m\u001b[43mkw\u001b[49m\u001b[43m)\u001b[49m\n\u001b[32m    107\u001b[39m     info_cache[key] = ret\n\u001b[32m    108\u001b[39m \u001b[38;5;28;01mreturn\u001b[39;00m ret\n",
      "\u001b[36mFile \u001b[39m\u001b[32mc:\\Users\\Gabri\\miniconda3\\envs\\reddit\\Lib\\site-packages\\sqlalchemy\\dialects\\postgresql\\base.py:3695\u001b[39m, in \u001b[36mPGDialect.get_columns\u001b[39m\u001b[34m(self, connection, table_name, schema, **kw)\u001b[39m\n\u001b[32m   3685\u001b[39m \u001b[38;5;129m@reflection\u001b[39m.cache\n\u001b[32m   3686\u001b[39m \u001b[38;5;28;01mdef\u001b[39;00m\u001b[38;5;250m \u001b[39m\u001b[34mget_columns\u001b[39m(\u001b[38;5;28mself\u001b[39m, connection, table_name, schema=\u001b[38;5;28;01mNone\u001b[39;00m, **kw):\n\u001b[32m   3687\u001b[39m     data = \u001b[38;5;28mself\u001b[39m.get_multi_columns(\n\u001b[32m   3688\u001b[39m         connection,\n\u001b[32m   3689\u001b[39m         schema=schema,\n\u001b[32m   (...)\u001b[39m\u001b[32m   3693\u001b[39m         **kw,\n\u001b[32m   3694\u001b[39m     )\n\u001b[32m-> \u001b[39m\u001b[32m3695\u001b[39m     \u001b[38;5;28;01mreturn\u001b[39;00m \u001b[38;5;28;43mself\u001b[39;49m\u001b[43m.\u001b[49m\u001b[43m_value_or_raise\u001b[49m\u001b[43m(\u001b[49m\u001b[43mdata\u001b[49m\u001b[43m,\u001b[49m\u001b[43m \u001b[49m\u001b[43mtable_name\u001b[49m\u001b[43m,\u001b[49m\u001b[43m \u001b[49m\u001b[43mschema\u001b[49m\u001b[43m)\u001b[49m\n",
      "\u001b[36mFile \u001b[39m\u001b[32mc:\\Users\\Gabri\\miniconda3\\envs\\reddit\\Lib\\site-packages\\sqlalchemy\\dialects\\postgresql\\base.py:3663\u001b[39m, in \u001b[36mPGDialect._value_or_raise\u001b[39m\u001b[34m(self, data, table, schema)\u001b[39m\n\u001b[32m   3661\u001b[39m     \u001b[38;5;28;01mreturn\u001b[39;00m \u001b[38;5;28mdict\u001b[39m(data)[(schema, table)]\n\u001b[32m   3662\u001b[39m \u001b[38;5;28;01mexcept\u001b[39;00m \u001b[38;5;167;01mKeyError\u001b[39;00m:\n\u001b[32m-> \u001b[39m\u001b[32m3663\u001b[39m     \u001b[38;5;28;01mraise\u001b[39;00m exc.NoSuchTableError(\n\u001b[32m   3664\u001b[39m         \u001b[33mf\u001b[39m\u001b[33m\"\u001b[39m\u001b[38;5;132;01m{\u001b[39;00mschema\u001b[38;5;132;01m}\u001b[39;00m\u001b[33m.\u001b[39m\u001b[38;5;132;01m{\u001b[39;00mtable\u001b[38;5;132;01m}\u001b[39;00m\u001b[33m\"\u001b[39m \u001b[38;5;28;01mif\u001b[39;00m schema \u001b[38;5;28;01melse\u001b[39;00m table\n\u001b[32m   3665\u001b[39m     ) \u001b[38;5;28;01mfrom\u001b[39;00m\u001b[38;5;250m \u001b[39m\u001b[38;5;28;01mNone\u001b[39;00m\n",
      "\u001b[31mNoSuchTableError\u001b[39m: posts"
     ]
    }
   ],
   "source": [
    "from sqlalchemy import inspect\n",
    "\n",
    "engine = manager.engine\n",
    "\n",
    "inspector = inspect(engine)\n",
    "for col in inspector.get_columns('posts'):\n",
    "    print(col['name'], col['type'])"
   ]
  }
 ],
 "metadata": {
  "kernelspec": {
   "display_name": "reddit",
   "language": "python",
   "name": "python3"
  },
  "language_info": {
   "codemirror_mode": {
    "name": "ipython",
    "version": 3
   },
   "file_extension": ".py",
   "mimetype": "text/x-python",
   "name": "python",
   "nbconvert_exporter": "python",
   "pygments_lexer": "ipython3",
   "version": "3.11.13"
  }
 },
 "nbformat": 4,
 "nbformat_minor": 5
}
