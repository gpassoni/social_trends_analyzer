{
 "cells": [
  {
   "cell_type": "code",
   "execution_count": 1,
   "id": "e90f6578",
   "metadata": {},
   "outputs": [],
   "source": [
    "from reddit_db.db_manager import RedditDBManager\n",
    "from reddit_db.models import Post, Comment\n",
    "import os \n",
    "import pandas as pd\n",
    "import matplotlib.pyplot as plt\n",
    "import seaborn as sns"
   ]
  },
  {
   "cell_type": "code",
   "execution_count": 2,
   "id": "93a4d82c",
   "metadata": {},
   "outputs": [],
   "source": [
    "manager = RedditDBManager()\n",
    "#manager.reset_database()  # Clear existing data for a fresh start\n"
   ]
  },
  {
   "cell_type": "code",
   "execution_count": 3,
   "id": "16ecb0f5",
   "metadata": {},
   "outputs": [
    {
     "data": {
      "text/plain": [
       "{'nokia': 10, 'samsung': 10, 'politics': 15}"
      ]
     },
     "execution_count": 3,
     "metadata": {},
     "output_type": "execute_result"
    }
   ],
   "source": [
    "manager.calculate_subreddits_post_counts()"
   ]
  },
  {
   "cell_type": "code",
   "execution_count": 3,
   "id": "8a0425d9",
   "metadata": {},
   "outputs": [
    {
     "data": {
      "text/plain": [
       "[{'name': 'nokia', 'priority': 2},\n",
       " {'name': 'samsung', 'priority': 2},\n",
       " {'name': 'politics', 'priority': 2}]"
      ]
     },
     "execution_count": 3,
     "metadata": {},
     "output_type": "execute_result"
    }
   ],
   "source": [
    "pri = manager.get_subreddits_priorities()\n",
    "pri"
   ]
  },
  {
   "cell_type": "code",
   "execution_count": 4,
   "id": "bffc4762",
   "metadata": {},
   "outputs": [
    {
     "data": {
      "text/plain": [
       "['nokia', 'samsung', 'politics']"
      ]
     },
     "execution_count": 4,
     "metadata": {},
     "output_type": "execute_result"
    }
   ],
   "source": [
    "subs = manager.get_highest_priority_subreddits()\n",
    "subs"
   ]
  },
  {
   "cell_type": "code",
   "execution_count": 5,
   "id": "4268f342",
   "metadata": {},
   "outputs": [
    {
     "data": {
      "text/plain": [
       "[{'name': 'nokia', 'priority': 2},\n",
       " {'name': 'samsung', 'priority': 2},\n",
       " {'name': 'politics', 'priority': 2}]"
      ]
     },
     "execution_count": 5,
     "metadata": {},
     "output_type": "execute_result"
    }
   ],
   "source": [
    "manager.calculate_subreddit_priorities()\n",
    "pri = manager.get_subreddits_priorities()\n",
    "pri"
   ]
  },
  {
   "cell_type": "code",
   "execution_count": 6,
   "id": "ce23a9bc",
   "metadata": {},
   "outputs": [
    {
     "data": {
      "text/plain": [
       "['nokia', 'samsung', 'politics']"
      ]
     },
     "execution_count": 6,
     "metadata": {},
     "output_type": "execute_result"
    }
   ],
   "source": [
    "subs"
   ]
  },
  {
   "cell_type": "code",
   "execution_count": 3,
   "id": "e155ae1e",
   "metadata": {},
   "outputs": [
    {
     "name": "stdout",
     "output_type": "stream",
     "text": [
      "post_id VARCHAR\n",
      "subreddit VARCHAR\n",
      "author VARCHAR\n",
      "title TEXT\n",
      "selftext TEXT\n",
      "created_utc INTEGER\n",
      "created_ts TIMESTAMP\n",
      "created_date TIMESTAMP\n",
      "created_time TIME\n",
      "score INTEGER\n",
      "author_comment_karma INTEGER\n",
      "author_link_karma INTEGER\n",
      "num_comments INTEGER\n",
      "fetch_type VARCHAR\n",
      "extra JSONB\n"
     ]
    }
   ],
   "source": [
    "from sqlalchemy import inspect\n",
    "\n",
    "engine = manager.engine\n",
    "\n",
    "inspector = inspect(engine)\n",
    "for col in inspector.get_columns('posts'):\n",
    "    print(col['name'], col['type'])"
   ]
  }
 ],
 "metadata": {
  "kernelspec": {
   "display_name": "reddit",
   "language": "python",
   "name": "python3"
  },
  "language_info": {
   "codemirror_mode": {
    "name": "ipython",
    "version": 3
   },
   "file_extension": ".py",
   "mimetype": "text/x-python",
   "name": "python",
   "nbconvert_exporter": "python",
   "pygments_lexer": "ipython3",
   "version": "3.11.13"
  }
 },
 "nbformat": 4,
 "nbformat_minor": 5
}
