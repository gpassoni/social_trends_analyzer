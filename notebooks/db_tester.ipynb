{
 "cells": [
  {
   "cell_type": "code",
   "execution_count": 1,
   "id": "e90f6578",
   "metadata": {},
   "outputs": [],
   "source": [
    "from reddit_db.db_manager import RedditDBManager\n",
    "from reddit_db.models import Post, Comment\n",
    "import os \n",
    "import pandas as pd\n",
    "import matplotlib.pyplot as plt\n",
    "import seaborn as sns"
   ]
  },
  {
   "cell_type": "code",
   "execution_count": 2,
   "id": "93a4d82c",
   "metadata": {},
   "outputs": [],
   "source": [
    "manager = RedditDBManager()\n",
    "manager.reset_database()  # Clear existing data for a fresh start"
   ]
  },
  {
   "cell_type": "code",
   "execution_count": 3,
   "id": "bffc4762",
   "metadata": {},
   "outputs": [
    {
     "ename": "AttributeError",
     "evalue": "'Subreddit' object has no attribute 'total_posts'",
     "output_type": "error",
     "traceback": [
      "\u001b[31m---------------------------------------------------------------------------\u001b[39m",
      "\u001b[31mAttributeError\u001b[39m                            Traceback (most recent call last)",
      "\u001b[36mCell\u001b[39m\u001b[36m \u001b[39m\u001b[32mIn[3]\u001b[39m\u001b[32m, line 1\u001b[39m\n\u001b[32m----> \u001b[39m\u001b[32m1\u001b[39m subs = \u001b[43mmanager\u001b[49m\u001b[43m.\u001b[49m\u001b[43mget_highest_priority_subreddits\u001b[49m\u001b[43m(\u001b[49m\u001b[43m)\u001b[49m\n\u001b[32m      2\u001b[39m subs\n",
      "\u001b[36mFile \u001b[39m\u001b[32m~\\Documents\\github_projects\\social_trend_analyzer\\src\\reddit_db\\db_manager.py:41\u001b[39m, in \u001b[36mRedditDBManager.get_highest_priority_subreddits\u001b[39m\u001b[34m(self)\u001b[39m\n\u001b[32m     40\u001b[39m \u001b[38;5;28;01mdef\u001b[39;00m\u001b[38;5;250m \u001b[39m\u001b[34mget_highest_priority_subreddits\u001b[39m(\u001b[38;5;28mself\u001b[39m) -> \u001b[38;5;28mlist\u001b[39m[\u001b[38;5;28mstr\u001b[39m]:\n\u001b[32m---> \u001b[39m\u001b[32m41\u001b[39m     \u001b[38;5;28;43mself\u001b[39;49m\u001b[43m.\u001b[49m\u001b[43mcalculate_subreddit_priorities\u001b[49m\u001b[43m(\u001b[49m\u001b[43m)\u001b[49m\n\u001b[32m     43\u001b[39m     \u001b[38;5;28;01mwith\u001b[39;00m Session(\u001b[38;5;28mself\u001b[39m.engine) \u001b[38;5;28;01mas\u001b[39;00m session:\n\u001b[32m     44\u001b[39m         stmt = select(Subreddit).order_by(Subreddit.priority.desc())\n",
      "\u001b[36mFile \u001b[39m\u001b[32m~\\Documents\\github_projects\\social_trend_analyzer\\src\\reddit_db\\db_manager.py:59\u001b[39m, in \u001b[36mRedditDBManager.calculate_subreddit_priorities\u001b[39m\u001b[34m(self)\u001b[39m\n\u001b[32m     56\u001b[39m \u001b[38;5;28;01mif\u001b[39;00m \u001b[38;5;129;01mnot\u001b[39;00m subreddits:\n\u001b[32m     57\u001b[39m     \u001b[38;5;28;01mreturn\u001b[39;00m\n\u001b[32m---> \u001b[39m\u001b[32m59\u001b[39m max_posts = \u001b[38;5;28;43mmax\u001b[39;49m\u001b[43m(\u001b[49m\u001b[43msub\u001b[49m\u001b[43m.\u001b[49m\u001b[43mtotal_posts\u001b[49m\u001b[43m \u001b[49m\u001b[38;5;28;43;01mfor\u001b[39;49;00m\u001b[43m \u001b[49m\u001b[43msub\u001b[49m\u001b[43m \u001b[49m\u001b[38;5;129;43;01min\u001b[39;49;00m\u001b[43m \u001b[49m\u001b[43msubreddits\u001b[49m\u001b[43m)\u001b[49m\n\u001b[32m     60\u001b[39m threshold = max_posts * \u001b[32m0.5\u001b[39m\n\u001b[32m     62\u001b[39m \u001b[38;5;28;01mfor\u001b[39;00m sub \u001b[38;5;129;01min\u001b[39;00m subreddits:\n",
      "\u001b[36mFile \u001b[39m\u001b[32m~\\Documents\\github_projects\\social_trend_analyzer\\src\\reddit_db\\db_manager.py:59\u001b[39m, in \u001b[36m<genexpr>\u001b[39m\u001b[34m(.0)\u001b[39m\n\u001b[32m     56\u001b[39m \u001b[38;5;28;01mif\u001b[39;00m \u001b[38;5;129;01mnot\u001b[39;00m subreddits:\n\u001b[32m     57\u001b[39m     \u001b[38;5;28;01mreturn\u001b[39;00m\n\u001b[32m---> \u001b[39m\u001b[32m59\u001b[39m max_posts = \u001b[38;5;28mmax\u001b[39m(\u001b[43msub\u001b[49m\u001b[43m.\u001b[49m\u001b[43mtotal_posts\u001b[49m \u001b[38;5;28;01mfor\u001b[39;00m sub \u001b[38;5;129;01min\u001b[39;00m subreddits)\n\u001b[32m     60\u001b[39m threshold = max_posts * \u001b[32m0.5\u001b[39m\n\u001b[32m     62\u001b[39m \u001b[38;5;28;01mfor\u001b[39;00m sub \u001b[38;5;129;01min\u001b[39;00m subreddits:\n",
      "\u001b[36mFile \u001b[39m\u001b[32mc:\\Users\\Gabri\\miniconda3\\envs\\reddit\\Lib\\site-packages\\pydantic\\main.py:991\u001b[39m, in \u001b[36mBaseModel.__getattr__\u001b[39m\u001b[34m(self, item)\u001b[39m\n\u001b[32m    988\u001b[39m     \u001b[38;5;28;01mreturn\u001b[39;00m \u001b[38;5;28msuper\u001b[39m().\u001b[34m__getattribute__\u001b[39m(item)  \u001b[38;5;66;03m# Raises AttributeError if appropriate\u001b[39;00m\n\u001b[32m    989\u001b[39m \u001b[38;5;28;01melse\u001b[39;00m:\n\u001b[32m    990\u001b[39m     \u001b[38;5;66;03m# this is the current error\u001b[39;00m\n\u001b[32m--> \u001b[39m\u001b[32m991\u001b[39m     \u001b[38;5;28;01mraise\u001b[39;00m \u001b[38;5;167;01mAttributeError\u001b[39;00m(\u001b[33mf\u001b[39m\u001b[33m'\u001b[39m\u001b[38;5;132;01m{\u001b[39;00m\u001b[38;5;28mtype\u001b[39m(\u001b[38;5;28mself\u001b[39m).\u001b[34m__name__\u001b[39m\u001b[38;5;132;01m!r}\u001b[39;00m\u001b[33m object has no attribute \u001b[39m\u001b[38;5;132;01m{\u001b[39;00mitem\u001b[38;5;132;01m!r}\u001b[39;00m\u001b[33m'\u001b[39m)\n",
      "\u001b[31mAttributeError\u001b[39m: 'Subreddit' object has no attribute 'total_posts'"
     ]
    }
   ],
   "source": [
    "subs = manager.get_highest_priority_subreddits()\n",
    "subs"
   ]
  },
  {
   "cell_type": "code",
   "execution_count": 3,
   "id": "e155ae1e",
   "metadata": {},
   "outputs": [
    {
     "name": "stdout",
     "output_type": "stream",
     "text": [
      "post_id VARCHAR\n",
      "subreddit VARCHAR\n",
      "author VARCHAR\n",
      "title TEXT\n",
      "selftext TEXT\n",
      "created_utc INTEGER\n",
      "created_ts TIMESTAMP\n",
      "created_date TIMESTAMP\n",
      "created_time TIME\n",
      "score INTEGER\n",
      "author_comment_karma INTEGER\n",
      "author_link_karma INTEGER\n",
      "num_comments INTEGER\n",
      "fetch_type VARCHAR\n",
      "extra JSONB\n"
     ]
    }
   ],
   "source": [
    "from sqlalchemy import inspect\n",
    "\n",
    "engine = manager.engine\n",
    "\n",
    "inspector = inspect(engine)\n",
    "for col in inspector.get_columns('posts'):\n",
    "    print(col['name'], col['type'])"
   ]
  }
 ],
 "metadata": {
  "kernelspec": {
   "display_name": "reddit",
   "language": "python",
   "name": "python3"
  },
  "language_info": {
   "codemirror_mode": {
    "name": "ipython",
    "version": 3
   },
   "file_extension": ".py",
   "mimetype": "text/x-python",
   "name": "python",
   "nbconvert_exporter": "python",
   "pygments_lexer": "ipython3",
   "version": "3.11.13"
  }
 },
 "nbformat": 4,
 "nbformat_minor": 5
}
