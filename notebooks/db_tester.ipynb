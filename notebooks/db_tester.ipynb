{
 "cells": [
  {
   "cell_type": "code",
   "execution_count": 1,
   "id": "e90f6578",
   "metadata": {},
   "outputs": [],
   "source": [
    "from reddit_db.db_manager import RedditDBManager\n",
    "from reddit_db.models import Post, Comment\n",
    "import os \n",
    "import pandas as pd\n",
    "import matplotlib.pyplot as plt\n",
    "import seaborn as sns"
   ]
  },
  {
   "cell_type": "code",
   "execution_count": 2,
   "id": "7e724cb4",
   "metadata": {},
   "outputs": [
    {
     "ename": "FileNotFoundError",
     "evalue": "[WinError 3] Impossibile trovare il percorso specificato: 'C:\\\\Users\\\\Gabri\\\\Documents\\\\reddit_project\\\\data\\\\politics\\\\processed\\\\posts'",
     "output_type": "error",
     "traceback": [
      "\u001b[31m---------------------------------------------------------------------------\u001b[39m",
      "\u001b[31mFileNotFoundError\u001b[39m                         Traceback (most recent call last)",
      "\u001b[36mCell\u001b[39m\u001b[36m \u001b[39m\u001b[32mIn[2]\u001b[39m\u001b[32m, line 4\u001b[39m\n\u001b[32m      1\u001b[39m POSTS_DIR = \u001b[33mr\u001b[39m\u001b[33m\"\u001b[39m\u001b[33mC:\u001b[39m\u001b[33m\\\u001b[39m\u001b[33mUsers\u001b[39m\u001b[33m\\\u001b[39m\u001b[33mGabri\u001b[39m\u001b[33m\\\u001b[39m\u001b[33mDocuments\u001b[39m\u001b[33m\\\u001b[39m\u001b[33mreddit_project\u001b[39m\u001b[33m\\\u001b[39m\u001b[33mdata\u001b[39m\u001b[33m\\\u001b[39m\u001b[33mpolitics\u001b[39m\u001b[33m\\\u001b[39m\u001b[33mprocessed\u001b[39m\u001b[33m\\\u001b[39m\u001b[33mposts\u001b[39m\u001b[33m\"\u001b[39m\n\u001b[32m      2\u001b[39m COMMENTS_DIR = \u001b[33mr\u001b[39m\u001b[33m\"\u001b[39m\u001b[33mC:\u001b[39m\u001b[33m\\\u001b[39m\u001b[33mUsers\u001b[39m\u001b[33m\\\u001b[39m\u001b[33mGabri\u001b[39m\u001b[33m\\\u001b[39m\u001b[33mDocuments\u001b[39m\u001b[33m\\\u001b[39m\u001b[33mreddit_project\u001b[39m\u001b[33m\\\u001b[39m\u001b[33mdata\u001b[39m\u001b[33m\\\u001b[39m\u001b[33mpolitics\u001b[39m\u001b[33m\\\u001b[39m\u001b[33mprocessed\u001b[39m\u001b[33m\\\u001b[39m\u001b[33mcomments\u001b[39m\u001b[33m\"\u001b[39m\n\u001b[32m----> \u001b[39m\u001b[32m4\u001b[39m posts_files = [os.path.join(POSTS_DIR, f) \u001b[38;5;28;01mfor\u001b[39;00m f \u001b[38;5;129;01min\u001b[39;00m \u001b[43mos\u001b[49m\u001b[43m.\u001b[49m\u001b[43mlistdir\u001b[49m\u001b[43m(\u001b[49m\u001b[43mPOSTS_DIR\u001b[49m\u001b[43m)\u001b[49m \u001b[38;5;28;01mif\u001b[39;00m f.endswith(\u001b[33m'\u001b[39m\u001b[33m.csv\u001b[39m\u001b[33m'\u001b[39m)]\n\u001b[32m      5\u001b[39m comments_files = [os.path.join(COMMENTS_DIR, f) \u001b[38;5;28;01mfor\u001b[39;00m f \u001b[38;5;129;01min\u001b[39;00m os.listdir(COMMENTS_DIR) \u001b[38;5;28;01mif\u001b[39;00m f.endswith(\u001b[33m'\u001b[39m\u001b[33m.csv\u001b[39m\u001b[33m'\u001b[39m)]\n\u001b[32m      6\u001b[39m \u001b[38;5;28mprint\u001b[39m(\u001b[33mf\u001b[39m\u001b[33m\"\u001b[39m\u001b[33mFound \u001b[39m\u001b[38;5;132;01m{\u001b[39;00m\u001b[38;5;28mlen\u001b[39m(posts_files)\u001b[38;5;132;01m}\u001b[39;00m\u001b[33m posts files and \u001b[39m\u001b[38;5;132;01m{\u001b[39;00m\u001b[38;5;28mlen\u001b[39m(comments_files)\u001b[38;5;132;01m}\u001b[39;00m\u001b[33m comments files.\u001b[39m\u001b[33m\"\u001b[39m)\n",
      "\u001b[31mFileNotFoundError\u001b[39m: [WinError 3] Impossibile trovare il percorso specificato: 'C:\\\\Users\\\\Gabri\\\\Documents\\\\reddit_project\\\\data\\\\politics\\\\processed\\\\posts'"
     ]
    }
   ],
   "source": [
    "POSTS_DIR = r\"C:\\Users\\Gabri\\Documents\\reddit_project\\data\\politics\\processed\\posts\"\n",
    "COMMENTS_DIR = r\"C:\\Users\\Gabri\\Documents\\reddit_project\\data\\politics\\processed\\comments\"\n",
    "\n",
    "posts_files = [os.path.join(POSTS_DIR, f) for f in os.listdir(POSTS_DIR) if f.endswith('.csv')]\n",
    "comments_files = [os.path.join(COMMENTS_DIR, f) for f in os.listdir(COMMENTS_DIR) if f.endswith('.csv')]\n",
    "print(f\"Found {len(posts_files)} posts files and {len(comments_files)} comments files.\")"
   ]
  },
  {
   "cell_type": "code",
   "execution_count": null,
   "id": "bafb930a",
   "metadata": {},
   "outputs": [
    {
     "data": {
      "text/plain": [
       "['C:\\\\Users\\\\Gabri\\\\Documents\\\\reddit_project\\\\data\\\\politics\\\\processed\\\\posts\\\\part-00000-70f4e060-791f-4d83-b722-fb1afc72b21e-c000.csv']"
      ]
     },
     "execution_count": 3,
     "metadata": {},
     "output_type": "execute_result"
    }
   ],
   "source": [
    "posts_files"
   ]
  },
  {
   "cell_type": "code",
   "execution_count": 3,
   "id": "93a4d82c",
   "metadata": {},
   "outputs": [
    {
     "name": "stdout",
     "output_type": "stream",
     "text": [
      "Dropping all tables...\n",
      "Creating all tables fresh...\n",
      "Database reset complete.\n"
     ]
    }
   ],
   "source": [
    "manager = RedditDBManager()\n",
    "manager.reset_database()"
   ]
  },
  {
   "cell_type": "code",
   "execution_count": 5,
   "id": "e155ae1e",
   "metadata": {},
   "outputs": [
    {
     "name": "stdout",
     "output_type": "stream",
     "text": [
      "post_id VARCHAR\n",
      "author VARCHAR\n",
      "title TEXT\n",
      "selftext TEXT\n",
      "created_utc INTEGER\n",
      "created_ts TIMESTAMP\n",
      "created_date TIMESTAMP\n",
      "created_time TIME\n",
      "score INTEGER\n",
      "author_comment_karma INTEGER\n",
      "author_link_karma INTEGER\n",
      "num_comments INTEGER\n",
      "extra JSONB\n"
     ]
    }
   ],
   "source": [
    "from sqlalchemy import inspect\n",
    "\n",
    "engine = manager.engine\n",
    "\n",
    "inspector = inspect(engine)\n",
    "for col in inspector.get_columns('posts'):\n",
    "    print(col['name'], col['type'])"
   ]
  },
  {
   "cell_type": "code",
   "execution_count": 6,
   "id": "e85d0c24",
   "metadata": {},
   "outputs": [],
   "source": [
    "manager.load_from_csv(posts_files[0], Post)"
   ]
  },
  {
   "cell_type": "code",
   "execution_count": 7,
   "id": "abf59933",
   "metadata": {},
   "outputs": [],
   "source": [
    "manager.load_from_csv(comments_files[0], Comment)"
   ]
  }
 ],
 "metadata": {
  "kernelspec": {
   "display_name": "reddit",
   "language": "python",
   "name": "python3"
  },
  "language_info": {
   "codemirror_mode": {
    "name": "ipython",
    "version": 3
   },
   "file_extension": ".py",
   "mimetype": "text/x-python",
   "name": "python",
   "nbconvert_exporter": "python",
   "pygments_lexer": "ipython3",
   "version": "3.11.13"
  }
 },
 "nbformat": 4,
 "nbformat_minor": 5
}
