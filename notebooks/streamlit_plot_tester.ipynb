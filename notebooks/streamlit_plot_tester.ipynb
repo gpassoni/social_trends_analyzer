{
 "cells": [
  {
   "cell_type": "code",
   "execution_count": 1,
   "id": "9852b983",
   "metadata": {},
   "outputs": [],
   "source": [
    "from reddit_db.db_manager import RedditDBManager\n",
    "import matplotlib.pyplot as plt\n",
    "import seaborn as sns"
   ]
  },
  {
   "cell_type": "code",
   "execution_count": 2,
   "id": "7dfc7862",
   "metadata": {},
   "outputs": [],
   "source": [
    "manager = RedditDBManager()\n"
   ]
  },
  {
   "cell_type": "markdown",
   "id": "0f9b944a",
   "metadata": {},
   "source": [
    "# Trends"
   ]
  },
  {
   "cell_type": "code",
   "execution_count": 3,
   "id": "be026b81",
   "metadata": {},
   "outputs": [
    {
     "data": {
      "application/vnd.microsoft.datawrangler.viewer.v0+json": {
       "columns": [
        {
         "name": "index",
         "rawType": "int64",
         "type": "integer"
        },
        {
         "name": "comment_id",
         "rawType": "object",
         "type": "string"
        },
        {
         "name": "negative_score",
         "rawType": "float64",
         "type": "float"
        },
        {
         "name": "neutral_score",
         "rawType": "float64",
         "type": "float"
        },
        {
         "name": "positive_score",
         "rawType": "float64",
         "type": "float"
        },
        {
         "name": "pred_label",
         "rawType": "object",
         "type": "string"
        }
       ],
       "ref": "842ab058-8f20-4e4d-820b-cd4588b1728a",
       "rows": [
        [
         "0",
         "nda1t43",
         "0.766606867313385",
         "0.2260068655014038",
         "0.007386277429759502",
         "negative"
        ],
        [
         "1",
         "ndafvrl",
         "0.10199422389268875",
         "0.7349120378494263",
         "0.163093701004982",
         "neutral"
        ],
        [
         "2",
         "ndashxx",
         "0.9524564743041992",
         "0.04136085510253906",
         "0.00618273951113224",
         "negative"
        ],
        [
         "3",
         "nd91cpt",
         "0.6918880343437195",
         "0.2854298949241638",
         "0.02268212102353573",
         "negative"
        ],
        [
         "4",
         "nd91ofq",
         "0.08405826985836029",
         "0.49079400300979614",
         "0.4251477122306824",
         "neutral"
        ],
        [
         "5",
         "ndc1kwd",
         "0.3662158250808716",
         "0.5788635611534119",
         "0.05492054298520088",
         "neutral"
        ],
        [
         "6",
         "nd8ve1j",
         "0.38103368878364563",
         "0.5633288621902466",
         "0.05563740059733391",
         "neutral"
        ],
        [
         "7",
         "nd8vsws",
         "0.0319850780069828",
         "0.8356204032897949",
         "0.13239455223083496",
         "neutral"
        ],
        [
         "8",
         "nd8wpo7",
         "0.84629225730896",
         "0.14010150730609894",
         "0.013606252148747444",
         "negative"
        ],
        [
         "9",
         "nd8wwjc",
         "0.396147757768631",
         "0.525414228439331",
         "0.07843799144029617",
         "neutral"
        ],
        [
         "10",
         "nd8y6g1",
         "0.19176186621189117",
         "0.744755744934082",
         "0.06348232179880142",
         "neutral"
        ],
        [
         "11",
         "nd8yklc",
         "0.5478460788726807",
         "0.4187973141670227",
         "0.03335658460855484",
         "negative"
        ],
        [
         "12",
         "nd8z30q",
         "0.1977977603673935",
         "0.6778464913368225",
         "0.1243557333946228",
         "neutral"
        ],
        [
         "13",
         "nd8z545",
         "0.7564350366592407",
         "0.23072019219398499",
         "0.0128447525203228",
         "negative"
        ],
        [
         "14",
         "nd8zc4v",
         "0.909467875957489",
         "0.08374784141778946",
         "0.006784289609640837",
         "negative"
        ],
        [
         "15",
         "nd8zoqj",
         "0.5786882638931274",
         "0.3813897669315338",
         "0.039921995252370834",
         "negative"
        ],
        [
         "16",
         "nd90hdk",
         "0.6714805960655212",
         "0.2651003301143646",
         "0.06341908872127533",
         "negative"
        ],
        [
         "17",
         "nd90iw0",
         "0.9417733550071716",
         "0.0551178976893425",
         "0.003108721924945712",
         "negative"
        ],
        [
         "18",
         "nd90uj3",
         "0.2852383852005005",
         "0.5707247257232666",
         "0.14403682947158813",
         "neutral"
        ],
        [
         "19",
         "nd91c10",
         "0.09421175718307495",
         "0.861802339553833",
         "0.04398595169186592",
         "neutral"
        ],
        [
         "20",
         "nd9218j",
         "0.943682849407196",
         "0.051187723875045776",
         "0.005129444878548384",
         "negative"
        ],
        [
         "21",
         "nd92btb",
         "0.8473102450370789",
         "0.14738410711288452",
         "0.005305642262101173",
         "negative"
        ],
        [
         "22",
         "nd92ol0",
         "0.019269485026597977",
         "0.4958385229110718",
         "0.4848919212818146",
         "neutral"
        ],
        [
         "23",
         "nd92v82",
         "0.4720575511455536",
         "0.46681803464889526",
         "0.061124417930841446",
         "negative"
        ],
        [
         "24",
         "nd935oh",
         "0.899569034576416",
         "0.09560108184814453",
         "0.004829882178455591",
         "negative"
        ],
        [
         "25",
         "nd9396y",
         "0.7984849214553833",
         "0.17871777713298798",
         "0.02279726415872574",
         "negative"
        ],
        [
         "26",
         "nd93jys",
         "0.889580488204956",
         "0.10180205851793289",
         "0.008617469109594822",
         "negative"
        ],
        [
         "27",
         "nd94boe",
         "0.731881320476532",
         "0.25602900981903076",
         "0.012089627794921398",
         "negative"
        ],
        [
         "28",
         "nd94d7n",
         "0.5874038338661194",
         "0.3946765065193176",
         "0.017919639125466347",
         "negative"
        ],
        [
         "29",
         "nd94f3v",
         "0.6762248277664185",
         "0.31143781542778015",
         "0.01233736239373684",
         "negative"
        ],
        [
         "30",
         "nd94je3",
         "0.7180063128471375",
         "0.25785213708877563",
         "0.02414149045944214",
         "negative"
        ],
        [
         "31",
         "nd94nvb",
         "0.3874674141407013",
         "0.5739992260932922",
         "0.03853334113955498",
         "neutral"
        ],
        [
         "32",
         "nd953hj",
         "0.9212725758552551",
         "0.07239975035190582",
         "0.006327599752694368",
         "negative"
        ],
        [
         "33",
         "nd959a4",
         "0.1478833556175232",
         "0.6933296322822571",
         "0.15878696739673615",
         "neutral"
        ],
        [
         "34",
         "nd959be",
         "0.8992229104042053",
         "0.09538695216178894",
         "0.005390114616602659",
         "negative"
        ],
        [
         "35",
         "nd96g52",
         "0.35958003997802734",
         "0.5377594232559204",
         "0.10266059637069702",
         "neutral"
        ],
        [
         "36",
         "nd96lke",
         "0.7640632390975952",
         "0.21038392186164856",
         "0.02555280551314354",
         "negative"
        ],
        [
         "37",
         "nd96wuw",
         "0.21048834919929504",
         "0.7688078284263611",
         "0.020703880116343498",
         "neutral"
        ],
        [
         "38",
         "nd976p0",
         "0.9183812141418457",
         "0.07362814992666245",
         "0.007990623824298382",
         "negative"
        ],
        [
         "39",
         "nd97wkp",
         "0.047119759023189545",
         "0.6467916965484619",
         "0.30608856678009033",
         "neutral"
        ],
        [
         "40",
         "nd987s1",
         "0.6846711039543152",
         "0.29078027606010437",
         "0.024548562243580818",
         "negative"
        ],
        [
         "41",
         "nd98avd",
         "0.7715170383453369",
         "0.21413801610469818",
         "0.01434493251144886",
         "negative"
        ],
        [
         "42",
         "nd98ej6",
         "0.1794908046722412",
         "0.4647049307823181",
         "0.3558042347431183",
         "neutral"
        ],
        [
         "43",
         "nd98in1",
         "0.1463896930217743",
         "0.46946489810943604",
         "0.38414546847343445",
         "neutral"
        ],
        [
         "44",
         "nd99183",
         "0.828039824962616",
         "0.159053236246109",
         "0.012906955555081367",
         "negative"
        ],
        [
         "45",
         "nd99rw4",
         "0.3283660411834717",
         "0.5992941856384277",
         "0.07233970612287521",
         "neutral"
        ],
        [
         "46",
         "nd99vo4",
         "0.42433902621269226",
         "0.5038712024688721",
         "0.07178980857133865",
         "neutral"
        ],
        [
         "47",
         "nd9akkj",
         "0.15491800010204315",
         "0.5753294229507446",
         "0.2697525918483734",
         "neutral"
        ],
        [
         "48",
         "nd9avtm",
         "0.3061603307723999",
         "0.5462272763252258",
         "0.14761236310005188",
         "neutral"
        ],
        [
         "49",
         "nd9b2kp",
         "0.27471667528152466",
         "0.6727297902107239",
         "0.05255357176065445",
         "neutral"
        ]
       ],
       "shape": {
        "columns": 5,
        "rows": 21682
       }
      },
      "text/html": [
       "<div>\n",
       "<style scoped>\n",
       "    .dataframe tbody tr th:only-of-type {\n",
       "        vertical-align: middle;\n",
       "    }\n",
       "\n",
       "    .dataframe tbody tr th {\n",
       "        vertical-align: top;\n",
       "    }\n",
       "\n",
       "    .dataframe thead th {\n",
       "        text-align: right;\n",
       "    }\n",
       "</style>\n",
       "<table border=\"1\" class=\"dataframe\">\n",
       "  <thead>\n",
       "    <tr style=\"text-align: right;\">\n",
       "      <th></th>\n",
       "      <th>comment_id</th>\n",
       "      <th>negative_score</th>\n",
       "      <th>neutral_score</th>\n",
       "      <th>positive_score</th>\n",
       "      <th>pred_label</th>\n",
       "    </tr>\n",
       "  </thead>\n",
       "  <tbody>\n",
       "    <tr>\n",
       "      <th>0</th>\n",
       "      <td>nda1t43</td>\n",
       "      <td>0.766607</td>\n",
       "      <td>0.226007</td>\n",
       "      <td>0.007386</td>\n",
       "      <td>negative</td>\n",
       "    </tr>\n",
       "    <tr>\n",
       "      <th>1</th>\n",
       "      <td>ndafvrl</td>\n",
       "      <td>0.101994</td>\n",
       "      <td>0.734912</td>\n",
       "      <td>0.163094</td>\n",
       "      <td>neutral</td>\n",
       "    </tr>\n",
       "    <tr>\n",
       "      <th>2</th>\n",
       "      <td>ndashxx</td>\n",
       "      <td>0.952456</td>\n",
       "      <td>0.041361</td>\n",
       "      <td>0.006183</td>\n",
       "      <td>negative</td>\n",
       "    </tr>\n",
       "    <tr>\n",
       "      <th>3</th>\n",
       "      <td>nd91cpt</td>\n",
       "      <td>0.691888</td>\n",
       "      <td>0.285430</td>\n",
       "      <td>0.022682</td>\n",
       "      <td>negative</td>\n",
       "    </tr>\n",
       "    <tr>\n",
       "      <th>4</th>\n",
       "      <td>nd91ofq</td>\n",
       "      <td>0.084058</td>\n",
       "      <td>0.490794</td>\n",
       "      <td>0.425148</td>\n",
       "      <td>neutral</td>\n",
       "    </tr>\n",
       "    <tr>\n",
       "      <th>...</th>\n",
       "      <td>...</td>\n",
       "      <td>...</td>\n",
       "      <td>...</td>\n",
       "      <td>...</td>\n",
       "      <td>...</td>\n",
       "    </tr>\n",
       "    <tr>\n",
       "      <th>21677</th>\n",
       "      <td>nelyaiw</td>\n",
       "      <td>0.175345</td>\n",
       "      <td>0.642005</td>\n",
       "      <td>0.182651</td>\n",
       "      <td>neutral</td>\n",
       "    </tr>\n",
       "    <tr>\n",
       "      <th>21678</th>\n",
       "      <td>nelysw8</td>\n",
       "      <td>0.754303</td>\n",
       "      <td>0.212199</td>\n",
       "      <td>0.033498</td>\n",
       "      <td>negative</td>\n",
       "    </tr>\n",
       "    <tr>\n",
       "      <th>21679</th>\n",
       "      <td>nelz2a9</td>\n",
       "      <td>0.923419</td>\n",
       "      <td>0.065732</td>\n",
       "      <td>0.010849</td>\n",
       "      <td>negative</td>\n",
       "    </tr>\n",
       "    <tr>\n",
       "      <th>21680</th>\n",
       "      <td>nelz870</td>\n",
       "      <td>0.511146</td>\n",
       "      <td>0.466057</td>\n",
       "      <td>0.022797</td>\n",
       "      <td>negative</td>\n",
       "    </tr>\n",
       "    <tr>\n",
       "      <th>21681</th>\n",
       "      <td>nelzay9</td>\n",
       "      <td>0.028287</td>\n",
       "      <td>0.351852</td>\n",
       "      <td>0.619861</td>\n",
       "      <td>positive</td>\n",
       "    </tr>\n",
       "  </tbody>\n",
       "</table>\n",
       "<p>21682 rows × 5 columns</p>\n",
       "</div>"
      ],
      "text/plain": [
       "      comment_id  negative_score  neutral_score  positive_score pred_label\n",
       "0        nda1t43        0.766607       0.226007        0.007386   negative\n",
       "1        ndafvrl        0.101994       0.734912        0.163094    neutral\n",
       "2        ndashxx        0.952456       0.041361        0.006183   negative\n",
       "3        nd91cpt        0.691888       0.285430        0.022682   negative\n",
       "4        nd91ofq        0.084058       0.490794        0.425148    neutral\n",
       "...          ...             ...            ...             ...        ...\n",
       "21677    nelyaiw        0.175345       0.642005        0.182651    neutral\n",
       "21678    nelysw8        0.754303       0.212199        0.033498   negative\n",
       "21679    nelz2a9        0.923419       0.065732        0.010849   negative\n",
       "21680    nelz870        0.511146       0.466057        0.022797   negative\n",
       "21681    nelzay9        0.028287       0.351852        0.619861   positive\n",
       "\n",
       "[21682 rows x 5 columns]"
      ]
     },
     "execution_count": 3,
     "metadata": {},
     "output_type": "execute_result"
    }
   ],
   "source": [
    "df = manager.get_all_sentiments()\n",
    "df"
   ]
  },
  {
   "cell_type": "code",
   "execution_count": 4,
   "id": "1fcd746a",
   "metadata": {},
   "outputs": [
    {
     "data": {
      "application/vnd.microsoft.datawrangler.viewer.v0+json": {
       "columns": [
        {
         "name": "index",
         "rawType": "int64",
         "type": "integer"
        },
        {
         "name": "Sentiment",
         "rawType": "object",
         "type": "string"
        },
        {
         "name": "Probability",
         "rawType": "float64",
         "type": "float"
        }
       ],
       "ref": "387b2968-e8b3-4701-8bb6-a7788d83fd80",
       "rows": [
        [
         "0",
         "negative_score",
         "0.766606867313385"
        ],
        [
         "1",
         "negative_score",
         "0.10199422389268875"
        ],
        [
         "2",
         "negative_score",
         "0.9524564743041992"
        ],
        [
         "3",
         "negative_score",
         "0.6918880343437195"
        ],
        [
         "4",
         "negative_score",
         "0.08405826985836029"
        ],
        [
         "5",
         "negative_score",
         "0.3662158250808716"
        ],
        [
         "6",
         "negative_score",
         "0.38103368878364563"
        ],
        [
         "7",
         "negative_score",
         "0.0319850780069828"
        ],
        [
         "8",
         "negative_score",
         "0.84629225730896"
        ],
        [
         "9",
         "negative_score",
         "0.396147757768631"
        ],
        [
         "10",
         "negative_score",
         "0.19176186621189117"
        ],
        [
         "11",
         "negative_score",
         "0.5478460788726807"
        ],
        [
         "12",
         "negative_score",
         "0.1977977603673935"
        ],
        [
         "13",
         "negative_score",
         "0.7564350366592407"
        ],
        [
         "14",
         "negative_score",
         "0.909467875957489"
        ],
        [
         "15",
         "negative_score",
         "0.5786882638931274"
        ],
        [
         "16",
         "negative_score",
         "0.6714805960655212"
        ],
        [
         "17",
         "negative_score",
         "0.9417733550071716"
        ],
        [
         "18",
         "negative_score",
         "0.2852383852005005"
        ],
        [
         "19",
         "negative_score",
         "0.09421175718307495"
        ],
        [
         "20",
         "negative_score",
         "0.943682849407196"
        ],
        [
         "21",
         "negative_score",
         "0.8473102450370789"
        ],
        [
         "22",
         "negative_score",
         "0.019269485026597977"
        ],
        [
         "23",
         "negative_score",
         "0.4720575511455536"
        ],
        [
         "24",
         "negative_score",
         "0.899569034576416"
        ],
        [
         "25",
         "negative_score",
         "0.7984849214553833"
        ],
        [
         "26",
         "negative_score",
         "0.889580488204956"
        ],
        [
         "27",
         "negative_score",
         "0.731881320476532"
        ],
        [
         "28",
         "negative_score",
         "0.5874038338661194"
        ],
        [
         "29",
         "negative_score",
         "0.6762248277664185"
        ],
        [
         "30",
         "negative_score",
         "0.7180063128471375"
        ],
        [
         "31",
         "negative_score",
         "0.3874674141407013"
        ],
        [
         "32",
         "negative_score",
         "0.9212725758552551"
        ],
        [
         "33",
         "negative_score",
         "0.1478833556175232"
        ],
        [
         "34",
         "negative_score",
         "0.8992229104042053"
        ],
        [
         "35",
         "negative_score",
         "0.35958003997802734"
        ],
        [
         "36",
         "negative_score",
         "0.7640632390975952"
        ],
        [
         "37",
         "negative_score",
         "0.21048834919929504"
        ],
        [
         "38",
         "negative_score",
         "0.9183812141418457"
        ],
        [
         "39",
         "negative_score",
         "0.047119759023189545"
        ],
        [
         "40",
         "negative_score",
         "0.6846711039543152"
        ],
        [
         "41",
         "negative_score",
         "0.7715170383453369"
        ],
        [
         "42",
         "negative_score",
         "0.1794908046722412"
        ],
        [
         "43",
         "negative_score",
         "0.1463896930217743"
        ],
        [
         "44",
         "negative_score",
         "0.828039824962616"
        ],
        [
         "45",
         "negative_score",
         "0.3283660411834717"
        ],
        [
         "46",
         "negative_score",
         "0.42433902621269226"
        ],
        [
         "47",
         "negative_score",
         "0.15491800010204315"
        ],
        [
         "48",
         "negative_score",
         "0.3061603307723999"
        ],
        [
         "49",
         "negative_score",
         "0.27471667528152466"
        ]
       ],
       "shape": {
        "columns": 2,
        "rows": 65046
       }
      },
      "text/html": [
       "<div>\n",
       "<style scoped>\n",
       "    .dataframe tbody tr th:only-of-type {\n",
       "        vertical-align: middle;\n",
       "    }\n",
       "\n",
       "    .dataframe tbody tr th {\n",
       "        vertical-align: top;\n",
       "    }\n",
       "\n",
       "    .dataframe thead th {\n",
       "        text-align: right;\n",
       "    }\n",
       "</style>\n",
       "<table border=\"1\" class=\"dataframe\">\n",
       "  <thead>\n",
       "    <tr style=\"text-align: right;\">\n",
       "      <th></th>\n",
       "      <th>Sentiment</th>\n",
       "      <th>Probability</th>\n",
       "    </tr>\n",
       "  </thead>\n",
       "  <tbody>\n",
       "    <tr>\n",
       "      <th>0</th>\n",
       "      <td>negative_score</td>\n",
       "      <td>0.766607</td>\n",
       "    </tr>\n",
       "    <tr>\n",
       "      <th>1</th>\n",
       "      <td>negative_score</td>\n",
       "      <td>0.101994</td>\n",
       "    </tr>\n",
       "    <tr>\n",
       "      <th>2</th>\n",
       "      <td>negative_score</td>\n",
       "      <td>0.952456</td>\n",
       "    </tr>\n",
       "    <tr>\n",
       "      <th>3</th>\n",
       "      <td>negative_score</td>\n",
       "      <td>0.691888</td>\n",
       "    </tr>\n",
       "    <tr>\n",
       "      <th>4</th>\n",
       "      <td>negative_score</td>\n",
       "      <td>0.084058</td>\n",
       "    </tr>\n",
       "    <tr>\n",
       "      <th>...</th>\n",
       "      <td>...</td>\n",
       "      <td>...</td>\n",
       "    </tr>\n",
       "    <tr>\n",
       "      <th>65041</th>\n",
       "      <td>positive_score</td>\n",
       "      <td>0.182651</td>\n",
       "    </tr>\n",
       "    <tr>\n",
       "      <th>65042</th>\n",
       "      <td>positive_score</td>\n",
       "      <td>0.033498</td>\n",
       "    </tr>\n",
       "    <tr>\n",
       "      <th>65043</th>\n",
       "      <td>positive_score</td>\n",
       "      <td>0.010849</td>\n",
       "    </tr>\n",
       "    <tr>\n",
       "      <th>65044</th>\n",
       "      <td>positive_score</td>\n",
       "      <td>0.022797</td>\n",
       "    </tr>\n",
       "    <tr>\n",
       "      <th>65045</th>\n",
       "      <td>positive_score</td>\n",
       "      <td>0.619861</td>\n",
       "    </tr>\n",
       "  </tbody>\n",
       "</table>\n",
       "<p>65046 rows × 2 columns</p>\n",
       "</div>"
      ],
      "text/plain": [
       "            Sentiment  Probability\n",
       "0      negative_score     0.766607\n",
       "1      negative_score     0.101994\n",
       "2      negative_score     0.952456\n",
       "3      negative_score     0.691888\n",
       "4      negative_score     0.084058\n",
       "...               ...          ...\n",
       "65041  positive_score     0.182651\n",
       "65042  positive_score     0.033498\n",
       "65043  positive_score     0.010849\n",
       "65044  positive_score     0.022797\n",
       "65045  positive_score     0.619861\n",
       "\n",
       "[65046 rows x 2 columns]"
      ]
     },
     "execution_count": 4,
     "metadata": {},
     "output_type": "execute_result"
    }
   ],
   "source": [
    "cols = [\"negative_score\", \"neutral_score\", \"positive_score\"]\n",
    "df_long = df[cols].melt(var_name=\"Sentiment\", value_name=\"Probability\")\n",
    "df_long"
   ]
  },
  {
   "cell_type": "code",
   "execution_count": 5,
   "id": "628fb23d",
   "metadata": {},
   "outputs": [
    {
     "data": {
      "image/png": "[encoded data removed]",
      "text/plain": [
       "<Figure size 1000x600 with 1 Axes>"
      ]
     },
     "metadata": {},
     "output_type": "display_data"
    }
   ],
   "source": [
    "plt.figure(figsize=(10,6))\n",
    "sns.histplot(\n",
    "    data=df_long,\n",
    "    x=\"Probability\",\n",
    "    hue=\"Sentiment\",\n",
    "    bins=50,\n",
    "    kde=True,\n",
    "    stat=\"density\",\n",
    "    common_norm=False,\n",
    "    palette={\"negative_score\": \"red\", \"neutral_score\": \"blue\", \"positive_score\": \"green\"},\n",
    "    alpha=0.6\n",
    ")\n",
    "plt.xlim(0,1)\n",
    "# make comments in english\n",
    "plt.title(\"Distribution of Sentiment Scores in Comments of subreddit r/politics\")\n",
    "plt.xlabel(\"Probability\")\n",
    "plt.ylabel(\"Density\")\n",
    "plt.show()"
   ]
  },
  {
   "cell_type": "code",
   "execution_count": null,
   "id": "8961fc58",
   "metadata": {},
   "outputs": [],
   "source": []
  },
  {
   "cell_type": "markdown",
   "id": "7be67705",
   "metadata": {},
   "source": [
    "## Posts"
   ]
  },
  {
   "cell_type": "code",
   "execution_count": 6,
   "id": "2575d118",
   "metadata": {},
   "outputs": [
    {
     "data": {
      "application/vnd.microsoft.datawrangler.viewer.v0+json": {
       "columns": [
        {
         "name": "index",
         "rawType": "int64",
         "type": "integer"
        },
        {
         "name": "post_id",
         "rawType": "object",
         "type": "string"
        },
        {
         "name": "fetch_type",
         "rawType": "object",
         "type": "string"
        },
        {
         "name": "avg_positive",
         "rawType": "float64",
         "type": "float"
        },
        {
         "name": "avg_neutral",
         "rawType": "float64",
         "type": "float"
        },
        {
         "name": "avg_negative",
         "rawType": "float64",
         "type": "float"
        },
        {
         "name": "pct_positive",
         "rawType": "float64",
         "type": "float"
        },
        {
         "name": "pct_negative",
         "rawType": "float64",
         "type": "float"
        },
        {
         "name": "num_comments",
         "rawType": "float64",
         "type": "float"
        }
       ],
       "ref": "6933be11-a479-49b3-9fef-a1824f34972e",
       "rows": [
        [
         "0",
         "1ndlbj5",
         "hot",
         "0.11353219664621964",
         "0.4566649464463972",
         "0.4298028521553939",
         "8.433734939759036",
         "44.57831325301205",
         "83.0"
        ],
        [
         "1",
         "1ndhwc6",
         "hot",
         "0.09168616202648205",
         "0.42314017564058304",
         "0.48517366050538985",
         "5.527638190954774",
         "47.73869346733668",
         "199.0"
        ],
        [
         "2",
         "1nd97ga",
         "hot",
         "0.11453202262589689",
         "0.3441524377320798",
         "0.5413155409237798",
         "9.693877551020408",
         "57.6530612244898",
         "196.0"
        ],
        [
         "3",
         "1ncyntv",
         "hot",
         "0.1421963669844482",
         "0.2563863209614607",
         "0.6014173203466894",
         "12.32876712328767",
         "64.38356164383562",
         "73.0"
        ],
        [
         "4",
         "1ndf6yu",
         "hot",
         "0.08320880723391276",
         "0.4091626846450655",
         "0.5076285057276597",
         "2.9411764705882355",
         "55.88235294117647",
         "68.0"
        ],
        [
         "5",
         "1muqof2",
         "top",
         "0.08973949282914977",
         "0.3906942611156972",
         "0.5195662453680626",
         "4.123711340206186",
         "49.48453608247423",
         "194.0"
        ],
        [
         "6",
         "1nbwc03",
         "top",
         "0.09672462279992575",
         "0.2698105682242424",
         "0.6334648055626337",
         "7.446808510638298",
         "69.14893617021276",
         "188.0"
        ],
        [
         "7",
         "1nd15qv",
         "hot",
         "0.0774663252505619",
         "0.33917653372033907",
         "0.5833571378665803",
         "3.5175879396984926",
         "62.311557788944725",
         "199.0"
        ],
        [
         "8",
         "1mug3vp",
         "top",
         "0.1365050862511085",
         "0.3012852081533601",
         "0.5622097015079913",
         "10.106382978723405",
         "67.55319148936171",
         "188.0"
        ],
        [
         "9",
         "1ndoi06",
         "hot",
         "0.12559707972010778",
         "0.34147578273569384",
         "0.5329271213512027",
         "12.903225806451612",
         "64.51612903225806",
         "31.0"
        ],
        [
         "10",
         "1n99ni5",
         "top",
         "0.09251853632143146",
         "0.4344645386759554",
         "0.47301692538070533",
         "4.424778761061947",
         "47.78761061946903",
         "226.0"
        ],
        [
         "11",
         "1ncxxi8",
         "hot",
         "0.09166866016981069",
         "0.2704085174411761",
         "0.6379228208385728",
         "6.565656565656566",
         "68.18181818181819",
         "198.0"
        ],
        [
         "12",
         "1ndbs51",
         "hot",
         "0.12266438758387319",
         "0.37151272106423694",
         "0.5058228922919985",
         "7.547169811320755",
         "52.83018867924528",
         "53.0"
        ],
        [
         "13",
         "1nhk0ss",
         "hot",
         "0.09266715153721691",
         "0.32706701340554634",
         "0.5802658364719039",
         "6.329113924050633",
         "65.82278481012658",
         "79.0"
        ],
        [
         "14",
         "1ncgknd",
         "hot",
         "0.06926491466674162",
         "0.31339531532763815",
         "0.6173397737188467",
         "3.1088082901554404",
         "72.02072538860104",
         "193.0"
        ],
        [
         "15",
         "1mmyjs7",
         "top",
         "0.05046370340670445",
         "0.30699763259816665",
         "0.6425386649638491",
         "1.5544041450777202",
         "72.53886010362694",
         "193.0"
        ],
        [
         "16",
         "1ndqf4l",
         "new",
         "0.04624405610240132",
         "0.3679063569052496",
         "0.5858495917873107",
         "0.0",
         "68.1159420289855",
         "69.0"
        ],
        [
         "17",
         "1ndjsfo",
         "hot",
         "0.10400237898162838",
         "0.37275098165264353",
         "0.5232466374254727",
         "7.291666666666667",
         "55.208333333333336",
         "192.0"
        ],
        [
         "18",
         "1ncp6as",
         "hot",
         "0.08168079457439793",
         "0.4111616512294859",
         "0.5071575438681369",
         "3.3333333333333335",
         "52.5",
         "120.0"
        ],
        [
         "19",
         "1ncyxk5",
         "hot",
         "0.19809364405129168",
         "0.38002778553419697",
         "0.4218785632875259",
         "16.949152542372882",
         "47.45762711864407",
         "59.0"
        ],
        [
         "20",
         "1ncsimp",
         "hot",
         "0.11111134669702986",
         "0.38181449979867627",
         "0.507074150264911",
         "6.086956521739131",
         "55.65217391304348",
         "115.0"
        ],
        [
         "21",
         "1nclmwz",
         "hot",
         "0.05635987561798156",
         "0.3005394082648134",
         "0.6431007189205801",
         "2.525252525252525",
         "72.22222222222223",
         "198.0"
        ],
        [
         "22",
         "1ndqwwn",
         "new",
         "0.044848404934301096",
         "0.3760807816596592",
         "0.5790708220618612",
         "0.0",
         "64.70588235294117",
         "17.0"
        ],
        [
         "23",
         "1ndqjfu",
         "new",
         "0.10540293909566985",
         "0.3719222699292004",
         "0.5226747876202519",
         "6.818181818181818",
         "54.54545454545455",
         "44.0"
        ],
        [
         "24",
         "1ndrv2h",
         "new",
         "0.10486442824670424",
         "0.28495516162365675",
         "0.6101804074520866",
         "12.5",
         "70.83333333333333",
         "24.0"
        ],
        [
         "25",
         "1ndrivk",
         "new",
         "0.08021724967031994",
         "0.3345696265724572",
         "0.5852131065489217",
         "9.090909090909092",
         "72.72727272727273",
         "11.0"
        ],
        [
         "26",
         "1ms7zwn",
         "top",
         "0.08422795039664356",
         "0.376138191342045",
         "0.5396338620119356",
         "5.181347150259067",
         "56.476683937823836",
         "193.0"
        ],
        [
         "27",
         "1ndc7qh",
         "hot",
         "0.08680296002068755",
         "0.32874678610588864",
         "0.584450251897891",
         "6.565656565656566",
         "63.13131313131313",
         "198.0"
        ],
        [
         "28",
         "1ncnzch",
         "hot",
         "0.06876398800938789",
         "0.35960590309102314",
         "0.571630111447659",
         "1.0204081632653061",
         "60.204081632653065",
         "196.0"
        ],
        [
         "29",
         "1ndr4pk",
         "new",
         "0.016051696613430977",
         "0.42174556851387024",
         "0.5622026920318604",
         "0.0",
         "100.0",
         "1.0"
        ],
        [
         "30",
         "1ndae9u",
         "hot",
         "0.06756844864917341",
         "0.4085436395594272",
         "0.5238879113859529",
         "3.4482758620689653",
         "58.62068965517241",
         "58.0"
        ],
        [
         "31",
         "1ndr1ck",
         "new",
         "0.0399132373665149",
         "0.40573617567618686",
         "0.5543505623936653",
         "0.0",
         "66.66666666666667",
         "6.0"
        ],
        [
         "32",
         "1nct2zc",
         "hot",
         "0.04957428246151465",
         "0.313312700849313",
         "0.6371130156814335",
         "2.5641025641025643",
         "67.6923076923077",
         "195.0"
        ],
        [
         "33",
         "1mnexdh",
         "top",
         "0.05010827727750302",
         "0.2929829571914067",
         "0.6569087604200219",
         "1.6042780748663101",
         "72.72727272727273",
         "187.0"
        ],
        [
         "34",
         "1nddpg5",
         "hot",
         "0.06138581115249168",
         "0.3120406641709534",
         "0.6265735245789542",
         "3.5353535353535355",
         "72.22222222222223",
         "198.0"
        ],
        [
         "35",
         "1ndel3a",
         "hot",
         "0.09997584031791323",
         "0.301535052025602",
         "0.5984891057790568",
         "7.936507936507937",
         "68.25396825396825",
         "63.0"
        ],
        [
         "36",
         "1ncun7v",
         "hot",
         "0.07916432094582398",
         "0.4294683212723265",
         "0.49136735640943574",
         "3.0150753768844223",
         "50.25125628140704",
         "199.0"
        ],
        [
         "37",
         "1ndqp8o",
         "new",
         "0.08052041325252503",
         "0.43583551615476607",
         "0.48364407824352385",
         "0.0",
         "50.0",
         "50.0"
        ],
        [
         "38",
         "1ndr434",
         "new",
         "0.021587700629606844",
         "0.23148696795105933",
         "0.7469253480434418",
         "0.0",
         "80.0",
         "5.0"
        ],
        [
         "39",
         "1ndrn4v",
         "new",
         "0.497691853903234",
         "0.16586055047810078",
         "0.3364476361894049",
         "50.0",
         "50.0",
         "2.0"
        ],
        [
         "40",
         "1mqc3ab",
         "top",
         "0.21226102994246918",
         "0.38704928015682466",
         "0.40068968993183324",
         "17.647058823529413",
         "44.38502673796791",
         "187.0"
        ],
        [
         "41",
         "1n7osgn",
         "top",
         "0.08817602084833788",
         "0.3420095690596981",
         "0.5698144083510527",
         "4.060913705583756",
         "60.91370558375635",
         "197.0"
        ],
        [
         "42",
         "1ndqu6d",
         "new",
         "0.041958088986575603",
         "0.3935077495195649",
         "0.5645341846075925",
         "0.0",
         "54.54545454545455",
         "22.0"
        ],
        [
         "43",
         "1n13taq",
         "top",
         "0.28032944406946436",
         "0.32536285917127605",
         "0.39430770267193255",
         "28.42105263157895",
         "42.63157894736842",
         "190.0"
        ],
        [
         "44",
         "1ndqcua",
         "new",
         "0.09530116744442946",
         "0.48035092569059795",
         "0.4243479304843479",
         "0.0",
         "33.333333333333336",
         "9.0"
        ],
        [
         "45",
         "1morymo",
         "top",
         "0.20307883301879778",
         "0.3249050457257951",
         "0.47201612474245214",
         "18.023255813953487",
         "52.325581395348834",
         "172.0"
        ],
        [
         "46",
         "1mpz22b",
         "top",
         "0.060180054707942826",
         "0.32183126531737416",
         "0.6179886839279023",
         "2.6315789473684212",
         "70.0",
         "190.0"
        ],
        [
         "47",
         "1nciini",
         "top",
         "0.06798127979433549",
         "0.293303593969101",
         "0.6387151293737557",
         "3.0172413793103448",
         "73.27586206896552",
         "232.0"
        ],
        [
         "48",
         "1ncvn03",
         "hot",
         "0.07622377068653484",
         "0.3250848247067017",
         "0.5986914005075745",
         "4.705882352941177",
         "64.70588235294117",
         "170.0"
        ],
        [
         "49",
         "1mxf9nk",
         "top",
         "0.04841269388419519",
         "0.308099581066481",
         "0.6434877273883215",
         "1.0204081632653061",
         "72.44897959183673",
         "196.0"
        ]
       ],
       "shape": {
        "columns": 8,
        "rows": 61
       }
      },
      "text/html": [
       "<div>\n",
       "<style scoped>\n",
       "    .dataframe tbody tr th:only-of-type {\n",
       "        vertical-align: middle;\n",
       "    }\n",
       "\n",
       "    .dataframe tbody tr th {\n",
       "        vertical-align: top;\n",
       "    }\n",
       "\n",
       "    .dataframe thead th {\n",
       "        text-align: right;\n",
       "    }\n",
       "</style>\n",
       "<table border=\"1\" class=\"dataframe\">\n",
       "  <thead>\n",
       "    <tr style=\"text-align: right;\">\n",
       "      <th></th>\n",
       "      <th>post_id</th>\n",
       "      <th>fetch_type</th>\n",
       "      <th>avg_positive</th>\n",
       "      <th>avg_neutral</th>\n",
       "      <th>avg_negative</th>\n",
       "      <th>pct_positive</th>\n",
       "      <th>pct_negative</th>\n",
       "      <th>num_comments</th>\n",
       "    </tr>\n",
       "  </thead>\n",
       "  <tbody>\n",
       "    <tr>\n",
       "      <th>0</th>\n",
       "      <td>1ndlbj5</td>\n",
       "      <td>hot</td>\n",
       "      <td>0.113532</td>\n",
       "      <td>0.456665</td>\n",
       "      <td>0.429803</td>\n",
       "      <td>8.433735</td>\n",
       "      <td>44.578313</td>\n",
       "      <td>83.0</td>\n",
       "    </tr>\n",
       "    <tr>\n",
       "      <th>1</th>\n",
       "      <td>1ndhwc6</td>\n",
       "      <td>hot</td>\n",
       "      <td>0.091686</td>\n",
       "      <td>0.423140</td>\n",
       "      <td>0.485174</td>\n",
       "      <td>5.527638</td>\n",
       "      <td>47.738693</td>\n",
       "      <td>199.0</td>\n",
       "    </tr>\n",
       "    <tr>\n",
       "      <th>2</th>\n",
       "      <td>1nd97ga</td>\n",
       "      <td>hot</td>\n",
       "      <td>0.114532</td>\n",
       "      <td>0.344152</td>\n",
       "      <td>0.541316</td>\n",
       "      <td>9.693878</td>\n",
       "      <td>57.653061</td>\n",
       "      <td>196.0</td>\n",
       "    </tr>\n",
       "    <tr>\n",
       "      <th>3</th>\n",
       "      <td>1ncyntv</td>\n",
       "      <td>hot</td>\n",
       "      <td>0.142196</td>\n",
       "      <td>0.256386</td>\n",
       "      <td>0.601417</td>\n",
       "      <td>12.328767</td>\n",
       "      <td>64.383562</td>\n",
       "      <td>73.0</td>\n",
       "    </tr>\n",
       "    <tr>\n",
       "      <th>4</th>\n",
       "      <td>1ndf6yu</td>\n",
       "      <td>hot</td>\n",
       "      <td>0.083209</td>\n",
       "      <td>0.409163</td>\n",
       "      <td>0.507629</td>\n",
       "      <td>2.941176</td>\n",
       "      <td>55.882353</td>\n",
       "      <td>68.0</td>\n",
       "    </tr>\n",
       "    <tr>\n",
       "      <th>...</th>\n",
       "      <td>...</td>\n",
       "      <td>...</td>\n",
       "      <td>...</td>\n",
       "      <td>...</td>\n",
       "      <td>...</td>\n",
       "      <td>...</td>\n",
       "      <td>...</td>\n",
       "      <td>...</td>\n",
       "    </tr>\n",
       "    <tr>\n",
       "      <th>56</th>\n",
       "      <td>1ndl31k</td>\n",
       "      <td>hot</td>\n",
       "      <td>0.097600</td>\n",
       "      <td>0.295344</td>\n",
       "      <td>0.607056</td>\n",
       "      <td>7.070707</td>\n",
       "      <td>67.676768</td>\n",
       "      <td>198.0</td>\n",
       "    </tr>\n",
       "    <tr>\n",
       "      <th>57</th>\n",
       "      <td>1ndcar5</td>\n",
       "      <td>hot</td>\n",
       "      <td>0.104577</td>\n",
       "      <td>0.365751</td>\n",
       "      <td>0.529672</td>\n",
       "      <td>7.179487</td>\n",
       "      <td>57.948718</td>\n",
       "      <td>195.0</td>\n",
       "    </tr>\n",
       "    <tr>\n",
       "      <th>58</th>\n",
       "      <td>1ndjcll</td>\n",
       "      <td>new</td>\n",
       "      <td>NaN</td>\n",
       "      <td>NaN</td>\n",
       "      <td>NaN</td>\n",
       "      <td>NaN</td>\n",
       "      <td>NaN</td>\n",
       "      <td>NaN</td>\n",
       "    </tr>\n",
       "    <tr>\n",
       "      <th>59</th>\n",
       "      <td>1ndrfg5</td>\n",
       "      <td>new</td>\n",
       "      <td>NaN</td>\n",
       "      <td>NaN</td>\n",
       "      <td>NaN</td>\n",
       "      <td>NaN</td>\n",
       "      <td>NaN</td>\n",
       "      <td>NaN</td>\n",
       "    </tr>\n",
       "    <tr>\n",
       "      <th>60</th>\n",
       "      <td>1ndqspu</td>\n",
       "      <td>new</td>\n",
       "      <td>NaN</td>\n",
       "      <td>NaN</td>\n",
       "      <td>NaN</td>\n",
       "      <td>NaN</td>\n",
       "      <td>NaN</td>\n",
       "      <td>NaN</td>\n",
       "    </tr>\n",
       "  </tbody>\n",
       "</table>\n",
       "<p>61 rows × 8 columns</p>\n",
       "</div>"
      ],
      "text/plain": [
       "    post_id fetch_type  avg_positive  avg_neutral  avg_negative  pct_positive  \\\n",
       "0   1ndlbj5        hot      0.113532     0.456665      0.429803      8.433735   \n",
       "1   1ndhwc6        hot      0.091686     0.423140      0.485174      5.527638   \n",
       "2   1nd97ga        hot      0.114532     0.344152      0.541316      9.693878   \n",
       "3   1ncyntv        hot      0.142196     0.256386      0.601417     12.328767   \n",
       "4   1ndf6yu        hot      0.083209     0.409163      0.507629      2.941176   \n",
       "..      ...        ...           ...          ...           ...           ...   \n",
       "56  1ndl31k        hot      0.097600     0.295344      0.607056      7.070707   \n",
       "57  1ndcar5        hot      0.104577     0.365751      0.529672      7.179487   \n",
       "58  1ndjcll        new           NaN          NaN           NaN           NaN   \n",
       "59  1ndrfg5        new           NaN          NaN           NaN           NaN   \n",
       "60  1ndqspu        new           NaN          NaN           NaN           NaN   \n",
       "\n",
       "    pct_negative  num_comments  \n",
       "0      44.578313          83.0  \n",
       "1      47.738693         199.0  \n",
       "2      57.653061         196.0  \n",
       "3      64.383562          73.0  \n",
       "4      55.882353          68.0  \n",
       "..           ...           ...  \n",
       "56     67.676768         198.0  \n",
       "57     57.948718         195.0  \n",
       "58           NaN           NaN  \n",
       "59           NaN           NaN  \n",
       "60           NaN           NaN  \n",
       "\n",
       "[61 rows x 8 columns]"
      ]
     },
     "execution_count": 6,
     "metadata": {},
     "output_type": "execute_result"
    }
   ],
   "source": [
    "df = manager.get_posts_features_by_subreddit(\"politics\")\n",
    "df"
   ]
  },
  {
   "cell_type": "code",
   "execution_count": 7,
   "id": "31437f30",
   "metadata": {},
   "outputs": [
    {
     "data": {
      "application/vnd.microsoft.datawrangler.viewer.v0+json": {
       "columns": [
        {
         "name": "index",
         "rawType": "int64",
         "type": "integer"
        },
        {
         "name": "sentiment",
         "rawType": "object",
         "type": "string"
        },
        {
         "name": "probability",
         "rawType": "float64",
         "type": "float"
        }
       ],
       "ref": "910b79d5-101b-46d6-bb8c-073929bb8d6c",
       "rows": [
        [
         "0",
         "avg_negative",
         "0.4298028521553939"
        ],
        [
         "1",
         "avg_negative",
         "0.48517366050538985"
        ],
        [
         "2",
         "avg_negative",
         "0.5413155409237798"
        ],
        [
         "3",
         "avg_negative",
         "0.6014173203466894"
        ],
        [
         "4",
         "avg_negative",
         "0.5076285057276597"
        ],
        [
         "5",
         "avg_negative",
         "0.5195662453680626"
        ],
        [
         "6",
         "avg_negative",
         "0.6334648055626337"
        ],
        [
         "7",
         "avg_negative",
         "0.5833571378665803"
        ],
        [
         "8",
         "avg_negative",
         "0.5622097015079913"
        ],
        [
         "9",
         "avg_negative",
         "0.5329271213512027"
        ],
        [
         "10",
         "avg_negative",
         "0.47301692538070533"
        ],
        [
         "11",
         "avg_negative",
         "0.6379228208385728"
        ],
        [
         "12",
         "avg_negative",
         "0.5058228922919985"
        ],
        [
         "13",
         "avg_negative",
         "0.5802658364719039"
        ],
        [
         "14",
         "avg_negative",
         "0.6173397737188467"
        ],
        [
         "15",
         "avg_negative",
         "0.6425386649638491"
        ],
        [
         "16",
         "avg_negative",
         "0.5858495917873107"
        ],
        [
         "17",
         "avg_negative",
         "0.5232466374254727"
        ],
        [
         "18",
         "avg_negative",
         "0.5071575438681369"
        ],
        [
         "19",
         "avg_negative",
         "0.4218785632875259"
        ],
        [
         "20",
         "avg_negative",
         "0.507074150264911"
        ],
        [
         "21",
         "avg_negative",
         "0.6431007189205801"
        ],
        [
         "22",
         "avg_negative",
         "0.5790708220618612"
        ],
        [
         "23",
         "avg_negative",
         "0.5226747876202519"
        ],
        [
         "24",
         "avg_negative",
         "0.6101804074520866"
        ],
        [
         "25",
         "avg_negative",
         "0.5852131065489217"
        ],
        [
         "26",
         "avg_negative",
         "0.5396338620119356"
        ],
        [
         "27",
         "avg_negative",
         "0.584450251897891"
        ],
        [
         "28",
         "avg_negative",
         "0.571630111447659"
        ],
        [
         "29",
         "avg_negative",
         "0.5622026920318604"
        ],
        [
         "30",
         "avg_negative",
         "0.5238879113859529"
        ],
        [
         "31",
         "avg_negative",
         "0.5543505623936653"
        ],
        [
         "32",
         "avg_negative",
         "0.6371130156814335"
        ],
        [
         "33",
         "avg_negative",
         "0.6569087604200219"
        ],
        [
         "34",
         "avg_negative",
         "0.6265735245789542"
        ],
        [
         "35",
         "avg_negative",
         "0.5984891057790568"
        ],
        [
         "36",
         "avg_negative",
         "0.49136735640943574"
        ],
        [
         "37",
         "avg_negative",
         "0.48364407824352385"
        ],
        [
         "38",
         "avg_negative",
         "0.7469253480434418"
        ],
        [
         "39",
         "avg_negative",
         "0.3364476361894049"
        ],
        [
         "40",
         "avg_negative",
         "0.40068968993183324"
        ],
        [
         "41",
         "avg_negative",
         "0.5698144083510527"
        ],
        [
         "42",
         "avg_negative",
         "0.5645341846075925"
        ],
        [
         "43",
         "avg_negative",
         "0.39430770267193255"
        ],
        [
         "44",
         "avg_negative",
         "0.4243479304843479"
        ],
        [
         "45",
         "avg_negative",
         "0.47201612474245214"
        ],
        [
         "46",
         "avg_negative",
         "0.6179886839279023"
        ],
        [
         "47",
         "avg_negative",
         "0.6387151293737557"
        ],
        [
         "48",
         "avg_negative",
         "0.5986914005075745"
        ],
        [
         "49",
         "avg_negative",
         "0.6434877273883215"
        ]
       ],
       "shape": {
        "columns": 2,
        "rows": 183
       }
      },
      "text/html": [
       "<div>\n",
       "<style scoped>\n",
       "    .dataframe tbody tr th:only-of-type {\n",
       "        vertical-align: middle;\n",
       "    }\n",
       "\n",
       "    .dataframe tbody tr th {\n",
       "        vertical-align: top;\n",
       "    }\n",
       "\n",
       "    .dataframe thead th {\n",
       "        text-align: right;\n",
       "    }\n",
       "</style>\n",
       "<table border=\"1\" class=\"dataframe\">\n",
       "  <thead>\n",
       "    <tr style=\"text-align: right;\">\n",
       "      <th></th>\n",
       "      <th>sentiment</th>\n",
       "      <th>probability</th>\n",
       "    </tr>\n",
       "  </thead>\n",
       "  <tbody>\n",
       "    <tr>\n",
       "      <th>0</th>\n",
       "      <td>avg_negative</td>\n",
       "      <td>0.429803</td>\n",
       "    </tr>\n",
       "    <tr>\n",
       "      <th>1</th>\n",
       "      <td>avg_negative</td>\n",
       "      <td>0.485174</td>\n",
       "    </tr>\n",
       "    <tr>\n",
       "      <th>2</th>\n",
       "      <td>avg_negative</td>\n",
       "      <td>0.541316</td>\n",
       "    </tr>\n",
       "    <tr>\n",
       "      <th>3</th>\n",
       "      <td>avg_negative</td>\n",
       "      <td>0.601417</td>\n",
       "    </tr>\n",
       "    <tr>\n",
       "      <th>4</th>\n",
       "      <td>avg_negative</td>\n",
       "      <td>0.507629</td>\n",
       "    </tr>\n",
       "    <tr>\n",
       "      <th>...</th>\n",
       "      <td>...</td>\n",
       "      <td>...</td>\n",
       "    </tr>\n",
       "    <tr>\n",
       "      <th>178</th>\n",
       "      <td>avg_positive</td>\n",
       "      <td>0.097600</td>\n",
       "    </tr>\n",
       "    <tr>\n",
       "      <th>179</th>\n",
       "      <td>avg_positive</td>\n",
       "      <td>0.104577</td>\n",
       "    </tr>\n",
       "    <tr>\n",
       "      <th>180</th>\n",
       "      <td>avg_positive</td>\n",
       "      <td>NaN</td>\n",
       "    </tr>\n",
       "    <tr>\n",
       "      <th>181</th>\n",
       "      <td>avg_positive</td>\n",
       "      <td>NaN</td>\n",
       "    </tr>\n",
       "    <tr>\n",
       "      <th>182</th>\n",
       "      <td>avg_positive</td>\n",
       "      <td>NaN</td>\n",
       "    </tr>\n",
       "  </tbody>\n",
       "</table>\n",
       "<p>183 rows × 2 columns</p>\n",
       "</div>"
      ],
      "text/plain": [
       "        sentiment  probability\n",
       "0    avg_negative     0.429803\n",
       "1    avg_negative     0.485174\n",
       "2    avg_negative     0.541316\n",
       "3    avg_negative     0.601417\n",
       "4    avg_negative     0.507629\n",
       "..            ...          ...\n",
       "178  avg_positive     0.097600\n",
       "179  avg_positive     0.104577\n",
       "180  avg_positive          NaN\n",
       "181  avg_positive          NaN\n",
       "182  avg_positive          NaN\n",
       "\n",
       "[183 rows x 2 columns]"
      ]
     },
     "execution_count": 7,
     "metadata": {},
     "output_type": "execute_result"
    }
   ],
   "source": [
    "cols = [\"avg_negative\", \"avg_neutral\", \"avg_positive\"]\n",
    "\n",
    "df_long = df[cols].melt(var_name=\"sentiment\", value_name=\"probability\")\n",
    "df_long"
   ]
  },
  {
   "cell_type": "code",
   "execution_count": 8,
   "id": "8fb6f653",
   "metadata": {},
   "outputs": [
    {
     "data": {
      "application/vnd.plotly.v1+json": {
       "config": {
        "plotlyServerURL": "https://plot.ly"
       },
       "data": [
        {
         "bingroup": "x",
         "histnorm": "percent",
         "hovertemplate": "sentiment=avg_negative<br>probability=%{x}<br>percent=%{y}<extra></extra>",
         "legendgroup": "avg_negative",
         "marker": {
          "color": "rgb(102,194,165)",
          "line": {
           "width": 0
          },
          "opacity": 0.85,
          "pattern": {
           "shape": ""
          }
         },
         "name": "avg_negative",
         "nbinsx": 25,
         "orientation": "v",
         "showlegend": true,
         "type": "histogram",
         "x": {
          "bdata": "QQlv0uOB2z+VFDDTFQ3fP6KxIvh0UuE/MWJEic8+4z/Ew9Mifj7gP03D/mNJoOA/Ut/h+1dF5D/UzaCW3KriP1cQLzOf/eE/11qrLb0N4T8JvD3I6EXeP6j1mx7daeQ/3sp+fbMv4D/PQNSoiZHiP0GPVFc/weM/bu0NP62P5D8TP6OkR7/iPwCAb7tvvuA/q6oadaI64D9XBA3yDgDbP/AcgZHzOeA/DYl59UeU5D9aWlqIv4fiPy+66HnAueA/VVXVD5mG4z+MLjrWELriP175pDuuROE//UrBA9Gz4j/wckI7y0riPwAAAICQ/eE/aoTFlLDD4D8AAABkPb3hP2qlxtU6Y+Q/crdOhWUF5T/ZZJPr4wzkP6uqCqDSJuM/om6GEZBy3z+kcL1KBvTeP83MzPzP5uc/AACQqluI1T+vgIZe5qTZPxkJFW3rO+I/6aKL/qkQ4j+fW+JfVjzZPzmO4ziEKNs/9AW9HoM13j/ollg0kMbjP7HcA7ZacOQ/cnIy3noo4z+YUxCTc5fkP0jMawLxXOE/AAAA0McJ1D8/xdVfaLDgP5NN9nxnRuA/b8jb3hrW4D8AAABgxOrHP1Drt/sAbeM/RESEFhLz4D8AAAAAAAD4fwAAAAAAAPh/AAAAAAAA+H8=",
          "dtype": "f8"
         },
         "xaxis": "x",
         "yaxis": "y"
        },
        {
         "bingroup": "x",
         "histnorm": "percent",
         "hovertemplate": "sentiment=avg_neutral<br>probability=%{x}<br>percent=%{y}<extra></extra>",
         "legendgroup": "avg_neutral",
         "marker": {
          "color": "rgb(252,141,98)",
          "line": {
           "width": 0
          },
          "opacity": 0.85,
          "pattern": {
           "shape": ""
          }
         },
         "name": "avg_neutral",
         "nbinsx": 25,
         "orientation": "v",
         "showlegend": true,
         "type": "histogram",
         "x": {
          "bdata": "KOGNnP853T8AAACIuhTbPyp4OfKXBtY/e/XqK6Jo0D/T0lKvuC/aP/WDjoAiAdk/39moi5NE0T9ekfl9EbXVPwti8sBBSNM/nXPOPb3a1T8dozhaRM7bP4QPvoZfTtE/IjXBSt3G1z9+V4t7qu7UP+lQgzmrDtQ/31j9Zdml0z/bgbkax4vXPwAA8O4m29c/mplZ9XhQ2j8RNJwPYFLYP8uHcRWmb9g/LAVqpAk80z94eHggtRHYPwAAgBCTzdc/AAAAk7Q80j/RRRe5lmnVP5nNpeulEtg/gVq/9S8K1T8KXk56yAPXPwAAACDh/do/GmG5OJQl2j9VVVXdlPfZP0du5LZQDdQ/lQnbljvA0j8vuuhnefjTPzEMw6xZTNM/KBeismh82z/hehSmuuTbP2ZmZm5doc0/AAAAJOs6xT+ZsA1YasXYPwHzgRp849U/jC66IDsv2T/YUN69vtLUP8dxHM8Rvt4/s6ZsiD7L1D82lNcp4pjUPxph+W98xdI/o6KilDDO1D+n4CVO57fTPxoS8/fL7tc/AAAAEKos3j+9T/H660bYP3o7w1SeANk/Z8wZgxky2D8AAABgtW3lP9lkk87q5tI/ntiJj3do1z8AAAAAAAD4fwAAAAAAAPh/AAAAAAAA+H8=",
          "dtype": "f8"
         },
         "xaxis": "x",
         "yaxis": "y"
        },
        {
         "bingroup": "x",
         "histnorm": "percent",
         "hovertemplate": "sentiment=avg_positive<br>probability=%{x}<br>percent=%{y}<extra></extra>",
         "legendgroup": "avg_positive",
         "marker": {
          "color": "rgb(141,160,203)",
          "line": {
           "width": 0
          },
          "opacity": 0.85,
          "pattern": {
           "shape": ""
          }
         },
         "name": "avg_positive",
         "nbinsx": 25,
         "orientation": "v",
         "showlegend": true,
         "type": "histogram",
         "x": {
          "bdata": "SnijL3IQvT94RWaLvni3P6fghXv4Ub0/unPnlH0zwj8PD88hLE21PwNf3Noq+bY/FsSk4/HCuD8DEn5F1dSzP23Ul6j/eME/33vvqpATwD/nOsZ3S6+3P4Faf+mYd7c/ln0O7e5mvz/2DETRCLm3P6z+QG9Yu7E/LJ+I52DWqT9dOzAJTa2nP6uqbmDmn7o/iYhoVQjptD8ndV/tIVvJPxs8RxDLcbw/qPUrnTPbrD/x8PDAXvamP110UeCv+7o/VVXVKWXYuj8vuugfHom0P4nZXIT2j7U/CB98Arg4tj9JkqRHhJqxPwAAACDbb5A/Po0wdSpMsT9VVVUCgm+kP6MsyuPMYak/g+BUyMqnqT+lQK0G9m2vP+Q4jkQEmLk/tOx46RxEtD/hepRd/Jy0P83MzBAWG5Y/AAAA7y7a3z8vuuiSXivLPznE1SW0krY/AAAA2Id7pT/olpjo6vDRPxzHcUWoZbg/p6wpuXz+yT9sKK+N68+uPyz3dJ04Z7E/x8ZGqmaDsz/rQ+NxjMmoPzFvZ/NHXbU/AAAACByTyz+b96kMDWG5P97OkNVKyrk/xB1x78KGuD8AAACAZV7CP7gzJN5M/Lg/GY/xBpHFuj8AAAAAAAD4fwAAAAAAAPh/AAAAAAAA+H8=",
          "dtype": "f8"
         },
         "xaxis": "x",
         "yaxis": "y"
        }
       ],
       "layout": {
        "barmode": "overlay",
        "dragmode": false,
        "hovermode": false,
        "legend": {
         "title": {
          "text": "Sentiment"
         },
         "tracegroupgap": 0
        },
        "margin": {
         "t": 60
        },
        "paper_bgcolor": "white",
        "plot_bgcolor": "white",
        "template": {
         "data": {
          "bar": [
           {
            "error_x": {
             "color": "#2a3f5f"
            },
            "error_y": {
             "color": "#2a3f5f"
            },
            "marker": {
             "line": {
              "color": "#E5ECF6",
              "width": 0.5
             },
             "pattern": {
              "fillmode": "overlay",
              "size": 10,
              "solidity": 0.2
             }
            },
            "type": "bar"
           }
          ],
          "barpolar": [
           {
            "marker": {
             "line": {
              "color": "#E5ECF6",
              "width": 0.5
             },
             "pattern": {
              "fillmode": "overlay",
              "size": 10,
              "solidity": 0.2
             }
            },
            "type": "barpolar"
           }
          ],
          "carpet": [
           {
            "aaxis": {
             "endlinecolor": "#2a3f5f",
             "gridcolor": "white",
             "linecolor": "white",
             "minorgridcolor": "white",
             "startlinecolor": "#2a3f5f"
            },
            "baxis": {
             "endlinecolor": "#2a3f5f",
             "gridcolor": "white",
             "linecolor": "white",
             "minorgridcolor": "white",
             "startlinecolor": "#2a3f5f"
            },
            "type": "carpet"
           }
          ],
          "choropleth": [
           {
            "colorbar": {
             "outlinewidth": 0,
             "ticks": ""
            },
            "type": "choropleth"
           }
          ],
          "contour": [
           {
            "colorbar": {
             "outlinewidth": 0,
             "ticks": ""
            },
            "colorscale": [
             [
              0,
              "#0d0887"
             ],
             [
              0.1111111111111111,
              "#46039f"
             ],
             [
              0.2222222222222222,
              "#7201a8"
             ],
             [
              0.3333333333333333,
              "#9c179e"
             ],
             [
              0.4444444444444444,
              "#bd3786"
             ],
             [
              0.5555555555555556,
              "#d8576b"
             ],
             [
              0.6666666666666666,
              "#ed7953"
             ],
             [
              0.7777777777777778,
              "#fb9f3a"
             ],
             [
              0.8888888888888888,
              "#fdca26"
             ],
             [
              1,
              "#f0f921"
             ]
            ],
            "type": "contour"
           }
          ],
          "contourcarpet": [
           {
            "colorbar": {
             "outlinewidth": 0,
             "ticks": ""
            },
            "type": "contourcarpet"
           }
          ],
          "heatmap": [
           {
            "colorbar": {
             "outlinewidth": 0,
             "ticks": ""
            },
            "colorscale": [
             [
              0,
              "#0d0887"
             ],
             [
              0.1111111111111111,
              "#46039f"
             ],
             [
              0.2222222222222222,
              "#7201a8"
             ],
             [
              0.3333333333333333,
              "#9c179e"
             ],
             [
              0.4444444444444444,
              "#bd3786"
             ],
             [
              0.5555555555555556,
              "#d8576b"
             ],
             [
              0.6666666666666666,
              "#ed7953"
             ],
             [
              0.7777777777777778,
              "#fb9f3a"
             ],
             [
              0.8888888888888888,
              "#fdca26"
             ],
             [
              1,
              "#f0f921"
             ]
            ],
            "type": "heatmap"
           }
          ],
          "histogram": [
           {
            "marker": {
             "pattern": {
              "fillmode": "overlay",
              "size": 10,
              "solidity": 0.2
             }
            },
            "type": "histogram"
           }
          ],
          "histogram2d": [
           {
            "colorbar": {
             "outlinewidth": 0,
             "ticks": ""
            },
            "colorscale": [
             [
              0,
              "#0d0887"
             ],
             [
              0.1111111111111111,
              "#46039f"
             ],
             [
              0.2222222222222222,
              "#7201a8"
             ],
             [
              0.3333333333333333,
              "#9c179e"
             ],
             [
              0.4444444444444444,
              "#bd3786"
             ],
             [
              0.5555555555555556,
              "#d8576b"
             ],
             [
              0.6666666666666666,
              "#ed7953"
             ],
             [
              0.7777777777777778,
              "#fb9f3a"
             ],
             [
              0.8888888888888888,
              "#fdca26"
             ],
             [
              1,
              "#f0f921"
             ]
            ],
            "type": "histogram2d"
           }
          ],
          "histogram2dcontour": [
           {
            "colorbar": {
             "outlinewidth": 0,
             "ticks": ""
            },
            "colorscale": [
             [
              0,
              "#0d0887"
             ],
             [
              0.1111111111111111,
              "#46039f"
             ],
             [
              0.2222222222222222,
              "#7201a8"
             ],
             [
              0.3333333333333333,
              "#9c179e"
             ],
             [
              0.4444444444444444,
              "#bd3786"
             ],
             [
              0.5555555555555556,
              "#d8576b"
             ],
             [
              0.6666666666666666,
              "#ed7953"
             ],
             [
              0.7777777777777778,
              "#fb9f3a"
             ],
             [
              0.8888888888888888,
              "#fdca26"
             ],
             [
              1,
              "#f0f921"
             ]
            ],
            "type": "histogram2dcontour"
           }
          ],
          "mesh3d": [
           {
            "colorbar": {
             "outlinewidth": 0,
             "ticks": ""
            },
            "type": "mesh3d"
           }
          ],
          "parcoords": [
           {
            "line": {
             "colorbar": {
              "outlinewidth": 0,
              "ticks": ""
             }
            },
            "type": "parcoords"
           }
          ],
          "pie": [
           {
            "automargin": true,
            "type": "pie"
           }
          ],
          "scatter": [
           {
            "fillpattern": {
             "fillmode": "overlay",
             "size": 10,
             "solidity": 0.2
            },
            "type": "scatter"
           }
          ],
          "scatter3d": [
           {
            "line": {
             "colorbar": {
              "outlinewidth": 0,
              "ticks": ""
             }
            },
            "marker": {
             "colorbar": {
              "outlinewidth": 0,
              "ticks": ""
             }
            },
            "type": "scatter3d"
           }
          ],
          "scattercarpet": [
           {
            "marker": {
             "colorbar": {
              "outlinewidth": 0,
              "ticks": ""
             }
            },
            "type": "scattercarpet"
           }
          ],
          "scattergeo": [
           {
            "marker": {
             "colorbar": {
              "outlinewidth": 0,
              "ticks": ""
             }
            },
            "type": "scattergeo"
           }
          ],
          "scattergl": [
           {
            "marker": {
             "colorbar": {
              "outlinewidth": 0,
              "ticks": ""
             }
            },
            "type": "scattergl"
           }
          ],
          "scattermap": [
           {
            "marker": {
             "colorbar": {
              "outlinewidth": 0,
              "ticks": ""
             }
            },
            "type": "scattermap"
           }
          ],
          "scattermapbox": [
           {
            "marker": {
             "colorbar": {
              "outlinewidth": 0,
              "ticks": ""
             }
            },
            "type": "scattermapbox"
           }
          ],
          "scatterpolar": [
           {
            "marker": {
             "colorbar": {
              "outlinewidth": 0,
              "ticks": ""
             }
            },
            "type": "scatterpolar"
           }
          ],
          "scatterpolargl": [
           {
            "marker": {
             "colorbar": {
              "outlinewidth": 0,
              "ticks": ""
             }
            },
            "type": "scatterpolargl"
           }
          ],
          "scatterternary": [
           {
            "marker": {
             "colorbar": {
              "outlinewidth": 0,
              "ticks": ""
             }
            },
            "type": "scatterternary"
           }
          ],
          "surface": [
           {
            "colorbar": {
             "outlinewidth": 0,
             "ticks": ""
            },
            "colorscale": [
             [
              0,
              "#0d0887"
             ],
             [
              0.1111111111111111,
              "#46039f"
             ],
             [
              0.2222222222222222,
              "#7201a8"
             ],
             [
              0.3333333333333333,
              "#9c179e"
             ],
             [
              0.4444444444444444,
              "#bd3786"
             ],
             [
              0.5555555555555556,
              "#d8576b"
             ],
             [
              0.6666666666666666,
              "#ed7953"
             ],
             [
              0.7777777777777778,
              "#fb9f3a"
             ],
             [
              0.8888888888888888,
              "#fdca26"
             ],
             [
              1,
              "#f0f921"
             ]
            ],
            "type": "surface"
           }
          ],
          "table": [
           {
            "cells": {
             "fill": {
              "color": "#EBF0F8"
             },
             "line": {
              "color": "white"
             }
            },
            "header": {
             "fill": {
              "color": "#C8D4E3"
             },
             "line": {
              "color": "white"
             }
            },
            "type": "table"
           }
          ]
         },
         "layout": {
          "annotationdefaults": {
           "arrowcolor": "#2a3f5f",
           "arrowhead": 0,
           "arrowwidth": 1
          },
          "autotypenumbers": "strict",
          "coloraxis": {
           "colorbar": {
            "outlinewidth": 0,
            "ticks": ""
           }
          },
          "colorscale": {
           "diverging": [
            [
             0,
             "#8e0152"
            ],
            [
             0.1,
             "#c51b7d"
            ],
            [
             0.2,
             "#de77ae"
            ],
            [
             0.3,
             "#f1b6da"
            ],
            [
             0.4,
             "#fde0ef"
            ],
            [
             0.5,
             "#f7f7f7"
            ],
            [
             0.6,
             "#e6f5d0"
            ],
            [
             0.7,
             "#b8e186"
            ],
            [
             0.8,
             "#7fbc41"
            ],
            [
             0.9,
             "#4d9221"
            ],
            [
             1,
             "#276419"
            ]
           ],
           "sequential": [
            [
             0,
             "#0d0887"
            ],
            [
             0.1111111111111111,
             "#46039f"
            ],
            [
             0.2222222222222222,
             "#7201a8"
            ],
            [
             0.3333333333333333,
             "#9c179e"
            ],
            [
             0.4444444444444444,
             "#bd3786"
            ],
            [
             0.5555555555555556,
             "#d8576b"
            ],
            [
             0.6666666666666666,
             "#ed7953"
            ],
            [
             0.7777777777777778,
             "#fb9f3a"
            ],
            [
             0.8888888888888888,
             "#fdca26"
            ],
            [
             1,
             "#f0f921"
            ]
           ],
           "sequentialminus": [
            [
             0,
             "#0d0887"
            ],
            [
             0.1111111111111111,
             "#46039f"
            ],
            [
             0.2222222222222222,
             "#7201a8"
            ],
            [
             0.3333333333333333,
             "#9c179e"
            ],
            [
             0.4444444444444444,
             "#bd3786"
            ],
            [
             0.5555555555555556,
             "#d8576b"
            ],
            [
             0.6666666666666666,
             "#ed7953"
            ],
            [
             0.7777777777777778,
             "#fb9f3a"
            ],
            [
             0.8888888888888888,
             "#fdca26"
            ],
            [
             1,
             "#f0f921"
            ]
           ]
          },
          "colorway": [
           "#636efa",
           "#EF553B",
           "#00cc96",
           "#ab63fa",
           "#FFA15A",
           "#19d3f3",
           "#FF6692",
           "#B6E880",
           "#FF97FF",
           "#FECB52"
          ],
          "font": {
           "color": "#2a3f5f"
          },
          "geo": {
           "bgcolor": "white",
           "lakecolor": "white",
           "landcolor": "#E5ECF6",
           "showlakes": true,
           "showland": true,
           "subunitcolor": "white"
          },
          "hoverlabel": {
           "align": "left"
          },
          "hovermode": "closest",
          "mapbox": {
           "style": "light"
          },
          "paper_bgcolor": "white",
          "plot_bgcolor": "#E5ECF6",
          "polar": {
           "angularaxis": {
            "gridcolor": "white",
            "linecolor": "white",
            "ticks": ""
           },
           "bgcolor": "#E5ECF6",
           "radialaxis": {
            "gridcolor": "white",
            "linecolor": "white",
            "ticks": ""
           }
          },
          "scene": {
           "xaxis": {
            "backgroundcolor": "#E5ECF6",
            "gridcolor": "white",
            "gridwidth": 2,
            "linecolor": "white",
            "showbackground": true,
            "ticks": "",
            "zerolinecolor": "white"
           },
           "yaxis": {
            "backgroundcolor": "#E5ECF6",
            "gridcolor": "white",
            "gridwidth": 2,
            "linecolor": "white",
            "showbackground": true,
            "ticks": "",
            "zerolinecolor": "white"
           },
           "zaxis": {
            "backgroundcolor": "#E5ECF6",
            "gridcolor": "white",
            "gridwidth": 2,
            "linecolor": "white",
            "showbackground": true,
            "ticks": "",
            "zerolinecolor": "white"
           }
          },
          "shapedefaults": {
           "line": {
            "color": "#2a3f5f"
           }
          },
          "ternary": {
           "aaxis": {
            "gridcolor": "white",
            "linecolor": "white",
            "ticks": ""
           },
           "baxis": {
            "gridcolor": "white",
            "linecolor": "white",
            "ticks": ""
           },
           "bgcolor": "#E5ECF6",
           "caxis": {
            "gridcolor": "white",
            "linecolor": "white",
            "ticks": ""
           }
          },
          "title": {
           "x": 0.05
          },
          "xaxis": {
           "automargin": true,
           "gridcolor": "white",
           "linecolor": "white",
           "ticks": "",
           "title": {
            "standoff": 15
           },
           "zerolinecolor": "white",
           "zerolinewidth": 2
          },
          "yaxis": {
           "automargin": true,
           "gridcolor": "white",
           "linecolor": "white",
           "ticks": "",
           "title": {
            "standoff": 15
           },
           "zerolinecolor": "white",
           "zerolinewidth": 2
          }
         }
        },
        "xaxis": {
         "anchor": "y",
         "domain": [
          0,
          1
         ],
         "fixedrange": true,
         "title": {
          "text": "Sentiment Score (Probability)"
         }
        },
        "yaxis": {
         "anchor": "x",
         "domain": [
          0,
          1
         ],
         "fixedrange": true,
         "title": {
          "text": "Percentage of Posts (%)"
         }
        }
       }
      }
     },
     "metadata": {},
     "output_type": "display_data"
    }
   ],
   "source": [
    "import plotly.express as px\n",
    "\n",
    "fig = px.histogram(\n",
    "    df_long,\n",
    "    x='probability',\n",
    "    color='sentiment',\n",
    "    nbins=25,\n",
    "    barmode='overlay',  # barre sovrapposte\n",
    "    opacity=0.85,        # trasparenza per vedere sovrapposizioni\n",
    "    histnorm='percent',  # normalizza le distribuzioni\n",
    "    color_discrete_sequence=px.colors.qualitative.Set2  # colori soft\n",
    ")\n",
    "\n",
    "# Miglioramenti estetici\n",
    "fig.update_traces(marker_line_width=0)  # rimuove bordo barre\n",
    "fig.update_layout(\n",
    "    xaxis_title=\"Sentiment Score (Probability)\",\n",
    "    yaxis_title=\"Percentage of Posts (%)\",\n",
    "    legend_title=\"Sentiment\",\n",
    "    xaxis=dict(fixedrange=True),\n",
    "    yaxis=dict(fixedrange=True),\n",
    "    dragmode=False,\n",
    "    hovermode=False,\n",
    "    plot_bgcolor='white',\n",
    "    paper_bgcolor='white'\n",
    ")\n",
    "\n",
    "# Mostra nel notebook o in Streamlit\n",
    "fig.show()  # solo per notebook"
   ]
  },
  {
   "cell_type": "code",
   "execution_count": 9,
   "id": "09ad31e5",
   "metadata": {},
   "outputs": [
    {
     "data": {
      "application/vnd.microsoft.datawrangler.viewer.v0+json": {
       "columns": [
        {
         "name": "index",
         "rawType": "int64",
         "type": "integer"
        },
        {
         "name": "post_id",
         "rawType": "object",
         "type": "string"
        },
        {
         "name": "fetch_type",
         "rawType": "object",
         "type": "string"
        },
        {
         "name": "avg_positive",
         "rawType": "float64",
         "type": "float"
        },
        {
         "name": "avg_neutral",
         "rawType": "float64",
         "type": "float"
        },
        {
         "name": "avg_negative",
         "rawType": "float64",
         "type": "float"
        },
        {
         "name": "pct_positive",
         "rawType": "float64",
         "type": "float"
        },
        {
         "name": "pct_negative",
         "rawType": "float64",
         "type": "float"
        },
        {
         "name": "num_comments",
         "rawType": "float64",
         "type": "float"
        }
       ],
       "ref": "eadda6a6-0d2a-4733-9d99-86e4426f2c43",
       "rows": [
        [
         "0",
         "1ndlbj5",
         "hot",
         "0.11353219664621964",
         "0.4566649464463972",
         "0.4298028521553939",
         "8.433734939759036",
         "44.57831325301205",
         "83.0"
        ],
        [
         "1",
         "1ndhwc6",
         "hot",
         "0.09168616202648205",
         "0.42314017564058304",
         "0.48517366050538985",
         "5.527638190954774",
         "47.73869346733668",
         "199.0"
        ],
        [
         "2",
         "1nd97ga",
         "hot",
         "0.11453202262589689",
         "0.3441524377320798",
         "0.5413155409237798",
         "9.693877551020408",
         "57.6530612244898",
         "196.0"
        ],
        [
         "3",
         "1ncyntv",
         "hot",
         "0.1421963669844482",
         "0.2563863209614607",
         "0.6014173203466894",
         "12.32876712328767",
         "64.38356164383562",
         "73.0"
        ],
        [
         "4",
         "1ndf6yu",
         "hot",
         "0.08320880723391276",
         "0.4091626846450655",
         "0.5076285057276597",
         "2.9411764705882355",
         "55.88235294117647",
         "68.0"
        ],
        [
         "5",
         "1muqof2",
         "top",
         "0.08973949282914977",
         "0.3906942611156972",
         "0.5195662453680626",
         "4.123711340206186",
         "49.48453608247423",
         "194.0"
        ],
        [
         "6",
         "1nbwc03",
         "top",
         "0.09672462279992575",
         "0.2698105682242424",
         "0.6334648055626337",
         "7.446808510638298",
         "69.14893617021276",
         "188.0"
        ],
        [
         "7",
         "1nd15qv",
         "hot",
         "0.0774663252505619",
         "0.33917653372033907",
         "0.5833571378665803",
         "3.5175879396984926",
         "62.311557788944725",
         "199.0"
        ],
        [
         "8",
         "1mug3vp",
         "top",
         "0.1365050862511085",
         "0.3012852081533601",
         "0.5622097015079913",
         "10.106382978723405",
         "67.55319148936171",
         "188.0"
        ],
        [
         "9",
         "1ndoi06",
         "hot",
         "0.12559707972010778",
         "0.34147578273569384",
         "0.5329271213512027",
         "12.903225806451612",
         "64.51612903225806",
         "31.0"
        ],
        [
         "10",
         "1n99ni5",
         "top",
         "0.09251853632143146",
         "0.4344645386759554",
         "0.47301692538070533",
         "4.424778761061947",
         "47.78761061946903",
         "226.0"
        ],
        [
         "11",
         "1ncxxi8",
         "hot",
         "0.09166866016981069",
         "0.2704085174411761",
         "0.6379228208385728",
         "6.565656565656566",
         "68.18181818181819",
         "198.0"
        ],
        [
         "12",
         "1ndbs51",
         "hot",
         "0.12266438758387319",
         "0.37151272106423694",
         "0.5058228922919985",
         "7.547169811320755",
         "52.83018867924528",
         "53.0"
        ],
        [
         "13",
         "1nhk0ss",
         "hot",
         "0.09266715153721691",
         "0.32706701340554634",
         "0.5802658364719039",
         "6.329113924050633",
         "65.82278481012658",
         "79.0"
        ],
        [
         "14",
         "1ncgknd",
         "hot",
         "0.06926491466674162",
         "0.31339531532763815",
         "0.6173397737188467",
         "3.1088082901554404",
         "72.02072538860104",
         "193.0"
        ],
        [
         "15",
         "1mmyjs7",
         "top",
         "0.05046370340670445",
         "0.30699763259816665",
         "0.6425386649638491",
         "1.5544041450777202",
         "72.53886010362694",
         "193.0"
        ],
        [
         "16",
         "1ndqf4l",
         "new",
         "0.04624405610240132",
         "0.3679063569052496",
         "0.5858495917873107",
         "0.0",
         "68.1159420289855",
         "69.0"
        ],
        [
         "17",
         "1ndjsfo",
         "hot",
         "0.10400237898162838",
         "0.37275098165264353",
         "0.5232466374254727",
         "7.291666666666667",
         "55.208333333333336",
         "192.0"
        ],
        [
         "18",
         "1ncp6as",
         "hot",
         "0.08168079457439793",
         "0.4111616512294859",
         "0.5071575438681369",
         "3.3333333333333335",
         "52.5",
         "120.0"
        ],
        [
         "19",
         "1ncyxk5",
         "hot",
         "0.19809364405129168",
         "0.38002778553419697",
         "0.4218785632875259",
         "16.949152542372882",
         "47.45762711864407",
         "59.0"
        ],
        [
         "20",
         "1ncsimp",
         "hot",
         "0.11111134669702986",
         "0.38181449979867627",
         "0.507074150264911",
         "6.086956521739131",
         "55.65217391304348",
         "115.0"
        ],
        [
         "21",
         "1nclmwz",
         "hot",
         "0.05635987561798156",
         "0.3005394082648134",
         "0.6431007189205801",
         "2.525252525252525",
         "72.22222222222223",
         "198.0"
        ],
        [
         "22",
         "1ndqwwn",
         "new",
         "0.044848404934301096",
         "0.3760807816596592",
         "0.5790708220618612",
         "0.0",
         "64.70588235294117",
         "17.0"
        ],
        [
         "23",
         "1ndqjfu",
         "new",
         "0.10540293909566985",
         "0.3719222699292004",
         "0.5226747876202519",
         "6.818181818181818",
         "54.54545454545455",
         "44.0"
        ],
        [
         "24",
         "1ndrv2h",
         "new",
         "0.10486442824670424",
         "0.28495516162365675",
         "0.6101804074520866",
         "12.5",
         "70.83333333333333",
         "24.0"
        ],
        [
         "25",
         "1ndrivk",
         "new",
         "0.08021724967031994",
         "0.3345696265724572",
         "0.5852131065489217",
         "9.090909090909092",
         "72.72727272727273",
         "11.0"
        ],
        [
         "26",
         "1ms7zwn",
         "top",
         "0.08422795039664356",
         "0.376138191342045",
         "0.5396338620119356",
         "5.181347150259067",
         "56.476683937823836",
         "193.0"
        ],
        [
         "27",
         "1ndc7qh",
         "hot",
         "0.08680296002068755",
         "0.32874678610588864",
         "0.584450251897891",
         "6.565656565656566",
         "63.13131313131313",
         "198.0"
        ],
        [
         "28",
         "1ncnzch",
         "hot",
         "0.06876398800938789",
         "0.35960590309102314",
         "0.571630111447659",
         "1.0204081632653061",
         "60.204081632653065",
         "196.0"
        ],
        [
         "29",
         "1ndr4pk",
         "new",
         "0.016051696613430977",
         "0.42174556851387024",
         "0.5622026920318604",
         "0.0",
         "100.0",
         "1.0"
        ],
        [
         "30",
         "1ndae9u",
         "hot",
         "0.06756844864917341",
         "0.4085436395594272",
         "0.5238879113859529",
         "3.4482758620689653",
         "58.62068965517241",
         "58.0"
        ],
        [
         "31",
         "1ndr1ck",
         "new",
         "0.0399132373665149",
         "0.40573617567618686",
         "0.5543505623936653",
         "0.0",
         "66.66666666666667",
         "6.0"
        ],
        [
         "32",
         "1nct2zc",
         "hot",
         "0.04957428246151465",
         "0.313312700849313",
         "0.6371130156814335",
         "2.5641025641025643",
         "67.6923076923077",
         "195.0"
        ],
        [
         "33",
         "1mnexdh",
         "top",
         "0.05010827727750302",
         "0.2929829571914067",
         "0.6569087604200219",
         "1.6042780748663101",
         "72.72727272727273",
         "187.0"
        ],
        [
         "34",
         "1nddpg5",
         "hot",
         "0.06138581115249168",
         "0.3120406641709534",
         "0.6265735245789542",
         "3.5353535353535355",
         "72.22222222222223",
         "198.0"
        ],
        [
         "35",
         "1ndel3a",
         "hot",
         "0.09997584031791323",
         "0.301535052025602",
         "0.5984891057790568",
         "7.936507936507937",
         "68.25396825396825",
         "63.0"
        ],
        [
         "36",
         "1ncun7v",
         "hot",
         "0.07916432094582398",
         "0.4294683212723265",
         "0.49136735640943574",
         "3.0150753768844223",
         "50.25125628140704",
         "199.0"
        ],
        [
         "37",
         "1ndqp8o",
         "new",
         "0.08052041325252503",
         "0.43583551615476607",
         "0.48364407824352385",
         "0.0",
         "50.0",
         "50.0"
        ],
        [
         "38",
         "1ndr434",
         "new",
         "0.021587700629606844",
         "0.23148696795105933",
         "0.7469253480434418",
         "0.0",
         "80.0",
         "5.0"
        ],
        [
         "39",
         "1ndrn4v",
         "new",
         "0.497691853903234",
         "0.16586055047810078",
         "0.3364476361894049",
         "50.0",
         "50.0",
         "2.0"
        ],
        [
         "40",
         "1mqc3ab",
         "top",
         "0.21226102994246918",
         "0.38704928015682466",
         "0.40068968993183324",
         "17.647058823529413",
         "44.38502673796791",
         "187.0"
        ],
        [
         "41",
         "1n7osgn",
         "top",
         "0.08817602084833788",
         "0.3420095690596981",
         "0.5698144083510527",
         "4.060913705583756",
         "60.91370558375635",
         "197.0"
        ],
        [
         "42",
         "1ndqu6d",
         "new",
         "0.041958088986575603",
         "0.3935077495195649",
         "0.5645341846075925",
         "0.0",
         "54.54545454545455",
         "22.0"
        ],
        [
         "43",
         "1n13taq",
         "top",
         "0.28032944406946436",
         "0.32536285917127605",
         "0.39430770267193255",
         "28.42105263157895",
         "42.63157894736842",
         "190.0"
        ],
        [
         "44",
         "1ndqcua",
         "new",
         "0.09530116744442946",
         "0.48035092569059795",
         "0.4243479304843479",
         "0.0",
         "33.333333333333336",
         "9.0"
        ],
        [
         "45",
         "1morymo",
         "top",
         "0.20307883301879778",
         "0.3249050457257951",
         "0.47201612474245214",
         "18.023255813953487",
         "52.325581395348834",
         "172.0"
        ],
        [
         "46",
         "1mpz22b",
         "top",
         "0.060180054707942826",
         "0.32183126531737416",
         "0.6179886839279023",
         "2.6315789473684212",
         "70.0",
         "190.0"
        ],
        [
         "47",
         "1nciini",
         "top",
         "0.06798127979433549",
         "0.293303593969101",
         "0.6387151293737557",
         "3.0172413793103448",
         "73.27586206896552",
         "232.0"
        ],
        [
         "48",
         "1ncvn03",
         "hot",
         "0.07622377068653484",
         "0.3250848247067017",
         "0.5986914005075745",
         "4.705882352941177",
         "64.70588235294117",
         "170.0"
        ],
        [
         "49",
         "1mxf9nk",
         "top",
         "0.04841269388419519",
         "0.308099581066481",
         "0.6434877273883215",
         "1.0204081632653061",
         "72.44897959183673",
         "196.0"
        ]
       ],
       "shape": {
        "columns": 8,
        "rows": 61
       }
      },
      "text/html": [
       "<div>\n",
       "<style scoped>\n",
       "    .dataframe tbody tr th:only-of-type {\n",
       "        vertical-align: middle;\n",
       "    }\n",
       "\n",
       "    .dataframe tbody tr th {\n",
       "        vertical-align: top;\n",
       "    }\n",
       "\n",
       "    .dataframe thead th {\n",
       "        text-align: right;\n",
       "    }\n",
       "</style>\n",
       "<table border=\"1\" class=\"dataframe\">\n",
       "  <thead>\n",
       "    <tr style=\"text-align: right;\">\n",
       "      <th></th>\n",
       "      <th>post_id</th>\n",
       "      <th>fetch_type</th>\n",
       "      <th>avg_positive</th>\n",
       "      <th>avg_neutral</th>\n",
       "      <th>avg_negative</th>\n",
       "      <th>pct_positive</th>\n",
       "      <th>pct_negative</th>\n",
       "      <th>num_comments</th>\n",
       "    </tr>\n",
       "  </thead>\n",
       "  <tbody>\n",
       "    <tr>\n",
       "      <th>0</th>\n",
       "      <td>1ndlbj5</td>\n",
       "      <td>hot</td>\n",
       "      <td>0.113532</td>\n",
       "      <td>0.456665</td>\n",
       "      <td>0.429803</td>\n",
       "      <td>8.433735</td>\n",
       "      <td>44.578313</td>\n",
       "      <td>83.0</td>\n",
       "    </tr>\n",
       "    <tr>\n",
       "      <th>1</th>\n",
       "      <td>1ndhwc6</td>\n",
       "      <td>hot</td>\n",
       "      <td>0.091686</td>\n",
       "      <td>0.423140</td>\n",
       "      <td>0.485174</td>\n",
       "      <td>5.527638</td>\n",
       "      <td>47.738693</td>\n",
       "      <td>199.0</td>\n",
       "    </tr>\n",
       "    <tr>\n",
       "      <th>2</th>\n",
       "      <td>1nd97ga</td>\n",
       "      <td>hot</td>\n",
       "      <td>0.114532</td>\n",
       "      <td>0.344152</td>\n",
       "      <td>0.541316</td>\n",
       "      <td>9.693878</td>\n",
       "      <td>57.653061</td>\n",
       "      <td>196.0</td>\n",
       "    </tr>\n",
       "    <tr>\n",
       "      <th>3</th>\n",
       "      <td>1ncyntv</td>\n",
       "      <td>hot</td>\n",
       "      <td>0.142196</td>\n",
       "      <td>0.256386</td>\n",
       "      <td>0.601417</td>\n",
       "      <td>12.328767</td>\n",
       "      <td>64.383562</td>\n",
       "      <td>73.0</td>\n",
       "    </tr>\n",
       "    <tr>\n",
       "      <th>4</th>\n",
       "      <td>1ndf6yu</td>\n",
       "      <td>hot</td>\n",
       "      <td>0.083209</td>\n",
       "      <td>0.409163</td>\n",
       "      <td>0.507629</td>\n",
       "      <td>2.941176</td>\n",
       "      <td>55.882353</td>\n",
       "      <td>68.0</td>\n",
       "    </tr>\n",
       "    <tr>\n",
       "      <th>...</th>\n",
       "      <td>...</td>\n",
       "      <td>...</td>\n",
       "      <td>...</td>\n",
       "      <td>...</td>\n",
       "      <td>...</td>\n",
       "      <td>...</td>\n",
       "      <td>...</td>\n",
       "      <td>...</td>\n",
       "    </tr>\n",
       "    <tr>\n",
       "      <th>56</th>\n",
       "      <td>1ndl31k</td>\n",
       "      <td>hot</td>\n",
       "      <td>0.097600</td>\n",
       "      <td>0.295344</td>\n",
       "      <td>0.607056</td>\n",
       "      <td>7.070707</td>\n",
       "      <td>67.676768</td>\n",
       "      <td>198.0</td>\n",
       "    </tr>\n",
       "    <tr>\n",
       "      <th>57</th>\n",
       "      <td>1ndcar5</td>\n",
       "      <td>hot</td>\n",
       "      <td>0.104577</td>\n",
       "      <td>0.365751</td>\n",
       "      <td>0.529672</td>\n",
       "      <td>7.179487</td>\n",
       "      <td>57.948718</td>\n",
       "      <td>195.0</td>\n",
       "    </tr>\n",
       "    <tr>\n",
       "      <th>58</th>\n",
       "      <td>1ndjcll</td>\n",
       "      <td>new</td>\n",
       "      <td>NaN</td>\n",
       "      <td>NaN</td>\n",
       "      <td>NaN</td>\n",
       "      <td>NaN</td>\n",
       "      <td>NaN</td>\n",
       "      <td>NaN</td>\n",
       "    </tr>\n",
       "    <tr>\n",
       "      <th>59</th>\n",
       "      <td>1ndrfg5</td>\n",
       "      <td>new</td>\n",
       "      <td>NaN</td>\n",
       "      <td>NaN</td>\n",
       "      <td>NaN</td>\n",
       "      <td>NaN</td>\n",
       "      <td>NaN</td>\n",
       "      <td>NaN</td>\n",
       "    </tr>\n",
       "    <tr>\n",
       "      <th>60</th>\n",
       "      <td>1ndqspu</td>\n",
       "      <td>new</td>\n",
       "      <td>NaN</td>\n",
       "      <td>NaN</td>\n",
       "      <td>NaN</td>\n",
       "      <td>NaN</td>\n",
       "      <td>NaN</td>\n",
       "      <td>NaN</td>\n",
       "    </tr>\n",
       "  </tbody>\n",
       "</table>\n",
       "<p>61 rows × 8 columns</p>\n",
       "</div>"
      ],
      "text/plain": [
       "    post_id fetch_type  avg_positive  avg_neutral  avg_negative  pct_positive  \\\n",
       "0   1ndlbj5        hot      0.113532     0.456665      0.429803      8.433735   \n",
       "1   1ndhwc6        hot      0.091686     0.423140      0.485174      5.527638   \n",
       "2   1nd97ga        hot      0.114532     0.344152      0.541316      9.693878   \n",
       "3   1ncyntv        hot      0.142196     0.256386      0.601417     12.328767   \n",
       "4   1ndf6yu        hot      0.083209     0.409163      0.507629      2.941176   \n",
       "..      ...        ...           ...          ...           ...           ...   \n",
       "56  1ndl31k        hot      0.097600     0.295344      0.607056      7.070707   \n",
       "57  1ndcar5        hot      0.104577     0.365751      0.529672      7.179487   \n",
       "58  1ndjcll        new           NaN          NaN           NaN           NaN   \n",
       "59  1ndrfg5        new           NaN          NaN           NaN           NaN   \n",
       "60  1ndqspu        new           NaN          NaN           NaN           NaN   \n",
       "\n",
       "    pct_negative  num_comments  \n",
       "0      44.578313          83.0  \n",
       "1      47.738693         199.0  \n",
       "2      57.653061         196.0  \n",
       "3      64.383562          73.0  \n",
       "4      55.882353          68.0  \n",
       "..           ...           ...  \n",
       "56     67.676768         198.0  \n",
       "57     57.948718         195.0  \n",
       "58           NaN           NaN  \n",
       "59           NaN           NaN  \n",
       "60           NaN           NaN  \n",
       "\n",
       "[61 rows x 8 columns]"
      ]
     },
     "execution_count": 9,
     "metadata": {},
     "output_type": "execute_result"
    }
   ],
   "source": [
    "df"
   ]
  },
  {
   "cell_type": "code",
   "execution_count": 10,
   "id": "a126f779",
   "metadata": {},
   "outputs": [
    {
     "data": {
      "application/vnd.plotly.v1+json": {
       "config": {
        "plotlyServerURL": "https://plot.ly"
       },
       "data": [
        {
         "autobinx": false,
         "histnorm": "probability density",
         "legendgroup": "avg_negative",
         "marker": {
          "color": "rgb(31, 119, 180)"
         },
         "name": "avg_negative",
         "opacity": 0.7,
         "type": "histogram",
         "x": {
          "bdata": "QQlv0uOB2z+VFDDTFQ3fP6KxIvh0UuE/MWJEic8+4z/Ew9Mifj7gP03D/mNJoOA/Ut/h+1dF5D/UzaCW3KriP1cQLzOf/eE/11qrLb0N4T8JvD3I6EXeP6j1mx7daeQ/3sp+fbMv4D/PQNSoiZHiP0GPVFc/weM/bu0NP62P5D8TP6OkR7/iPwCAb7tvvuA/q6oadaI64D9XBA3yDgDbP/AcgZHzOeA/DYl59UeU5D9aWlqIv4fiPy+66HnAueA/VVXVD5mG4z+MLjrWELriP175pDuuROE//UrBA9Gz4j/wckI7y0riPwAAAICQ/eE/aoTFlLDD4D8AAABkPb3hP2qlxtU6Y+Q/crdOhWUF5T/ZZJPr4wzkP6uqCqDSJuM/om6GEZBy3z+kcL1KBvTeP83MzPzP5uc/AACQqluI1T+vgIZe5qTZPxkJFW3rO+I/6aKL/qkQ4j+fW+JfVjzZPzmO4ziEKNs/9AW9HoM13j/ollg0kMbjP7HcA7ZacOQ/cnIy3noo4z+YUxCTc5fkP0jMawLxXOE/AAAA0McJ1D8/xdVfaLDgP5NN9nxnRuA/b8jb3hrW4D8AAABgxOrHP1Drt/sAbeM/RESEFhLz4D8=",
          "dtype": "f8"
         },
         "xaxis": "x",
         "xbins": {
          "end": 0.7469253480434418,
          "size": 1,
          "start": 0.18685202300548553
         },
         "yaxis": "y"
        },
        {
         "autobinx": false,
         "histnorm": "probability density",
         "legendgroup": "avg_neutral",
         "marker": {
          "color": "rgb(255, 127, 14)"
         },
         "name": "avg_neutral",
         "opacity": 0.7,
         "type": "histogram",
         "x": {
          "bdata": "KOGNnP853T8AAACIuhTbPyp4OfKXBtY/e/XqK6Jo0D/T0lKvuC/aP/WDjoAiAdk/39moi5NE0T9ekfl9EbXVPwti8sBBSNM/nXPOPb3a1T8dozhaRM7bP4QPvoZfTtE/IjXBSt3G1z9+V4t7qu7UP+lQgzmrDtQ/31j9Zdml0z/bgbkax4vXPwAA8O4m29c/mplZ9XhQ2j8RNJwPYFLYP8uHcRWmb9g/LAVqpAk80z94eHggtRHYPwAAgBCTzdc/AAAAk7Q80j/RRRe5lmnVP5nNpeulEtg/gVq/9S8K1T8KXk56yAPXPwAAACDh/do/GmG5OJQl2j9VVVXdlPfZP0du5LZQDdQ/lQnbljvA0j8vuuhnefjTPzEMw6xZTNM/KBeismh82z/hehSmuuTbP2ZmZm5doc0/AAAAJOs6xT+ZsA1YasXYPwHzgRp849U/jC66IDsv2T/YUN69vtLUP8dxHM8Rvt4/s6ZsiD7L1D82lNcp4pjUPxph+W98xdI/o6KilDDO1D+n4CVO57fTPxoS8/fL7tc/AAAAEKos3j+9T/H660bYP3o7w1SeANk/Z8wZgxky2D8AAABgtW3lP9lkk87q5tI/ntiJj3do1z8=",
          "dtype": "f8"
         },
         "xaxis": "x",
         "xbins": {
          "end": 0.6696421504020691,
          "size": 1,
          "start": 0.16586055047810078
         },
         "yaxis": "y"
        },
        {
         "autobinx": false,
         "histnorm": "probability density",
         "legendgroup": "avg_positive",
         "marker": {
          "color": "rgb(44, 160, 44)"
         },
         "name": "avg_positive",
         "opacity": 0.7,
         "type": "histogram",
         "x": {
          "bdata": "SnijL3IQvT94RWaLvni3P6fghXv4Ub0/unPnlH0zwj8PD88hLE21PwNf3Noq+bY/FsSk4/HCuD8DEn5F1dSzP23Ul6j/eME/33vvqpATwD/nOsZ3S6+3P4Faf+mYd7c/ln0O7e5mvz/2DETRCLm3P6z+QG9Yu7E/LJ+I52DWqT9dOzAJTa2nP6uqbmDmn7o/iYhoVQjptD8ndV/tIVvJPxs8RxDLcbw/qPUrnTPbrD/x8PDAXvamP110UeCv+7o/VVXVKWXYuj8vuugfHom0P4nZXIT2j7U/CB98Arg4tj9JkqRHhJqxPwAAACDbb5A/Po0wdSpMsT9VVVUCgm+kP6MsyuPMYak/g+BUyMqnqT+lQK0G9m2vP+Q4jkQEmLk/tOx46RxEtD/hepRd/Jy0P83MzBAWG5Y/AAAA7y7a3z8vuuiSXivLPznE1SW0krY/AAAA2Id7pT/olpjo6vDRPxzHcUWoZbg/p6wpuXz+yT9sKK+N68+uPyz3dJ04Z7E/x8ZGqmaDsz/rQ+NxjMmoPzFvZ/NHXbU/AAAACByTyz+b96kMDWG5P97OkNVKyrk/xB1x78KGuD8AAACAZV7CP7gzJN5M/Lg/GY/xBpHFuj8=",
          "dtype": "f8"
         },
         "xaxis": "x",
         "xbins": {
          "end": 0.497691853903234,
          "size": 1,
          "start": 0.016051696613430977
         },
         "yaxis": "y"
        },
        {
         "legendgroup": "avg_negative",
         "marker": {
          "color": "rgb(31, 119, 180)"
         },
         "mode": "lines",
         "name": "avg_negative",
         "showlegend": false,
         "type": "scatter",
         "x": [
          0.18685202300548553,
          0.18797216965556146,
          0.18909231630563736,
          0.19021246295571329,
          0.19133260960578918,
          0.1924527562558651,
          0.193572902905941,
          0.19469304955601693,
          0.19581319620609283,
          0.19693334285616876,
          0.19805348950624466,
          0.19917363615632058,
          0.20029378280639648,
          0.2014139294564724,
          0.2025340761065483,
          0.20365422275662423,
          0.20477436940670013,
          0.20589451605677606,
          0.20701466270685195,
          0.20813480935692788,
          0.20925495600700378,
          0.2103751026570797,
          0.2114952493071556,
          0.21261539595723153,
          0.21373554260730743,
          0.21485568925738335,
          0.21597583590745925,
          0.21709598255753518,
          0.21821612920761108,
          0.219336275857687,
          0.2204564225077629,
          0.22157656915783883,
          0.22269671580791472,
          0.22381686245799065,
          0.22493700910806658,
          0.22605715575814248,
          0.22717730240821837,
          0.2282974490582943,
          0.2294175957083702,
          0.23053774235844612,
          0.23165788900852202,
          0.23277803565859795,
          0.23389818230867387,
          0.23501832895874977,
          0.23613847560882567,
          0.2372586222589016,
          0.23837876890897752,
          0.23949891555905342,
          0.24061906220912935,
          0.24173920885920525,
          0.24285935550928117,
          0.24397950215935707,
          0.24509964880943297,
          0.2462197954595089,
          0.24733994210958482,
          0.24846008875966072,
          0.24958023540973662,
          0.25070038205981254,
          0.25182052870988847,
          0.25294067535996434,
          0.25406082201004027,
          0.2551809686601162,
          0.2563011153101921,
          0.25742126196026804,
          0.2585414086103439,
          0.25966155526041984,
          0.26078170191049577,
          0.2619018485605717,
          0.2630219952106476,
          0.2641421418607235,
          0.2652622885107994,
          0.26638243516087534,
          0.2675025818109512,
          0.26862272846102714,
          0.26974287511110306,
          0.270863021761179,
          0.27198316841125486,
          0.2731033150613308,
          0.2742234617114067,
          0.27534360836148264,
          0.2764637550115585,
          0.27758390166163444,
          0.27870404831171036,
          0.2798241949617863,
          0.2809443416118622,
          0.2820644882619381,
          0.283184634912014,
          0.28430478156208994,
          0.2854249282121658,
          0.28654507486224173,
          0.28766522151231766,
          0.2887853681623936,
          0.2899055148124695,
          0.2910256614625454,
          0.2921458081126213,
          0.29326595476269723,
          0.29438610141277316,
          0.2955062480628491,
          0.29662639471292496,
          0.2977465413630009,
          0.2988666880130768,
          0.2999868346631527,
          0.3011069813132286,
          0.30222712796330453,
          0.3033472746133804,
          0.30446742126345633,
          0.30558756791353225,
          0.3067077145636082,
          0.3078278612136841,
          0.30894800786376,
          0.3100681545138359,
          0.31118830116391183,
          0.3123084478139877,
          0.3134285944640637,
          0.31454874111413955,
          0.3156688877642155,
          0.3167890344142914,
          0.3179091810643673,
          0.3190293277144432,
          0.3201494743645191,
          0.321269621014595,
          0.322389767664671,
          0.32350991431474685,
          0.3246300609648228,
          0.3257502076148987,
          0.32687035426497457,
          0.32799050091505055,
          0.3291106475651264,
          0.33023079421520235,
          0.3313509408652783,
          0.33247108751535415,
          0.3335912341654301,
          0.334711380815506,
          0.33583152746558187,
          0.33695167411565785,
          0.3380718207657337,
          0.33919196741580965,
          0.3403121140658856,
          0.34143226071596144,
          0.3425524073660374,
          0.3436725540161133,
          0.34479270066618917,
          0.3459128473162651,
          0.347032993966341,
          0.34815314061641695,
          0.34927328726649287,
          0.35039343391656874,
          0.35151358056664467,
          0.3526337272167206,
          0.3537538738667965,
          0.35487402051687245,
          0.3559941671669483,
          0.3571143138170242,
          0.35823446046710017,
          0.35935460711717604,
          0.36047475376725197,
          0.3615949004173279,
          0.36271504706740376,
          0.36383519371747974,
          0.3649553403675556,
          0.36607548701763154,
          0.36719563366770747,
          0.36831578031778334,
          0.36943592696785926,
          0.3705560736179352,
          0.37167622026801106,
          0.37279636691808704,
          0.3739165135681629,
          0.37503666021823884,
          0.37615680686831476,
          0.37727695351839063,
          0.3783971001684666,
          0.3795172468185425,
          0.3806373934686184,
          0.38175754011869434,
          0.3828776867687702,
          0.38399783341884614,
          0.38511798006892206,
          0.38623812671899793,
          0.3873582733690739,
          0.3884784200191498,
          0.3895985666692257,
          0.39071871331930164,
          0.3918388599693775,
          0.3929590066194535,
          0.39407915326952936,
          0.39519929991960523,
          0.39631944656968116,
          0.3974395932197571,
          0.398559739869833,
          0.39967988651990893,
          0.4008000331699848,
          0.4019201798200608,
          0.40304032647013666,
          0.4041604731202126,
          0.4052806197702885,
          0.4064007664203644,
          0.4075209130704403,
          0.40864105972051623,
          0.4097612063705921,
          0.410881353020668,
          0.41200149967074395,
          0.4131216463208199,
          0.4142417929708958,
          0.4153619396209717,
          0.4164820862710476,
          0.41760223292112353,
          0.4187223795711994,
          0.4198425262212753,
          0.42096267287135125,
          0.4220828195214271,
          0.4232029661715031,
          0.424323112821579,
          0.4254432594716549,
          0.4265634061217308,
          0.4276835527718067,
          0.4288036994218827,
          0.42992384607195855,
          0.4310439927220344,
          0.4321641393721104,
          0.43328428602218627,
          0.4344044326722622,
          0.4355245793223381,
          0.436644725972414,
          0.4377648726224899,
          0.43888501927256585,
          0.44000516592264177,
          0.4411253125727177,
          0.44224545922279357,
          0.4433656058728695,
          0.4444857525229454,
          0.44560589917302135,
          0.4467260458230973,
          0.4478461924731732,
          0.44896633912324907,
          0.45008648577332494,
          0.45120663242340087,
          0.4523267790734768,
          0.4534469257235527,
          0.4545670723736286,
          0.4556872190237045,
          0.45680736567378044,
          0.45792751232385637,
          0.4590476589739323,
          0.46016780562400816,
          0.4612879522740841,
          0.46240809892416,
          0.46352824557423594,
          0.46464839222431187,
          0.46576853887438774,
          0.46688868552446366,
          0.4680088321745396,
          0.4691289788246155,
          0.47024912547469144,
          0.4713692721247673,
          0.47248941877484324,
          0.47360956542491917,
          0.47472971207499504,
          0.47584985872507096,
          0.47697000537514683,
          0.47809015202522276,
          0.4792102986752987,
          0.4803304453253746,
          0.48145059197545054,
          0.4825707386255264,
          0.48369088527560233,
          0.48481103192567826,
          0.4859311785757542,
          0.4870513252258301,
          0.488171471875906,
          0.4892916185259819,
          0.49041176517605783,
          0.49153191182613376,
          0.4926520584762097,
          0.49377220512628556,
          0.4948923517763615,
          0.4960124984264374,
          0.49713264507651334,
          0.49825279172658926,
          0.4993729383766651,
          0.5004930850267411,
          0.5016132316768169,
          0.5027333783268928,
          0.5038535249769688,
          0.5049736716270447,
          0.5060938182771206,
          0.5072139649271965,
          0.5083341115772724,
          0.5094542582273484,
          0.5105744048774242,
          0.5116945515275002,
          0.5128146981775761,
          0.513934844827652,
          0.5150549914777279,
          0.5161751381278038,
          0.5172952847778798,
          0.5184154314279557,
          0.5195355780780315,
          0.5206557247281075,
          0.5217758713781834,
          0.5228960180282594,
          0.5240161646783352,
          0.5251363113284111,
          0.526256457978487,
          0.5273766046285628,
          0.5284967512786388,
          0.5296168979287148,
          0.5307370445787907,
          0.5318571912288665,
          0.5329773378789424,
          0.5340974845290184,
          0.5352176311790944,
          0.5363377778291702,
          0.5374579244792461,
          0.538578071129322,
          0.539698217779398,
          0.540818364429474,
          0.5419385110795498,
          0.5430586577296257,
          0.5441788043797016,
          0.5452989510297775,
          0.5464190976798535,
          0.5475392443299294,
          0.5486593909800053,
          0.5497795376300811,
          0.550899684280157,
          0.552019830930233,
          0.553139977580309,
          0.5542601242303848,
          0.5553802708804607,
          0.5565004175305366,
          0.5576205641806126,
          0.5587407108306885,
          0.5598608574807644,
          0.5609810041308403,
          0.5621011507809162,
          0.5632212974309921,
          0.5643414440810681,
          0.565461590731144,
          0.5665817373812199,
          0.5677018840312957,
          0.5688220306813717,
          0.5699421773314477,
          0.5710623239815236,
          0.5721824706315994,
          0.5733026172816753,
          0.5744227639317513,
          0.5755429105818272,
          0.5766630572319031,
          0.577783203881979,
          0.5789033505320549,
          0.5800234971821308,
          0.5811436438322067,
          0.5822637904822827,
          0.5833839371323586,
          0.5845040837824345,
          0.5856242304325103,
          0.5867443770825863,
          0.5878645237326623,
          0.5889846703827382,
          0.590104817032814,
          0.5912249636828899,
          0.5923451103329659,
          0.5934652569830419,
          0.5945854036331177,
          0.5957055502831936,
          0.5968256969332695,
          0.5979458435833455,
          0.5990659902334214,
          0.6001861368834972,
          0.6013062835335732,
          0.602426430183649,
          0.6035465768337249,
          0.6046667234838009,
          0.6057868701338768,
          0.6069070167839528,
          0.6080271634340286,
          0.6091473100841045,
          0.6102674567341805,
          0.6113876033842564,
          0.6125077500343323,
          0.6136278966844082,
          0.6147480433344841,
          0.61586818998456,
          0.616988336634636,
          0.6181084832847119,
          0.6192286299347878,
          0.6203487765848636,
          0.6214689232349396,
          0.6225890698850156,
          0.6237092165350915,
          0.6248293631851674,
          0.6259495098352432,
          0.6270696564853191,
          0.6281898031353951,
          0.629309949785471,
          0.6304300964355469,
          0.6315502430856228,
          0.6326703897356987,
          0.6337905363857746,
          0.6349106830358505,
          0.6360308296859265,
          0.6371509763360024,
          0.6382711229860782,
          0.6393912696361542,
          0.6405114162862301,
          0.6416315629363061,
          0.642751709586382,
          0.6438718562364578,
          0.6449920028865338,
          0.6461121495366097,
          0.6472322961866857,
          0.6483524428367615,
          0.6494725894868374,
          0.6505927361369133,
          0.6517128827869891,
          0.6528330294370651,
          0.6539531760871411,
          0.655073322737217,
          0.6561934693872928,
          0.6573136160373687,
          0.6584337626874447,
          0.6595539093375207,
          0.6606740559875965,
          0.6617942026376724,
          0.6629143492877483,
          0.6640344959378243,
          0.6651546425879002,
          0.6662747892379761,
          0.667394935888052,
          0.6685150825381279,
          0.6696352291882038,
          0.6707553758382798,
          0.6718755224883557,
          0.6729956691384316,
          0.6741158157885074,
          0.6752359624385833,
          0.6763561090886593,
          0.6774762557387353,
          0.6785964023888111,
          0.679716549038887,
          0.6808366956889629,
          0.6819568423390389,
          0.6830769889891148,
          0.6841971356391907,
          0.6853172822892666,
          0.6864374289393425,
          0.6875575755894184,
          0.6886777222394943,
          0.6897978688895703,
          0.6909180155396462,
          0.692038162189722,
          0.693158308839798,
          0.6942784554898739,
          0.6953986021399499,
          0.6965187487900257,
          0.6976388954401016,
          0.6987590420901776,
          0.6998791887402535,
          0.7009993353903294,
          0.7021194820404053,
          0.7032396286904813,
          0.7043597753405572,
          0.705479921990633,
          0.706600068640709,
          0.7077202152907849,
          0.7088403619408609,
          0.7099605085909367,
          0.7110806552410126,
          0.7122008018910886,
          0.7133209485411643,
          0.7144410951912403,
          0.7155612418413162,
          0.7166813884913921,
          0.717801535141468,
          0.7189216817915439,
          0.7200418284416199,
          0.7211619750916958,
          0.7222821217417716,
          0.7234022683918476,
          0.7245224150419235,
          0.7256425616919995,
          0.7267627083420753,
          0.7278828549921512,
          0.7290030016422272,
          0.7301231482923031,
          0.731243294942379,
          0.7323634415924549,
          0.7334835882425308,
          0.7346037348926068,
          0.7357238815426826,
          0.7368440281927586,
          0.7379641748428345,
          0.7390843214929104,
          0.7402044681429863,
          0.7413246147930622,
          0.7424447614431382,
          0.7435649080932141,
          0.7446850547432899,
          0.7458052013933659
         ],
         "xaxis": "x",
         "y": {
          "bdata": "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",
          "dtype": "f8"
         },
         "yaxis": "y"
        },
        {
         "legendgroup": "avg_neutral",
         "marker": {
          "color": "rgb(255, 127, 14)"
         },
         "mode": "lines",
         "name": "avg_neutral",
         "showlegend": false,
         "type": "scatter",
         "x": [
          0.16586055047810078,
          0.1668681136779487,
          0.16787567687779664,
          0.16888324007764458,
          0.16989080327749254,
          0.17089836647734047,
          0.1719059296771884,
          0.17291349287703633,
          0.17392105607688427,
          0.1749286192767322,
          0.17593618247658013,
          0.17694374567642807,
          0.17795130887627603,
          0.17895887207612396,
          0.1799664352759719,
          0.18097399847581983,
          0.18198156167566776,
          0.1829891248755157,
          0.18399668807536362,
          0.18500425127521158,
          0.18601181447505952,
          0.18701937767490745,
          0.18802694087475538,
          0.18903450407460332,
          0.19004206727445125,
          0.19104963047429918,
          0.19205719367414714,
          0.19306475687399507,
          0.194072320073843,
          0.19507988327369094,
          0.19608744647353887,
          0.1970950096733868,
          0.19810257287323474,
          0.1991101360730827,
          0.2001176992729306,
          0.20112526247277857,
          0.2021328256726265,
          0.20314038887247443,
          0.20414795207232236,
          0.2051555152721703,
          0.20616307847201826,
          0.20717064167186616,
          0.20817820487171412,
          0.20918576807156206,
          0.21019333127141,
          0.21120089447125792,
          0.21220845767110585,
          0.21321602087095382,
          0.21422358407080172,
          0.21523114727064968,
          0.2162387104704976,
          0.21724627367034555,
          0.21825383687019348,
          0.2192614000700414,
          0.22026896326988935,
          0.22127652646973728,
          0.22228408966958524,
          0.22329165286943317,
          0.2242992160692811,
          0.22530677926912904,
          0.22631434246897697,
          0.2273219056688249,
          0.22832946886867284,
          0.2293370320685208,
          0.2303445952683687,
          0.23135215846821666,
          0.2323597216680646,
          0.23336728486791253,
          0.23437484806776046,
          0.2353824112676084,
          0.23638997446745635,
          0.23739753766730426,
          0.23840510086715222,
          0.23941266406700015,
          0.24042022726684809,
          0.24142779046669602,
          0.24243535366654395,
          0.2434429168663919,
          0.24445048006623982,
          0.24545804326608778,
          0.2464656064659357,
          0.24747316966578364,
          0.24848073286563158,
          0.2494882960654795,
          0.25049585926532747,
          0.2515034224651754,
          0.25251098566502334,
          0.25351854886487124,
          0.2545261120647192,
          0.25553367526456716,
          0.25654123846441507,
          0.257548801664263,
          0.25855636486411093,
          0.2595639280639589,
          0.26057149126380685,
          0.26157905446365476,
          0.26258661766350266,
          0.2635941808633506,
          0.2646017440631986,
          0.2656093072630465,
          0.26661687046289445,
          0.26762443366274236,
          0.2686319968625903,
          0.2696395600624383,
          0.2706471232622862,
          0.27165468646213414,
          0.27266224966198205,
          0.27366981286183,
          0.2746773760616779,
          0.2756849392615259,
          0.2766925024613738,
          0.27770006566122174,
          0.2787076288610697,
          0.2797151920609176,
          0.28072275526076557,
          0.28173031846061347,
          0.28273788166046143,
          0.2837454448603094,
          0.2847530080601573,
          0.2857605712600052,
          0.28676813445985316,
          0.2877756976597011,
          0.28878326085954903,
          0.289790824059397,
          0.2907983872592449,
          0.29180595045909286,
          0.2928135136589408,
          0.2938210768587887,
          0.2948286400586366,
          0.2958362032584846,
          0.29684376645833255,
          0.2978513296581805,
          0.2988588928580284,
          0.2998664560578763,
          0.3008740192577243,
          0.30188158245757224,
          0.30288914565742014,
          0.3038967088572681,
          0.304904272057116,
          0.30591183525696397,
          0.30691939845681193,
          0.30792696165665984,
          0.30893452485650774,
          0.3099420880563557,
          0.31094965125620366,
          0.3119572144560516,
          0.31296477765589953,
          0.31397234085574743,
          0.3149799040555954,
          0.31598746725544336,
          0.31699503045529126,
          0.3180025936551392,
          0.3190101568549871,
          0.3200177200548351,
          0.32102528325468305,
          0.32203284645453095,
          0.32304040965437886,
          0.3240479728542268,
          0.3250555360540748,
          0.32606309925392274,
          0.32707066245377064,
          0.32807822565361855,
          0.3290857888534665,
          0.33009335205331447,
          0.3311009152531624,
          0.3321084784530103,
          0.33311604165285824,
          0.3341236048527062,
          0.33513116805255416,
          0.33613873125240207,
          0.33714629445225,
          0.33815385765209793,
          0.3391614208519459,
          0.34016898405179385,
          0.34117654725164176,
          0.34218411045148966,
          0.3431916736513376,
          0.3441992368511856,
          0.3452068000510335,
          0.3462143632508814,
          0.34722192645072936,
          0.3482294896505773,
          0.3492370528504253,
          0.3502446160502732,
          0.3512521792501211,
          0.35225974244996905,
          0.353267305649817,
          0.3542748688496649,
          0.3552824320495129,
          0.3562899952493608,
          0.35729755844920874,
          0.3583051216490567,
          0.3593126848489046,
          0.3603202480487525,
          0.3613278112486005,
          0.36233537444844843,
          0.3633429376482964,
          0.3643505008481443,
          0.3653580640479922,
          0.36636562724784016,
          0.3673731904476881,
          0.36838075364753603,
          0.36938831684738394,
          0.3703958800472319,
          0.37140344324707986,
          0.3724110064469278,
          0.3734185696467757,
          0.3744261328466236,
          0.3754336960464716,
          0.37644125924631955,
          0.3774488224461675,
          0.3784563856460154,
          0.3794639488458633,
          0.3804715120457113,
          0.38147907524555924,
          0.38248663844540715,
          0.38349420164525505,
          0.384501764845103,
          0.38550932804495097,
          0.38651689124479893,
          0.38752445444464684,
          0.38853201764449474,
          0.3895395808443427,
          0.39054714404419066,
          0.39155470724403857,
          0.39256227044388653,
          0.39356983364373443,
          0.3945773968435824,
          0.39558496004343036,
          0.39659252324327826,
          0.39760008644312617,
          0.3986076496429741,
          0.3996152128428221,
          0.40062277604267005,
          0.40163033924251795,
          0.40263790244236586,
          0.4036454656422138,
          0.4046530288420618,
          0.4056605920419097,
          0.40666815524175765,
          0.40767571844160555,
          0.4086832816414535,
          0.40969084484130147,
          0.4106984080411494,
          0.4117059712409973,
          0.41271353444084524,
          0.4137210976406932,
          0.41472866084054116,
          0.41573622404038907,
          0.416743787240237,
          0.41775135044008493,
          0.4187589136399329,
          0.4197664768397808,
          0.42077404003962876,
          0.42178160323947667,
          0.4227891664393246,
          0.42379672963917253,
          0.4248042928390205,
          0.42581185603886845,
          0.42681941923871636,
          0.4278269824385643,
          0.4288345456384122,
          0.4298421088382602,
          0.4308496720381081,
          0.43185723523795605,
          0.432864798437804,
          0.4338723616376519,
          0.4348799248374999,
          0.4358874880373478,
          0.43689505123719574,
          0.43790261443704365,
          0.4389101776368916,
          0.4399177408367395,
          0.4409253040365875,
          0.44193286723643543,
          0.44294043043628334,
          0.4439479936361313,
          0.4449555568359792,
          0.44596312003582717,
          0.44697068323567507,
          0.44797824643552303,
          0.448985809635371,
          0.4499933728352189,
          0.45100093603506686,
          0.45200849923491476,
          0.4530160624347627,
          0.45402362563461063,
          0.4550311888344586,
          0.45603875203430655,
          0.45704631523415445,
          0.4580538784340024,
          0.4590614416338503,
          0.4600690048336983,
          0.4610765680335462,
          0.46208413123339415,
          0.4630916944332421,
          0.46409925763309,
          0.465106820832938,
          0.4661143840327859,
          0.46712194723263384,
          0.46812951043248174,
          0.4691370736323297,
          0.47014463683217766,
          0.47115220003202557,
          0.47215976323187353,
          0.47316732643172144,
          0.4741748896315694,
          0.4751824528314173,
          0.47619001603126526,
          0.4771975792311132,
          0.4782051424309611,
          0.4792127056308091,
          0.480220268830657,
          0.48122783203050495,
          0.48223539523035286,
          0.4832429584302008,
          0.4842505216300487,
          0.4852580848298967,
          0.48626564802974465,
          0.48727321122959255,
          0.4882807744294405,
          0.4892883376292884,
          0.4902959008291364,
          0.4913034640289843,
          0.49231102722883224,
          0.4933185904286802,
          0.4943261536285281,
          0.49533371682837607,
          0.496341280028224,
          0.49734884322807194,
          0.49835640642791984,
          0.4993639696277678,
          0.5003715328276157,
          0.5013790960274637,
          0.5023866592273116,
          0.5033942224271595,
          0.5044017856270075,
          0.5054093488268554,
          0.5064169120267034,
          0.5074244752265513,
          0.5084320384263992,
          0.5094396016262472,
          0.5104471648260951,
          0.511454728025943,
          0.512462291225791,
          0.5134698544256389,
          0.5144774176254869,
          0.5154849808253348,
          0.5164925440251827,
          0.5175001072250307,
          0.5185076704248786,
          0.5195152336247265,
          0.5205227968245745,
          0.5215303600244224,
          0.5225379232242704,
          0.5235454864241182,
          0.5245530496239662,
          0.5255606128238142,
          0.526568176023662,
          0.5275757392235101,
          0.5285833024233579,
          0.5295908656232059,
          0.5305984288230539,
          0.5316059920229017,
          0.5326135552227498,
          0.5336211184225976,
          0.5346286816224456,
          0.5356362448222936,
          0.5366438080221414,
          0.5376513712219895,
          0.5386589344218373,
          0.5396664976216853,
          0.5406740608215332,
          0.5416816240213811,
          0.542689187221229,
          0.543696750421077,
          0.544704313620925,
          0.5457118768207729,
          0.5467194400206208,
          0.5477270032204687,
          0.5487345664203167,
          0.5497421296201646,
          0.5507496928200126,
          0.5517572560198605,
          0.5527648192197084,
          0.5537723824195564,
          0.5547799456194042,
          0.5557875088192523,
          0.5567950720191002,
          0.5578026352189481,
          0.5588101984187961,
          0.5598177616186439,
          0.560825324818492,
          0.5618328880183399,
          0.5628404512181878,
          0.5638480144180358,
          0.5648555776178836,
          0.5658631408177316,
          0.5668707040175796,
          0.5678782672174275,
          0.5688858304172755,
          0.5698933936171233,
          0.5709009568169713,
          0.5719085200168192,
          0.5729160832166671,
          0.5739236464165152,
          0.574931209616363,
          0.575938772816211,
          0.5769463360160589,
          0.5779538992159068,
          0.5789614624157549,
          0.5799690256156027,
          0.5809765888154507,
          0.5819841520152986,
          0.5829917152151465,
          0.5839992784149945,
          0.5850068416148424,
          0.5860144048146904,
          0.5870219680145383,
          0.5880295312143862,
          0.5890370944142342,
          0.5900446576140821,
          0.59105222081393,
          0.592059784013778,
          0.5930673472136259,
          0.5940749104134738,
          0.5950824736133218,
          0.5960900368131697,
          0.5970976000130177,
          0.5981051632128656,
          0.5991127264127135,
          0.6001202896125615,
          0.6011278528124093,
          0.6021354160122574,
          0.6031429792121052,
          0.6041505424119532,
          0.6051581056118012,
          0.606165668811649,
          0.6071732320114971,
          0.6081807952113449,
          0.6091883584111929,
          0.6101959216110409,
          0.6112034848108887,
          0.6122110480107368,
          0.6132186112105846,
          0.6142261744104326,
          0.6152337376102806,
          0.6162413008101284,
          0.6172488640099764,
          0.6182564272098243,
          0.6192639904096723,
          0.6202715536095202,
          0.6212791168093681,
          0.622286680009216,
          0.623294243209064,
          0.6243018064089119,
          0.6253093696087599,
          0.6263169328086078,
          0.6273244960084557,
          0.6283320592083037,
          0.6293396224081516,
          0.6303471856079996,
          0.6313547488078475,
          0.6323623120076954,
          0.6333698752075434,
          0.6343774384073912,
          0.6353850016072393,
          0.6363925648070872,
          0.6374001280069351,
          0.6384076912067831,
          0.6394152544066309,
          0.640422817606479,
          0.6414303808063269,
          0.6424379440061748,
          0.6434455072060228,
          0.6444530704058706,
          0.6454606336057186,
          0.6464681968055666,
          0.6474757600054145,
          0.6484833232052625,
          0.6494908864051103,
          0.6504984496049583,
          0.6515060128048062,
          0.6525135760046541,
          0.6535211392045022,
          0.65452870240435,
          0.655536265604198,
          0.6565438288040459,
          0.6575513920038938,
          0.6585589552037419,
          0.6595665184035897,
          0.6605740816034377,
          0.6615816448032856,
          0.6625892080031335,
          0.6635967712029816,
          0.6646043344028294,
          0.6656118976026774,
          0.6666194608025253,
          0.6676270240023732,
          0.6686345872022211
         ],
         "xaxis": "x",
         "y": {
          "bdata": "A2PN97eczz/0OLGVsurPP/rm3qhkG9A/xH3NGp1A0D9+kei7JGXQP/jAZ7IgidA/a43NILms0D9OJDAUGdDQPxlPlm9u89A/79aQ1OkW0T8Q0j2JvjrRP7MY6FsiX9E/I3d5hE2E0T+XE/qDeqrRP/naWgLm0dE/w5jLqs760T9Wm98GdSXSPwJqxVgbUtI/mxXXdAWB0j9WD8maeLLSP2AvvU675tI/Na5+MhUe0z+TSSrfzljTP2yjg78xl9M/ASI264fZ0z9AOjwDHCDUP9MfpA85a9Q/C2HkXiq71D9gAu5mOxDVP0tHJKi3atU/pIpckurK1T+lYQJsHzHWPwDTdTuhndY/A7uysroQ1z8rl0kdtorXP6n1qlDdC9g/0Le/nnmU2D9qSsHK0yTZPzn6PQA0vdk/w68uzOFd2j+0svwXJAfbP5CoTyZBuds/O+Z1kX503D8KajNLITndP8F+vp1tB94/AiesLaff3j+JFIr8EMLfP48P8LV2V+A/BPsnID/T4D9EmENSglThP0P32pVg2+E/jX2d6fln4j9055oBbvriPyN910bckuM/vi0E1mMx5D9HETR9I9bkP1j6abg5geU/1EjarMQy5j/aDr8i4urmP2/Unn2vqec/5dfosklv6D9+jMw+zTvpP3ZONRdWD+o/wcHWnP/p6j+XGDqK5MvrPz6FwOAetew/tF2T08el7T+58H6w953uP5KxucbFne8/7RbPJaRS8D/Yl7EeStrwP1c58aHeZfE/b7XBx2r18T9NWzLb9ojyP4v68UeKIPM/n2RUhyu88z/Saa4M4Fv0P5enHzGs//Q/CN3jHpOn9T+gwke8llP2P+6LX5a3A/c/5Eafy/S39z8nL3f2S3D4Pw/KFxi5LPk/ZyqDgzbt+T9EGBLJvLH6P7T7lKJCevs/qVI54LxG/D9ZJl1WHhf9P1BcesxX6/0/0+RT7VfD/j8ApI44C5//Py3C7/otPwBAiLT7FJmwAEBvVarGuSMBQJ46kMKBmAFAdVcej+EOAkDckFKFyIYCQOElotAkAANAOdcscON6A0AyQ0Y58PYDQGVUYds1dARAleNn5Z3yBEAVzYbMEHIFQM+4dPR18gVAxLQ3ubNzBkAQhWt6r/UGQI05CKhNeAdAySum0HH7B0A1DTqx/n4IQM8fQUbWAglASR5T3tmGCUAduwwu6goKQMv/QmXnjgpA1TltRbESC0A1jjA5J5YLQO7G9WwoGQxA+nVv6JObDEDtLPSoSB0NQE5Fjrwlng1A2pSgXQoeDkAEbv0O1pwOQGh/S7hoGg9Ay4SSwqKWD0BxKWSasggQQB/MGuhIRRBAhlxElgWBEEBZPrZp2rsQQOXqu6259RBA2PUlQZYuEUAm2NqiY2YRQNVh1P0VnRFAiRJ1NKLSEUAsIyHr/QYSQJe5B5IfOhJAU5kJbv5rEkA+o6ugkpwSQCOdBC/VyxJA+QWXB8D5EkDsLAkHTiYTQLBTr/t6URNA41jdp0N7E0CqOPfCpaMTQBqfOfmfyhNApM016jHwE0BPL/4lXBQUQPwjAykgNxRAtcShVoBYFECTpmjyf3gUQA7rGBgjlxRAITZssm60FEA4aapwaNAUQIw/HLsW6xRAthpqpoAEFUAnbPjlrRwVQK0yVb2mMxVAXfDL8HNJFUBgSze1Hl4VQKA3KZ+wcRVAGQiEkTOEFUDwHaCrsZUVQCgRGzc1phVApyJulci1FUDSg2otdsQVQNqFulhI0hVAJwyHUUnfFUBuq2Agg+sVQK+vi4r/9hVAedXNAMgBFkB+19uO5QsWQHEIhMtgFRZAHQuyyUEeFkDhWmYKkCYWQPm8um9SLhZAjuQKMY81FkA5kVbQSzwWQPo/8BCNQhZAAyuJ71ZIFkAq1KibrE0WQHW0m3KQUhZAlO7h+wNXFkAkECTnB1sWQKIMsQucXhZANLOFab9hFkCb89orcGQWQMVeNa2rZhZAhHHtfG5oFkCaayVmtGkWQOy/Hnh4ahZAhJPeD7VqFkACTQ7jY2oWQIPrAgx+aRZAVL/TFvxnFkA2NmcP1mUWQI26WpADYxZAyi6p0ntfFkC8VfK9NVsWQHyBRPknVhZAKy5J/EhQFkDyvLQgj0kWQFRY2bPwQRZAjiM9CGQ5FkDWMhSH3y8WQExpf8FZJRZAKjhygckZFkB0ViLaJQ0WQDjf5Tdm/xVAw89lb4LwFUDGnQzMcuAVQIyHmh0wzxVAv1LLxLO8FUCbYvu+96gVQA5evLD2kxVACQVM76t9FUDoSeKIE2YVQIpDzksqTRVAXw9czO0yFUC7OoBpXBcVQNHBR1B1+hRA/hoOfjjcFEBHGX3BprwUQLOrXLrBmxRA4Zs62It5FEBbaPRXCFYUQNMqL0A7MRRAuCTLXCkLFEDsCWI52OMTQElw4BpOuxNA0+hL+JGRE0BPNMhyq2YTQIu/7syiOhNAUhyM4YANE0Bag9cZT98SQA+SOGMXsBJA52+vJOR/EkC6UfMzwE4SQN3zWsq2HBJAox2iedPpEUD2lp4gIrYRQKAu9t+ugRFA5ojmDoZMEUBmbS4wtBYRQLU2J+dF4BBAYt8b7UepEEDo9ekGx3EQQMaE9/rPORBAVbuHh28BEEAXw+2yZJEPQDHEyQZKHw9Ac/ao6qesDkC17IfpljkOQNFAhiovxg1AEksSY4hSDUCw1hfKud4MQPgfMwzaagxAiqPnQP/2C0DvrNjgPoMLQP4hAL2tDwtAgsTe9l+cCkDfCaD5aCkKQIO6KnTbtglAhMcWVMlECUBhJ4DBQ9MIQIUWrhtbYghAX8SF9h7yB0BIRr8YnoIHQDKT03rmEwdAb1KaRgWmBkCLZI7XBjkGQD46sLv2zAVAlk/9tN9hBUDoZnS7y/cEQNN0nv/DjgRAiYGU7dAmBEAgHnsw+r8DQFhgbLZGWgNA5arJtLz1AkC/0u6sYZICQI11QHE6MAJAN46PKkvPAUBCgsxdl28BQPgEBPIhEQFAjEKgNu2zAECFzujp+lcAQKObd3+Y+v8//ov10MNH/z/8w0oweJf+Pxm1OBu16f0/8QsNNHk+/T+ExKNQwpX8P7pvlImN7/s/23l9SddL+z9P0F9cm6r6P+3c/P7UC/o/ZGYo7n5v+T8Mkv91k9X4P7739YAMPvg/4IeppuOo9z9k5G06Ehb3P67Lf1mRhfY/iE3R+Fn39T+CuV/yZGv1P76PBBKr4fQ/wTSzISVa9D80xhX1y9TzP10qfHSYUfM/QFIRp4PQ8j/bpUu8hlHyP5+tjhSb1PE/pEb1SLpZ8T/kAD0y3uDwP0CxzO4AavA/v3yjzznq7z9IduKqWQTvPzX3FoRXIu4/l94kGSpE7T/sY+nTyGnsP5bGQcsrk+s/oetMwkvA6j+JbfUlIvHpPzit1AipJek/oFyCHdtd6D/ksmavs5nnP0gHKJou2eY/MNvOP0gc5j+xcb19/WLlP1LbmaBLreQ/oeVKVzD74z8NlimlqUzjP43EidO1oeI/Dwi9YlP64T9ec7P6gFbhPzKgXVs9tuA/XjXzTIcZ4D8x9IAguwDfP4tDOZ591d0/lKNSGlOx3D8c7/QxOJTbP8iyh/softo/+uVP6yBv2T/MMIO5GmfYPyJG/0kQZtc/ghzPlfpr1j8P0KKW0XjVP0jgWTSMjNQ/mCy6NCCn0z9yyGgtgsjSPwBmNHil8NE/Ysa7KXwf0T9acHUK91TQP1ynMSQLIs8/+zzIyiunzT/ruWqsKTnMPw8b0svb18o/VWrYkxaDyT9XW9jkqzrIP0HZFSZr/sY/YtH2WiHOxT/9/s07manEP1rO9FGbkMM/E33tFu6Cwj90b0MWVoDBP1df3RGWiMA/C8HmUN42vz9TvLP7QXG9P9AipcnTv7s/tt0pFA4iuj9yhIFAaZe4PxvV3hhcH7c/iwc1Jly5tT99OyMK3mS0P0zFd9hVIbM/5ITMbzfusT9FYMXQ9sqwP0A3BecQbq8/yoTDNcNjrT/rVGJK8XWrP79YB7SKo6k/66a3aYLrpz+V7N5Yz0ymP5mEnOxsxqQ/v1N+jVtXoz9VpGMZof6hP0vYU1NJu6A/MytLlswYnz/QBMZ5IeKcP9HfzM/Q0Jo/rChxuyjjmD9I7IuRhheXP8zLGFZXbJU/O8HWKRjgkz9nmpWoVnGSP9qopTixHpE/jiLWl67Njz+rxD4mE5GNP569pUc0hYs/+yOGI9mniT/xTTz46/aHP5MdlB56cIY/Df2H97MShT92r1DF7NuDPyej2XCayoI/hc2dPFXdgT/mr95l1xKBP2NYErX8aYA/L/ec/IPDfz+4Cb0kifJ+P9xSMkKDX34/FDbgGisJfj+8ljRndu59PwWWPkOWDn4/+xLihPVofj+SF1L3Nv1+Py7qznszy38//F29B3xpgD/UTfnaYQqBP+CJHKSCyIE/irWykyykgj+hHjtpw52DPz1pTC+/tYQ/ZT2Y6KrshT/RXHUtI0OHP3ZPm7nUuYg/1J3D6XpRij+hovEo3gqMP8AiM03S5o0/cUPB4zTmjz+9fkG29QSRP2/Yh8JwKZI/qPW4gQNhkz/px4cAJ6yUP2+HImtUC5Y/kZC2AwR/lz8mcx4SrAeZP1SgRs2/pZo/IabuPq5ZnD/vGIci4SOeP/aRA+BdAqA/09zX4Uz+oD+Jr+YJ5wWiPyYk0tJQGaM/CD5mKak4pD/kbS7YCGSlPzHgrfSBm6Y/IwkBTx/fpz/QE7nk4y6pP3PVylfKiqo/7bVyasTyqz/+SPWAumatP6MYKSqL5q4/vpXcVwU5sD+4g4hXgQSxP3ka8d2Y1bE/9kCYhiWssj++rOYa+4ezPwe8kXTnaLQ/V3eVZrJOtT8C7iitHTm2P+w8DOXkJ7c/mISHir0auD84AWkAVxG5P9pIRp9aC7o//Yg5zWsIuz/hhUceKAi8P6QUjn0nCr0/IglNX/wNvj8lD837MxO/P19ljEmrDMA/Z4q23POPwD9/lRpWMxPBP37Gq1cnlsE/ZvtDuYsYwj8kWSG/GprCP6C+AlSNGsM/U0SlRpuZwz9se12K+xbEP+rUf3pkksQ/H71EIIwLxT93kM56KILFP7yu8cjv9cU/qa5Z1Jhmxj8IGaI929PGP0ou9chvPcc/hx7AqhCjxz82ygnUeQTIP+Ku9z1pYcg/UhAMNJ+5yD+vvKic3gzJP48JYz/tWsk/Lsq3CJSjyT+6DbFKn+bJP5lpE/reI8o/nmOt5yZbyj8XPGn1TozKP7vNx0Yzt8o/EnBybLTbyj/Os5mKt/nKP59Z33kmEcs/yQCT4u8hyz+3oBJSByzLPw==",
          "dtype": "f8"
         },
         "yaxis": "y"
        },
        {
         "legendgroup": "avg_positive",
         "marker": {
          "color": "rgb(44, 160, 44)"
         },
         "mode": "lines",
         "name": "avg_positive",
         "showlegend": false,
         "type": "scatter",
         "x": [
          0.016051696613430977,
          0.017014976928010583,
          0.01797825724259019,
          0.018941537557169794,
          0.0199048178717494,
          0.020868098186329006,
          0.02183137850090861,
          0.02279465881548822,
          0.023757939130067823,
          0.024721219444647433,
          0.025684499759227035,
          0.026647780073806644,
          0.02761106038838625,
          0.028574340702965856,
          0.02953762101754546,
          0.030500901332125067,
          0.03146418164670467,
          0.03242746196128428,
          0.03339074227586389,
          0.03435402259044349,
          0.03531730290502309,
          0.0362805832196027,
          0.03724386353418231,
          0.03820714384876192,
          0.03917042416334152,
          0.040133704477921125,
          0.041096984792500735,
          0.042060265107080344,
          0.043023545421659946,
          0.04398682573623955,
          0.04495010605081916,
          0.04591338636539877,
          0.04687666667997837,
          0.04783994699455798,
          0.04880322730913758,
          0.04976650762371719,
          0.05072978793829679,
          0.0516930682528764,
          0.052656348567456004,
          0.053619628882035614,
          0.054582909196615216,
          0.055546189511194825,
          0.056509469825774435,
          0.05747275014035404,
          0.058436030454933646,
          0.05939931076951325,
          0.06036259108409286,
          0.06132587139867246,
          0.06228915171325207,
          0.06325243202783168,
          0.06421571234241127,
          0.06517899265699088,
          0.06614227297157049,
          0.06710555328615009,
          0.06806883360072971,
          0.0690321139153093,
          0.06999539422988892,
          0.07095867454446853,
          0.07192195485904812,
          0.07288523517362774,
          0.07384851548820734,
          0.07481179580278695,
          0.07577507611736656,
          0.07673835643194615,
          0.07770163674652576,
          0.07866491706110537,
          0.07962819737568498,
          0.08059147769026458,
          0.08155475800484419,
          0.0825180383194238,
          0.0834813186340034,
          0.08444459894858301,
          0.08540787926316261,
          0.08637115957774222,
          0.08733443989232183,
          0.08829772020690144,
          0.08926100052148103,
          0.09022428083606064,
          0.09118756115064025,
          0.09215084146521986,
          0.09311412177979946,
          0.09407740209437906,
          0.09504068240895867,
          0.09600396272353828,
          0.09696724303811789,
          0.09793052335269749,
          0.0988938036672771,
          0.0998570839818567,
          0.10082036429643632,
          0.10178364461101591,
          0.10274692492559552,
          0.10371020524017513,
          0.10467348555475474,
          0.10563676586933433,
          0.10660004618391394,
          0.10756332649849355,
          0.10852660681307316,
          0.10948988712765276,
          0.11045316744223237,
          0.11141644775681198,
          0.11237972807139159,
          0.1133430083859712,
          0.11430628870055079,
          0.1152695690151304,
          0.11623284932971001,
          0.11719612964428962,
          0.11815940995886921,
          0.11912269027344882,
          0.12008597058802843,
          0.12104925090260804,
          0.12201253121718764,
          0.12297581153176725,
          0.12393909184634685,
          0.12490237216092646,
          0.12586565247550607,
          0.12682893279008567,
          0.12779221310466526,
          0.1287554934192449,
          0.1297187737338245,
          0.1306820540484041,
          0.1316453343629837,
          0.1326086146775633,
          0.13357189499214292,
          0.13453517530672252,
          0.13549845562130214,
          0.13646173593588173,
          0.13742501625046133,
          0.13838829656504095,
          0.13935157687962055,
          0.14031485719420017,
          0.14127813750877977,
          0.14224141782335936,
          0.14320469813793898,
          0.14416797845251858,
          0.14513125876709818,
          0.1460945390816778,
          0.1470578193962574,
          0.14802109971083702,
          0.1489843800254166,
          0.1499476603399962,
          0.15091094065457583,
          0.15187422096915543,
          0.15283750128373505,
          0.15380078159831465,
          0.15476406191289424,
          0.15572734222747386,
          0.15669062254205346,
          0.15765390285663305,
          0.15861718317121268,
          0.15958046348579227,
          0.1605437438003719,
          0.1615070241149515,
          0.1624703044295311,
          0.1634335847441107,
          0.1643968650586903,
          0.16536014537326993,
          0.16632342568784952,
          0.16728670600242912,
          0.16824998631700874,
          0.16921326663158834,
          0.17017654694616793,
          0.17113982726074756,
          0.17210310757532715,
          0.17306638788990678,
          0.17402966820448637,
          0.17499294851906597,
          0.1759562288336456,
          0.17691950914822518,
          0.1778827894628048,
          0.1788460697773844,
          0.179809350091964,
          0.18077263040654362,
          0.18173591072112322,
          0.1826991910357028,
          0.18366247135028244,
          0.18462575166486203,
          0.18558903197944165,
          0.18655231229402125,
          0.18751559260860085,
          0.18847887292318047,
          0.18944215323776006,
          0.1904054335523397,
          0.19136871386691928,
          0.19233199418149888,
          0.1932952744960785,
          0.1942585548106581,
          0.1952218351252377,
          0.19618511543981731,
          0.1971483957543969,
          0.19811167606897653,
          0.19907495638355613,
          0.20003823669813572,
          0.20100151701271535,
          0.20196479732729494,
          0.20292807764187454,
          0.20389135795645416,
          0.20485463827103376,
          0.20581791858561338,
          0.20678119890019298,
          0.20774447921477257,
          0.2087077595293522,
          0.2096710398439318,
          0.2106343201585114,
          0.211597600473091,
          0.2125608807876706,
          0.21352416110225023,
          0.21448744141682982,
          0.21545072173140942,
          0.21641400204598904,
          0.21737728236056864,
          0.21834056267514826,
          0.21930384298972785,
          0.22026712330430745,
          0.22123040361888707,
          0.22219368393346667,
          0.2231569642480463,
          0.2241202445626259,
          0.22508352487720548,
          0.2260468051917851,
          0.2270100855063647,
          0.2279733658209443,
          0.22893664613552392,
          0.22989992645010351,
          0.23086320676468314,
          0.23182648707926273,
          0.23278976739384233,
          0.23375304770842195,
          0.23471632802300155,
          0.23567960833758117,
          0.23664288865216077,
          0.23760616896674036,
          0.23856944928131998,
          0.23953272959589958,
          0.24049600991047917,
          0.2414592902250588,
          0.2424225705396384,
          0.24338585085421802,
          0.2443491311687976,
          0.2453124114833772,
          0.24627569179795683,
          0.24723897211253643,
          0.24820225242711605,
          0.24916553274169564,
          0.2501288130562752,
          0.25109209337085486,
          0.25205537368543446,
          0.25301865400001405,
          0.2539819343145937,
          0.2549452146291733,
          0.2559084949437529,
          0.2568717752583325,
          0.2578350555729121,
          0.2587983358874917,
          0.2597616162020713,
          0.26072489651665093,
          0.2616881768312305,
          0.2626514571458101,
          0.26361473746038977,
          0.26457801777496937,
          0.26554129808954896,
          0.26650457840412856,
          0.26746785871870815,
          0.26843113903328775,
          0.26939441934786734,
          0.270357699662447,
          0.2713209799770266,
          0.2722842602916062,
          0.2732475406061858,
          0.2742108209207654,
          0.275174101235345,
          0.2761373815499246,
          0.2771006618645042,
          0.2780639421790838,
          0.2790272224936634,
          0.27999050280824306,
          0.28095378312282265,
          0.28191706343740225,
          0.28288034375198184,
          0.28384362406656144,
          0.2848069043811411,
          0.2857701846957207,
          0.2867334650103003,
          0.2876967453248799,
          0.28866002563945947,
          0.2896233059540391,
          0.2905865862686187,
          0.2915498665831983,
          0.2925131468977779,
          0.2934764272123575,
          0.2944397075269371,
          0.29540298784151675,
          0.29636626815609635,
          0.29732954847067594,
          0.29829282878525554,
          0.29925610909983513,
          0.3002193894144148,
          0.3011826697289944,
          0.302145950043574,
          0.30310923035815357,
          0.30407251067273317,
          0.3050357909873128,
          0.3059990713018924,
          0.306962351616472,
          0.3079256319310516,
          0.3088889122456312,
          0.30985219256021085,
          0.31081547287479044,
          0.31177875318937004,
          0.31274203350394963,
          0.31370531381852923,
          0.3146685941331089,
          0.3156318744476885,
          0.31659515476226807,
          0.31755843507684767,
          0.31852171539142726,
          0.31948499570600686,
          0.3204482760205865,
          0.3214115563351661,
          0.3223748366497457,
          0.3233381169643253,
          0.3243013972789049,
          0.32526467759348454,
          0.32622795790806414,
          0.32719123822264373,
          0.3281545185372233,
          0.3291177988518029,
          0.3300810791663826,
          0.33104435948096217,
          0.33200763979554176,
          0.33297092011012136,
          0.33393420042470096,
          0.3348974807392806,
          0.3358607610538602,
          0.3368240413684398,
          0.3377873216830194,
          0.338750601997599,
          0.33971388231217864,
          0.34067716262675823,
          0.34164044294133783,
          0.3426037232559174,
          0.343567003570497,
          0.3445302838850766,
          0.34549356419965627,
          0.34645684451423586,
          0.34742012482881546,
          0.34838340514339505,
          0.34934668545797465,
          0.3503099657725543,
          0.3512732460871339,
          0.3522365264017135,
          0.3531998067162931,
          0.3541630870308727,
          0.35512636734545233,
          0.3560896476600319,
          0.3570529279746115,
          0.3580162082891911,
          0.3589794886037707,
          0.35994276891835036,
          0.36090604923292996,
          0.36186932954750956,
          0.36283260986208915,
          0.36379589017666875,
          0.3647591704912484,
          0.365722450805828,
          0.3666857311204076,
          0.3676490114349872,
          0.3686122917495668,
          0.3695755720641464,
          0.370538852378726,
          0.3715021326933056,
          0.3724654130078852,
          0.3734286933224648,
          0.3743919736370444,
          0.37535525395162406,
          0.37631853426620365,
          0.37728181458078325,
          0.37824509489536284,
          0.37920837520994244,
          0.3801716555245221,
          0.3811349358391017,
          0.3820982161536813,
          0.3830614964682609,
          0.38402477678284047,
          0.3849880570974201,
          0.3859513374119997,
          0.3869146177265793,
          0.3878778980411589,
          0.3888411783557385,
          0.3898044586703181,
          0.39076773898489775,
          0.39173101929947735,
          0.39269429961405694,
          0.39365757992863654,
          0.39462086024321613,
          0.3955841405577958,
          0.3965474208723754,
          0.397510701186955,
          0.39847398150153457,
          0.39943726181611416,
          0.4004005421306938,
          0.4013638224452734,
          0.402327102759853,
          0.4032903830744326,
          0.4042536633890122,
          0.40521694370359185,
          0.40618022401817144,
          0.40714350433275104,
          0.40810678464733063,
          0.40907006496191023,
          0.4100333452764899,
          0.4109966255910695,
          0.41195990590564907,
          0.41292318622022867,
          0.41388646653480826,
          0.41484974684938786,
          0.4158130271639675,
          0.4167763074785471,
          0.4177395877931267,
          0.4187028681077063,
          0.4196661484222859,
          0.42062942873686554,
          0.42159270905144514,
          0.42255598936602473,
          0.4235192696806043,
          0.4244825499951839,
          0.4254458303097636,
          0.42640911062434317,
          0.42737239093892276,
          0.42833567125350236,
          0.42929895156808195,
          0.4302622318826616,
          0.4312255121972412,
          0.4321887925118208,
          0.4331520728264004,
          0.43411535314098,
          0.43507863345555964,
          0.43604191377013923,
          0.43700519408471883,
          0.4379684743992984,
          0.438931754713878,
          0.4398950350284576,
          0.44085831534303727,
          0.44182159565761686,
          0.44278487597219646,
          0.44374815628677605,
          0.44471143660135565,
          0.4456747169159353,
          0.4466379972305149,
          0.4476012775450945,
          0.4485645578596741,
          0.4495278381742537,
          0.45049111848883333,
          0.4514543988034129,
          0.4524176791179925,
          0.4533809594325721,
          0.4543442397471517,
          0.45530752006173136,
          0.45627080037631096,
          0.45723408069089055,
          0.45819736100547015,
          0.45916064132004974,
          0.4601239216346294,
          0.461087201949209,
          0.4620504822637886,
          0.4630137625783682,
          0.4639770428929478,
          0.4649403232075274,
          0.465903603522107,
          0.4668668838366866,
          0.4678301641512662,
          0.4687934444658458,
          0.4697567247804254,
          0.47072000509500506,
          0.47168328540958465,
          0.47264656572416425,
          0.47360984603874384,
          0.47457312635332344,
          0.4755364066679031,
          0.4764996869824827,
          0.4774629672970623,
          0.4784262476116419,
          0.47938952792622147,
          0.4803528082408011,
          0.4813160885553807,
          0.4822793688699603,
          0.4832426491845399,
          0.4842059294991195,
          0.48516920981369915,
          0.48613249012827875,
          0.48709577044285834,
          0.48805905075743794,
          0.48902233107201754,
          0.48998561138659713,
          0.4909488917011768,
          0.4919121720157564,
          0.492875452330336,
          0.49383873264491557,
          0.49480201295949516,
          0.4957652932740748,
          0.4967285735886544
         ],
         "xaxis": "x",
         "y": {
          "bdata": "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",
          "dtype": "f8"
         },
         "yaxis": "y"
        },
        {
         "legendgroup": "avg_negative",
         "marker": {
          "color": "rgb(31, 119, 180)",
          "symbol": "line-ns-open"
         },
         "mode": "markers",
         "name": "avg_negative",
         "showlegend": false,
         "type": "scatter",
         "x": {
          "bdata": "QQlv0uOB2z+VFDDTFQ3fP6KxIvh0UuE/MWJEic8+4z/Ew9Mifj7gP03D/mNJoOA/Ut/h+1dF5D/UzaCW3KriP1cQLzOf/eE/11qrLb0N4T8JvD3I6EXeP6j1mx7daeQ/3sp+fbMv4D/PQNSoiZHiP0GPVFc/weM/bu0NP62P5D8TP6OkR7/iPwCAb7tvvuA/q6oadaI64D9XBA3yDgDbP/AcgZHzOeA/DYl59UeU5D9aWlqIv4fiPy+66HnAueA/VVXVD5mG4z+MLjrWELriP175pDuuROE//UrBA9Gz4j/wckI7y0riPwAAAICQ/eE/aoTFlLDD4D8AAABkPb3hP2qlxtU6Y+Q/crdOhWUF5T/ZZJPr4wzkP6uqCqDSJuM/om6GEZBy3z+kcL1KBvTeP83MzPzP5uc/AACQqluI1T+vgIZe5qTZPxkJFW3rO+I/6aKL/qkQ4j+fW+JfVjzZPzmO4ziEKNs/9AW9HoM13j/ollg0kMbjP7HcA7ZacOQ/cnIy3noo4z+YUxCTc5fkP0jMawLxXOE/AAAA0McJ1D8/xdVfaLDgP5NN9nxnRuA/b8jb3hrW4D8AAABgxOrHP1Drt/sAbeM/RESEFhLz4D8=",
          "dtype": "f8"
         },
         "xaxis": "x",
         "y": [
          "avg_negative",
          "avg_negative",
          "avg_negative",
          "avg_negative",
          "avg_negative",
          "avg_negative",
          "avg_negative",
          "avg_negative",
          "avg_negative",
          "avg_negative",
          "avg_negative",
          "avg_negative",
          "avg_negative",
          "avg_negative",
          "avg_negative",
          "avg_negative",
          "avg_negative",
          "avg_negative",
          "avg_negative",
          "avg_negative",
          "avg_negative",
          "avg_negative",
          "avg_negative",
          "avg_negative",
          "avg_negative",
          "avg_negative",
          "avg_negative",
          "avg_negative",
          "avg_negative",
          "avg_negative",
          "avg_negative",
          "avg_negative",
          "avg_negative",
          "avg_negative",
          "avg_negative",
          "avg_negative",
          "avg_negative",
          "avg_negative",
          "avg_negative",
          "avg_negative",
          "avg_negative",
          "avg_negative",
          "avg_negative",
          "avg_negative",
          "avg_negative",
          "avg_negative",
          "avg_negative",
          "avg_negative",
          "avg_negative",
          "avg_negative",
          "avg_negative",
          "avg_negative",
          "avg_negative",
          "avg_negative",
          "avg_negative",
          "avg_negative",
          "avg_negative",
          "avg_negative"
         ],
         "yaxis": "y2"
        },
        {
         "legendgroup": "avg_neutral",
         "marker": {
          "color": "rgb(255, 127, 14)",
          "symbol": "line-ns-open"
         },
         "mode": "markers",
         "name": "avg_neutral",
         "showlegend": false,
         "type": "scatter",
         "x": {
          "bdata": "KOGNnP853T8AAACIuhTbPyp4OfKXBtY/e/XqK6Jo0D/T0lKvuC/aP/WDjoAiAdk/39moi5NE0T9ekfl9EbXVPwti8sBBSNM/nXPOPb3a1T8dozhaRM7bP4QPvoZfTtE/IjXBSt3G1z9+V4t7qu7UP+lQgzmrDtQ/31j9Zdml0z/bgbkax4vXPwAA8O4m29c/mplZ9XhQ2j8RNJwPYFLYP8uHcRWmb9g/LAVqpAk80z94eHggtRHYPwAAgBCTzdc/AAAAk7Q80j/RRRe5lmnVP5nNpeulEtg/gVq/9S8K1T8KXk56yAPXPwAAACDh/do/GmG5OJQl2j9VVVXdlPfZP0du5LZQDdQ/lQnbljvA0j8vuuhnefjTPzEMw6xZTNM/KBeismh82z/hehSmuuTbP2ZmZm5doc0/AAAAJOs6xT+ZsA1YasXYPwHzgRp849U/jC66IDsv2T/YUN69vtLUP8dxHM8Rvt4/s6ZsiD7L1D82lNcp4pjUPxph+W98xdI/o6KilDDO1D+n4CVO57fTPxoS8/fL7tc/AAAAEKos3j+9T/H660bYP3o7w1SeANk/Z8wZgxky2D8AAABgtW3lP9lkk87q5tI/ntiJj3do1z8=",
          "dtype": "f8"
         },
         "xaxis": "x",
         "y": [
          "avg_neutral",
          "avg_neutral",
          "avg_neutral",
          "avg_neutral",
          "avg_neutral",
          "avg_neutral",
          "avg_neutral",
          "avg_neutral",
          "avg_neutral",
          "avg_neutral",
          "avg_neutral",
          "avg_neutral",
          "avg_neutral",
          "avg_neutral",
          "avg_neutral",
          "avg_neutral",
          "avg_neutral",
          "avg_neutral",
          "avg_neutral",
          "avg_neutral",
          "avg_neutral",
          "avg_neutral",
          "avg_neutral",
          "avg_neutral",
          "avg_neutral",
          "avg_neutral",
          "avg_neutral",
          "avg_neutral",
          "avg_neutral",
          "avg_neutral",
          "avg_neutral",
          "avg_neutral",
          "avg_neutral",
          "avg_neutral",
          "avg_neutral",
          "avg_neutral",
          "avg_neutral",
          "avg_neutral",
          "avg_neutral",
          "avg_neutral",
          "avg_neutral",
          "avg_neutral",
          "avg_neutral",
          "avg_neutral",
          "avg_neutral",
          "avg_neutral",
          "avg_neutral",
          "avg_neutral",
          "avg_neutral",
          "avg_neutral",
          "avg_neutral",
          "avg_neutral",
          "avg_neutral",
          "avg_neutral",
          "avg_neutral",
          "avg_neutral",
          "avg_neutral",
          "avg_neutral"
         ],
         "yaxis": "y2"
        },
        {
         "legendgroup": "avg_positive",
         "marker": {
          "color": "rgb(44, 160, 44)",
          "symbol": "line-ns-open"
         },
         "mode": "markers",
         "name": "avg_positive",
         "showlegend": false,
         "type": "scatter",
         "x": {
          "bdata": "SnijL3IQvT94RWaLvni3P6fghXv4Ub0/unPnlH0zwj8PD88hLE21PwNf3Noq+bY/FsSk4/HCuD8DEn5F1dSzP23Ul6j/eME/33vvqpATwD/nOsZ3S6+3P4Faf+mYd7c/ln0O7e5mvz/2DETRCLm3P6z+QG9Yu7E/LJ+I52DWqT9dOzAJTa2nP6uqbmDmn7o/iYhoVQjptD8ndV/tIVvJPxs8RxDLcbw/qPUrnTPbrD/x8PDAXvamP110UeCv+7o/VVXVKWXYuj8vuugfHom0P4nZXIT2j7U/CB98Arg4tj9JkqRHhJqxPwAAACDbb5A/Po0wdSpMsT9VVVUCgm+kP6MsyuPMYak/g+BUyMqnqT+lQK0G9m2vP+Q4jkQEmLk/tOx46RxEtD/hepRd/Jy0P83MzBAWG5Y/AAAA7y7a3z8vuuiSXivLPznE1SW0krY/AAAA2Id7pT/olpjo6vDRPxzHcUWoZbg/p6wpuXz+yT9sKK+N68+uPyz3dJ04Z7E/x8ZGqmaDsz/rQ+NxjMmoPzFvZ/NHXbU/AAAACByTyz+b96kMDWG5P97OkNVKyrk/xB1x78KGuD8AAACAZV7CP7gzJN5M/Lg/GY/xBpHFuj8=",
          "dtype": "f8"
         },
         "xaxis": "x",
         "y": [
          "avg_positive",
          "avg_positive",
          "avg_positive",
          "avg_positive",
          "avg_positive",
          "avg_positive",
          "avg_positive",
          "avg_positive",
          "avg_positive",
          "avg_positive",
          "avg_positive",
          "avg_positive",
          "avg_positive",
          "avg_positive",
          "avg_positive",
          "avg_positive",
          "avg_positive",
          "avg_positive",
          "avg_positive",
          "avg_positive",
          "avg_positive",
          "avg_positive",
          "avg_positive",
          "avg_positive",
          "avg_positive",
          "avg_positive",
          "avg_positive",
          "avg_positive",
          "avg_positive",
          "avg_positive",
          "avg_positive",
          "avg_positive",
          "avg_positive",
          "avg_positive",
          "avg_positive",
          "avg_positive",
          "avg_positive",
          "avg_positive",
          "avg_positive",
          "avg_positive",
          "avg_positive",
          "avg_positive",
          "avg_positive",
          "avg_positive",
          "avg_positive",
          "avg_positive",
          "avg_positive",
          "avg_positive",
          "avg_positive",
          "avg_positive",
          "avg_positive",
          "avg_positive",
          "avg_positive",
          "avg_positive",
          "avg_positive",
          "avg_positive",
          "avg_positive",
          "avg_positive"
         ],
         "yaxis": "y2"
        }
       ],
       "layout": {
        "barmode": "overlay",
        "hovermode": "closest",
        "legend": {
         "title": {
          "text": "Sentiment Category"
         },
         "traceorder": "reversed"
        },
        "template": {
         "data": {
          "bar": [
           {
            "error_x": {
             "color": "#2a3f5f"
            },
            "error_y": {
             "color": "#2a3f5f"
            },
            "marker": {
             "line": {
              "color": "#E5ECF6",
              "width": 0.5
             },
             "pattern": {
              "fillmode": "overlay",
              "size": 10,
              "solidity": 0.2
             }
            },
            "type": "bar"
           }
          ],
          "barpolar": [
           {
            "marker": {
             "line": {
              "color": "#E5ECF6",
              "width": 0.5
             },
             "pattern": {
              "fillmode": "overlay",
              "size": 10,
              "solidity": 0.2
             }
            },
            "type": "barpolar"
           }
          ],
          "carpet": [
           {
            "aaxis": {
             "endlinecolor": "#2a3f5f",
             "gridcolor": "white",
             "linecolor": "white",
             "minorgridcolor": "white",
             "startlinecolor": "#2a3f5f"
            },
            "baxis": {
             "endlinecolor": "#2a3f5f",
             "gridcolor": "white",
             "linecolor": "white",
             "minorgridcolor": "white",
             "startlinecolor": "#2a3f5f"
            },
            "type": "carpet"
           }
          ],
          "choropleth": [
           {
            "colorbar": {
             "outlinewidth": 0,
             "ticks": ""
            },
            "type": "choropleth"
           }
          ],
          "contour": [
           {
            "colorbar": {
             "outlinewidth": 0,
             "ticks": ""
            },
            "colorscale": [
             [
              0,
              "#0d0887"
             ],
             [
              0.1111111111111111,
              "#46039f"
             ],
             [
              0.2222222222222222,
              "#7201a8"
             ],
             [
              0.3333333333333333,
              "#9c179e"
             ],
             [
              0.4444444444444444,
              "#bd3786"
             ],
             [
              0.5555555555555556,
              "#d8576b"
             ],
             [
              0.6666666666666666,
              "#ed7953"
             ],
             [
              0.7777777777777778,
              "#fb9f3a"
             ],
             [
              0.8888888888888888,
              "#fdca26"
             ],
             [
              1,
              "#f0f921"
             ]
            ],
            "type": "contour"
           }
          ],
          "contourcarpet": [
           {
            "colorbar": {
             "outlinewidth": 0,
             "ticks": ""
            },
            "type": "contourcarpet"
           }
          ],
          "heatmap": [
           {
            "colorbar": {
             "outlinewidth": 0,
             "ticks": ""
            },
            "colorscale": [
             [
              0,
              "#0d0887"
             ],
             [
              0.1111111111111111,
              "#46039f"
             ],
             [
              0.2222222222222222,
              "#7201a8"
             ],
             [
              0.3333333333333333,
              "#9c179e"
             ],
             [
              0.4444444444444444,
              "#bd3786"
             ],
             [
              0.5555555555555556,
              "#d8576b"
             ],
             [
              0.6666666666666666,
              "#ed7953"
             ],
             [
              0.7777777777777778,
              "#fb9f3a"
             ],
             [
              0.8888888888888888,
              "#fdca26"
             ],
             [
              1,
              "#f0f921"
             ]
            ],
            "type": "heatmap"
           }
          ],
          "histogram": [
           {
            "marker": {
             "pattern": {
              "fillmode": "overlay",
              "size": 10,
              "solidity": 0.2
             }
            },
            "type": "histogram"
           }
          ],
          "histogram2d": [
           {
            "colorbar": {
             "outlinewidth": 0,
             "ticks": ""
            },
            "colorscale": [
             [
              0,
              "#0d0887"
             ],
             [
              0.1111111111111111,
              "#46039f"
             ],
             [
              0.2222222222222222,
              "#7201a8"
             ],
             [
              0.3333333333333333,
              "#9c179e"
             ],
             [
              0.4444444444444444,
              "#bd3786"
             ],
             [
              0.5555555555555556,
              "#d8576b"
             ],
             [
              0.6666666666666666,
              "#ed7953"
             ],
             [
              0.7777777777777778,
              "#fb9f3a"
             ],
             [
              0.8888888888888888,
              "#fdca26"
             ],
             [
              1,
              "#f0f921"
             ]
            ],
            "type": "histogram2d"
           }
          ],
          "histogram2dcontour": [
           {
            "colorbar": {
             "outlinewidth": 0,
             "ticks": ""
            },
            "colorscale": [
             [
              0,
              "#0d0887"
             ],
             [
              0.1111111111111111,
              "#46039f"
             ],
             [
              0.2222222222222222,
              "#7201a8"
             ],
             [
              0.3333333333333333,
              "#9c179e"
             ],
             [
              0.4444444444444444,
              "#bd3786"
             ],
             [
              0.5555555555555556,
              "#d8576b"
             ],
             [
              0.6666666666666666,
              "#ed7953"
             ],
             [
              0.7777777777777778,
              "#fb9f3a"
             ],
             [
              0.8888888888888888,
              "#fdca26"
             ],
             [
              1,
              "#f0f921"
             ]
            ],
            "type": "histogram2dcontour"
           }
          ],
          "mesh3d": [
           {
            "colorbar": {
             "outlinewidth": 0,
             "ticks": ""
            },
            "type": "mesh3d"
           }
          ],
          "parcoords": [
           {
            "line": {
             "colorbar": {
              "outlinewidth": 0,
              "ticks": ""
             }
            },
            "type": "parcoords"
           }
          ],
          "pie": [
           {
            "automargin": true,
            "type": "pie"
           }
          ],
          "scatter": [
           {
            "fillpattern": {
             "fillmode": "overlay",
             "size": 10,
             "solidity": 0.2
            },
            "type": "scatter"
           }
          ],
          "scatter3d": [
           {
            "line": {
             "colorbar": {
              "outlinewidth": 0,
              "ticks": ""
             }
            },
            "marker": {
             "colorbar": {
              "outlinewidth": 0,
              "ticks": ""
             }
            },
            "type": "scatter3d"
           }
          ],
          "scattercarpet": [
           {
            "marker": {
             "colorbar": {
              "outlinewidth": 0,
              "ticks": ""
             }
            },
            "type": "scattercarpet"
           }
          ],
          "scattergeo": [
           {
            "marker": {
             "colorbar": {
              "outlinewidth": 0,
              "ticks": ""
             }
            },
            "type": "scattergeo"
           }
          ],
          "scattergl": [
           {
            "marker": {
             "colorbar": {
              "outlinewidth": 0,
              "ticks": ""
             }
            },
            "type": "scattergl"
           }
          ],
          "scattermap": [
           {
            "marker": {
             "colorbar": {
              "outlinewidth": 0,
              "ticks": ""
             }
            },
            "type": "scattermap"
           }
          ],
          "scattermapbox": [
           {
            "marker": {
             "colorbar": {
              "outlinewidth": 0,
              "ticks": ""
             }
            },
            "type": "scattermapbox"
           }
          ],
          "scatterpolar": [
           {
            "marker": {
             "colorbar": {
              "outlinewidth": 0,
              "ticks": ""
             }
            },
            "type": "scatterpolar"
           }
          ],
          "scatterpolargl": [
           {
            "marker": {
             "colorbar": {
              "outlinewidth": 0,
              "ticks": ""
             }
            },
            "type": "scatterpolargl"
           }
          ],
          "scatterternary": [
           {
            "marker": {
             "colorbar": {
              "outlinewidth": 0,
              "ticks": ""
             }
            },
            "type": "scatterternary"
           }
          ],
          "surface": [
           {
            "colorbar": {
             "outlinewidth": 0,
             "ticks": ""
            },
            "colorscale": [
             [
              0,
              "#0d0887"
             ],
             [
              0.1111111111111111,
              "#46039f"
             ],
             [
              0.2222222222222222,
              "#7201a8"
             ],
             [
              0.3333333333333333,
              "#9c179e"
             ],
             [
              0.4444444444444444,
              "#bd3786"
             ],
             [
              0.5555555555555556,
              "#d8576b"
             ],
             [
              0.6666666666666666,
              "#ed7953"
             ],
             [
              0.7777777777777778,
              "#fb9f3a"
             ],
             [
              0.8888888888888888,
              "#fdca26"
             ],
             [
              1,
              "#f0f921"
             ]
            ],
            "type": "surface"
           }
          ],
          "table": [
           {
            "cells": {
             "fill": {
              "color": "#EBF0F8"
             },
             "line": {
              "color": "white"
             }
            },
            "header": {
             "fill": {
              "color": "#C8D4E3"
             },
             "line": {
              "color": "white"
             }
            },
            "type": "table"
           }
          ]
         },
         "layout": {
          "annotationdefaults": {
           "arrowcolor": "#2a3f5f",
           "arrowhead": 0,
           "arrowwidth": 1
          },
          "autotypenumbers": "strict",
          "coloraxis": {
           "colorbar": {
            "outlinewidth": 0,
            "ticks": ""
           }
          },
          "colorscale": {
           "diverging": [
            [
             0,
             "#8e0152"
            ],
            [
             0.1,
             "#c51b7d"
            ],
            [
             0.2,
             "#de77ae"
            ],
            [
             0.3,
             "#f1b6da"
            ],
            [
             0.4,
             "#fde0ef"
            ],
            [
             0.5,
             "#f7f7f7"
            ],
            [
             0.6,
             "#e6f5d0"
            ],
            [
             0.7,
             "#b8e186"
            ],
            [
             0.8,
             "#7fbc41"
            ],
            [
             0.9,
             "#4d9221"
            ],
            [
             1,
             "#276419"
            ]
           ],
           "sequential": [
            [
             0,
             "#0d0887"
            ],
            [
             0.1111111111111111,
             "#46039f"
            ],
            [
             0.2222222222222222,
             "#7201a8"
            ],
            [
             0.3333333333333333,
             "#9c179e"
            ],
            [
             0.4444444444444444,
             "#bd3786"
            ],
            [
             0.5555555555555556,
             "#d8576b"
            ],
            [
             0.6666666666666666,
             "#ed7953"
            ],
            [
             0.7777777777777778,
             "#fb9f3a"
            ],
            [
             0.8888888888888888,
             "#fdca26"
            ],
            [
             1,
             "#f0f921"
            ]
           ],
           "sequentialminus": [
            [
             0,
             "#0d0887"
            ],
            [
             0.1111111111111111,
             "#46039f"
            ],
            [
             0.2222222222222222,
             "#7201a8"
            ],
            [
             0.3333333333333333,
             "#9c179e"
            ],
            [
             0.4444444444444444,
             "#bd3786"
            ],
            [
             0.5555555555555556,
             "#d8576b"
            ],
            [
             0.6666666666666666,
             "#ed7953"
            ],
            [
             0.7777777777777778,
             "#fb9f3a"
            ],
            [
             0.8888888888888888,
             "#fdca26"
            ],
            [
             1,
             "#f0f921"
            ]
           ]
          },
          "colorway": [
           "#636efa",
           "#EF553B",
           "#00cc96",
           "#ab63fa",
           "#FFA15A",
           "#19d3f3",
           "#FF6692",
           "#B6E880",
           "#FF97FF",
           "#FECB52"
          ],
          "font": {
           "color": "#2a3f5f"
          },
          "geo": {
           "bgcolor": "white",
           "lakecolor": "white",
           "landcolor": "#E5ECF6",
           "showlakes": true,
           "showland": true,
           "subunitcolor": "white"
          },
          "hoverlabel": {
           "align": "left"
          },
          "hovermode": "closest",
          "mapbox": {
           "style": "light"
          },
          "paper_bgcolor": "white",
          "plot_bgcolor": "#E5ECF6",
          "polar": {
           "angularaxis": {
            "gridcolor": "white",
            "linecolor": "white",
            "ticks": ""
           },
           "bgcolor": "#E5ECF6",
           "radialaxis": {
            "gridcolor": "white",
            "linecolor": "white",
            "ticks": ""
           }
          },
          "scene": {
           "xaxis": {
            "backgroundcolor": "#E5ECF6",
            "gridcolor": "white",
            "gridwidth": 2,
            "linecolor": "white",
            "showbackground": true,
            "ticks": "",
            "zerolinecolor": "white"
           },
           "yaxis": {
            "backgroundcolor": "#E5ECF6",
            "gridcolor": "white",
            "gridwidth": 2,
            "linecolor": "white",
            "showbackground": true,
            "ticks": "",
            "zerolinecolor": "white"
           },
           "zaxis": {
            "backgroundcolor": "#E5ECF6",
            "gridcolor": "white",
            "gridwidth": 2,
            "linecolor": "white",
            "showbackground": true,
            "ticks": "",
            "zerolinecolor": "white"
           }
          },
          "shapedefaults": {
           "line": {
            "color": "#2a3f5f"
           }
          },
          "ternary": {
           "aaxis": {
            "gridcolor": "white",
            "linecolor": "white",
            "ticks": ""
           },
           "baxis": {
            "gridcolor": "white",
            "linecolor": "white",
            "ticks": ""
           },
           "bgcolor": "#E5ECF6",
           "caxis": {
            "gridcolor": "white",
            "linecolor": "white",
            "ticks": ""
           }
          },
          "title": {
           "x": 0.05
          },
          "xaxis": {
           "automargin": true,
           "gridcolor": "white",
           "linecolor": "white",
           "ticks": "",
           "title": {
            "standoff": 15
           },
           "zerolinecolor": "white",
           "zerolinewidth": 2
          },
          "yaxis": {
           "automargin": true,
           "gridcolor": "white",
           "linecolor": "white",
           "ticks": "",
           "title": {
            "standoff": 15
           },
           "zerolinecolor": "white",
           "zerolinewidth": 2
          }
         }
        },
        "title": {
         "text": "Distribution of Average Sentiment Scores in Posts of subreddit r/politics"
        },
        "xaxis": {
         "anchor": "y2",
         "domain": [
          0,
          1
         ],
         "title": {
          "text": "Sentiment Score (Probability)"
         },
         "zeroline": false
        },
        "yaxis": {
         "anchor": "free",
         "domain": [
          0.35,
          1
         ],
         "position": 0,
         "title": {
          "text": "Density"
         }
        },
        "yaxis2": {
         "anchor": "x",
         "domain": [
          0,
          0.25
         ],
         "dtick": 1,
         "showticklabels": false
        }
       }
      }
     },
     "metadata": {},
     "output_type": "display_data"
    }
   ],
   "source": [
    "import plotly.figure_factory as ff\n",
    "from numpy.random import default_rng as rng\n",
    "\n",
    "group_labels = [\"avg_negative\", \"avg_neutral\", \"avg_positive\"]\n",
    "\n",
    "df = df.dropna(subset=[\"avg_negative\", \"avg_neutral\", \"avg_positive\"])\n",
    "df_plot = [df[\"avg_negative\"], df[\"avg_neutral\"], df[\"avg_positive\"]]\n",
    "\n",
    "fig = ff.create_distplot(\n",
    "    df_plot, group_labels\n",
    ")\n",
    "\n",
    "fig.update_layout(\n",
    "    title_text=\"Distribution of Average Sentiment Scores in Posts of subreddit r/politics\",\n",
    "    xaxis_title=\"Sentiment Score (Probability)\",\n",
    "    yaxis_title=\"Density\",\n",
    "    legend_title=\"Sentiment Category\"\n",
    ")\n",
    "fig.show()  # solo per notebook"
   ]
  },
  {
   "cell_type": "code",
   "execution_count": 11,
   "id": "dbf5f940",
   "metadata": {},
   "outputs": [
    {
     "data": {
      "application/vnd.microsoft.datawrangler.viewer.v0+json": {
       "columns": [
        {
         "name": "index",
         "rawType": "int64",
         "type": "integer"
        },
        {
         "name": "post_id",
         "rawType": "object",
         "type": "string"
        },
        {
         "name": "fetch_type",
         "rawType": "object",
         "type": "string"
        },
        {
         "name": "avg_positive",
         "rawType": "float64",
         "type": "float"
        },
        {
         "name": "avg_neutral",
         "rawType": "float64",
         "type": "float"
        },
        {
         "name": "avg_negative",
         "rawType": "float64",
         "type": "float"
        },
        {
         "name": "pct_positive",
         "rawType": "float64",
         "type": "float"
        },
        {
         "name": "pct_negative",
         "rawType": "float64",
         "type": "float"
        },
        {
         "name": "num_comments",
         "rawType": "float64",
         "type": "float"
        }
       ],
       "ref": "4c0061f6-0a28-4272-b551-3a5c79811a2b",
       "rows": [
        [
         "0",
         "1ndlbj5",
         "hot",
         "0.11353219664621964",
         "0.4566649464463972",
         "0.4298028521553939",
         "8.433734939759036",
         "44.57831325301205",
         "83.0"
        ],
        [
         "1",
         "1ndhwc6",
         "hot",
         "0.09168616202648205",
         "0.42314017564058304",
         "0.48517366050538985",
         "5.527638190954774",
         "47.73869346733668",
         "199.0"
        ],
        [
         "2",
         "1nd97ga",
         "hot",
         "0.11453202262589689",
         "0.3441524377320798",
         "0.5413155409237798",
         "9.693877551020408",
         "57.6530612244898",
         "196.0"
        ],
        [
         "3",
         "1ncyntv",
         "hot",
         "0.1421963669844482",
         "0.2563863209614607",
         "0.6014173203466894",
         "12.32876712328767",
         "64.38356164383562",
         "73.0"
        ],
        [
         "4",
         "1ndf6yu",
         "hot",
         "0.08320880723391276",
         "0.4091626846450655",
         "0.5076285057276597",
         "2.9411764705882355",
         "55.88235294117647",
         "68.0"
        ],
        [
         "5",
         "1muqof2",
         "top",
         "0.08973949282914977",
         "0.3906942611156972",
         "0.5195662453680626",
         "4.123711340206186",
         "49.48453608247423",
         "194.0"
        ],
        [
         "6",
         "1nbwc03",
         "top",
         "0.09672462279992575",
         "0.2698105682242424",
         "0.6334648055626337",
         "7.446808510638298",
         "69.14893617021276",
         "188.0"
        ],
        [
         "7",
         "1nd15qv",
         "hot",
         "0.0774663252505619",
         "0.33917653372033907",
         "0.5833571378665803",
         "3.5175879396984926",
         "62.311557788944725",
         "199.0"
        ],
        [
         "8",
         "1mug3vp",
         "top",
         "0.1365050862511085",
         "0.3012852081533601",
         "0.5622097015079913",
         "10.106382978723405",
         "67.55319148936171",
         "188.0"
        ],
        [
         "9",
         "1ndoi06",
         "hot",
         "0.12559707972010778",
         "0.34147578273569384",
         "0.5329271213512027",
         "12.903225806451612",
         "64.51612903225806",
         "31.0"
        ],
        [
         "10",
         "1n99ni5",
         "top",
         "0.09251853632143146",
         "0.4344645386759554",
         "0.47301692538070533",
         "4.424778761061947",
         "47.78761061946903",
         "226.0"
        ],
        [
         "11",
         "1ncxxi8",
         "hot",
         "0.09166866016981069",
         "0.2704085174411761",
         "0.6379228208385728",
         "6.565656565656566",
         "68.18181818181819",
         "198.0"
        ],
        [
         "12",
         "1ndbs51",
         "hot",
         "0.12266438758387319",
         "0.37151272106423694",
         "0.5058228922919985",
         "7.547169811320755",
         "52.83018867924528",
         "53.0"
        ],
        [
         "13",
         "1nhk0ss",
         "hot",
         "0.09266715153721691",
         "0.32706701340554634",
         "0.5802658364719039",
         "6.329113924050633",
         "65.82278481012658",
         "79.0"
        ],
        [
         "14",
         "1ncgknd",
         "hot",
         "0.06926491466674162",
         "0.31339531532763815",
         "0.6173397737188467",
         "3.1088082901554404",
         "72.02072538860104",
         "193.0"
        ],
        [
         "15",
         "1mmyjs7",
         "top",
         "0.05046370340670445",
         "0.30699763259816665",
         "0.6425386649638491",
         "1.5544041450777202",
         "72.53886010362694",
         "193.0"
        ],
        [
         "16",
         "1ndqf4l",
         "new",
         "0.04624405610240132",
         "0.3679063569052496",
         "0.5858495917873107",
         "0.0",
         "68.1159420289855",
         "69.0"
        ],
        [
         "17",
         "1ndjsfo",
         "hot",
         "0.10400237898162838",
         "0.37275098165264353",
         "0.5232466374254727",
         "7.291666666666667",
         "55.208333333333336",
         "192.0"
        ],
        [
         "18",
         "1ncp6as",
         "hot",
         "0.08168079457439793",
         "0.4111616512294859",
         "0.5071575438681369",
         "3.3333333333333335",
         "52.5",
         "120.0"
        ],
        [
         "19",
         "1ncyxk5",
         "hot",
         "0.19809364405129168",
         "0.38002778553419697",
         "0.4218785632875259",
         "16.949152542372882",
         "47.45762711864407",
         "59.0"
        ],
        [
         "20",
         "1ncsimp",
         "hot",
         "0.11111134669702986",
         "0.38181449979867627",
         "0.507074150264911",
         "6.086956521739131",
         "55.65217391304348",
         "115.0"
        ],
        [
         "21",
         "1nclmwz",
         "hot",
         "0.05635987561798156",
         "0.3005394082648134",
         "0.6431007189205801",
         "2.525252525252525",
         "72.22222222222223",
         "198.0"
        ],
        [
         "22",
         "1ndqwwn",
         "new",
         "0.044848404934301096",
         "0.3760807816596592",
         "0.5790708220618612",
         "0.0",
         "64.70588235294117",
         "17.0"
        ],
        [
         "23",
         "1ndqjfu",
         "new",
         "0.10540293909566985",
         "0.3719222699292004",
         "0.5226747876202519",
         "6.818181818181818",
         "54.54545454545455",
         "44.0"
        ],
        [
         "24",
         "1ndrv2h",
         "new",
         "0.10486442824670424",
         "0.28495516162365675",
         "0.6101804074520866",
         "12.5",
         "70.83333333333333",
         "24.0"
        ],
        [
         "25",
         "1ndrivk",
         "new",
         "0.08021724967031994",
         "0.3345696265724572",
         "0.5852131065489217",
         "9.090909090909092",
         "72.72727272727273",
         "11.0"
        ],
        [
         "26",
         "1ms7zwn",
         "top",
         "0.08422795039664356",
         "0.376138191342045",
         "0.5396338620119356",
         "5.181347150259067",
         "56.476683937823836",
         "193.0"
        ],
        [
         "27",
         "1ndc7qh",
         "hot",
         "0.08680296002068755",
         "0.32874678610588864",
         "0.584450251897891",
         "6.565656565656566",
         "63.13131313131313",
         "198.0"
        ],
        [
         "28",
         "1ncnzch",
         "hot",
         "0.06876398800938789",
         "0.35960590309102314",
         "0.571630111447659",
         "1.0204081632653061",
         "60.204081632653065",
         "196.0"
        ],
        [
         "29",
         "1ndr4pk",
         "new",
         "0.016051696613430977",
         "0.42174556851387024",
         "0.5622026920318604",
         "0.0",
         "100.0",
         "1.0"
        ],
        [
         "30",
         "1ndae9u",
         "hot",
         "0.06756844864917341",
         "0.4085436395594272",
         "0.5238879113859529",
         "3.4482758620689653",
         "58.62068965517241",
         "58.0"
        ],
        [
         "31",
         "1ndr1ck",
         "new",
         "0.0399132373665149",
         "0.40573617567618686",
         "0.5543505623936653",
         "0.0",
         "66.66666666666667",
         "6.0"
        ],
        [
         "32",
         "1nct2zc",
         "hot",
         "0.04957428246151465",
         "0.313312700849313",
         "0.6371130156814335",
         "2.5641025641025643",
         "67.6923076923077",
         "195.0"
        ],
        [
         "33",
         "1mnexdh",
         "top",
         "0.05010827727750302",
         "0.2929829571914067",
         "0.6569087604200219",
         "1.6042780748663101",
         "72.72727272727273",
         "187.0"
        ],
        [
         "34",
         "1nddpg5",
         "hot",
         "0.06138581115249168",
         "0.3120406641709534",
         "0.6265735245789542",
         "3.5353535353535355",
         "72.22222222222223",
         "198.0"
        ],
        [
         "35",
         "1ndel3a",
         "hot",
         "0.09997584031791323",
         "0.301535052025602",
         "0.5984891057790568",
         "7.936507936507937",
         "68.25396825396825",
         "63.0"
        ],
        [
         "36",
         "1ncun7v",
         "hot",
         "0.07916432094582398",
         "0.4294683212723265",
         "0.49136735640943574",
         "3.0150753768844223",
         "50.25125628140704",
         "199.0"
        ],
        [
         "37",
         "1ndqp8o",
         "new",
         "0.08052041325252503",
         "0.43583551615476607",
         "0.48364407824352385",
         "0.0",
         "50.0",
         "50.0"
        ],
        [
         "38",
         "1ndr434",
         "new",
         "0.021587700629606844",
         "0.23148696795105933",
         "0.7469253480434418",
         "0.0",
         "80.0",
         "5.0"
        ],
        [
         "39",
         "1ndrn4v",
         "new",
         "0.497691853903234",
         "0.16586055047810078",
         "0.3364476361894049",
         "50.0",
         "50.0",
         "2.0"
        ],
        [
         "40",
         "1mqc3ab",
         "top",
         "0.21226102994246918",
         "0.38704928015682466",
         "0.40068968993183324",
         "17.647058823529413",
         "44.38502673796791",
         "187.0"
        ],
        [
         "41",
         "1n7osgn",
         "top",
         "0.08817602084833788",
         "0.3420095690596981",
         "0.5698144083510527",
         "4.060913705583756",
         "60.91370558375635",
         "197.0"
        ],
        [
         "42",
         "1ndqu6d",
         "new",
         "0.041958088986575603",
         "0.3935077495195649",
         "0.5645341846075925",
         "0.0",
         "54.54545454545455",
         "22.0"
        ],
        [
         "43",
         "1n13taq",
         "top",
         "0.28032944406946436",
         "0.32536285917127605",
         "0.39430770267193255",
         "28.42105263157895",
         "42.63157894736842",
         "190.0"
        ],
        [
         "44",
         "1ndqcua",
         "new",
         "0.09530116744442946",
         "0.48035092569059795",
         "0.4243479304843479",
         "0.0",
         "33.333333333333336",
         "9.0"
        ],
        [
         "45",
         "1morymo",
         "top",
         "0.20307883301879778",
         "0.3249050457257951",
         "0.47201612474245214",
         "18.023255813953487",
         "52.325581395348834",
         "172.0"
        ],
        [
         "46",
         "1mpz22b",
         "top",
         "0.060180054707942826",
         "0.32183126531737416",
         "0.6179886839279023",
         "2.6315789473684212",
         "70.0",
         "190.0"
        ],
        [
         "47",
         "1nciini",
         "top",
         "0.06798127979433549",
         "0.293303593969101",
         "0.6387151293737557",
         "3.0172413793103448",
         "73.27586206896552",
         "232.0"
        ],
        [
         "48",
         "1ncvn03",
         "hot",
         "0.07622377068653484",
         "0.3250848247067017",
         "0.5986914005075745",
         "4.705882352941177",
         "64.70588235294117",
         "170.0"
        ],
        [
         "49",
         "1mxf9nk",
         "top",
         "0.04841269388419519",
         "0.308099581066481",
         "0.6434877273883215",
         "1.0204081632653061",
         "72.44897959183673",
         "196.0"
        ]
       ],
       "shape": {
        "columns": 8,
        "rows": 58
       }
      },
      "text/html": [
       "<div>\n",
       "<style scoped>\n",
       "    .dataframe tbody tr th:only-of-type {\n",
       "        vertical-align: middle;\n",
       "    }\n",
       "\n",
       "    .dataframe tbody tr th {\n",
       "        vertical-align: top;\n",
       "    }\n",
       "\n",
       "    .dataframe thead th {\n",
       "        text-align: right;\n",
       "    }\n",
       "</style>\n",
       "<table border=\"1\" class=\"dataframe\">\n",
       "  <thead>\n",
       "    <tr style=\"text-align: right;\">\n",
       "      <th></th>\n",
       "      <th>post_id</th>\n",
       "      <th>fetch_type</th>\n",
       "      <th>avg_positive</th>\n",
       "      <th>avg_neutral</th>\n",
       "      <th>avg_negative</th>\n",
       "      <th>pct_positive</th>\n",
       "      <th>pct_negative</th>\n",
       "      <th>num_comments</th>\n",
       "    </tr>\n",
       "  </thead>\n",
       "  <tbody>\n",
       "    <tr>\n",
       "      <th>0</th>\n",
       "      <td>1ndlbj5</td>\n",
       "      <td>hot</td>\n",
       "      <td>0.113532</td>\n",
       "      <td>0.456665</td>\n",
       "      <td>0.429803</td>\n",
       "      <td>8.433735</td>\n",
       "      <td>44.578313</td>\n",
       "      <td>83.0</td>\n",
       "    </tr>\n",
       "    <tr>\n",
       "      <th>1</th>\n",
       "      <td>1ndhwc6</td>\n",
       "      <td>hot</td>\n",
       "      <td>0.091686</td>\n",
       "      <td>0.423140</td>\n",
       "      <td>0.485174</td>\n",
       "      <td>5.527638</td>\n",
       "      <td>47.738693</td>\n",
       "      <td>199.0</td>\n",
       "    </tr>\n",
       "    <tr>\n",
       "      <th>2</th>\n",
       "      <td>1nd97ga</td>\n",
       "      <td>hot</td>\n",
       "      <td>0.114532</td>\n",
       "      <td>0.344152</td>\n",
       "      <td>0.541316</td>\n",
       "      <td>9.693878</td>\n",
       "      <td>57.653061</td>\n",
       "      <td>196.0</td>\n",
       "    </tr>\n",
       "    <tr>\n",
       "      <th>3</th>\n",
       "      <td>1ncyntv</td>\n",
       "      <td>hot</td>\n",
       "      <td>0.142196</td>\n",
       "      <td>0.256386</td>\n",
       "      <td>0.601417</td>\n",
       "      <td>12.328767</td>\n",
       "      <td>64.383562</td>\n",
       "      <td>73.0</td>\n",
       "    </tr>\n",
       "    <tr>\n",
       "      <th>4</th>\n",
       "      <td>1ndf6yu</td>\n",
       "      <td>hot</td>\n",
       "      <td>0.083209</td>\n",
       "      <td>0.409163</td>\n",
       "      <td>0.507629</td>\n",
       "      <td>2.941176</td>\n",
       "      <td>55.882353</td>\n",
       "      <td>68.0</td>\n",
       "    </tr>\n",
       "    <tr>\n",
       "      <th>5</th>\n",
       "      <td>1muqof2</td>\n",
       "      <td>top</td>\n",
       "      <td>0.089739</td>\n",
       "      <td>0.390694</td>\n",
       "      <td>0.519566</td>\n",
       "      <td>4.123711</td>\n",
       "      <td>49.484536</td>\n",
       "      <td>194.0</td>\n",
       "    </tr>\n",
       "    <tr>\n",
       "      <th>6</th>\n",
       "      <td>1nbwc03</td>\n",
       "      <td>top</td>\n",
       "      <td>0.096725</td>\n",
       "      <td>0.269811</td>\n",
       "      <td>0.633465</td>\n",
       "      <td>7.446809</td>\n",
       "      <td>69.148936</td>\n",
       "      <td>188.0</td>\n",
       "    </tr>\n",
       "    <tr>\n",
       "      <th>7</th>\n",
       "      <td>1nd15qv</td>\n",
       "      <td>hot</td>\n",
       "      <td>0.077466</td>\n",
       "      <td>0.339177</td>\n",
       "      <td>0.583357</td>\n",
       "      <td>3.517588</td>\n",
       "      <td>62.311558</td>\n",
       "      <td>199.0</td>\n",
       "    </tr>\n",
       "    <tr>\n",
       "      <th>8</th>\n",
       "      <td>1mug3vp</td>\n",
       "      <td>top</td>\n",
       "      <td>0.136505</td>\n",
       "      <td>0.301285</td>\n",
       "      <td>0.562210</td>\n",
       "      <td>10.106383</td>\n",
       "      <td>67.553191</td>\n",
       "      <td>188.0</td>\n",
       "    </tr>\n",
       "    <tr>\n",
       "      <th>9</th>\n",
       "      <td>1ndoi06</td>\n",
       "      <td>hot</td>\n",
       "      <td>0.125597</td>\n",
       "      <td>0.341476</td>\n",
       "      <td>0.532927</td>\n",
       "      <td>12.903226</td>\n",
       "      <td>64.516129</td>\n",
       "      <td>31.0</td>\n",
       "    </tr>\n",
       "    <tr>\n",
       "      <th>10</th>\n",
       "      <td>1n99ni5</td>\n",
       "      <td>top</td>\n",
       "      <td>0.092519</td>\n",
       "      <td>0.434465</td>\n",
       "      <td>0.473017</td>\n",
       "      <td>4.424779</td>\n",
       "      <td>47.787611</td>\n",
       "      <td>226.0</td>\n",
       "    </tr>\n",
       "    <tr>\n",
       "      <th>11</th>\n",
       "      <td>1ncxxi8</td>\n",
       "      <td>hot</td>\n",
       "      <td>0.091669</td>\n",
       "      <td>0.270409</td>\n",
       "      <td>0.637923</td>\n",
       "      <td>6.565657</td>\n",
       "      <td>68.181818</td>\n",
       "      <td>198.0</td>\n",
       "    </tr>\n",
       "    <tr>\n",
       "      <th>12</th>\n",
       "      <td>1ndbs51</td>\n",
       "      <td>hot</td>\n",
       "      <td>0.122664</td>\n",
       "      <td>0.371513</td>\n",
       "      <td>0.505823</td>\n",
       "      <td>7.547170</td>\n",
       "      <td>52.830189</td>\n",
       "      <td>53.0</td>\n",
       "    </tr>\n",
       "    <tr>\n",
       "      <th>13</th>\n",
       "      <td>1nhk0ss</td>\n",
       "      <td>hot</td>\n",
       "      <td>0.092667</td>\n",
       "      <td>0.327067</td>\n",
       "      <td>0.580266</td>\n",
       "      <td>6.329114</td>\n",
       "      <td>65.822785</td>\n",
       "      <td>79.0</td>\n",
       "    </tr>\n",
       "    <tr>\n",
       "      <th>14</th>\n",
       "      <td>1ncgknd</td>\n",
       "      <td>hot</td>\n",
       "      <td>0.069265</td>\n",
       "      <td>0.313395</td>\n",
       "      <td>0.617340</td>\n",
       "      <td>3.108808</td>\n",
       "      <td>72.020725</td>\n",
       "      <td>193.0</td>\n",
       "    </tr>\n",
       "    <tr>\n",
       "      <th>15</th>\n",
       "      <td>1mmyjs7</td>\n",
       "      <td>top</td>\n",
       "      <td>0.050464</td>\n",
       "      <td>0.306998</td>\n",
       "      <td>0.642539</td>\n",
       "      <td>1.554404</td>\n",
       "      <td>72.538860</td>\n",
       "      <td>193.0</td>\n",
       "    </tr>\n",
       "    <tr>\n",
       "      <th>16</th>\n",
       "      <td>1ndqf4l</td>\n",
       "      <td>new</td>\n",
       "      <td>0.046244</td>\n",
       "      <td>0.367906</td>\n",
       "      <td>0.585850</td>\n",
       "      <td>0.000000</td>\n",
       "      <td>68.115942</td>\n",
       "      <td>69.0</td>\n",
       "    </tr>\n",
       "    <tr>\n",
       "      <th>17</th>\n",
       "      <td>1ndjsfo</td>\n",
       "      <td>hot</td>\n",
       "      <td>0.104002</td>\n",
       "      <td>0.372751</td>\n",
       "      <td>0.523247</td>\n",
       "      <td>7.291667</td>\n",
       "      <td>55.208333</td>\n",
       "      <td>192.0</td>\n",
       "    </tr>\n",
       "    <tr>\n",
       "      <th>18</th>\n",
       "      <td>1ncp6as</td>\n",
       "      <td>hot</td>\n",
       "      <td>0.081681</td>\n",
       "      <td>0.411162</td>\n",
       "      <td>0.507158</td>\n",
       "      <td>3.333333</td>\n",
       "      <td>52.500000</td>\n",
       "      <td>120.0</td>\n",
       "    </tr>\n",
       "    <tr>\n",
       "      <th>19</th>\n",
       "      <td>1ncyxk5</td>\n",
       "      <td>hot</td>\n",
       "      <td>0.198094</td>\n",
       "      <td>0.380028</td>\n",
       "      <td>0.421879</td>\n",
       "      <td>16.949153</td>\n",
       "      <td>47.457627</td>\n",
       "      <td>59.0</td>\n",
       "    </tr>\n",
       "    <tr>\n",
       "      <th>20</th>\n",
       "      <td>1ncsimp</td>\n",
       "      <td>hot</td>\n",
       "      <td>0.111111</td>\n",
       "      <td>0.381814</td>\n",
       "      <td>0.507074</td>\n",
       "      <td>6.086957</td>\n",
       "      <td>55.652174</td>\n",
       "      <td>115.0</td>\n",
       "    </tr>\n",
       "    <tr>\n",
       "      <th>21</th>\n",
       "      <td>1nclmwz</td>\n",
       "      <td>hot</td>\n",
       "      <td>0.056360</td>\n",
       "      <td>0.300539</td>\n",
       "      <td>0.643101</td>\n",
       "      <td>2.525253</td>\n",
       "      <td>72.222222</td>\n",
       "      <td>198.0</td>\n",
       "    </tr>\n",
       "    <tr>\n",
       "      <th>22</th>\n",
       "      <td>1ndqwwn</td>\n",
       "      <td>new</td>\n",
       "      <td>0.044848</td>\n",
       "      <td>0.376081</td>\n",
       "      <td>0.579071</td>\n",
       "      <td>0.000000</td>\n",
       "      <td>64.705882</td>\n",
       "      <td>17.0</td>\n",
       "    </tr>\n",
       "    <tr>\n",
       "      <th>23</th>\n",
       "      <td>1ndqjfu</td>\n",
       "      <td>new</td>\n",
       "      <td>0.105403</td>\n",
       "      <td>0.371922</td>\n",
       "      <td>0.522675</td>\n",
       "      <td>6.818182</td>\n",
       "      <td>54.545455</td>\n",
       "      <td>44.0</td>\n",
       "    </tr>\n",
       "    <tr>\n",
       "      <th>24</th>\n",
       "      <td>1ndrv2h</td>\n",
       "      <td>new</td>\n",
       "      <td>0.104864</td>\n",
       "      <td>0.284955</td>\n",
       "      <td>0.610180</td>\n",
       "      <td>12.500000</td>\n",
       "      <td>70.833333</td>\n",
       "      <td>24.0</td>\n",
       "    </tr>\n",
       "    <tr>\n",
       "      <th>25</th>\n",
       "      <td>1ndrivk</td>\n",
       "      <td>new</td>\n",
       "      <td>0.080217</td>\n",
       "      <td>0.334570</td>\n",
       "      <td>0.585213</td>\n",
       "      <td>9.090909</td>\n",
       "      <td>72.727273</td>\n",
       "      <td>11.0</td>\n",
       "    </tr>\n",
       "    <tr>\n",
       "      <th>26</th>\n",
       "      <td>1ms7zwn</td>\n",
       "      <td>top</td>\n",
       "      <td>0.084228</td>\n",
       "      <td>0.376138</td>\n",
       "      <td>0.539634</td>\n",
       "      <td>5.181347</td>\n",
       "      <td>56.476684</td>\n",
       "      <td>193.0</td>\n",
       "    </tr>\n",
       "    <tr>\n",
       "      <th>27</th>\n",
       "      <td>1ndc7qh</td>\n",
       "      <td>hot</td>\n",
       "      <td>0.086803</td>\n",
       "      <td>0.328747</td>\n",
       "      <td>0.584450</td>\n",
       "      <td>6.565657</td>\n",
       "      <td>63.131313</td>\n",
       "      <td>198.0</td>\n",
       "    </tr>\n",
       "    <tr>\n",
       "      <th>28</th>\n",
       "      <td>1ncnzch</td>\n",
       "      <td>hot</td>\n",
       "      <td>0.068764</td>\n",
       "      <td>0.359606</td>\n",
       "      <td>0.571630</td>\n",
       "      <td>1.020408</td>\n",
       "      <td>60.204082</td>\n",
       "      <td>196.0</td>\n",
       "    </tr>\n",
       "    <tr>\n",
       "      <th>29</th>\n",
       "      <td>1ndr4pk</td>\n",
       "      <td>new</td>\n",
       "      <td>0.016052</td>\n",
       "      <td>0.421746</td>\n",
       "      <td>0.562203</td>\n",
       "      <td>0.000000</td>\n",
       "      <td>100.000000</td>\n",
       "      <td>1.0</td>\n",
       "    </tr>\n",
       "    <tr>\n",
       "      <th>30</th>\n",
       "      <td>1ndae9u</td>\n",
       "      <td>hot</td>\n",
       "      <td>0.067568</td>\n",
       "      <td>0.408544</td>\n",
       "      <td>0.523888</td>\n",
       "      <td>3.448276</td>\n",
       "      <td>58.620690</td>\n",
       "      <td>58.0</td>\n",
       "    </tr>\n",
       "    <tr>\n",
       "      <th>31</th>\n",
       "      <td>1ndr1ck</td>\n",
       "      <td>new</td>\n",
       "      <td>0.039913</td>\n",
       "      <td>0.405736</td>\n",
       "      <td>0.554351</td>\n",
       "      <td>0.000000</td>\n",
       "      <td>66.666667</td>\n",
       "      <td>6.0</td>\n",
       "    </tr>\n",
       "    <tr>\n",
       "      <th>32</th>\n",
       "      <td>1nct2zc</td>\n",
       "      <td>hot</td>\n",
       "      <td>0.049574</td>\n",
       "      <td>0.313313</td>\n",
       "      <td>0.637113</td>\n",
       "      <td>2.564103</td>\n",
       "      <td>67.692308</td>\n",
       "      <td>195.0</td>\n",
       "    </tr>\n",
       "    <tr>\n",
       "      <th>33</th>\n",
       "      <td>1mnexdh</td>\n",
       "      <td>top</td>\n",
       "      <td>0.050108</td>\n",
       "      <td>0.292983</td>\n",
       "      <td>0.656909</td>\n",
       "      <td>1.604278</td>\n",
       "      <td>72.727273</td>\n",
       "      <td>187.0</td>\n",
       "    </tr>\n",
       "    <tr>\n",
       "      <th>34</th>\n",
       "      <td>1nddpg5</td>\n",
       "      <td>hot</td>\n",
       "      <td>0.061386</td>\n",
       "      <td>0.312041</td>\n",
       "      <td>0.626574</td>\n",
       "      <td>3.535354</td>\n",
       "      <td>72.222222</td>\n",
       "      <td>198.0</td>\n",
       "    </tr>\n",
       "    <tr>\n",
       "      <th>35</th>\n",
       "      <td>1ndel3a</td>\n",
       "      <td>hot</td>\n",
       "      <td>0.099976</td>\n",
       "      <td>0.301535</td>\n",
       "      <td>0.598489</td>\n",
       "      <td>7.936508</td>\n",
       "      <td>68.253968</td>\n",
       "      <td>63.0</td>\n",
       "    </tr>\n",
       "    <tr>\n",
       "      <th>36</th>\n",
       "      <td>1ncun7v</td>\n",
       "      <td>hot</td>\n",
       "      <td>0.079164</td>\n",
       "      <td>0.429468</td>\n",
       "      <td>0.491367</td>\n",
       "      <td>3.015075</td>\n",
       "      <td>50.251256</td>\n",
       "      <td>199.0</td>\n",
       "    </tr>\n",
       "    <tr>\n",
       "      <th>37</th>\n",
       "      <td>1ndqp8o</td>\n",
       "      <td>new</td>\n",
       "      <td>0.080520</td>\n",
       "      <td>0.435836</td>\n",
       "      <td>0.483644</td>\n",
       "      <td>0.000000</td>\n",
       "      <td>50.000000</td>\n",
       "      <td>50.0</td>\n",
       "    </tr>\n",
       "    <tr>\n",
       "      <th>38</th>\n",
       "      <td>1ndr434</td>\n",
       "      <td>new</td>\n",
       "      <td>0.021588</td>\n",
       "      <td>0.231487</td>\n",
       "      <td>0.746925</td>\n",
       "      <td>0.000000</td>\n",
       "      <td>80.000000</td>\n",
       "      <td>5.0</td>\n",
       "    </tr>\n",
       "    <tr>\n",
       "      <th>39</th>\n",
       "      <td>1ndrn4v</td>\n",
       "      <td>new</td>\n",
       "      <td>0.497692</td>\n",
       "      <td>0.165861</td>\n",
       "      <td>0.336448</td>\n",
       "      <td>50.000000</td>\n",
       "      <td>50.000000</td>\n",
       "      <td>2.0</td>\n",
       "    </tr>\n",
       "    <tr>\n",
       "      <th>40</th>\n",
       "      <td>1mqc3ab</td>\n",
       "      <td>top</td>\n",
       "      <td>0.212261</td>\n",
       "      <td>0.387049</td>\n",
       "      <td>0.400690</td>\n",
       "      <td>17.647059</td>\n",
       "      <td>44.385027</td>\n",
       "      <td>187.0</td>\n",
       "    </tr>\n",
       "    <tr>\n",
       "      <th>41</th>\n",
       "      <td>1n7osgn</td>\n",
       "      <td>top</td>\n",
       "      <td>0.088176</td>\n",
       "      <td>0.342010</td>\n",
       "      <td>0.569814</td>\n",
       "      <td>4.060914</td>\n",
       "      <td>60.913706</td>\n",
       "      <td>197.0</td>\n",
       "    </tr>\n",
       "    <tr>\n",
       "      <th>42</th>\n",
       "      <td>1ndqu6d</td>\n",
       "      <td>new</td>\n",
       "      <td>0.041958</td>\n",
       "      <td>0.393508</td>\n",
       "      <td>0.564534</td>\n",
       "      <td>0.000000</td>\n",
       "      <td>54.545455</td>\n",
       "      <td>22.0</td>\n",
       "    </tr>\n",
       "    <tr>\n",
       "      <th>43</th>\n",
       "      <td>1n13taq</td>\n",
       "      <td>top</td>\n",
       "      <td>0.280329</td>\n",
       "      <td>0.325363</td>\n",
       "      <td>0.394308</td>\n",
       "      <td>28.421053</td>\n",
       "      <td>42.631579</td>\n",
       "      <td>190.0</td>\n",
       "    </tr>\n",
       "    <tr>\n",
       "      <th>44</th>\n",
       "      <td>1ndqcua</td>\n",
       "      <td>new</td>\n",
       "      <td>0.095301</td>\n",
       "      <td>0.480351</td>\n",
       "      <td>0.424348</td>\n",
       "      <td>0.000000</td>\n",
       "      <td>33.333333</td>\n",
       "      <td>9.0</td>\n",
       "    </tr>\n",
       "    <tr>\n",
       "      <th>45</th>\n",
       "      <td>1morymo</td>\n",
       "      <td>top</td>\n",
       "      <td>0.203079</td>\n",
       "      <td>0.324905</td>\n",
       "      <td>0.472016</td>\n",
       "      <td>18.023256</td>\n",
       "      <td>52.325581</td>\n",
       "      <td>172.0</td>\n",
       "    </tr>\n",
       "    <tr>\n",
       "      <th>46</th>\n",
       "      <td>1mpz22b</td>\n",
       "      <td>top</td>\n",
       "      <td>0.060180</td>\n",
       "      <td>0.321831</td>\n",
       "      <td>0.617989</td>\n",
       "      <td>2.631579</td>\n",
       "      <td>70.000000</td>\n",
       "      <td>190.0</td>\n",
       "    </tr>\n",
       "    <tr>\n",
       "      <th>47</th>\n",
       "      <td>1nciini</td>\n",
       "      <td>top</td>\n",
       "      <td>0.067981</td>\n",
       "      <td>0.293304</td>\n",
       "      <td>0.638715</td>\n",
       "      <td>3.017241</td>\n",
       "      <td>73.275862</td>\n",
       "      <td>232.0</td>\n",
       "    </tr>\n",
       "    <tr>\n",
       "      <th>48</th>\n",
       "      <td>1ncvn03</td>\n",
       "      <td>hot</td>\n",
       "      <td>0.076224</td>\n",
       "      <td>0.325085</td>\n",
       "      <td>0.598691</td>\n",
       "      <td>4.705882</td>\n",
       "      <td>64.705882</td>\n",
       "      <td>170.0</td>\n",
       "    </tr>\n",
       "    <tr>\n",
       "      <th>49</th>\n",
       "      <td>1mxf9nk</td>\n",
       "      <td>top</td>\n",
       "      <td>0.048413</td>\n",
       "      <td>0.308100</td>\n",
       "      <td>0.643488</td>\n",
       "      <td>1.020408</td>\n",
       "      <td>72.448980</td>\n",
       "      <td>196.0</td>\n",
       "    </tr>\n",
       "    <tr>\n",
       "      <th>50</th>\n",
       "      <td>1ndnwgx</td>\n",
       "      <td>hot</td>\n",
       "      <td>0.083455</td>\n",
       "      <td>0.373950</td>\n",
       "      <td>0.542595</td>\n",
       "      <td>3.535354</td>\n",
       "      <td>58.080808</td>\n",
       "      <td>198.0</td>\n",
       "    </tr>\n",
       "    <tr>\n",
       "      <th>51</th>\n",
       "      <td>1nds1q2</td>\n",
       "      <td>new</td>\n",
       "      <td>0.215427</td>\n",
       "      <td>0.471476</td>\n",
       "      <td>0.313097</td>\n",
       "      <td>0.000000</td>\n",
       "      <td>50.000000</td>\n",
       "      <td>2.0</td>\n",
       "    </tr>\n",
       "    <tr>\n",
       "      <th>52</th>\n",
       "      <td>1mwtpnn</td>\n",
       "      <td>top</td>\n",
       "      <td>0.099137</td>\n",
       "      <td>0.379329</td>\n",
       "      <td>0.521534</td>\n",
       "      <td>6.967213</td>\n",
       "      <td>54.098361</td>\n",
       "      <td>244.0</td>\n",
       "    </tr>\n",
       "    <tr>\n",
       "      <th>53</th>\n",
       "      <td>1ndpwx3</td>\n",
       "      <td>hot</td>\n",
       "      <td>0.100743</td>\n",
       "      <td>0.390663</td>\n",
       "      <td>0.508594</td>\n",
       "      <td>6.060606</td>\n",
       "      <td>53.030303</td>\n",
       "      <td>198.0</td>\n",
       "    </tr>\n",
       "    <tr>\n",
       "      <th>54</th>\n",
       "      <td>1ndcio2</td>\n",
       "      <td>hot</td>\n",
       "      <td>0.095806</td>\n",
       "      <td>0.378058</td>\n",
       "      <td>0.526136</td>\n",
       "      <td>5.426357</td>\n",
       "      <td>56.589147</td>\n",
       "      <td>129.0</td>\n",
       "    </tr>\n",
       "    <tr>\n",
       "      <th>55</th>\n",
       "      <td>1ndr07l</td>\n",
       "      <td>new</td>\n",
       "      <td>0.143506</td>\n",
       "      <td>0.669642</td>\n",
       "      <td>0.186852</td>\n",
       "      <td>0.000000</td>\n",
       "      <td>0.000000</td>\n",
       "      <td>1.0</td>\n",
       "    </tr>\n",
       "    <tr>\n",
       "      <th>56</th>\n",
       "      <td>1ndl31k</td>\n",
       "      <td>hot</td>\n",
       "      <td>0.097600</td>\n",
       "      <td>0.295344</td>\n",
       "      <td>0.607056</td>\n",
       "      <td>7.070707</td>\n",
       "      <td>67.676768</td>\n",
       "      <td>198.0</td>\n",
       "    </tr>\n",
       "    <tr>\n",
       "      <th>57</th>\n",
       "      <td>1ndcar5</td>\n",
       "      <td>hot</td>\n",
       "      <td>0.104577</td>\n",
       "      <td>0.365751</td>\n",
       "      <td>0.529672</td>\n",
       "      <td>7.179487</td>\n",
       "      <td>57.948718</td>\n",
       "      <td>195.0</td>\n",
       "    </tr>\n",
       "  </tbody>\n",
       "</table>\n",
       "</div>"
      ],
      "text/plain": [
       "    post_id fetch_type  avg_positive  avg_neutral  avg_negative  pct_positive  \\\n",
       "0   1ndlbj5        hot      0.113532     0.456665      0.429803      8.433735   \n",
       "1   1ndhwc6        hot      0.091686     0.423140      0.485174      5.527638   \n",
       "2   1nd97ga        hot      0.114532     0.344152      0.541316      9.693878   \n",
       "3   1ncyntv        hot      0.142196     0.256386      0.601417     12.328767   \n",
       "4   1ndf6yu        hot      0.083209     0.409163      0.507629      2.941176   \n",
       "5   1muqof2        top      0.089739     0.390694      0.519566      4.123711   \n",
       "6   1nbwc03        top      0.096725     0.269811      0.633465      7.446809   \n",
       "7   1nd15qv        hot      0.077466     0.339177      0.583357      3.517588   \n",
       "8   1mug3vp        top      0.136505     0.301285      0.562210     10.106383   \n",
       "9   1ndoi06        hot      0.125597     0.341476      0.532927     12.903226   \n",
       "10  1n99ni5        top      0.092519     0.434465      0.473017      4.424779   \n",
       "11  1ncxxi8        hot      0.091669     0.270409      0.637923      6.565657   \n",
       "12  1ndbs51        hot      0.122664     0.371513      0.505823      7.547170   \n",
       "13  1nhk0ss        hot      0.092667     0.327067      0.580266      6.329114   \n",
       "14  1ncgknd        hot      0.069265     0.313395      0.617340      3.108808   \n",
       "15  1mmyjs7        top      0.050464     0.306998      0.642539      1.554404   \n",
       "16  1ndqf4l        new      0.046244     0.367906      0.585850      0.000000   \n",
       "17  1ndjsfo        hot      0.104002     0.372751      0.523247      7.291667   \n",
       "18  1ncp6as        hot      0.081681     0.411162      0.507158      3.333333   \n",
       "19  1ncyxk5        hot      0.198094     0.380028      0.421879     16.949153   \n",
       "20  1ncsimp        hot      0.111111     0.381814      0.507074      6.086957   \n",
       "21  1nclmwz        hot      0.056360     0.300539      0.643101      2.525253   \n",
       "22  1ndqwwn        new      0.044848     0.376081      0.579071      0.000000   \n",
       "23  1ndqjfu        new      0.105403     0.371922      0.522675      6.818182   \n",
       "24  1ndrv2h        new      0.104864     0.284955      0.610180     12.500000   \n",
       "25  1ndrivk        new      0.080217     0.334570      0.585213      9.090909   \n",
       "26  1ms7zwn        top      0.084228     0.376138      0.539634      5.181347   \n",
       "27  1ndc7qh        hot      0.086803     0.328747      0.584450      6.565657   \n",
       "28  1ncnzch        hot      0.068764     0.359606      0.571630      1.020408   \n",
       "29  1ndr4pk        new      0.016052     0.421746      0.562203      0.000000   \n",
       "30  1ndae9u        hot      0.067568     0.408544      0.523888      3.448276   \n",
       "31  1ndr1ck        new      0.039913     0.405736      0.554351      0.000000   \n",
       "32  1nct2zc        hot      0.049574     0.313313      0.637113      2.564103   \n",
       "33  1mnexdh        top      0.050108     0.292983      0.656909      1.604278   \n",
       "34  1nddpg5        hot      0.061386     0.312041      0.626574      3.535354   \n",
       "35  1ndel3a        hot      0.099976     0.301535      0.598489      7.936508   \n",
       "36  1ncun7v        hot      0.079164     0.429468      0.491367      3.015075   \n",
       "37  1ndqp8o        new      0.080520     0.435836      0.483644      0.000000   \n",
       "38  1ndr434        new      0.021588     0.231487      0.746925      0.000000   \n",
       "39  1ndrn4v        new      0.497692     0.165861      0.336448     50.000000   \n",
       "40  1mqc3ab        top      0.212261     0.387049      0.400690     17.647059   \n",
       "41  1n7osgn        top      0.088176     0.342010      0.569814      4.060914   \n",
       "42  1ndqu6d        new      0.041958     0.393508      0.564534      0.000000   \n",
       "43  1n13taq        top      0.280329     0.325363      0.394308     28.421053   \n",
       "44  1ndqcua        new      0.095301     0.480351      0.424348      0.000000   \n",
       "45  1morymo        top      0.203079     0.324905      0.472016     18.023256   \n",
       "46  1mpz22b        top      0.060180     0.321831      0.617989      2.631579   \n",
       "47  1nciini        top      0.067981     0.293304      0.638715      3.017241   \n",
       "48  1ncvn03        hot      0.076224     0.325085      0.598691      4.705882   \n",
       "49  1mxf9nk        top      0.048413     0.308100      0.643488      1.020408   \n",
       "50  1ndnwgx        hot      0.083455     0.373950      0.542595      3.535354   \n",
       "51  1nds1q2        new      0.215427     0.471476      0.313097      0.000000   \n",
       "52  1mwtpnn        top      0.099137     0.379329      0.521534      6.967213   \n",
       "53  1ndpwx3        hot      0.100743     0.390663      0.508594      6.060606   \n",
       "54  1ndcio2        hot      0.095806     0.378058      0.526136      5.426357   \n",
       "55  1ndr07l        new      0.143506     0.669642      0.186852      0.000000   \n",
       "56  1ndl31k        hot      0.097600     0.295344      0.607056      7.070707   \n",
       "57  1ndcar5        hot      0.104577     0.365751      0.529672      7.179487   \n",
       "\n",
       "    pct_negative  num_comments  \n",
       "0      44.578313          83.0  \n",
       "1      47.738693         199.0  \n",
       "2      57.653061         196.0  \n",
       "3      64.383562          73.0  \n",
       "4      55.882353          68.0  \n",
       "5      49.484536         194.0  \n",
       "6      69.148936         188.0  \n",
       "7      62.311558         199.0  \n",
       "8      67.553191         188.0  \n",
       "9      64.516129          31.0  \n",
       "10     47.787611         226.0  \n",
       "11     68.181818         198.0  \n",
       "12     52.830189          53.0  \n",
       "13     65.822785          79.0  \n",
       "14     72.020725         193.0  \n",
       "15     72.538860         193.0  \n",
       "16     68.115942          69.0  \n",
       "17     55.208333         192.0  \n",
       "18     52.500000         120.0  \n",
       "19     47.457627          59.0  \n",
       "20     55.652174         115.0  \n",
       "21     72.222222         198.0  \n",
       "22     64.705882          17.0  \n",
       "23     54.545455          44.0  \n",
       "24     70.833333          24.0  \n",
       "25     72.727273          11.0  \n",
       "26     56.476684         193.0  \n",
       "27     63.131313         198.0  \n",
       "28     60.204082         196.0  \n",
       "29    100.000000           1.0  \n",
       "30     58.620690          58.0  \n",
       "31     66.666667           6.0  \n",
       "32     67.692308         195.0  \n",
       "33     72.727273         187.0  \n",
       "34     72.222222         198.0  \n",
       "35     68.253968          63.0  \n",
       "36     50.251256         199.0  \n",
       "37     50.000000          50.0  \n",
       "38     80.000000           5.0  \n",
       "39     50.000000           2.0  \n",
       "40     44.385027         187.0  \n",
       "41     60.913706         197.0  \n",
       "42     54.545455          22.0  \n",
       "43     42.631579         190.0  \n",
       "44     33.333333           9.0  \n",
       "45     52.325581         172.0  \n",
       "46     70.000000         190.0  \n",
       "47     73.275862         232.0  \n",
       "48     64.705882         170.0  \n",
       "49     72.448980         196.0  \n",
       "50     58.080808         198.0  \n",
       "51     50.000000           2.0  \n",
       "52     54.098361         244.0  \n",
       "53     53.030303         198.0  \n",
       "54     56.589147         129.0  \n",
       "55      0.000000           1.0  \n",
       "56     67.676768         198.0  \n",
       "57     57.948718         195.0  "
      ]
     },
     "execution_count": 11,
     "metadata": {},
     "output_type": "execute_result"
    }
   ],
   "source": [
    "df"
   ]
  },
  {
   "cell_type": "code",
   "execution_count": 15,
   "id": "6bd0a0e8",
   "metadata": {},
   "outputs": [
    {
     "data": {
      "application/vnd.microsoft.datawrangler.viewer.v0+json": {
       "columns": [
        {
         "name": "index",
         "rawType": "int64",
         "type": "integer"
        },
        {
         "name": "post_id",
         "rawType": "object",
         "type": "string"
        },
        {
         "name": "num_comments",
         "rawType": "float64",
         "type": "float"
        },
        {
         "name": "sentiment",
         "rawType": "object",
         "type": "string"
        },
        {
         "name": "count",
         "rawType": "int64",
         "type": "integer"
        }
       ],
       "ref": "8372f847-59e4-40ab-851f-627547db6d6d",
       "rows": [
        [
         "0",
         "1mwtpnn",
         "244.0",
         "num_positive",
         "17"
        ],
        [
         "1",
         "1nciini",
         "232.0",
         "num_positive",
         "7"
        ],
        [
         "2",
         "1n99ni5",
         "226.0",
         "num_positive",
         "10"
        ],
        [
         "3",
         "1ncun7v",
         "199.0",
         "num_positive",
         "6"
        ],
        [
         "4",
         "1nd15qv",
         "199.0",
         "num_positive",
         "7"
        ],
        [
         "5",
         "1ndhwc6",
         "199.0",
         "num_positive",
         "11"
        ],
        [
         "6",
         "1ndc7qh",
         "198.0",
         "num_positive",
         "13"
        ],
        [
         "7",
         "1ncxxi8",
         "198.0",
         "num_positive",
         "13"
        ],
        [
         "8",
         "1nclmwz",
         "198.0",
         "num_positive",
         "5"
        ],
        [
         "9",
         "1ndpwx3",
         "198.0",
         "num_positive",
         "12"
        ],
        [
         "10",
         "1mwtpnn",
         "244.0",
         "num_negative",
         "-132"
        ],
        [
         "11",
         "1nciini",
         "232.0",
         "num_negative",
         "-170"
        ],
        [
         "12",
         "1n99ni5",
         "226.0",
         "num_negative",
         "-108"
        ],
        [
         "13",
         "1ncun7v",
         "199.0",
         "num_negative",
         "-100"
        ],
        [
         "14",
         "1nd15qv",
         "199.0",
         "num_negative",
         "-124"
        ],
        [
         "15",
         "1ndhwc6",
         "199.0",
         "num_negative",
         "-95"
        ],
        [
         "16",
         "1ndc7qh",
         "198.0",
         "num_negative",
         "-125"
        ],
        [
         "17",
         "1ncxxi8",
         "198.0",
         "num_negative",
         "-135"
        ],
        [
         "18",
         "1nclmwz",
         "198.0",
         "num_negative",
         "-143"
        ],
        [
         "19",
         "1ndpwx3",
         "198.0",
         "num_negative",
         "-105"
        ]
       ],
       "shape": {
        "columns": 4,
        "rows": 20
       }
      },
      "text/html": [
       "<div>\n",
       "<style scoped>\n",
       "    .dataframe tbody tr th:only-of-type {\n",
       "        vertical-align: middle;\n",
       "    }\n",
       "\n",
       "    .dataframe tbody tr th {\n",
       "        vertical-align: top;\n",
       "    }\n",
       "\n",
       "    .dataframe thead th {\n",
       "        text-align: right;\n",
       "    }\n",
       "</style>\n",
       "<table border=\"1\" class=\"dataframe\">\n",
       "  <thead>\n",
       "    <tr style=\"text-align: right;\">\n",
       "      <th></th>\n",
       "      <th>post_id</th>\n",
       "      <th>num_comments</th>\n",
       "      <th>sentiment</th>\n",
       "      <th>count</th>\n",
       "    </tr>\n",
       "  </thead>\n",
       "  <tbody>\n",
       "    <tr>\n",
       "      <th>0</th>\n",
       "      <td>1mwtpnn</td>\n",
       "      <td>244.0</td>\n",
       "      <td>num_positive</td>\n",
       "      <td>17</td>\n",
       "    </tr>\n",
       "    <tr>\n",
       "      <th>1</th>\n",
       "      <td>1nciini</td>\n",
       "      <td>232.0</td>\n",
       "      <td>num_positive</td>\n",
       "      <td>7</td>\n",
       "    </tr>\n",
       "    <tr>\n",
       "      <th>2</th>\n",
       "      <td>1n99ni5</td>\n",
       "      <td>226.0</td>\n",
       "      <td>num_positive</td>\n",
       "      <td>10</td>\n",
       "    </tr>\n",
       "    <tr>\n",
       "      <th>3</th>\n",
       "      <td>1ncun7v</td>\n",
       "      <td>199.0</td>\n",
       "      <td>num_positive</td>\n",
       "      <td>6</td>\n",
       "    </tr>\n",
       "    <tr>\n",
       "      <th>4</th>\n",
       "      <td>1nd15qv</td>\n",
       "      <td>199.0</td>\n",
       "      <td>num_positive</td>\n",
       "      <td>7</td>\n",
       "    </tr>\n",
       "    <tr>\n",
       "      <th>5</th>\n",
       "      <td>1ndhwc6</td>\n",
       "      <td>199.0</td>\n",
       "      <td>num_positive</td>\n",
       "      <td>11</td>\n",
       "    </tr>\n",
       "    <tr>\n",
       "      <th>6</th>\n",
       "      <td>1ndc7qh</td>\n",
       "      <td>198.0</td>\n",
       "      <td>num_positive</td>\n",
       "      <td>13</td>\n",
       "    </tr>\n",
       "    <tr>\n",
       "      <th>7</th>\n",
       "      <td>1ncxxi8</td>\n",
       "      <td>198.0</td>\n",
       "      <td>num_positive</td>\n",
       "      <td>13</td>\n",
       "    </tr>\n",
       "    <tr>\n",
       "      <th>8</th>\n",
       "      <td>1nclmwz</td>\n",
       "      <td>198.0</td>\n",
       "      <td>num_positive</td>\n",
       "      <td>5</td>\n",
       "    </tr>\n",
       "    <tr>\n",
       "      <th>9</th>\n",
       "      <td>1ndpwx3</td>\n",
       "      <td>198.0</td>\n",
       "      <td>num_positive</td>\n",
       "      <td>12</td>\n",
       "    </tr>\n",
       "    <tr>\n",
       "      <th>10</th>\n",
       "      <td>1mwtpnn</td>\n",
       "      <td>244.0</td>\n",
       "      <td>num_negative</td>\n",
       "      <td>-132</td>\n",
       "    </tr>\n",
       "    <tr>\n",
       "      <th>11</th>\n",
       "      <td>1nciini</td>\n",
       "      <td>232.0</td>\n",
       "      <td>num_negative</td>\n",
       "      <td>-170</td>\n",
       "    </tr>\n",
       "    <tr>\n",
       "      <th>12</th>\n",
       "      <td>1n99ni5</td>\n",
       "      <td>226.0</td>\n",
       "      <td>num_negative</td>\n",
       "      <td>-108</td>\n",
       "    </tr>\n",
       "    <tr>\n",
       "      <th>13</th>\n",
       "      <td>1ncun7v</td>\n",
       "      <td>199.0</td>\n",
       "      <td>num_negative</td>\n",
       "      <td>-100</td>\n",
       "    </tr>\n",
       "    <tr>\n",
       "      <th>14</th>\n",
       "      <td>1nd15qv</td>\n",
       "      <td>199.0</td>\n",
       "      <td>num_negative</td>\n",
       "      <td>-124</td>\n",
       "    </tr>\n",
       "    <tr>\n",
       "      <th>15</th>\n",
       "      <td>1ndhwc6</td>\n",
       "      <td>199.0</td>\n",
       "      <td>num_negative</td>\n",
       "      <td>-95</td>\n",
       "    </tr>\n",
       "    <tr>\n",
       "      <th>16</th>\n",
       "      <td>1ndc7qh</td>\n",
       "      <td>198.0</td>\n",
       "      <td>num_negative</td>\n",
       "      <td>-125</td>\n",
       "    </tr>\n",
       "    <tr>\n",
       "      <th>17</th>\n",
       "      <td>1ncxxi8</td>\n",
       "      <td>198.0</td>\n",
       "      <td>num_negative</td>\n",
       "      <td>-135</td>\n",
       "    </tr>\n",
       "    <tr>\n",
       "      <th>18</th>\n",
       "      <td>1nclmwz</td>\n",
       "      <td>198.0</td>\n",
       "      <td>num_negative</td>\n",
       "      <td>-143</td>\n",
       "    </tr>\n",
       "    <tr>\n",
       "      <th>19</th>\n",
       "      <td>1ndpwx3</td>\n",
       "      <td>198.0</td>\n",
       "      <td>num_negative</td>\n",
       "      <td>-105</td>\n",
       "    </tr>\n",
       "  </tbody>\n",
       "</table>\n",
       "</div>"
      ],
      "text/plain": [
       "    post_id  num_comments     sentiment  count\n",
       "0   1mwtpnn         244.0  num_positive     17\n",
       "1   1nciini         232.0  num_positive      7\n",
       "2   1n99ni5         226.0  num_positive     10\n",
       "3   1ncun7v         199.0  num_positive      6\n",
       "4   1nd15qv         199.0  num_positive      7\n",
       "5   1ndhwc6         199.0  num_positive     11\n",
       "6   1ndc7qh         198.0  num_positive     13\n",
       "7   1ncxxi8         198.0  num_positive     13\n",
       "8   1nclmwz         198.0  num_positive      5\n",
       "9   1ndpwx3         198.0  num_positive     12\n",
       "10  1mwtpnn         244.0  num_negative   -132\n",
       "11  1nciini         232.0  num_negative   -170\n",
       "12  1n99ni5         226.0  num_negative   -108\n",
       "13  1ncun7v         199.0  num_negative   -100\n",
       "14  1nd15qv         199.0  num_negative   -124\n",
       "15  1ndhwc6         199.0  num_negative    -95\n",
       "16  1ndc7qh         198.0  num_negative   -125\n",
       "17  1ncxxi8         198.0  num_negative   -135\n",
       "18  1nclmwz         198.0  num_negative   -143\n",
       "19  1ndpwx3         198.0  num_negative   -105"
      ]
     },
     "execution_count": 15,
     "metadata": {},
     "output_type": "execute_result"
    }
   ],
   "source": [
    "import plotly.express as px\n",
    "import pandas as pd\n",
    "\n",
    "# calcola numero reale di commenti positivi e negativi\n",
    "df['num_positive'] = (df['pct_positive'] * df['num_comments'] / 100).round().astype(int)\n",
    "df['num_negative'] = (df['pct_negative'] * df['num_comments'] / 100).round().astype(int)\n",
    "\n",
    "# rendi negativi i commenti negativi per diverging chart\n",
    "df['num_negative'] = -df['num_negative']\n",
    "\n",
    "# seleziona i 5 post più commentati\n",
    "df = df.sort_values(by='num_comments', ascending=False)\n",
    "top5 = df.nlargest(10, 'num_comments').copy()\n",
    "\n",
    "# prepara dati in formato long\n",
    "df_long = top5.melt(\n",
    "    id_vars=['post_id', 'num_comments'],  # aggiungo num_comments\n",
    "    value_vars=['num_positive', 'num_negative'],\n",
    "    var_name='sentiment',\n",
    "    value_name='count'\n",
    ")\n",
    "df_long\n"
   ]
  },
  {
   "cell_type": "code",
   "execution_count": 16,
   "id": "45c0b767",
   "metadata": {},
   "outputs": [
    {
     "data": {
      "application/vnd.plotly.v1+json": {
       "config": {
        "plotlyServerURL": "https://plot.ly"
       },
       "data": [
        {
         "customdata": [
          [
           "1mwtpnn"
          ],
          [
           "1nciini"
          ],
          [
           "1n99ni5"
          ],
          [
           "1ncun7v"
          ],
          [
           "1nd15qv"
          ],
          [
           "1ndhwc6"
          ],
          [
           "1ndc7qh"
          ],
          [
           "1ncxxi8"
          ],
          [
           "1nclmwz"
          ],
          [
           "1ndpwx3"
          ]
         ],
         "hovertemplate": "sentiment=num_positive<br>count=%{text}<br>num_comments=%{y}<br>post_id=%{customdata[0]}<extra></extra>",
         "legendgroup": "num_positive",
         "marker": {
          "color": "blue",
          "pattern": {
           "shape": ""
          }
         },
         "name": "num_positive",
         "orientation": "h",
         "showlegend": true,
         "text": {
          "bdata": "AAAAAAAAMUAAAAAAAAAcQAAAAAAAACRAAAAAAAAAGEAAAAAAAAAcQAAAAAAAACZAAAAAAAAAKkAAAAAAAAAqQAAAAAAAABRAAAAAAAAAKEA=",
          "dtype": "f8"
         },
         "textposition": "auto",
         "type": "bar",
         "x": {
          "bdata": "EQcKBgcLDQ0FDA==",
          "dtype": "i1"
         },
         "xaxis": "x",
         "y": {
          "bdata": "AAAAAACAbkAAAAAAAABtQAAAAAAAQGxAAAAAAADgaEAAAAAAAOBoQAAAAAAA4GhAAAAAAADAaEAAAAAAAMBoQAAAAAAAwGhAAAAAAADAaEA=",
          "dtype": "f8"
         },
         "yaxis": "y"
        },
        {
         "customdata": [
          [
           "1mwtpnn"
          ],
          [
           "1nciini"
          ],
          [
           "1n99ni5"
          ],
          [
           "1ncun7v"
          ],
          [
           "1nd15qv"
          ],
          [
           "1ndhwc6"
          ],
          [
           "1ndc7qh"
          ],
          [
           "1ncxxi8"
          ],
          [
           "1nclmwz"
          ],
          [
           "1ndpwx3"
          ]
         ],
         "hovertemplate": "sentiment=num_negative<br>count=%{text}<br>num_comments=%{y}<br>post_id=%{customdata[0]}<extra></extra>",
         "legendgroup": "num_negative",
         "marker": {
          "color": "red",
          "pattern": {
           "shape": ""
          }
         },
         "name": "num_negative",
         "orientation": "h",
         "showlegend": true,
         "text": {
          "bdata": "AAAAAACAYMAAAAAAAEBlwAAAAAAAAFvAAAAAAAAAWcAAAAAAAABfwAAAAAAAwFfAAAAAAABAX8AAAAAAAOBgwAAAAAAA4GHAAAAAAABAWsA=",
          "dtype": "f8"
         },
         "textposition": "auto",
         "type": "bar",
         "x": {
          "bdata": "fP9W/5T/nP+E/6H/g/95/3H/l/8=",
          "dtype": "i2"
         },
         "xaxis": "x",
         "y": {
          "bdata": "AAAAAACAbkAAAAAAAABtQAAAAAAAQGxAAAAAAADgaEAAAAAAAOBoQAAAAAAA4GhAAAAAAADAaEAAAAAAAMBoQAAAAAAAwGhAAAAAAADAaEA=",
          "dtype": "f8"
         },
         "yaxis": "y"
        }
       ],
       "layout": {
        "barmode": "relative",
        "legend": {
         "title": {
          "text": "sentiment"
         },
         "tracegroupgap": 0
        },
        "margin": {
         "t": 60
        },
        "showlegend": true,
        "template": {
         "data": {
          "bar": [
           {
            "error_x": {
             "color": "#2a3f5f"
            },
            "error_y": {
             "color": "#2a3f5f"
            },
            "marker": {
             "line": {
              "color": "#E5ECF6",
              "width": 0.5
             },
             "pattern": {
              "fillmode": "overlay",
              "size": 10,
              "solidity": 0.2
             }
            },
            "type": "bar"
           }
          ],
          "barpolar": [
           {
            "marker": {
             "line": {
              "color": "#E5ECF6",
              "width": 0.5
             },
             "pattern": {
              "fillmode": "overlay",
              "size": 10,
              "solidity": 0.2
             }
            },
            "type": "barpolar"
           }
          ],
          "carpet": [
           {
            "aaxis": {
             "endlinecolor": "#2a3f5f",
             "gridcolor": "white",
             "linecolor": "white",
             "minorgridcolor": "white",
             "startlinecolor": "#2a3f5f"
            },
            "baxis": {
             "endlinecolor": "#2a3f5f",
             "gridcolor": "white",
             "linecolor": "white",
             "minorgridcolor": "white",
             "startlinecolor": "#2a3f5f"
            },
            "type": "carpet"
           }
          ],
          "choropleth": [
           {
            "colorbar": {
             "outlinewidth": 0,
             "ticks": ""
            },
            "type": "choropleth"
           }
          ],
          "contour": [
           {
            "colorbar": {
             "outlinewidth": 0,
             "ticks": ""
            },
            "colorscale": [
             [
              0,
              "#0d0887"
             ],
             [
              0.1111111111111111,
              "#46039f"
             ],
             [
              0.2222222222222222,
              "#7201a8"
             ],
             [
              0.3333333333333333,
              "#9c179e"
             ],
             [
              0.4444444444444444,
              "#bd3786"
             ],
             [
              0.5555555555555556,
              "#d8576b"
             ],
             [
              0.6666666666666666,
              "#ed7953"
             ],
             [
              0.7777777777777778,
              "#fb9f3a"
             ],
             [
              0.8888888888888888,
              "#fdca26"
             ],
             [
              1,
              "#f0f921"
             ]
            ],
            "type": "contour"
           }
          ],
          "contourcarpet": [
           {
            "colorbar": {
             "outlinewidth": 0,
             "ticks": ""
            },
            "type": "contourcarpet"
           }
          ],
          "heatmap": [
           {
            "colorbar": {
             "outlinewidth": 0,
             "ticks": ""
            },
            "colorscale": [
             [
              0,
              "#0d0887"
             ],
             [
              0.1111111111111111,
              "#46039f"
             ],
             [
              0.2222222222222222,
              "#7201a8"
             ],
             [
              0.3333333333333333,
              "#9c179e"
             ],
             [
              0.4444444444444444,
              "#bd3786"
             ],
             [
              0.5555555555555556,
              "#d8576b"
             ],
             [
              0.6666666666666666,
              "#ed7953"
             ],
             [
              0.7777777777777778,
              "#fb9f3a"
             ],
             [
              0.8888888888888888,
              "#fdca26"
             ],
             [
              1,
              "#f0f921"
             ]
            ],
            "type": "heatmap"
           }
          ],
          "histogram": [
           {
            "marker": {
             "pattern": {
              "fillmode": "overlay",
              "size": 10,
              "solidity": 0.2
             }
            },
            "type": "histogram"
           }
          ],
          "histogram2d": [
           {
            "colorbar": {
             "outlinewidth": 0,
             "ticks": ""
            },
            "colorscale": [
             [
              0,
              "#0d0887"
             ],
             [
              0.1111111111111111,
              "#46039f"
             ],
             [
              0.2222222222222222,
              "#7201a8"
             ],
             [
              0.3333333333333333,
              "#9c179e"
             ],
             [
              0.4444444444444444,
              "#bd3786"
             ],
             [
              0.5555555555555556,
              "#d8576b"
             ],
             [
              0.6666666666666666,
              "#ed7953"
             ],
             [
              0.7777777777777778,
              "#fb9f3a"
             ],
             [
              0.8888888888888888,
              "#fdca26"
             ],
             [
              1,
              "#f0f921"
             ]
            ],
            "type": "histogram2d"
           }
          ],
          "histogram2dcontour": [
           {
            "colorbar": {
             "outlinewidth": 0,
             "ticks": ""
            },
            "colorscale": [
             [
              0,
              "#0d0887"
             ],
             [
              0.1111111111111111,
              "#46039f"
             ],
             [
              0.2222222222222222,
              "#7201a8"
             ],
             [
              0.3333333333333333,
              "#9c179e"
             ],
             [
              0.4444444444444444,
              "#bd3786"
             ],
             [
              0.5555555555555556,
              "#d8576b"
             ],
             [
              0.6666666666666666,
              "#ed7953"
             ],
             [
              0.7777777777777778,
              "#fb9f3a"
             ],
             [
              0.8888888888888888,
              "#fdca26"
             ],
             [
              1,
              "#f0f921"
             ]
            ],
            "type": "histogram2dcontour"
           }
          ],
          "mesh3d": [
           {
            "colorbar": {
             "outlinewidth": 0,
             "ticks": ""
            },
            "type": "mesh3d"
           }
          ],
          "parcoords": [
           {
            "line": {
             "colorbar": {
              "outlinewidth": 0,
              "ticks": ""
             }
            },
            "type": "parcoords"
           }
          ],
          "pie": [
           {
            "automargin": true,
            "type": "pie"
           }
          ],
          "scatter": [
           {
            "fillpattern": {
             "fillmode": "overlay",
             "size": 10,
             "solidity": 0.2
            },
            "type": "scatter"
           }
          ],
          "scatter3d": [
           {
            "line": {
             "colorbar": {
              "outlinewidth": 0,
              "ticks": ""
             }
            },
            "marker": {
             "colorbar": {
              "outlinewidth": 0,
              "ticks": ""
             }
            },
            "type": "scatter3d"
           }
          ],
          "scattercarpet": [
           {
            "marker": {
             "colorbar": {
              "outlinewidth": 0,
              "ticks": ""
             }
            },
            "type": "scattercarpet"
           }
          ],
          "scattergeo": [
           {
            "marker": {
             "colorbar": {
              "outlinewidth": 0,
              "ticks": ""
             }
            },
            "type": "scattergeo"
           }
          ],
          "scattergl": [
           {
            "marker": {
             "colorbar": {
              "outlinewidth": 0,
              "ticks": ""
             }
            },
            "type": "scattergl"
           }
          ],
          "scattermap": [
           {
            "marker": {
             "colorbar": {
              "outlinewidth": 0,
              "ticks": ""
             }
            },
            "type": "scattermap"
           }
          ],
          "scattermapbox": [
           {
            "marker": {
             "colorbar": {
              "outlinewidth": 0,
              "ticks": ""
             }
            },
            "type": "scattermapbox"
           }
          ],
          "scatterpolar": [
           {
            "marker": {
             "colorbar": {
              "outlinewidth": 0,
              "ticks": ""
             }
            },
            "type": "scatterpolar"
           }
          ],
          "scatterpolargl": [
           {
            "marker": {
             "colorbar": {
              "outlinewidth": 0,
              "ticks": ""
             }
            },
            "type": "scatterpolargl"
           }
          ],
          "scatterternary": [
           {
            "marker": {
             "colorbar": {
              "outlinewidth": 0,
              "ticks": ""
             }
            },
            "type": "scatterternary"
           }
          ],
          "surface": [
           {
            "colorbar": {
             "outlinewidth": 0,
             "ticks": ""
            },
            "colorscale": [
             [
              0,
              "#0d0887"
             ],
             [
              0.1111111111111111,
              "#46039f"
             ],
             [
              0.2222222222222222,
              "#7201a8"
             ],
             [
              0.3333333333333333,
              "#9c179e"
             ],
             [
              0.4444444444444444,
              "#bd3786"
             ],
             [
              0.5555555555555556,
              "#d8576b"
             ],
             [
              0.6666666666666666,
              "#ed7953"
             ],
             [
              0.7777777777777778,
              "#fb9f3a"
             ],
             [
              0.8888888888888888,
              "#fdca26"
             ],
             [
              1,
              "#f0f921"
             ]
            ],
            "type": "surface"
           }
          ],
          "table": [
           {
            "cells": {
             "fill": {
              "color": "#EBF0F8"
             },
             "line": {
              "color": "white"
             }
            },
            "header": {
             "fill": {
              "color": "#C8D4E3"
             },
             "line": {
              "color": "white"
             }
            },
            "type": "table"
           }
          ]
         },
         "layout": {
          "annotationdefaults": {
           "arrowcolor": "#2a3f5f",
           "arrowhead": 0,
           "arrowwidth": 1
          },
          "autotypenumbers": "strict",
          "coloraxis": {
           "colorbar": {
            "outlinewidth": 0,
            "ticks": ""
           }
          },
          "colorscale": {
           "diverging": [
            [
             0,
             "#8e0152"
            ],
            [
             0.1,
             "#c51b7d"
            ],
            [
             0.2,
             "#de77ae"
            ],
            [
             0.3,
             "#f1b6da"
            ],
            [
             0.4,
             "#fde0ef"
            ],
            [
             0.5,
             "#f7f7f7"
            ],
            [
             0.6,
             "#e6f5d0"
            ],
            [
             0.7,
             "#b8e186"
            ],
            [
             0.8,
             "#7fbc41"
            ],
            [
             0.9,
             "#4d9221"
            ],
            [
             1,
             "#276419"
            ]
           ],
           "sequential": [
            [
             0,
             "#0d0887"
            ],
            [
             0.1111111111111111,
             "#46039f"
            ],
            [
             0.2222222222222222,
             "#7201a8"
            ],
            [
             0.3333333333333333,
             "#9c179e"
            ],
            [
             0.4444444444444444,
             "#bd3786"
            ],
            [
             0.5555555555555556,
             "#d8576b"
            ],
            [
             0.6666666666666666,
             "#ed7953"
            ],
            [
             0.7777777777777778,
             "#fb9f3a"
            ],
            [
             0.8888888888888888,
             "#fdca26"
            ],
            [
             1,
             "#f0f921"
            ]
           ],
           "sequentialminus": [
            [
             0,
             "#0d0887"
            ],
            [
             0.1111111111111111,
             "#46039f"
            ],
            [
             0.2222222222222222,
             "#7201a8"
            ],
            [
             0.3333333333333333,
             "#9c179e"
            ],
            [
             0.4444444444444444,
             "#bd3786"
            ],
            [
             0.5555555555555556,
             "#d8576b"
            ],
            [
             0.6666666666666666,
             "#ed7953"
            ],
            [
             0.7777777777777778,
             "#fb9f3a"
            ],
            [
             0.8888888888888888,
             "#fdca26"
            ],
            [
             1,
             "#f0f921"
            ]
           ]
          },
          "colorway": [
           "#636efa",
           "#EF553B",
           "#00cc96",
           "#ab63fa",
           "#FFA15A",
           "#19d3f3",
           "#FF6692",
           "#B6E880",
           "#FF97FF",
           "#FECB52"
          ],
          "font": {
           "color": "#2a3f5f"
          },
          "geo": {
           "bgcolor": "white",
           "lakecolor": "white",
           "landcolor": "#E5ECF6",
           "showlakes": true,
           "showland": true,
           "subunitcolor": "white"
          },
          "hoverlabel": {
           "align": "left"
          },
          "hovermode": "closest",
          "mapbox": {
           "style": "light"
          },
          "paper_bgcolor": "white",
          "plot_bgcolor": "#E5ECF6",
          "polar": {
           "angularaxis": {
            "gridcolor": "white",
            "linecolor": "white",
            "ticks": ""
           },
           "bgcolor": "#E5ECF6",
           "radialaxis": {
            "gridcolor": "white",
            "linecolor": "white",
            "ticks": ""
           }
          },
          "scene": {
           "xaxis": {
            "backgroundcolor": "#E5ECF6",
            "gridcolor": "white",
            "gridwidth": 2,
            "linecolor": "white",
            "showbackground": true,
            "ticks": "",
            "zerolinecolor": "white"
           },
           "yaxis": {
            "backgroundcolor": "#E5ECF6",
            "gridcolor": "white",
            "gridwidth": 2,
            "linecolor": "white",
            "showbackground": true,
            "ticks": "",
            "zerolinecolor": "white"
           },
           "zaxis": {
            "backgroundcolor": "#E5ECF6",
            "gridcolor": "white",
            "gridwidth": 2,
            "linecolor": "white",
            "showbackground": true,
            "ticks": "",
            "zerolinecolor": "white"
           }
          },
          "shapedefaults": {
           "line": {
            "color": "#2a3f5f"
           }
          },
          "ternary": {
           "aaxis": {
            "gridcolor": "white",
            "linecolor": "white",
            "ticks": ""
           },
           "baxis": {
            "gridcolor": "white",
            "linecolor": "white",
            "ticks": ""
           },
           "bgcolor": "#E5ECF6",
           "caxis": {
            "gridcolor": "white",
            "linecolor": "white",
            "ticks": ""
           }
          },
          "title": {
           "x": 0.05
          },
          "xaxis": {
           "automargin": true,
           "gridcolor": "white",
           "linecolor": "white",
           "ticks": "",
           "title": {
            "standoff": 15
           },
           "zerolinecolor": "white",
           "zerolinewidth": 2
          },
          "yaxis": {
           "automargin": true,
           "gridcolor": "white",
           "linecolor": "white",
           "ticks": "",
           "title": {
            "standoff": 15
           },
           "zerolinecolor": "white",
           "zerolinewidth": 2
          }
         }
        },
        "title": {
         "text": "Top 5 post con più commenti: positivi vs negativi (diverging)"
        },
        "xaxis": {
         "anchor": "y",
         "domain": [
          0,
          1
         ],
         "title": {
          "text": "Numero di commenti"
         }
        },
        "yaxis": {
         "anchor": "x",
         "domain": [
          0,
          1
         ],
         "title": {
          "text": "Commenti totali"
         }
        }
       }
      }
     },
     "metadata": {},
     "output_type": "display_data"
    }
   ],
   "source": [
    "color_map = {'num_positive': 'blue', 'num_negative': 'red'}\n",
    "\n",
    "# crea il bar chart orizzontale diverging usando num_comments come asse y\n",
    "fig = px.bar(\n",
    "    df_long,\n",
    "    y='num_comments',  # ora l’asse y mostra il totale dei commenti\n",
    "    x='count',\n",
    "    color='sentiment',\n",
    "    orientation='h',\n",
    "    text='count',\n",
    "    color_discrete_map=color_map,\n",
    "    hover_data=['post_id']  # così si vede anche il post ID\n",
    ")\n",
    "\n",
    "fig.update_layout(\n",
    "    title=\"Top 5 post con più commenti: positivi vs negativi (diverging)\",\n",
    "    xaxis_title=\"Numero di commenti\",\n",
    "    yaxis_title=\"Commenti totali\",\n",
    "    showlegend=True\n",
    ")\n",
    "\n",
    "fig.show()"
   ]
  },
  {
   "cell_type": "code",
   "execution_count": null,
   "id": "d5386f4e",
   "metadata": {},
   "outputs": [
    {
     "data": {
      "application/vnd.plotly.v1+json": {
       "config": {
        "plotlyServerURL": "https://plot.ly"
       },
       "data": [
        {
         "hovertemplate": "sentiment=num_positive<br>count=%{text}<br>post_id=%{y}<extra></extra>",
         "legendgroup": "num_positive",
         "marker": {
          "color": "blue",
          "pattern": {
           "shape": ""
          }
         },
         "name": "num_positive",
         "orientation": "h",
         "showlegend": true,
         "text": {
          "bdata": "AAAAAAAAMUAAAAAAAAAcQAAAAAAAACRAAAAAAAAAJkAAAAAAAAAcQA==",
          "dtype": "f8"
         },
         "textposition": "auto",
         "type": "bar",
         "x": {
          "bdata": "EQcKCwc=",
          "dtype": "i1"
         },
         "xaxis": "x",
         "y": [
          "1mwtpnn",
          "1nciini",
          "1n99ni5",
          "1ndhwc6",
          "1nd15qv"
         ],
         "yaxis": "y"
        },
        {
         "hovertemplate": "sentiment=num_negative<br>count=%{text}<br>post_id=%{y}<extra></extra>",
         "legendgroup": "num_negative",
         "marker": {
          "color": "red",
          "pattern": {
           "shape": ""
          }
         },
         "name": "num_negative",
         "orientation": "h",
         "showlegend": true,
         "text": {
          "bdata": "AAAAAACAYEAAAAAAAEBlQAAAAAAAAFtAAAAAAADAV0AAAAAAAABfQA==",
          "dtype": "f8"
         },
         "textposition": "auto",
         "type": "bar",
         "x": {
          "bdata": "hACqAGwAXwB8AA==",
          "dtype": "i2"
         },
         "xaxis": "x",
         "y": [
          "1mwtpnn",
          "1nciini",
          "1n99ni5",
          "1ndhwc6",
          "1nd15qv"
         ],
         "yaxis": "y"
        }
       ],
       "layout": {
        "barmode": "relative",
        "legend": {
         "title": {
          "text": "sentiment"
         },
         "tracegroupgap": 0
        },
        "margin": {
         "t": 60
        },
        "paper_bgcolor": "white",
        "plot_bgcolor": "white",
        "showlegend": true,
        "template": {
         "data": {
          "bar": [
           {
            "error_x": {
             "color": "#2a3f5f"
            },
            "error_y": {
             "color": "#2a3f5f"
            },
            "marker": {
             "line": {
              "color": "#E5ECF6",
              "width": 0.5
             },
             "pattern": {
              "fillmode": "overlay",
              "size": 10,
              "solidity": 0.2
             }
            },
            "type": "bar"
           }
          ],
          "barpolar": [
           {
            "marker": {
             "line": {
              "color": "#E5ECF6",
              "width": 0.5
             },
             "pattern": {
              "fillmode": "overlay",
              "size": 10,
              "solidity": 0.2
             }
            },
            "type": "barpolar"
           }
          ],
          "carpet": [
           {
            "aaxis": {
             "endlinecolor": "#2a3f5f",
             "gridcolor": "white",
             "linecolor": "white",
             "minorgridcolor": "white",
             "startlinecolor": "#2a3f5f"
            },
            "baxis": {
             "endlinecolor": "#2a3f5f",
             "gridcolor": "white",
             "linecolor": "white",
             "minorgridcolor": "white",
             "startlinecolor": "#2a3f5f"
            },
            "type": "carpet"
           }
          ],
          "choropleth": [
           {
            "colorbar": {
             "outlinewidth": 0,
             "ticks": ""
            },
            "type": "choropleth"
           }
          ],
          "contour": [
           {
            "colorbar": {
             "outlinewidth": 0,
             "ticks": ""
            },
            "colorscale": [
             [
              0,
              "#0d0887"
             ],
             [
              0.1111111111111111,
              "#46039f"
             ],
             [
              0.2222222222222222,
              "#7201a8"
             ],
             [
              0.3333333333333333,
              "#9c179e"
             ],
             [
              0.4444444444444444,
              "#bd3786"
             ],
             [
              0.5555555555555556,
              "#d8576b"
             ],
             [
              0.6666666666666666,
              "#ed7953"
             ],
             [
              0.7777777777777778,
              "#fb9f3a"
             ],
             [
              0.8888888888888888,
              "#fdca26"
             ],
             [
              1,
              "#f0f921"
             ]
            ],
            "type": "contour"
           }
          ],
          "contourcarpet": [
           {
            "colorbar": {
             "outlinewidth": 0,
             "ticks": ""
            },
            "type": "contourcarpet"
           }
          ],
          "heatmap": [
           {
            "colorbar": {
             "outlinewidth": 0,
             "ticks": ""
            },
            "colorscale": [
             [
              0,
              "#0d0887"
             ],
             [
              0.1111111111111111,
              "#46039f"
             ],
             [
              0.2222222222222222,
              "#7201a8"
             ],
             [
              0.3333333333333333,
              "#9c179e"
             ],
             [
              0.4444444444444444,
              "#bd3786"
             ],
             [
              0.5555555555555556,
              "#d8576b"
             ],
             [
              0.6666666666666666,
              "#ed7953"
             ],
             [
              0.7777777777777778,
              "#fb9f3a"
             ],
             [
              0.8888888888888888,
              "#fdca26"
             ],
             [
              1,
              "#f0f921"
             ]
            ],
            "type": "heatmap"
           }
          ],
          "histogram": [
           {
            "marker": {
             "pattern": {
              "fillmode": "overlay",
              "size": 10,
              "solidity": 0.2
             }
            },
            "type": "histogram"
           }
          ],
          "histogram2d": [
           {
            "colorbar": {
             "outlinewidth": 0,
             "ticks": ""
            },
            "colorscale": [
             [
              0,
              "#0d0887"
             ],
             [
              0.1111111111111111,
              "#46039f"
             ],
             [
              0.2222222222222222,
              "#7201a8"
             ],
             [
              0.3333333333333333,
              "#9c179e"
             ],
             [
              0.4444444444444444,
              "#bd3786"
             ],
             [
              0.5555555555555556,
              "#d8576b"
             ],
             [
              0.6666666666666666,
              "#ed7953"
             ],
             [
              0.7777777777777778,
              "#fb9f3a"
             ],
             [
              0.8888888888888888,
              "#fdca26"
             ],
             [
              1,
              "#f0f921"
             ]
            ],
            "type": "histogram2d"
           }
          ],
          "histogram2dcontour": [
           {
            "colorbar": {
             "outlinewidth": 0,
             "ticks": ""
            },
            "colorscale": [
             [
              0,
              "#0d0887"
             ],
             [
              0.1111111111111111,
              "#46039f"
             ],
             [
              0.2222222222222222,
              "#7201a8"
             ],
             [
              0.3333333333333333,
              "#9c179e"
             ],
             [
              0.4444444444444444,
              "#bd3786"
             ],
             [
              0.5555555555555556,
              "#d8576b"
             ],
             [
              0.6666666666666666,
              "#ed7953"
             ],
             [
              0.7777777777777778,
              "#fb9f3a"
             ],
             [
              0.8888888888888888,
              "#fdca26"
             ],
             [
              1,
              "#f0f921"
             ]
            ],
            "type": "histogram2dcontour"
           }
          ],
          "mesh3d": [
           {
            "colorbar": {
             "outlinewidth": 0,
             "ticks": ""
            },
            "type": "mesh3d"
           }
          ],
          "parcoords": [
           {
            "line": {
             "colorbar": {
              "outlinewidth": 0,
              "ticks": ""
             }
            },
            "type": "parcoords"
           }
          ],
          "pie": [
           {
            "automargin": true,
            "type": "pie"
           }
          ],
          "scatter": [
           {
            "fillpattern": {
             "fillmode": "overlay",
             "size": 10,
             "solidity": 0.2
            },
            "type": "scatter"
           }
          ],
          "scatter3d": [
           {
            "line": {
             "colorbar": {
              "outlinewidth": 0,
              "ticks": ""
             }
            },
            "marker": {
             "colorbar": {
              "outlinewidth": 0,
              "ticks": ""
             }
            },
            "type": "scatter3d"
           }
          ],
          "scattercarpet": [
           {
            "marker": {
             "colorbar": {
              "outlinewidth": 0,
              "ticks": ""
             }
            },
            "type": "scattercarpet"
           }
          ],
          "scattergeo": [
           {
            "marker": {
             "colorbar": {
              "outlinewidth": 0,
              "ticks": ""
             }
            },
            "type": "scattergeo"
           }
          ],
          "scattergl": [
           {
            "marker": {
             "colorbar": {
              "outlinewidth": 0,
              "ticks": ""
             }
            },
            "type": "scattergl"
           }
          ],
          "scattermap": [
           {
            "marker": {
             "colorbar": {
              "outlinewidth": 0,
              "ticks": ""
             }
            },
            "type": "scattermap"
           }
          ],
          "scattermapbox": [
           {
            "marker": {
             "colorbar": {
              "outlinewidth": 0,
              "ticks": ""
             }
            },
            "type": "scattermapbox"
           }
          ],
          "scatterpolar": [
           {
            "marker": {
             "colorbar": {
              "outlinewidth": 0,
              "ticks": ""
             }
            },
            "type": "scatterpolar"
           }
          ],
          "scatterpolargl": [
           {
            "marker": {
             "colorbar": {
              "outlinewidth": 0,
              "ticks": ""
             }
            },
            "type": "scatterpolargl"
           }
          ],
          "scatterternary": [
           {
            "marker": {
             "colorbar": {
              "outlinewidth": 0,
              "ticks": ""
             }
            },
            "type": "scatterternary"
           }
          ],
          "surface": [
           {
            "colorbar": {
             "outlinewidth": 0,
             "ticks": ""
            },
            "colorscale": [
             [
              0,
              "#0d0887"
             ],
             [
              0.1111111111111111,
              "#46039f"
             ],
             [
              0.2222222222222222,
              "#7201a8"
             ],
             [
              0.3333333333333333,
              "#9c179e"
             ],
             [
              0.4444444444444444,
              "#bd3786"
             ],
             [
              0.5555555555555556,
              "#d8576b"
             ],
             [
              0.6666666666666666,
              "#ed7953"
             ],
             [
              0.7777777777777778,
              "#fb9f3a"
             ],
             [
              0.8888888888888888,
              "#fdca26"
             ],
             [
              1,
              "#f0f921"
             ]
            ],
            "type": "surface"
           }
          ],
          "table": [
           {
            "cells": {
             "fill": {
              "color": "#EBF0F8"
             },
             "line": {
              "color": "white"
             }
            },
            "header": {
             "fill": {
              "color": "#C8D4E3"
             },
             "line": {
              "color": "white"
             }
            },
            "type": "table"
           }
          ]
         },
         "layout": {
          "annotationdefaults": {
           "arrowcolor": "#2a3f5f",
           "arrowhead": 0,
           "arrowwidth": 1
          },
          "autotypenumbers": "strict",
          "coloraxis": {
           "colorbar": {
            "outlinewidth": 0,
            "ticks": ""
           }
          },
          "colorscale": {
           "diverging": [
            [
             0,
             "#8e0152"
            ],
            [
             0.1,
             "#c51b7d"
            ],
            [
             0.2,
             "#de77ae"
            ],
            [
             0.3,
             "#f1b6da"
            ],
            [
             0.4,
             "#fde0ef"
            ],
            [
             0.5,
             "#f7f7f7"
            ],
            [
             0.6,
             "#e6f5d0"
            ],
            [
             0.7,
             "#b8e186"
            ],
            [
             0.8,
             "#7fbc41"
            ],
            [
             0.9,
             "#4d9221"
            ],
            [
             1,
             "#276419"
            ]
           ],
           "sequential": [
            [
             0,
             "#0d0887"
            ],
            [
             0.1111111111111111,
             "#46039f"
            ],
            [
             0.2222222222222222,
             "#7201a8"
            ],
            [
             0.3333333333333333,
             "#9c179e"
            ],
            [
             0.4444444444444444,
             "#bd3786"
            ],
            [
             0.5555555555555556,
             "#d8576b"
            ],
            [
             0.6666666666666666,
             "#ed7953"
            ],
            [
             0.7777777777777778,
             "#fb9f3a"
            ],
            [
             0.8888888888888888,
             "#fdca26"
            ],
            [
             1,
             "#f0f921"
            ]
           ],
           "sequentialminus": [
            [
             0,
             "#0d0887"
            ],
            [
             0.1111111111111111,
             "#46039f"
            ],
            [
             0.2222222222222222,
             "#7201a8"
            ],
            [
             0.3333333333333333,
             "#9c179e"
            ],
            [
             0.4444444444444444,
             "#bd3786"
            ],
            [
             0.5555555555555556,
             "#d8576b"
            ],
            [
             0.6666666666666666,
             "#ed7953"
            ],
            [
             0.7777777777777778,
             "#fb9f3a"
            ],
            [
             0.8888888888888888,
             "#fdca26"
            ],
            [
             1,
             "#f0f921"
            ]
           ]
          },
          "colorway": [
           "#636efa",
           "#EF553B",
           "#00cc96",
           "#ab63fa",
           "#FFA15A",
           "#19d3f3",
           "#FF6692",
           "#B6E880",
           "#FF97FF",
           "#FECB52"
          ],
          "font": {
           "color": "#2a3f5f"
          },
          "geo": {
           "bgcolor": "white",
           "lakecolor": "white",
           "landcolor": "#E5ECF6",
           "showlakes": true,
           "showland": true,
           "subunitcolor": "white"
          },
          "hoverlabel": {
           "align": "left"
          },
          "hovermode": "closest",
          "mapbox": {
           "style": "light"
          },
          "paper_bgcolor": "white",
          "plot_bgcolor": "#E5ECF6",
          "polar": {
           "angularaxis": {
            "gridcolor": "white",
            "linecolor": "white",
            "ticks": ""
           },
           "bgcolor": "#E5ECF6",
           "radialaxis": {
            "gridcolor": "white",
            "linecolor": "white",
            "ticks": ""
           }
          },
          "scene": {
           "xaxis": {
            "backgroundcolor": "#E5ECF6",
            "gridcolor": "white",
            "gridwidth": 2,
            "linecolor": "white",
            "showbackground": true,
            "ticks": "",
            "zerolinecolor": "white"
           },
           "yaxis": {
            "backgroundcolor": "#E5ECF6",
            "gridcolor": "white",
            "gridwidth": 2,
            "linecolor": "white",
            "showbackground": true,
            "ticks": "",
            "zerolinecolor": "white"
           },
           "zaxis": {
            "backgroundcolor": "#E5ECF6",
            "gridcolor": "white",
            "gridwidth": 2,
            "linecolor": "white",
            "showbackground": true,
            "ticks": "",
            "zerolinecolor": "white"
           }
          },
          "shapedefaults": {
           "line": {
            "color": "#2a3f5f"
           }
          },
          "ternary": {
           "aaxis": {
            "gridcolor": "white",
            "linecolor": "white",
            "ticks": ""
           },
           "baxis": {
            "gridcolor": "white",
            "linecolor": "white",
            "ticks": ""
           },
           "bgcolor": "#E5ECF6",
           "caxis": {
            "gridcolor": "white",
            "linecolor": "white",
            "ticks": ""
           }
          },
          "title": {
           "x": 0.05
          },
          "xaxis": {
           "automargin": true,
           "gridcolor": "white",
           "linecolor": "white",
           "ticks": "",
           "title": {
            "standoff": 15
           },
           "zerolinecolor": "white",
           "zerolinewidth": 2
          },
          "yaxis": {
           "automargin": true,
           "gridcolor": "white",
           "linecolor": "white",
           "ticks": "",
           "title": {
            "standoff": 15
           },
           "zerolinecolor": "white",
           "zerolinewidth": 2
          }
         }
        },
        "title": {
         "text": "Top 5 post con più commenti: positivi vs negativi"
        },
        "xaxis": {
         "anchor": "y",
         "domain": [
          0,
          1
         ],
         "title": {
          "text": "Numero di commenti"
         }
        },
        "yaxis": {
         "anchor": "x",
         "categoryorder": "total ascending",
         "domain": [
          0,
          1
         ],
         "title": {
          "text": "Post ID"
         }
        }
       }
      }
     },
     "metadata": {},
     "output_type": "display_data"
    }
   ],
   "source": [
    "# calcola numero di commenti positivi e negativi\n",
    "df['num_positive'] = (df['pct_positive'] * df['num_comments'] / 100).round().astype(int)\n",
    "df['num_negative'] = (df['pct_negative'] * df['num_comments'] / 100).round().astype(int)\n",
    "\n",
    "# prendi i 5 post con più commenti\n",
    "top5 = df.nlargest(5, 'num_comments').copy()\n",
    "\n",
    "df_long = top5.melt(\n",
    "    id_vars=['post_id'],\n",
    "    value_vars=['num_positive', 'num_negative'],\n",
    "    var_name='sentiment',\n",
    "    value_name='count'\n",
    ")\n",
    "\n",
    "# colori\n",
    "color_map = {'num_positive': 'blue', 'num_negative': 'red'}\n",
    "\n",
    "# crea bar chart orizzontale\n",
    "fig = px.bar(\n",
    "    df_long,\n",
    "    y='post_id',\n",
    "    x='count',\n",
    "    color='sentiment',\n",
    "    orientation='h',\n",
    "    text='count',\n",
    "    color_discrete_map=color_map,\n",
    "    barmode='relative'  # barre divise per lato\n",
    ")\n",
    "\n",
    "fig.update_layout(\n",
    "    title=\"Top 5 post con più commenti: positivi vs negativi\",\n",
    "    xaxis_title=\"Numero di commenti\",\n",
    "    yaxis_title=\"Post ID\",\n",
    "    yaxis={'categoryorder':'total ascending'},\n",
    "    plot_bgcolor='white',\n",
    "    paper_bgcolor='white',\n",
    "    showlegend=True\n",
    ")\n",
    "\n",
    "fig.show()  # solo per notebook"
   ]
  }
 ],
 "metadata": {
  "kernelspec": {
   "display_name": "reddit",
   "language": "python",
   "name": "python3"
  },
  "language_info": {
   "codemirror_mode": {
    "name": "ipython",
    "version": 3
   },
   "file_extension": ".py",
   "mimetype": "text/x-python",
   "name": "python",
   "nbconvert_exporter": "python",
   "pygments_lexer": "ipython3",
   "version": "3.11.13"
  }
 },
 "nbformat": 4,
 "nbformat_minor": 5
}
