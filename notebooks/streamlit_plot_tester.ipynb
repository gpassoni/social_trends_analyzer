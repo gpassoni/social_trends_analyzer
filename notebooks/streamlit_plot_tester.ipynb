{
 "cells": [
  {
   "cell_type": "code",
   "execution_count": 10,
   "id": "9852b983",
   "metadata": {},
   "outputs": [],
   "source": [
    "from reddit_db.db_manager import RedditDBManager\n",
    "import matplotlib.pyplot as plt\n",
    "import seaborn as sns"
   ]
  },
  {
   "cell_type": "code",
   "execution_count": 11,
   "id": "7dfc7862",
   "metadata": {},
   "outputs": [],
   "source": [
    "manager = RedditDBManager()\n"
   ]
  },
  {
   "cell_type": "code",
   "execution_count": 12,
   "id": "be026b81",
   "metadata": {},
   "outputs": [
    {
     "data": {
      "application/vnd.microsoft.datawrangler.viewer.v0+json": {
       "columns": [
        {
         "name": "index",
         "rawType": "int64",
         "type": "integer"
        },
        {
         "name": "comment_id",
         "rawType": "object",
         "type": "string"
        },
        {
         "name": "negative_score",
         "rawType": "float64",
         "type": "float"
        },
        {
         "name": "neutral_score",
         "rawType": "float64",
         "type": "float"
        },
        {
         "name": "positive_score",
         "rawType": "float64",
         "type": "float"
        },
        {
         "name": "pred_label",
         "rawType": "object",
         "type": "string"
        }
       ],
       "ref": "7c0d74df-40b7-4795-8915-d0f76911dda1",
       "rows": [
        [
         "0",
         "ncpqedk",
         "0.24958103895187378",
         "0.6224822998046875",
         "0.12793664634227753",
         "neutral"
        ],
        [
         "1",
         "ncpqwno",
         "0.837626576423645",
         "0.1538124680519104",
         "0.008560946211218834",
         "negative"
        ],
        [
         "2",
         "ncpsaoh",
         "0.9737416505813599",
         "0.024005038663744926",
         "0.0022532748989760876",
         "negative"
        ],
        [
         "3",
         "ncpu9z8",
         "0.4017881155014038",
         "0.5742729902267456",
         "0.02393897995352745",
         "neutral"
        ],
        [
         "4",
         "ncpw99h",
         "0.7795424461364746",
         "0.20762468874454498",
         "0.01283293403685093",
         "negative"
        ],
        [
         "5",
         "ncpzhye",
         "0.6990888714790344",
         "0.2814868092536926",
         "0.019424306228756905",
         "negative"
        ],
        [
         "6",
         "ncq0lgi",
         "0.24958103895187378",
         "0.6224822998046875",
         "0.12793664634227753",
         "neutral"
        ],
        [
         "7",
         "ncq0t13",
         "0.2753439247608185",
         "0.6969211101531982",
         "0.027735011652112007",
         "neutral"
        ],
        [
         "8",
         "ncq11oi",
         "0.5760877728462219",
         "0.3987419605255127",
         "0.025170229375362396",
         "negative"
        ],
        [
         "9",
         "ncq12vx",
         "0.8427765369415283",
         "0.1488509476184845",
         "0.00837254524230957",
         "negative"
        ],
        [
         "10",
         "ncq14hc",
         "0.885209321975708",
         "0.104013592004776",
         "0.01077702920883894",
         "negative"
        ],
        [
         "11",
         "ncq25zy",
         "0.005043702200055122",
         "0.12399909645318985",
         "0.8709572553634644",
         "positive"
        ],
        [
         "12",
         "ncqpsha",
         "0.05067674443125725",
         "0.839080274105072",
         "0.11024298518896103",
         "neutral"
        ],
        [
         "13",
         "ncqpyc5",
         "0.12150529772043228",
         "0.8472742438316345",
         "0.031220393255352974",
         "neutral"
        ],
        [
         "14",
         "ncqqawh",
         "0.265129953622818",
         "0.7010254263877869",
         "0.033844634890556335",
         "neutral"
        ],
        [
         "15",
         "ncq2k2t",
         "0.24958103895187378",
         "0.6224822998046875",
         "0.12793664634227753",
         "neutral"
        ],
        [
         "16",
         "ncq39i6",
         "0.8333533406257629",
         "0.15902480483055115",
         "0.00762178935110569",
         "negative"
        ],
        [
         "17",
         "ncq48kn",
         "0.976608395576477",
         "0.020771292969584465",
         "0.002620336366817355",
         "negative"
        ],
        [
         "18",
         "ncq4bfm",
         "0.5698527097702026",
         "0.37913620471954346",
         "0.0510110929608345",
         "negative"
        ],
        [
         "19",
         "ncq4z54",
         "0.9639403223991394",
         "0.033695146441459656",
         "0.0023645530454814434",
         "negative"
        ],
        [
         "20",
         "ncq543r",
         "0.31835415959358215",
         "0.5405473113059998",
         "0.14109857380390167",
         "neutral"
        ],
        [
         "21",
         "ncq79mp",
         "0.27123013138771057",
         "0.6345422267913818",
         "0.09422768652439117",
         "neutral"
        ],
        [
         "22",
         "ncq7buz",
         "0.9185380935668945",
         "0.07544118911027908",
         "0.006020671688020229",
         "negative"
        ],
        [
         "23",
         "ncq8eki",
         "0.9397145509719849",
         "0.0559249185025692",
         "0.004360648803412914",
         "negative"
        ],
        [
         "24",
         "ncq93zj",
         "0.5282870531082153",
         "0.41287338733673096",
         "0.058839600533246994",
         "negative"
        ],
        [
         "25",
         "ncq9nn3",
         "0.7239006161689758",
         "0.2417648434638977",
         "0.03433451056480408",
         "negative"
        ],
        [
         "26",
         "ncqcdey",
         "0.9626052379608154",
         "0.0346868671476841",
         "0.0027079221326857805",
         "negative"
        ],
        [
         "27",
         "ncqdnll",
         "0.6397031545639038",
         "0.3459351360797882",
         "0.014361708424985409",
         "negative"
        ],
        [
         "28",
         "ncqehje",
         "0.7968514561653137",
         "0.19404533505439758",
         "0.009103266522288322",
         "negative"
        ],
        [
         "29",
         "ncqepeo",
         "0.572170078754425",
         "0.4171069860458374",
         "0.010722905397415161",
         "negative"
        ],
        [
         "30",
         "ncqfals",
         "0.24958106875419617",
         "0.6224822402000427",
         "0.12793666124343872",
         "neutral"
        ],
        [
         "31",
         "ncqfet2",
         "0.8496054410934448",
         "0.14074088633060455",
         "0.009653672575950623",
         "negative"
        ],
        [
         "32",
         "ncqg2be",
         "0.24318863451480865",
         "0.6075806021690369",
         "0.14923083782196045",
         "neutral"
        ],
        [
         "33",
         "ncqg4l4",
         "0.8417148590087891",
         "0.1458326131105423",
         "0.01245253998786211",
         "negative"
        ],
        [
         "34",
         "ncqgwl0",
         "0.8921248316764832",
         "0.10237915068864822",
         "0.005495990626513958",
         "negative"
        ],
        [
         "35",
         "ncqhts0",
         "0.9671571850776672",
         "0.030184509232640266",
         "0.0026583748403936625",
         "negative"
        ],
        [
         "36",
         "ncqi0us",
         "0.5972244739532471",
         "0.32391199469566345",
         "0.07886350154876709",
         "negative"
        ],
        [
         "37",
         "ncqi4nq",
         "0.9045829772949219",
         "0.09279422461986542",
         "0.0026227885391563177",
         "negative"
        ],
        [
         "38",
         "ncqn3r2",
         "0.6883999705314636",
         "0.27795568108558655",
         "0.0336444117128849",
         "negative"
        ],
        [
         "39",
         "ncqngxh",
         "0.9158757925033569",
         "0.07411506772041321",
         "0.010009191930294037",
         "negative"
        ],
        [
         "40",
         "ncqntxd",
         "0.9075236916542053",
         "0.08384579420089722",
         "0.008630498312413692",
         "negative"
        ],
        [
         "41",
         "ncqpdjf",
         "0.24958103895187378",
         "0.6224822998046875",
         "0.12793664634227753",
         "neutral"
        ],
        [
         "42",
         "ncqpjh1",
         "0.6581273078918457",
         "0.33066970109939575",
         "0.011202966794371605",
         "negative"
        ],
        [
         "43",
         "ncqpq5l",
         "0.20854489505290985",
         "0.7152377963066101",
         "0.07621723413467407",
         "neutral"
        ],
        [
         "44",
         "ncqqsx0",
         "0.29383140802383423",
         "0.6454601883888245",
         "0.06070833280682564",
         "neutral"
        ],
        [
         "45",
         "ncqqvej",
         "0.24428322911262512",
         "0.5186060667037964",
         "0.23711064457893372",
         "neutral"
        ],
        [
         "46",
         "ncqrepv",
         "0.7025176882743835",
         "0.26473361253738403",
         "0.03274872526526451",
         "negative"
        ],
        [
         "47",
         "ncqrut6",
         "0.877109706401825",
         "0.11844874918460846",
         "0.00444163428619504",
         "negative"
        ],
        [
         "48",
         "ncqrylq",
         "0.06854072213172913",
         "0.8483654856681824",
         "0.08309388905763626",
         "neutral"
        ],
        [
         "49",
         "ncqteti",
         "0.12387806177139282",
         "0.8295097351074219",
         "0.046612199395895004",
         "neutral"
        ]
       ],
       "shape": {
        "columns": 5,
        "rows": 300
       }
      },
      "text/html": [
       "<div>\n",
       "<style scoped>\n",
       "    .dataframe tbody tr th:only-of-type {\n",
       "        vertical-align: middle;\n",
       "    }\n",
       "\n",
       "    .dataframe tbody tr th {\n",
       "        vertical-align: top;\n",
       "    }\n",
       "\n",
       "    .dataframe thead th {\n",
       "        text-align: right;\n",
       "    }\n",
       "</style>\n",
       "<table border=\"1\" class=\"dataframe\">\n",
       "  <thead>\n",
       "    <tr style=\"text-align: right;\">\n",
       "      <th></th>\n",
       "      <th>comment_id</th>\n",
       "      <th>negative_score</th>\n",
       "      <th>neutral_score</th>\n",
       "      <th>positive_score</th>\n",
       "      <th>pred_label</th>\n",
       "    </tr>\n",
       "  </thead>\n",
       "  <tbody>\n",
       "    <tr>\n",
       "      <th>0</th>\n",
       "      <td>ncpqedk</td>\n",
       "      <td>0.249581</td>\n",
       "      <td>0.622482</td>\n",
       "      <td>0.127937</td>\n",
       "      <td>neutral</td>\n",
       "    </tr>\n",
       "    <tr>\n",
       "      <th>1</th>\n",
       "      <td>ncpqwno</td>\n",
       "      <td>0.837627</td>\n",
       "      <td>0.153812</td>\n",
       "      <td>0.008561</td>\n",
       "      <td>negative</td>\n",
       "    </tr>\n",
       "    <tr>\n",
       "      <th>2</th>\n",
       "      <td>ncpsaoh</td>\n",
       "      <td>0.973742</td>\n",
       "      <td>0.024005</td>\n",
       "      <td>0.002253</td>\n",
       "      <td>negative</td>\n",
       "    </tr>\n",
       "    <tr>\n",
       "      <th>3</th>\n",
       "      <td>ncpu9z8</td>\n",
       "      <td>0.401788</td>\n",
       "      <td>0.574273</td>\n",
       "      <td>0.023939</td>\n",
       "      <td>neutral</td>\n",
       "    </tr>\n",
       "    <tr>\n",
       "      <th>4</th>\n",
       "      <td>ncpw99h</td>\n",
       "      <td>0.779542</td>\n",
       "      <td>0.207625</td>\n",
       "      <td>0.012833</td>\n",
       "      <td>negative</td>\n",
       "    </tr>\n",
       "    <tr>\n",
       "      <th>...</th>\n",
       "      <td>...</td>\n",
       "      <td>...</td>\n",
       "      <td>...</td>\n",
       "      <td>...</td>\n",
       "      <td>...</td>\n",
       "    </tr>\n",
       "    <tr>\n",
       "      <th>295</th>\n",
       "      <td>nd56ke2</td>\n",
       "      <td>0.973635</td>\n",
       "      <td>0.023133</td>\n",
       "      <td>0.003232</td>\n",
       "      <td>negative</td>\n",
       "    </tr>\n",
       "    <tr>\n",
       "      <th>296</th>\n",
       "      <td>nd57lpe</td>\n",
       "      <td>0.974202</td>\n",
       "      <td>0.022780</td>\n",
       "      <td>0.003018</td>\n",
       "      <td>negative</td>\n",
       "    </tr>\n",
       "    <tr>\n",
       "      <th>297</th>\n",
       "      <td>nd58l9t</td>\n",
       "      <td>0.816218</td>\n",
       "      <td>0.159824</td>\n",
       "      <td>0.023958</td>\n",
       "      <td>negative</td>\n",
       "    </tr>\n",
       "    <tr>\n",
       "      <th>298</th>\n",
       "      <td>nd59bh8</td>\n",
       "      <td>0.696154</td>\n",
       "      <td>0.283433</td>\n",
       "      <td>0.020412</td>\n",
       "      <td>negative</td>\n",
       "    </tr>\n",
       "    <tr>\n",
       "      <th>299</th>\n",
       "      <td>nd5em33</td>\n",
       "      <td>0.958365</td>\n",
       "      <td>0.038501</td>\n",
       "      <td>0.003134</td>\n",
       "      <td>negative</td>\n",
       "    </tr>\n",
       "  </tbody>\n",
       "</table>\n",
       "<p>300 rows × 5 columns</p>\n",
       "</div>"
      ],
      "text/plain": [
       "    comment_id  negative_score  neutral_score  positive_score pred_label\n",
       "0      ncpqedk        0.249581       0.622482        0.127937    neutral\n",
       "1      ncpqwno        0.837627       0.153812        0.008561   negative\n",
       "2      ncpsaoh        0.973742       0.024005        0.002253   negative\n",
       "3      ncpu9z8        0.401788       0.574273        0.023939    neutral\n",
       "4      ncpw99h        0.779542       0.207625        0.012833   negative\n",
       "..         ...             ...            ...             ...        ...\n",
       "295    nd56ke2        0.973635       0.023133        0.003232   negative\n",
       "296    nd57lpe        0.974202       0.022780        0.003018   negative\n",
       "297    nd58l9t        0.816218       0.159824        0.023958   negative\n",
       "298    nd59bh8        0.696154       0.283433        0.020412   negative\n",
       "299    nd5em33        0.958365       0.038501        0.003134   negative\n",
       "\n",
       "[300 rows x 5 columns]"
      ]
     },
     "execution_count": 12,
     "metadata": {},
     "output_type": "execute_result"
    }
   ],
   "source": [
    "df = manager.get_all_sentiments()\n",
    "df"
   ]
  },
  {
   "cell_type": "code",
   "execution_count": null,
   "id": "1fcd746a",
   "metadata": {},
   "outputs": [
    {
     "data": {
      "application/vnd.microsoft.datawrangler.viewer.v0+json": {
       "columns": [
        {
         "name": "index",
         "rawType": "int64",
         "type": "integer"
        },
        {
         "name": "Sentiment",
         "rawType": "object",
         "type": "string"
        },
        {
         "name": "Probability",
         "rawType": "float64",
         "type": "float"
        }
       ],
       "ref": "ba58108d-8967-4230-b988-499631073f93",
       "rows": [
        [
         "0",
         "negative_score",
         "0.24958103895187378"
        ],
        [
         "1",
         "negative_score",
         "0.837626576423645"
        ],
        [
         "2",
         "negative_score",
         "0.9737416505813599"
        ],
        [
         "3",
         "negative_score",
         "0.4017881155014038"
        ],
        [
         "4",
         "negative_score",
         "0.7795424461364746"
        ],
        [
         "5",
         "negative_score",
         "0.6990888714790344"
        ],
        [
         "6",
         "negative_score",
         "0.24958103895187378"
        ],
        [
         "7",
         "negative_score",
         "0.2753439247608185"
        ],
        [
         "8",
         "negative_score",
         "0.5760877728462219"
        ],
        [
         "9",
         "negative_score",
         "0.8427765369415283"
        ],
        [
         "10",
         "negative_score",
         "0.885209321975708"
        ],
        [
         "11",
         "negative_score",
         "0.005043702200055122"
        ],
        [
         "12",
         "negative_score",
         "0.05067674443125725"
        ],
        [
         "13",
         "negative_score",
         "0.12150529772043228"
        ],
        [
         "14",
         "negative_score",
         "0.265129953622818"
        ],
        [
         "15",
         "negative_score",
         "0.24958103895187378"
        ],
        [
         "16",
         "negative_score",
         "0.8333533406257629"
        ],
        [
         "17",
         "negative_score",
         "0.976608395576477"
        ],
        [
         "18",
         "negative_score",
         "0.5698527097702026"
        ],
        [
         "19",
         "negative_score",
         "0.9639403223991394"
        ],
        [
         "20",
         "negative_score",
         "0.31835415959358215"
        ],
        [
         "21",
         "negative_score",
         "0.27123013138771057"
        ],
        [
         "22",
         "negative_score",
         "0.9185380935668945"
        ],
        [
         "23",
         "negative_score",
         "0.9397145509719849"
        ],
        [
         "24",
         "negative_score",
         "0.5282870531082153"
        ],
        [
         "25",
         "negative_score",
         "0.7239006161689758"
        ],
        [
         "26",
         "negative_score",
         "0.9626052379608154"
        ],
        [
         "27",
         "negative_score",
         "0.6397031545639038"
        ],
        [
         "28",
         "negative_score",
         "0.7968514561653137"
        ],
        [
         "29",
         "negative_score",
         "0.572170078754425"
        ],
        [
         "30",
         "negative_score",
         "0.24958106875419617"
        ],
        [
         "31",
         "negative_score",
         "0.8496054410934448"
        ],
        [
         "32",
         "negative_score",
         "0.24318863451480865"
        ],
        [
         "33",
         "negative_score",
         "0.8417148590087891"
        ],
        [
         "34",
         "negative_score",
         "0.8921248316764832"
        ],
        [
         "35",
         "negative_score",
         "0.9671571850776672"
        ],
        [
         "36",
         "negative_score",
         "0.5972244739532471"
        ],
        [
         "37",
         "negative_score",
         "0.9045829772949219"
        ],
        [
         "38",
         "negative_score",
         "0.6883999705314636"
        ],
        [
         "39",
         "negative_score",
         "0.9158757925033569"
        ],
        [
         "40",
         "negative_score",
         "0.9075236916542053"
        ],
        [
         "41",
         "negative_score",
         "0.24958103895187378"
        ],
        [
         "42",
         "negative_score",
         "0.6581273078918457"
        ],
        [
         "43",
         "negative_score",
         "0.20854489505290985"
        ],
        [
         "44",
         "negative_score",
         "0.29383140802383423"
        ],
        [
         "45",
         "negative_score",
         "0.24428322911262512"
        ],
        [
         "46",
         "negative_score",
         "0.7025176882743835"
        ],
        [
         "47",
         "negative_score",
         "0.877109706401825"
        ],
        [
         "48",
         "negative_score",
         "0.06854072213172913"
        ],
        [
         "49",
         "negative_score",
         "0.12387806177139282"
        ]
       ],
       "shape": {
        "columns": 2,
        "rows": 900
       }
      },
      "text/html": [
       "<div>\n",
       "<style scoped>\n",
       "    .dataframe tbody tr th:only-of-type {\n",
       "        vertical-align: middle;\n",
       "    }\n",
       "\n",
       "    .dataframe tbody tr th {\n",
       "        vertical-align: top;\n",
       "    }\n",
       "\n",
       "    .dataframe thead th {\n",
       "        text-align: right;\n",
       "    }\n",
       "</style>\n",
       "<table border=\"1\" class=\"dataframe\">\n",
       "  <thead>\n",
       "    <tr style=\"text-align: right;\">\n",
       "      <th></th>\n",
       "      <th>Sentiment</th>\n",
       "      <th>Probability</th>\n",
       "    </tr>\n",
       "  </thead>\n",
       "  <tbody>\n",
       "    <tr>\n",
       "      <th>0</th>\n",
       "      <td>negative_score</td>\n",
       "      <td>0.249581</td>\n",
       "    </tr>\n",
       "    <tr>\n",
       "      <th>1</th>\n",
       "      <td>negative_score</td>\n",
       "      <td>0.837627</td>\n",
       "    </tr>\n",
       "    <tr>\n",
       "      <th>2</th>\n",
       "      <td>negative_score</td>\n",
       "      <td>0.973742</td>\n",
       "    </tr>\n",
       "    <tr>\n",
       "      <th>3</th>\n",
       "      <td>negative_score</td>\n",
       "      <td>0.401788</td>\n",
       "    </tr>\n",
       "    <tr>\n",
       "      <th>4</th>\n",
       "      <td>negative_score</td>\n",
       "      <td>0.779542</td>\n",
       "    </tr>\n",
       "    <tr>\n",
       "      <th>...</th>\n",
       "      <td>...</td>\n",
       "      <td>...</td>\n",
       "    </tr>\n",
       "    <tr>\n",
       "      <th>895</th>\n",
       "      <td>positive_score</td>\n",
       "      <td>0.003232</td>\n",
       "    </tr>\n",
       "    <tr>\n",
       "      <th>896</th>\n",
       "      <td>positive_score</td>\n",
       "      <td>0.003018</td>\n",
       "    </tr>\n",
       "    <tr>\n",
       "      <th>897</th>\n",
       "      <td>positive_score</td>\n",
       "      <td>0.023958</td>\n",
       "    </tr>\n",
       "    <tr>\n",
       "      <th>898</th>\n",
       "      <td>positive_score</td>\n",
       "      <td>0.020412</td>\n",
       "    </tr>\n",
       "    <tr>\n",
       "      <th>899</th>\n",
       "      <td>positive_score</td>\n",
       "      <td>0.003134</td>\n",
       "    </tr>\n",
       "  </tbody>\n",
       "</table>\n",
       "<p>900 rows × 2 columns</p>\n",
       "</div>"
      ],
      "text/plain": [
       "          Sentiment  Probability\n",
       "0    negative_score     0.249581\n",
       "1    negative_score     0.837627\n",
       "2    negative_score     0.973742\n",
       "3    negative_score     0.401788\n",
       "4    negative_score     0.779542\n",
       "..              ...          ...\n",
       "895  positive_score     0.003232\n",
       "896  positive_score     0.003018\n",
       "897  positive_score     0.023958\n",
       "898  positive_score     0.020412\n",
       "899  positive_score     0.003134\n",
       "\n",
       "[900 rows x 2 columns]"
      ]
     },
     "execution_count": 13,
     "metadata": {},
     "output_type": "execute_result"
    }
   ],
   "source": [
    "cols = [\"negative_score\", \"neutral_score\", \"positive_score\"]\n",
    "df_long = df[cols].melt(var_name=\"Sentiment\", value_name=\"Probability\")\n",
    "df_long"
   ]
  },
  {
   "cell_type": "code",
   "execution_count": null,
   "id": "628fb23d",
   "metadata": {},
   "outputs": [
    {
     "data": {
      "image/png": "[encoded data removed]",
      "text/plain": [
       "<Figure size 1000x600 with 1 Axes>"
      ]
     },
     "metadata": {},
     "output_type": "display_data"
    }
   ],
   "source": [
    "plt.figure(figsize=(10,6))\n",
    "sns.histplot(\n",
    "    data=df_long,\n",
    "    x=\"Probability\",\n",
    "    hue=\"Sentiment\",\n",
    "    bins=50,\n",
    "    kde=True,\n",
    "    stat=\"density\",\n",
    "    common_norm=False,\n",
    "    palette={\"negative_score\": \"red\", \"neutral_score\": \"blue\", \"positive_score\": \"green\"},\n",
    "    alpha=0.6\n",
    ")\n",
    "plt.xlim(0,1)\n",
    "# make comments in english\n",
    "plt.title(\"Distribution of Sentiment Scores in Comments of subreddit r/politics\")\n",
    "plt.xlabel(\"Probability\")\n",
    "plt.ylabel(\"Density\")\n",
    "plt.show()"
   ]
  }
 ],
 "metadata": {
  "kernelspec": {
   "display_name": "reddit",
   "language": "python",
   "name": "python3"
  },
  "language_info": {
   "codemirror_mode": {
    "name": "ipython",
    "version": 3
   },
   "file_extension": ".py",
   "mimetype": "text/x-python",
   "name": "python",
   "nbconvert_exporter": "python",
   "pygments_lexer": "ipython3",
   "version": "3.11.13"
  }
 },
 "nbformat": 4,
 "nbformat_minor": 5
}
